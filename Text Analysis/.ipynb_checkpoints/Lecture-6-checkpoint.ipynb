{
 "cells": [
  {
   "cell_type": "markdown",
   "metadata": {},
   "source": [
    "# Lecture 6\n",
    "\n",
    "## Dimensionality reduction\n",
    "\n",
    "Loading 20 News Groups:"
   ]
  },
  {
   "cell_type": "code",
   "execution_count": 1,
   "metadata": {
    "collapsed": true
   },
   "outputs": [],
   "source": [
    "from sklearn.datasets import fetch_20newsgroups\n",
    "\n",
    "\n",
    "cats = ['sci.space', 'talk.politics.guns', 'comp.graphics', 'rec.autos', 'alt.atheism']\n",
    "newsgroups_train = fetch_20newsgroups(subset='train', categories=cats, remove=('headers', 'footers', 'quotes'), shuffle = True)\n",
    "data = newsgroups_train.data"
   ]
  },
  {
   "cell_type": "code",
   "execution_count": 2,
   "metadata": {},
   "outputs": [
    {
     "ename": "AttributeError",
     "evalue": "'list' object has no attribute 'head'",
     "output_type": "error",
     "traceback": [
      "\u001b[1;31m---------------------------------------------------------------------------\u001b[0m",
      "\u001b[1;31mAttributeError\u001b[0m                            Traceback (most recent call last)",
      "\u001b[1;32m<ipython-input-2-f6f82eefa6fc>\u001b[0m in \u001b[0;36m<module>\u001b[1;34m()\u001b[0m\n\u001b[1;32m----> 1\u001b[1;33m \u001b[0mdata\u001b[0m\u001b[1;33m.\u001b[0m\u001b[0mhead\u001b[0m\u001b[1;33m(\u001b[0m\u001b[1;36m4\u001b[0m\u001b[1;33m)\u001b[0m\u001b[1;33m\u001b[0m\u001b[0m\n\u001b[0m",
      "\u001b[1;31mAttributeError\u001b[0m: 'list' object has no attribute 'head'"
     ]
    }
   ],
   "source": [
    "data.head(4)"
   ]
  },
  {
   "cell_type": "markdown",
   "metadata": {},
   "source": [
    "Vectorizing the data using Tf-idf:"
   ]
  },
  {
   "cell_type": "code",
   "execution_count": 38,
   "metadata": {},
   "outputs": [
    {
     "data": {
      "text/plain": [
       "(2797, 6497)"
      ]
     },
     "execution_count": 38,
     "metadata": {},
     "output_type": "execute_result"
    }
   ],
   "source": [
    "from sklearn.feature_extraction.text import TfidfVectorizer\n",
    "import numpy as np\n",
    "\n",
    "vect = TfidfVectorizer(min_df =5, stop_words = 'english')\n",
    "X = vect.fit_transform(data)\n",
    "X.shape"
   ]
  },
  {
   "cell_type": "markdown",
   "metadata": {},
   "source": [
    "Running LSA with 50 components:"
   ]
  },
  {
   "cell_type": "code",
   "execution_count": 39,
   "metadata": {},
   "outputs": [
    {
     "data": {
      "text/plain": [
       "(2797, 50)"
      ]
     },
     "execution_count": 39,
     "metadata": {},
     "output_type": "execute_result"
    }
   ],
   "source": [
    "from sklearn.decomposition import TruncatedSVD\n",
    "\n",
    "lsa = TruncatedSVD(50)\n",
    "Z = lsa.fit_transform(X)\n",
    "Z.shape"
   ]
  },
  {
   "cell_type": "markdown",
   "metadata": {},
   "source": [
    "We can access to the components:"
   ]
  },
  {
   "cell_type": "code",
   "execution_count": 40,
   "metadata": {},
   "outputs": [
    {
     "name": "stdout",
     "output_type": "stream",
     "text": [
      "(50, 6497)\n"
     ]
    },
    {
     "data": {
      "text/plain": [
       "array([[  1.70424740e-02,   3.68416497e-02,   5.88746015e-03, ...,\n",
       "          6.00745781e-03,   8.83081109e-03,   1.57385146e-03],\n",
       "       [  1.78931455e-02,  -1.14109722e-02,   8.62461785e-03, ...,\n",
       "          1.22261628e-03,   2.23260510e-02,   1.23685224e-03],\n",
       "       [  7.10923581e-03,   2.55242224e-02,   9.58513922e-03, ...,\n",
       "          7.89740789e-03,  -1.35314386e-02,   3.00327324e-03],\n",
       "       ..., \n",
       "       [  4.90382126e-03,  -1.12523807e-01,  -2.64831235e-03, ...,\n",
       "          3.36227898e-03,  -7.57908171e-03,   1.50146957e-03],\n",
       "       [ -3.15963592e-02,   5.36819873e-02,   2.21687567e-03, ...,\n",
       "          2.40858846e-03,   2.98882426e-02,   1.03254912e-05],\n",
       "       [  9.59267102e-03,  -5.69315144e-02,   1.12336461e-03, ...,\n",
       "         -8.98011193e-03,  -1.90440770e-02,   1.76812428e-04]])"
      ]
     },
     "execution_count": 40,
     "metadata": {},
     "output_type": "execute_result"
    }
   ],
   "source": [
    "print(lsa.components_.shape)\n",
    "lsa.components_"
   ]
  },
  {
   "cell_type": "markdown",
   "metadata": {},
   "source": [
    "Let's print top features per component. It is better to use absolute value of components:"
   ]
  },
  {
   "cell_type": "code",
   "execution_count": 41,
   "metadata": {},
   "outputs": [
    {
     "name": "stdout",
     "output_type": "stream",
     "text": [
      "['don' 'people' 'just' 'like' 'think' 'know' 'car' 'space']\n",
      "['thanks' 'space' 'graphics' 'people' 'files' 'image' 'gun' 'program']\n",
      "['space' 'nasa' 'thanks' 'car' 'graphics' 'launch' 'shuttle' 'know']\n",
      "['car' 'god' 'cars' 'engine' 'dealer' 'people' 'atheism' 'new']\n",
      "['god' 'gun' 'guns' 'car' 'atheism' 'crime' 'space' 'weapons']\n",
      "['com' 'ico' 'tek' 'bobbe' 'bronx' 'sank' 'manhattan' 'queens']\n",
      "['just' 'god' 'car' 'don' 'think' 'gun' 'does' 'graphics']\n",
      "['thanks' 'image' 'know' 'space' 'graphics' 'advance' 'file' 'mail']\n",
      "['graphics' 'edu' 'does' 'know' 'files' 'gun' 'fbi' 'space']\n",
      "['graphics' 'gun' 'fbi' 'files' 'file' 'batf' 'koresh' 'just']\n",
      "['edu' 'file' 'files' 'car' 'nasa' 'space' 'don' 'people']\n",
      "['people' 'just' 'gun' 'right' 'fbi' 'know' 'militia' 'car']\n",
      "['just' 'don' 'think' 'right' 'god' 'militia' 'does' 'post']\n",
      "['thanks' 'card' 'space' 'vesa' 'mode' 'just' 'windows' 'vga']\n",
      "['edu' 'space' 'graphics' 'software' 'car' 'group' 'does' 'file']\n",
      "['know' 'does' 'graphics' 'thanks' 'stuff' 've' 'deleted' 'got']\n",
      "['software' 'god' 'right' 'stuff' 'deleted' 'does' 'just' 'thanks']\n",
      "['just' 'like' 'stuff' 'software' 'deleted' 'god' 'book' 'graphics']\n",
      "['think' 'right' 'like' 'graphics' 'nasa' 'god' 'thanks' 'islam']\n",
      "['nasa' 'deleted' 'stuff' 'think' 'book' 'moral' 'real' 'feustel']\n",
      "['don' 'com' 'stuff' 'deleted' 've' 'feustel' 'software' 'did']\n",
      "['software' 'com' 'feustel' 'edu' 'know' 'does' 'like' 'file']\n",
      "['stuff' 'like' 'deleted' 'good' 'post' 'com' 'thanks' 'files']\n",
      "['people' 'like' 'did' 'points' 'cars' 'problem' 'algorithm' 'space']\n",
      "['does' 'think' 'good' 'people' 'don' 've' 'law' 'right']\n",
      "['like' 'car' 'moon' 'engine' 'image' '000' 'feustel' 'know']\n",
      "['image' 'cview' 'space' 'file' 'need' 'right' 'nasa' 'don']\n",
      "['ve' 'gas' 'thanks' 'got' 'looking' 'windows' 'year' 'dealer']\n",
      "['car' 'software' 'feustel' 've' 'need' 'oil' 'deleted' 'like']\n",
      "['good' 'did' 've' 'need' 'problem' 'life' 'stuff' 'dealer']\n",
      "['think' 'did' 'book' 'people' 'objective' 've' 'software' 'graphics']\n",
      "['image' 'good' 'problem' 'just' 'use' 'men' 'software' 'said']\n",
      "['does' 'don' 'men' 'time' 'looking' 'program' 'did' 'like']\n",
      "['cview' '__' 'does' 'files' 'file' 'looking' 've' 'time']\n",
      "['good' 'problem' 'software' 've' 'guns' '000' 'windows' 'law']\n",
      "['good' 'image' 'files' 'say' 'edu' 'post' 'law' 'feustel']\n",
      "['ve' 'question' 'use' 'moral' 'islam' 'answer' 'guns' '__']\n",
      "['000' 'graphics' 'post' 'don' 'll' 'lot' 'think' 'group']\n",
      "['__' 'good' 'windows' 'bit' 'need' 'like' 'new' 'things']\n",
      "['post' 'll' 'cars' 'like' 'look' 'new' 'talking' 'good']\n",
      "['__' 'program' 'koresh' 'news' 'file' 'question' 'true' 'bible']\n",
      "['need' 'feustel' '__' 'good' 'files' 'looking' 'oil' 'price']\n",
      "['__' 'know' 'image' 'explain' 'auto' 'need' '_____' 'ftp']\n",
      "['__' 'feustel' 'lot' 'cars' 'windows' 'little' 'll' 'real']\n",
      "['religion' 'did' '__' 'nasa' 'want' 'windows' '000' 'new']\n",
      "['time' 'file' 'oil' 'looking' 'article' 'new' '000' 'did']\n",
      "['right' 'program' 'don' 'windows' 'use' 'mean' 'life' 'religion']\n",
      "['dealer' 'make' 'looking' 'look' 'files' '000' 'cars' 'gun']\n",
      "['islam' 'time' 'don' 'better' 'article' 'sure' 'ford' 'want']\n",
      "['files' 'things' 'guns' 'cview' 'new' 'mail' 'does' 'don']\n"
     ]
    }
   ],
   "source": [
    "vocab = np.array(vect.get_feature_names())\n",
    "\n",
    "for i in range(Z.shape[1]):\n",
    "    order = np.abs(lsa.components_[i]).argsort()[::-1]\n",
    "    print(vocab[order[:8]])"
   ]
  },
  {
   "cell_type": "markdown",
   "metadata": {},
   "source": [
    "Lets look at at low dimension:"
   ]
  },
  {
   "cell_type": "code",
   "execution_count": 42,
   "metadata": {},
   "outputs": [
    {
     "data": {
      "text/plain": [
       "array([[ 0.14439157, -0.03567943, -0.02645414, ..., -0.03340869,\n",
       "        -0.15048027, -0.03118509],\n",
       "       [ 0.07646212, -0.04214429,  0.00339063, ...,  0.00124478,\n",
       "        -0.00762616,  0.09471019],\n",
       "       [ 0.07530036,  0.00210223,  0.0041075 , ..., -0.01035235,\n",
       "         0.06486591,  0.03097248],\n",
       "       ..., \n",
       "       [ 0.15335204, -0.02796571, -0.01678292, ..., -0.05112683,\n",
       "        -0.00613636,  0.02303423],\n",
       "       [ 0.03133516, -0.03550246, -0.00139435, ..., -0.01392307,\n",
       "        -0.03316602,  0.00365622],\n",
       "       [ 0.11015607, -0.03062622, -0.0442725 , ..., -0.02481805,\n",
       "         0.03812779, -0.04729474]])"
      ]
     },
     "execution_count": 42,
     "metadata": {},
     "output_type": "execute_result"
    }
   ],
   "source": [
    "Z"
   ]
  },
  {
   "cell_type": "markdown",
   "metadata": {},
   "source": [
    "Verifying this formula: Z = X W^T"
   ]
  },
  {
   "cell_type": "code",
   "execution_count": 43,
   "metadata": {},
   "outputs": [
    {
     "data": {
      "text/plain": [
       "array([[ 0.14439157, -0.03567943, -0.02645414, ..., -0.03340869,\n",
       "        -0.15048027, -0.03118509],\n",
       "       [ 0.07646212, -0.04214429,  0.00339063, ...,  0.00124478,\n",
       "        -0.00762616,  0.09471019],\n",
       "       [ 0.07530036,  0.00210223,  0.0041075 , ..., -0.01035235,\n",
       "         0.06486591,  0.03097248],\n",
       "       ..., \n",
       "       [ 0.15335204, -0.02796571, -0.01678292, ..., -0.05112683,\n",
       "        -0.00613636,  0.02303423],\n",
       "       [ 0.03133516, -0.03550246, -0.00139435, ..., -0.01392307,\n",
       "        -0.03316602,  0.00365622],\n",
       "       [ 0.11015607, -0.03062622, -0.0442725 , ..., -0.02481805,\n",
       "         0.03812779, -0.04729474]])"
      ]
     },
     "execution_count": 43,
     "metadata": {},
     "output_type": "execute_result"
    }
   ],
   "source": [
    "X.dot(lsa.components_.T)"
   ]
  },
  {
   "cell_type": "markdown",
   "metadata": {},
   "source": [
    "## Using PCA:"
   ]
  },
  {
   "cell_type": "code",
   "execution_count": 44,
   "metadata": {},
   "outputs": [
    {
     "ename": "TypeError",
     "evalue": "PCA does not support sparse input. See TruncatedSVD for a possible alternative.",
     "output_type": "error",
     "traceback": [
      "\u001b[1;31m---------------------------------------------------------------------------\u001b[0m",
      "\u001b[1;31mTypeError\u001b[0m                                 Traceback (most recent call last)",
      "\u001b[1;32m<ipython-input-44-a1932e62f1df>\u001b[0m in \u001b[0;36m<module>\u001b[1;34m()\u001b[0m\n\u001b[0;32m      2\u001b[0m \u001b[1;33m\u001b[0m\u001b[0m\n\u001b[0;32m      3\u001b[0m \u001b[0mpca\u001b[0m \u001b[1;33m=\u001b[0m \u001b[0mPCA\u001b[0m\u001b[1;33m(\u001b[0m\u001b[1;36m50\u001b[0m\u001b[1;33m)\u001b[0m\u001b[1;33m\u001b[0m\u001b[0m\n\u001b[1;32m----> 4\u001b[1;33m \u001b[0mZ\u001b[0m \u001b[1;33m=\u001b[0m \u001b[0mpca\u001b[0m\u001b[1;33m.\u001b[0m\u001b[0mfit_transform\u001b[0m\u001b[1;33m(\u001b[0m\u001b[0mX\u001b[0m\u001b[1;33m)\u001b[0m\u001b[1;33m\u001b[0m\u001b[0m\n\u001b[0m\u001b[0;32m      5\u001b[0m \u001b[0mZ\u001b[0m\u001b[1;33m.\u001b[0m\u001b[0mshape\u001b[0m\u001b[1;33m\u001b[0m\u001b[0m\n",
      "\u001b[1;32m~\\Anaconda3\\lib\\site-packages\\sklearn\\decomposition\\pca.py\u001b[0m in \u001b[0;36mfit_transform\u001b[1;34m(self, X, y)\u001b[0m\n\u001b[0;32m    346\u001b[0m \u001b[1;33m\u001b[0m\u001b[0m\n\u001b[0;32m    347\u001b[0m         \"\"\"\n\u001b[1;32m--> 348\u001b[1;33m         \u001b[0mU\u001b[0m\u001b[1;33m,\u001b[0m \u001b[0mS\u001b[0m\u001b[1;33m,\u001b[0m \u001b[0mV\u001b[0m \u001b[1;33m=\u001b[0m \u001b[0mself\u001b[0m\u001b[1;33m.\u001b[0m\u001b[0m_fit\u001b[0m\u001b[1;33m(\u001b[0m\u001b[0mX\u001b[0m\u001b[1;33m)\u001b[0m\u001b[1;33m\u001b[0m\u001b[0m\n\u001b[0m\u001b[0;32m    349\u001b[0m         \u001b[0mU\u001b[0m \u001b[1;33m=\u001b[0m \u001b[0mU\u001b[0m\u001b[1;33m[\u001b[0m\u001b[1;33m:\u001b[0m\u001b[1;33m,\u001b[0m \u001b[1;33m:\u001b[0m\u001b[0mself\u001b[0m\u001b[1;33m.\u001b[0m\u001b[0mn_components_\u001b[0m\u001b[1;33m]\u001b[0m\u001b[1;33m\u001b[0m\u001b[0m\n\u001b[0;32m    350\u001b[0m \u001b[1;33m\u001b[0m\u001b[0m\n",
      "\u001b[1;32m~\\Anaconda3\\lib\\site-packages\\sklearn\\decomposition\\pca.py\u001b[0m in \u001b[0;36m_fit\u001b[1;34m(self, X)\u001b[0m\n\u001b[0;32m    364\u001b[0m         \u001b[1;31m# This is more informative than the generic one raised by check_array.\u001b[0m\u001b[1;33m\u001b[0m\u001b[1;33m\u001b[0m\u001b[0m\n\u001b[0;32m    365\u001b[0m         \u001b[1;32mif\u001b[0m \u001b[0missparse\u001b[0m\u001b[1;33m(\u001b[0m\u001b[0mX\u001b[0m\u001b[1;33m)\u001b[0m\u001b[1;33m:\u001b[0m\u001b[1;33m\u001b[0m\u001b[0m\n\u001b[1;32m--> 366\u001b[1;33m             raise TypeError('PCA does not support sparse input. See '\n\u001b[0m\u001b[0;32m    367\u001b[0m                             'TruncatedSVD for a possible alternative.')\n\u001b[0;32m    368\u001b[0m \u001b[1;33m\u001b[0m\u001b[0m\n",
      "\u001b[1;31mTypeError\u001b[0m: PCA does not support sparse input. See TruncatedSVD for a possible alternative."
     ]
    }
   ],
   "source": [
    "from sklearn.decomposition import PCA\n",
    "\n",
    "pca = PCA(50)\n",
    "Z = pca.fit_transform(X)\n",
    "Z.shape"
   ]
  },
  {
   "cell_type": "markdown",
   "metadata": {},
   "source": [
    "PCA does not support sparse matrix, let's change it to the dense matrix:"
   ]
  },
  {
   "cell_type": "code",
   "execution_count": 45,
   "metadata": {},
   "outputs": [
    {
     "data": {
      "text/plain": [
       "(2797, 50)"
      ]
     },
     "execution_count": 45,
     "metadata": {},
     "output_type": "execute_result"
    }
   ],
   "source": [
    "Z = pca.fit_transform(X.todense())\n",
    "Z.shape"
   ]
  },
  {
   "cell_type": "markdown",
   "metadata": {},
   "source": [
    "Printing components:"
   ]
  },
  {
   "cell_type": "code",
   "execution_count": 46,
   "metadata": {},
   "outputs": [
    {
     "name": "stdout",
     "output_type": "stream",
     "text": [
      "(50, 6497)\n"
     ]
    },
    {
     "data": {
      "text/plain": [
       "array([[ 0.01411352, -0.02325036,  0.00696086, ..., -0.00053702,\n",
       "         0.01868202,  0.00039853],\n",
       "       [ 0.00906577,  0.03182982,  0.01047306, ...,  0.00854988,\n",
       "        -0.00645688,  0.00355222],\n",
       "       [ 0.02347454,  0.03457953,  0.00064175, ...,  0.00220307,\n",
       "        -0.01305538, -0.00183001],\n",
       "       ..., \n",
       "       [ 0.00874044,  0.008737  , -0.00515303, ..., -0.00045843,\n",
       "        -0.01062298, -0.00019544],\n",
       "       [-0.00214894,  0.00020388,  0.00966423, ..., -0.00229579,\n",
       "        -0.01568812,  0.00205976],\n",
       "       [ 0.01459211, -0.11167875,  0.00848524, ...,  0.0016663 ,\n",
       "        -0.00259742, -0.00015964]])"
      ]
     },
     "execution_count": 46,
     "metadata": {},
     "output_type": "execute_result"
    }
   ],
   "source": [
    "print(pca.components_.shape)\n",
    "pca.components_"
   ]
  },
  {
   "cell_type": "markdown",
   "metadata": {},
   "source": [
    "Prining top features per components:"
   ]
  },
  {
   "cell_type": "code",
   "execution_count": 47,
   "metadata": {},
   "outputs": [
    {
     "name": "stdout",
     "output_type": "stream",
     "text": [
      "['people' 'thanks' 'gun' 'don' 'graphics' 'think' 'files' 'god']\n",
      "['space' 'nasa' 'car' 'thanks' 'shuttle' 'launch' 'moon' 'earth']\n",
      "['car' 'god' 'cars' 'people' 'engine' 'dealer' 'atheism' 'graphics']\n",
      "['gun' 'god' 'guns' 'graphics' 'people' 'don' 'thanks' 'file']\n",
      "['god' 'car' 'just' 'don' 'gun' 'know' 'like' 'think']\n",
      "['com' 'ico' 'tek' 'bobbe' 'bronx' 'queens' 'manhattan' 'beauchaine']\n",
      "['just' 'god' 'car' 'gun' 'think' 'don' 'does' 'atheism']\n",
      "['thanks' 'know' 'image' 'space' 'advance' 'graphics' 'does' 'mail']\n",
      "['graphics' 'edu' 'does' 'files' 'know' 'file' 'comp' 'group']\n",
      "['gun' 'people' 'fbi' 'file' 'files' 'car' 'graphics' 'batf']\n",
      "['edu' 'just' 'file' 'files' 'gun' 'software' 'space' 'graphics']\n",
      "['fbi' 'people' 'right' 'koresh' 'god' 'know' 'batf' 'gas']\n",
      "['just' 'don' 'think' 'right' 'god' 'militia' 've' 'post']\n",
      "['thanks' 'card' 'vesa' 'mode' 'space' 'driver' 'just' 'vga']\n",
      "['know' 'does' 'space' 'software' 'stuff' 'post' 'don' 'deleted']\n",
      "['graphics' 'edu' 'space' 'software' 'does' 'people' 'file' 'islam']\n",
      "['just' 'like' 'stuff' 'deleted' 'right' 'edu' 'thanks' 'car']\n",
      "['software' 'god' 'edu' 'book' 'graphics' 'just' 'mode' 'send']\n",
      "['software' 'right' 'think' 'like' 'god' 'graphics' 'islam' 'thanks']\n",
      "['nasa' 'stuff' 'deleted' 'don' 'think' 'book' 'real' 'gov']\n",
      "['stuff' 'deleted' 'don' 've' 'com' 'know' 'software' 'feustel']\n",
      "['like' 'com' 'good' 'feustel' 'does' 'know' 'think' 'file']\n",
      "['like' 'com' 'software' 'stuff' 'deleted' 'post' 'space' 'cars']\n",
      "['did' 'right' 'people' 'software' 'claim' 'points' 've' 'algorithm']\n",
      "['people' 'good' 'thanks' 'stuff' 'car' 'moon' 'cars' 'com']\n",
      "['think' 'good' 've' 'does' 'people' 'need' 'new' 'don']\n",
      "['image' 'don' 'did' 'space' 'question' 'men' 'nasa' 'moon']\n",
      "['feustel' 'need' 'cview' 'file' 'image' 'guns' 'windows' 'satan']\n",
      "['good' 'like' 'car' 'need' 'deleted' 'stuff' 'just' 've']\n",
      "['ve' 'did' 'life' 'problem' 'engine' 'oil' 'software' 'guns']\n",
      "['think' 'looking' 'people' 've' 'good' 'car' 'group' 'book']\n",
      "['looking' 'objective' 'just' 'group' 'question' 'claim' 'think' 'files']\n",
      "['men' 'mom' 'image' 'bobby' 'does' '1993' 'april' 'say']\n",
      "['file' 'good' 'time' 'files' 've' '__' 'nasa' 'space']\n",
      "['like' 'make' '000' 'image' 'things' 've' 'religion' 'want']\n",
      "['software' 've' 'right' 'guns' 'don' 'good' 'safety' 'post']\n",
      "['windows' 'guns' 'bit' 'feustel' 'files' 'thanks' 'ftp' 'file']\n",
      "['__' 'oil' 'question' 'need' 'price' 'engine' 'program' 'cars']\n",
      "['good' 'said' 'law' 'people' 'time' 'things' 'line' 'cars']\n",
      "['think' 'islam' 'windows' 'moral' 'software' 'oil' 'look' 'good']\n",
      "['__' '000' 'question' 'good' 'right' 'know' 'image' 'answer']\n",
      "['__' 'cview' 'people' 'hi' 'looking' 'good' 'atheism' 'guns']\n",
      "['file' 'lot' '000' 'things' 'time' 've' 'need' 'edu']\n",
      "['right' 'time' 'oil' 'post' 'use' 'program' 'does' 'true']\n",
      "['cars' '000' 'file' 'need' 'looking' 'book' '__' 'gun']\n",
      "['did' 'cview' 'oil' 'dealer' 'need' 'question' 'use' 'good']\n",
      "['__' 'looking' 'need' 'guns' '_____' '___' 'feustel' 'send']\n",
      "['sure' 'list' '__' 'don' 'post' 'want' 'agree' 'really']\n",
      "['mail' 'dealer' 'like' 'don' 'book' 'saturn' 'program' 'post']\n",
      "['look' 'need' '__' 'make' 'did' '000' 'guns' 'carry']\n"
     ]
    }
   ],
   "source": [
    "for i in range(Z.shape[1]):\n",
    "    order = np.abs(pca.components_[i]).argsort()[::-1]\n",
    "    print(vocab[order[:8]])"
   ]
  },
  {
   "cell_type": "markdown",
   "metadata": {},
   "source": [
    "## Clustering using k-means"
   ]
  },
  {
   "cell_type": "code",
   "execution_count": 48,
   "metadata": {
    "collapsed": true
   },
   "outputs": [],
   "source": [
    "from sklearn.cluster import KMeans\n"
   ]
  },
  {
   "cell_type": "markdown",
   "metadata": {},
   "source": [
    "Training the clustering algorithm with 5 clusters:"
   ]
  },
  {
   "cell_type": "code",
   "execution_count": 49,
   "metadata": {},
   "outputs": [
    {
     "data": {
      "text/plain": [
       "array([0, 2, 2, ..., 0, 2, 1])"
      ]
     },
     "execution_count": 49,
     "metadata": {},
     "output_type": "execute_result"
    }
   ],
   "source": [
    "kmeans = KMeans(5)\n",
    "clusters = kmeans.fit_predict(X)\n",
    "clusters"
   ]
  },
  {
   "cell_type": "markdown",
   "metadata": {},
   "source": [
    "Cluster distibution:"
   ]
  },
  {
   "cell_type": "code",
   "execution_count": 50,
   "metadata": {},
   "outputs": [
    {
     "data": {
      "text/plain": [
       "array([ 292,  599, 1253,  432,  221], dtype=int64)"
      ]
     },
     "execution_count": 50,
     "metadata": {},
     "output_type": "execute_result"
    }
   ],
   "source": [
    "np.bincount(clusters)"
   ]
  },
  {
   "cell_type": "markdown",
   "metadata": {},
   "source": [
    "Plotting the histogram:"
   ]
  },
  {
   "cell_type": "code",
   "execution_count": 51,
   "metadata": {},
   "outputs": [
    {
     "data": {
      "text/plain": [
       "(array([  292.,     0.,   599.,     0.,     0.,  1253.,     0.,   432.,\n",
       "            0.,   221.]),\n",
       " array([ 0. ,  0.4,  0.8,  1.2,  1.6,  2. ,  2.4,  2.8,  3.2,  3.6,  4. ]),\n",
       " <a list of 10 Patch objects>)"
      ]
     },
     "execution_count": 51,
     "metadata": {},
     "output_type": "execute_result"
    },
    {
     "data": {
      "image/png": "[encoded data removed]",
      "text/plain": [
       "<matplotlib.figure.Figure at 0x21fe8b8d2e8>"
      ]
     },
     "metadata": {},
     "output_type": "display_data"
    }
   ],
   "source": [
    "import matplotlib\n",
    "import matplotlib.pyplot as plt\n",
    "%matplotlib inline\n",
    "\n",
    "plt.hist(clusters)"
   ]
  },
  {
   "cell_type": "markdown",
   "metadata": {},
   "source": [
    "Printing the inertia:"
   ]
  },
  {
   "cell_type": "code",
   "execution_count": 53,
   "metadata": {},
   "outputs": [
    {
     "data": {
      "text/plain": [
       "2631.788155328298"
      ]
     },
     "execution_count": 53,
     "metadata": {},
     "output_type": "execute_result"
    }
   ],
   "source": [
    "kmeans.inertia_"
   ]
  },
  {
   "cell_type": "markdown",
   "metadata": {},
   "source": [
    "Printing centeriods:"
   ]
  },
  {
   "cell_type": "code",
   "execution_count": 52,
   "metadata": {},
   "outputs": [
    {
     "name": "stdout",
     "output_type": "stream",
     "text": [
      "(5, 6497)\n"
     ]
    },
    {
     "data": {
      "text/plain": [
       "array([[  4.75515542e-03,   7.77549031e-03,   0.00000000e+00, ...,\n",
       "          4.85010850e-04,   8.34292893e-04,   0.00000000e+00],\n",
       "       [  5.06317341e-04,   7.20141601e-03,   4.41471219e-04, ...,\n",
       "          5.78896286e-04,   6.56702646e-04,   1.91103142e-04],\n",
       "       [  1.89150068e-03,   2.25883102e-03,   7.69207926e-04, ...,\n",
       "          8.79420229e-04,   1.60215742e-04,   1.11483547e-04],\n",
       "       [  2.99227337e-03,   7.50922423e-04,   1.49212353e-03, ...,\n",
       "          2.10106958e-04,   5.50069516e-03,   8.74761822e-06],\n",
       "       [  6.11171348e-03,   6.59205999e-03,   2.47722752e-03, ...,\n",
       "          2.16487238e-03,   0.00000000e+00,   5.86199421e-04]])"
      ]
     },
     "execution_count": 52,
     "metadata": {},
     "output_type": "execute_result"
    }
   ],
   "source": [
    "print(kmeans.cluster_centers_.shape)\n",
    "kmeans.cluster_centers_"
   ]
  },
  {
   "cell_type": "markdown",
   "metadata": {},
   "source": [
    "### Finding best number of clusters with elbow method:\n",
    "\n",
    "Finding inertia for different number of clusters:"
   ]
  },
  {
   "cell_type": "code",
   "execution_count": 54,
   "metadata": {},
   "outputs": [
    {
     "name": "stdout",
     "output_type": "stream",
     "text": [
      "(2797, 1769)\n",
      "[2620.1028645789, 2606.8109365431033, 2594.564915465344, 2582.3768544976547, 2571.986292445937, 2566.939479622204, 2557.417362207412, 2552.089789368247, 2544.335955056231, 2537.7724722152775, 2537.560456979149, 2531.218466952859, 2524.3609271695536]\n"
     ]
    }
   ],
   "source": [
    "inertia = []\n",
    "\n",
    "vect = TfidfVectorizer(min_df = 20, stop_words = 'english')\n",
    "X = vect.fit_transform(data)\n",
    "print(X.shape)\n",
    "\n",
    "for i in range(2, 15):\n",
    "    kmeans = KMeans(i)\n",
    "    kmeans.fit_predict(X)\n",
    "    inertia.append(kmeans.inertia_)\n",
    "    \n",
    "print(inertia)"
   ]
  },
  {
   "cell_type": "markdown",
   "metadata": {},
   "source": [
    "Plotting the result:"
   ]
  },
  {
   "cell_type": "code",
   "execution_count": 56,
   "metadata": {},
   "outputs": [
    {
     "data": {
      "text/plain": [
       "[<matplotlib.lines.Line2D at 0x21f8108e3c8>]"
      ]
     },
     "execution_count": 56,
     "metadata": {},
     "output_type": "execute_result"
    },
    {
     "data": {
      "image/png": "[encoded data removed]",
      "text/plain": [
       "<matplotlib.figure.Figure at 0x21f8107ea58>"
      ]
     },
     "metadata": {},
     "output_type": "display_data"
    }
   ],
   "source": [
    "%matplotlib inline\n",
    "\n",
    "plt.plot(range(2, 15), inertia)"
   ]
  },
  {
   "cell_type": "markdown",
   "metadata": {},
   "source": [
    "## Clustering in low dimension:"
   ]
  },
  {
   "cell_type": "code",
   "execution_count": 57,
   "metadata": {},
   "outputs": [
    {
     "data": {
      "text/plain": [
       "array([ 569,  282, 1522,   17,  407], dtype=int64)"
      ]
     },
     "execution_count": 57,
     "metadata": {},
     "output_type": "execute_result"
    }
   ],
   "source": [
    "vect = TfidfVectorizer(min_df = 3, stop_words = 'english')\n",
    "X = vect.fit_transform(data)\n",
    "\n",
    "lsa = TruncatedSVD(100)\n",
    "Z = lsa.fit_transform(X)\n",
    "\n",
    "kmeans = KMeans(5)\n",
    "clusters = kmeans.fit_predict(Z)\n",
    "\n",
    "np.bincount(clusters)"
   ]
  },
  {
   "cell_type": "code",
   "execution_count": 58,
   "metadata": {},
   "outputs": [
    {
     "data": {
      "text/plain": [
       "(array([  569.,     0.,   282.,     0.,     0.,  1522.,     0.,    17.,\n",
       "            0.,   407.]),\n",
       " array([ 0. ,  0.4,  0.8,  1.2,  1.6,  2. ,  2.4,  2.8,  3.2,  3.6,  4. ]),\n",
       " <a list of 10 Patch objects>)"
      ]
     },
     "execution_count": 58,
     "metadata": {},
     "output_type": "execute_result"
    },
    {
     "data": {
      "image/png": "[encoded data removed]",
      "text/plain": [
       "<matplotlib.figure.Figure at 0x21fe656d5c0>"
      ]
     },
     "metadata": {},
     "output_type": "display_data"
    }
   ],
   "source": [
    "%matplotlib inline\n",
    "\n",
    "plt.hist(clusters)"
   ]
  },
  {
   "cell_type": "markdown",
   "metadata": {},
   "source": [
    "Clustering with different number of clusters:"
   ]
  },
  {
   "cell_type": "code",
   "execution_count": 63,
   "metadata": {},
   "outputs": [
    {
     "name": "stdout",
     "output_type": "stream",
     "text": [
      "[439.90939784131956, 431.56489733070504, 423.94511269697699, 416.25795923043768, 412.49405236330085, 403.15467823025261, 401.8154881803863, 393.69107526598299, 389.7305975216334, 387.1851893168519, 382.96296306197161, 380.18745117821493, 377.45868205694507, 373.23450266174831, 371.90375411278376, 366.34766003173371, 365.14872193277466, 362.22465213508485, 359.17016353828461, 353.94201772613104, 351.60106952441936, 348.50951151456292, 346.81777990142007, 344.94294531429574, 341.56591644532062, 337.62333600049004, 336.4191877438837, 333.38336862308341]\n"
     ]
    }
   ],
   "source": [
    "inertia = []\n",
    "for i in range(2, 30):\n",
    "    kmeans = KMeans(i, n_jobs = 4)\n",
    "    kmeans.fit_predict(Z)\n",
    "    inertia.append(kmeans.inertia_)\n",
    "    \n",
    "print(inertia)"
   ]
  },
  {
   "cell_type": "markdown",
   "metadata": {},
   "source": [
    "Creating a plot and estimating best number of clusters"
   ]
  },
  {
   "cell_type": "code",
   "execution_count": 64,
   "metadata": {},
   "outputs": [
    {
     "data": {
      "text/plain": [
       "[<matplotlib.lines.Line2D at 0x21f8114f828>]"
      ]
     },
     "execution_count": 64,
     "metadata": {},
     "output_type": "execute_result"
    },
    {
     "data": {
      "image/png": "[encoded data removed]",
      "text/plain": [
       "<matplotlib.figure.Figure at 0x21f80f8e1d0>"
      ]
     },
     "metadata": {},
     "output_type": "display_data"
    }
   ],
   "source": [
    "%matplotlib inline\n",
    "\n",
    "plt.plot(range(2, 30), inertia)"
   ]
  }
 ],
 "metadata": {
  "kernelspec": {
   "display_name": "Python 3",
   "language": "python",
   "name": "python3"
  },
  "language_info": {
   "codemirror_mode": {
    "name": "ipython",
    "version": 3
   },
   "file_extension": ".py",
   "mimetype": "text/x-python",
   "name": "python",
   "nbconvert_exporter": "python",
   "pygments_lexer": "ipython3",
   "version": "3.6.3"
  }
 },
 "nbformat": 4,
 "nbformat_minor": 2
}
