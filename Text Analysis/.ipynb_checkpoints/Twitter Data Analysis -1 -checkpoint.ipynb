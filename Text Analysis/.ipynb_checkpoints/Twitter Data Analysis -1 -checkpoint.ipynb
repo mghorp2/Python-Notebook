{
 "cells": [
  {
   "cell_type": "code",
   "execution_count": 1,
   "metadata": {
    "collapsed": true
   },
   "outputs": [],
   "source": [
    "import json\n",
    "import pandas as pd\n",
    "from sklearn.feature_extraction.text import CountVectorizer, TfidfVectorizer,TfidfTransformer\n",
    "import numpy as np\n",
    "import re\n",
    "import matplotlib\n",
    "import matplotlib.pyplot as plt\n",
    "%matplotlib inline\n",
    "from  sklearn.decomposition import TruncatedSVD\n"
   ]
  },
  {
   "cell_type": "code",
   "execution_count": 2,
   "metadata": {
    "collapsed": true
   },
   "outputs": [],
   "source": [
    "# Importing data\n",
    "\n",
    "with open(\"D:\\\\UIC\\\\Spring 2018\\\\text analysis\\\\Assignments\\\\1\\\\shutdown.json\") as json_data:\n",
    "    data=json.load(json_data)\n"
   ]
  },
  {
   "cell_type": "markdown",
   "metadata": {},
   "source": [
    "# Q1 - Load all tweets and Retweet Usernames"
   ]
  },
  {
   "cell_type": "code",
   "execution_count": 3,
   "metadata": {},
   "outputs": [],
   "source": [
    "twitter_tweets=[]\n",
    "retwitter_username=[]\n",
    "for item in data:\n",
    "    twitter_tweets.append(item['text'])\n",
    "\n",
    "\n",
    "for item in data:\n",
    "    try:\n",
    "        retwitter_username.append(item['retweeted_status']['user']['screen_name'])\n",
    "    except:\n",
    "        \n",
    "        pass    \n"
   ]
  },
  {
   "cell_type": "markdown",
   "metadata": {},
   "source": [
    "# Top 5 Retweet Usernames "
   ]
  },
  {
   "cell_type": "code",
   "execution_count": 4,
   "metadata": {},
   "outputs": [
    {
     "name": "stdout",
     "output_type": "stream",
     "text": [
      "{'FoxNews': 1754, 'SenDougJones': 572, 'peterdaou': 547, 'TheDailyEdge': 153, 'BanditRandom': 137}\n"
     ]
    }
   ],
   "source": [
    "retwitter_username_count=dict((x,retwitter_username.count(x)) for x in set(retwitter_username))\n",
    "retwitter_username_sorted=sorted(retwitter_username_count,key=retwitter_username_count.get,reverse=True)\n",
    "top_retwitter={}\n",
    "for r in retwitter_username_sorted[0:5]:\n",
    "    top_retwitter[r]=retwitter_username_count[r]\n",
    "print(top_retwitter)    "
   ]
  },
  {
   "cell_type": "markdown",
   "metadata": {},
   "source": [
    "# Q2 - Removing duplicate tweets"
   ]
  },
  {
   "cell_type": "code",
   "execution_count": 5,
   "metadata": {},
   "outputs": [
    {
     "name": "stdout",
     "output_type": "stream",
     "text": [
      "5000\n",
      "919\n"
     ]
    }
   ],
   "source": [
    "print(len(twitter_tweets))\n",
    "twitter_tweets_dedup=list(set(twitter_tweets))\n",
    "print(len(twitter_tweets_dedup))\n"
   ]
  },
  {
   "cell_type": "markdown",
   "metadata": {},
   "source": [
    "# Q3 - Removing URLs and mentions and renaming hashtags"
   ]
  },
  {
   "cell_type": "code",
   "execution_count": 6,
   "metadata": {},
   "outputs": [],
   "source": [
    "regexp_url = 'http[s]?://(?:[a-zA-Z]|[0-9]|[$-_@.&+]|[!*\\(\\),]|(?:%[0-9a-fA-F][0-9a-fA-F]))+'\n",
    "pattern_url = re.compile(regexp_url, re.UNICODE | re.IGNORECASE)\n",
    "\n",
    "regexp_hashtag = '(?<=^|(?<=[^a-zA-Z0-9-_\\.]))#([A-Za-z]+[A-Za-z0-9]+)'\n",
    "pattern_hashtag = re.compile(regexp_hashtag, re.UNICODE | re.IGNORECASE)\n",
    "\n",
    "regexp_mention = '(?<=^|(?<=[^a-zA-Z0-9-_\\.]))@([A-Za-z]+[A-Za-z0-9]+)'\n",
    "pattern_mention = re.compile(regexp_mention, re.UNICODE | re.IGNORECASE)\n",
    "\n",
    "twitter_tweets_re=[]\n",
    "\n",
    "for item in twitter_tweets_dedup:\n",
    "    #Removing urls\n",
    "    item = pattern_url.sub('', item)\n",
    "    #Removing mentions\n",
    "    item = pattern_mention.sub('', item)\n",
    "    #Chaning hashtag sign (#) to 'hashtag_'\n",
    "    item = pattern_hashtag.sub(r'hashtag_\\1', item)\n",
    "    twitter_tweets_re.append(item)\n",
    "\n"
   ]
  },
  {
   "cell_type": "markdown",
   "metadata": {},
   "source": [
    "# Binary Vectorization"
   ]
  },
  {
   "cell_type": "code",
   "execution_count": 7,
   "metadata": {},
   "outputs": [
    {
     "name": "stdout",
     "output_type": "stream",
     "text": [
      "[[0 0 0 ..., 0 0 0]\n",
      " [0 0 0 ..., 0 0 0]\n",
      " [0 0 0 ..., 0 0 0]\n",
      " ..., \n",
      " [0 0 0 ..., 0 0 0]\n",
      " [0 0 0 ..., 0 0 0]\n",
      " [0 0 0 ..., 0 0 0]]\n",
      "(919, 3069)\n"
     ]
    }
   ],
   "source": [
    "Binary = CountVectorizer(binary = True)   # gives the class\n",
    "Binary_Vec = Binary.fit_transform(twitter_tweets_re)       # fit means data should be fitted into the model and immediatly transform\n",
    "X=Binary_Vec.toarray()\n",
    "print(X)\n",
    "print(X.shape)"
   ]
  },
  {
   "cell_type": "code",
   "execution_count": 8,
   "metadata": {
    "collapsed": true
   },
   "outputs": [],
   "source": [
    "Binary.get_feature_names()\n",
    "vocab=Binary.vocabulary_\n",
    "s= [re.search(r'hashtag_\\w+',x).group(0) for x in vocab.keys() if re.search(r'hashtag_\\w+',x)] # Selecting hashtags\n"
   ]
  },
  {
   "cell_type": "markdown",
   "metadata": {},
   "source": [
    "# Top 5 popular hashtag"
   ]
  },
  {
   "cell_type": "code",
   "execution_count": 9,
   "metadata": {},
   "outputs": [
    {
     "name": "stdout",
     "output_type": "stream",
     "text": [
      "Top 5 Hashtags: {'hashtag_shutdown': 712, 'hashtag_trumpshutdown': 62, 'hashtag_trump': 36, 'hashtag_schumershutdown': 31, 'hashtag_shutdown2018': 23, 'hashtag_daca': 23}\n"
     ]
    }
   ],
   "source": [
    "hashtag={}\n",
    "for item in s:\n",
    "    col=vocab[item]\n",
    "    hashtag[item]=np.sum(X[:,col],axis=0)\n",
    "\n",
    "hashtag_sorted=sorted(hashtag,key=hashtag.get,reverse=True)\n",
    "hashtag_sorted\n",
    "top_hashtag={}\n",
    "for r in hashtag_sorted[0:6]:\n",
    "    top_hashtag[r]=hashtag[r]\n",
    "print('Top 5 Hashtags:',top_hashtag)\n"
   ]
  },
  {
   "cell_type": "markdown",
   "metadata": {},
   "source": [
    "# Q4 - Mapping document to term matrix to 2D space and plot it using binary vectorization"
   ]
  },
  {
   "cell_type": "code",
   "execution_count": 10,
   "metadata": {},
   "outputs": [
    {
     "name": "stdout",
     "output_type": "stream",
     "text": [
      "Dimension (919, 3069) -> (919, 2)\n"
     ]
    },
    {
     "data": {
      "image/png": "[encoded data removed]",
      "text/plain": [
       "<matplotlib.figure.Figure at 0x21dc145ef28>"
      ]
     },
     "metadata": {},
     "output_type": "display_data"
    }
   ],
   "source": [
    "#Reduce dimension\n",
    "lsa = TruncatedSVD(2)\n",
    "X_2d = lsa.fit_transform(Binary_Vec)\n",
    "\n",
    "print(\"Dimension %s -> %s\" % (Binary_Vec.shape, X_2d.shape))\n",
    "\n",
    "colors = 'b'\n",
    "\n",
    "\n",
    "plt.scatter(X_2d[:,1], X_2d[:,0],20, c = colors)\n",
    "plt.title('Document to Term Matrix to 2D using Binary Vectorization')\n",
    "plt.show() \n"
   ]
  },
  {
   "cell_type": "markdown",
   "metadata": {},
   "source": [
    "# Mapping document to term matrix to 2D space and plot it using count vectorization"
   ]
  },
  {
   "cell_type": "code",
   "execution_count": 11,
   "metadata": {},
   "outputs": [
    {
     "data": {
      "text/plain": [
       "(919, 3069)"
      ]
     },
     "execution_count": 11,
     "metadata": {},
     "output_type": "execute_result"
    }
   ],
   "source": [
    "count_v = CountVectorizer(binary=False)\n",
    "count_vec = count_v.fit_transform(twitter_tweets_re)       # fit means data should be fitted into the model and immediatly transform\n",
    "X1=count_vec.toarray()\n",
    "X1.shape"
   ]
  },
  {
   "cell_type": "code",
   "execution_count": 12,
   "metadata": {},
   "outputs": [
    {
     "name": "stdout",
     "output_type": "stream",
     "text": [
      "Dimension (919, 3069) -> (919, 2)\n"
     ]
    },
    {
     "data": {
      "image/png": "[encoded data removed]",
      "text/plain": [
       "<matplotlib.figure.Figure at 0x21dbd79c978>"
      ]
     },
     "metadata": {},
     "output_type": "display_data"
    }
   ],
   "source": [
    "lsa = TruncatedSVD(2)\n",
    "CV_2d = lsa.fit_transform(count_vec)\n",
    "\n",
    "print(\"Dimension %s -> %s\" % (count_vec.shape, CV_2d.shape))\n",
    "\n",
    "colors = 'r'\n",
    "\n",
    "plt.scatter(CV_2d[:,1], CV_2d[:,0],20, c = colors)\n",
    "plt.title('Document to Term Matrix to 2D using Count Vectorization')\n",
    "plt.show() "
   ]
  },
  {
   "cell_type": "markdown",
   "metadata": {},
   "source": [
    "# Mapping document to term matrix to 2D space and plot it using TF-IDF vectorization."
   ]
  },
  {
   "cell_type": "code",
   "execution_count": 13,
   "metadata": {},
   "outputs": [
    {
     "name": "stdout",
     "output_type": "stream",
     "text": [
      "Dimension (919, 3069) -> (919, 2)\n"
     ]
    },
    {
     "data": {
      "image/png": "[encoded data removed]",
      "text/plain": [
       "<matplotlib.figure.Figure at 0x21dbd845a90>"
      ]
     },
     "metadata": {},
     "output_type": "display_data"
    }
   ],
   "source": [
    "vect = TfidfVectorizer(binary = True)\n",
    "tfidf_vec = vect.fit_transform(twitter_tweets_re)\n",
    "\n",
    "tfidf_2d = lsa.fit_transform(tfidf_vec)\n",
    "\n",
    "print(\"Dimension %s -> %s\" % (tfidf_vec.shape, tfidf_2d.shape))\n",
    "\n",
    "colors = 'g'\n",
    "\n",
    "plt.scatter(tfidf_2d[:,1], tfidf_2d[:,0],20, c = colors)\n",
    "plt.title('Document to Term Matrix to 2D using TF-IDF Vectorization')\n",
    "plt.show() "
   ]
  },
  {
   "cell_type": "markdown",
   "metadata": {},
   "source": [
    "# Q5 - Co-occurance analysis"
   ]
  },
  {
   "cell_type": "code",
   "execution_count": 14,
   "metadata": {},
   "outputs": [
    {
     "name": "stdout",
     "output_type": "stream",
     "text": [
      "919\n",
      "(919, 423)\n"
     ]
    }
   ],
   "source": [
    "# Selecting hashtags from each tweet \n",
    "\n",
    "tweets_hastags=[]\n",
    "for item in twitter_tweets_re:\n",
    "    s2=re.findall(r'hashtag_\\w+',item)\n",
    "    s2_join = \" \".join(s2)\n",
    "    tweets_hastags.append(s2_join)\n",
    "print(len(tweets_hastags))\n",
    "\n",
    "# Performing Binary Vectorization \n",
    "\n",
    "Binary_hash = CountVectorizer(binary = True,ngram_range=(1,1))   # gives the class\n",
    "Binary_hash_Vec = Binary_hash.fit_transform(tweets_hastags)       # fit means data should be fitted into the model and immediatly transform\n",
    "X_hash=Binary_hash_Vec.toarray()\n",
    "print(X_hash.shape)\n",
    "\n",
    "Binary_hash.get_feature_names()\n",
    "vocab_hash=Binary_hash.vocabulary_\n"
   ]
  },
  {
   "cell_type": "code",
   "execution_count": 15,
   "metadata": {},
   "outputs": [
    {
     "name": "stdout",
     "output_type": "stream",
     "text": [
      "[[1 0 0 ..., 0 0 0]\n",
      " [0 1 0 ..., 0 0 0]\n",
      " [0 0 1 ..., 0 0 0]\n",
      " ..., \n",
      " [0 0 0 ..., 1 1 0]\n",
      " [0 0 0 ..., 1 1 0]\n",
      " [0 0 0 ..., 0 0 1]]\n",
      "[[0 0 0 ..., 0 0 0]\n",
      " [0 0 0 ..., 0 0 0]\n",
      " [0 0 0 ..., 0 0 0]\n",
      " ..., \n",
      " [0 0 0 ..., 0 1 0]\n",
      " [0 0 0 ..., 1 0 0]\n",
      " [0 0 0 ..., 0 0 0]]\n"
     ]
    }
   ],
   "source": [
    "Xc = (Binary_hash_Vec.T.dot(Binary_hash_Vec)) # this is co-occurrence matrix in sparse csr format\n",
    "\n",
    "#to remove its own count with itself, substract the total count of each hastag from the diagonals \n",
    "\n",
    "col_sum=X_hash.sum(axis=0)\n",
    "X_d = np.zeros((423, 423), int)\n",
    "for item in range(len(col_sum)):\n",
    "    X_d[item][item]=col_sum[item]\n",
    "Xd=Xc.todense()\n",
    "Xfin=Xd-X_d\n",
    "print(Xd)\n",
    "print(Xfin)"
   ]
  },
  {
   "cell_type": "markdown",
   "metadata": {},
   "source": [
    "# Finding which two hashtags appear together "
   ]
  },
  {
   "cell_type": "code",
   "execution_count": 16,
   "metadata": {},
   "outputs": [
    {
     "name": "stdout",
     "output_type": "stream",
     "text": [
      "[[0 0 0 ..., 0 0 0]\n",
      " [0 0 0 ..., 0 0 0]\n",
      " [0 0 0 ..., 0 0 0]\n",
      " ..., \n",
      " [0 0 0 ..., 0 1 0]\n",
      " [0 0 0 ..., 1 0 0]\n",
      " [0 0 0 ..., 0 0 0]]\n",
      "(array([339, 339], dtype=int64), array([380, 388], dtype=int64))\n",
      "[[339, 380], [339, 388]]\n"
     ]
    }
   ],
   "source": [
    "Xfin = np.array(Xfin)\n",
    "print(Xfin)\n",
    "Xfin[np.tril_indices_from(Xfin, -1)] = 0   #getting lower traingular matrix\n",
    "\n",
    "# finding index of the 2 hashtags occuring together maximum times\n",
    "\n",
    "ind = np.unravel_index(np.argsort(Xfin, axis=None)[-2:], Xfin.shape)\n",
    "print(ind)\n",
    "length=len(ind[0])\n",
    "list_a=[]\n",
    "list_b=[]\n",
    "for item in range(length):\n",
    "    list_a.append(ind[0][item])\n",
    "    list_a.append(ind[1][item])\n",
    "    list_b.append(list_a)\n",
    "    list_a=[]\n",
    "    \n",
    "    \n",
    "print(list_b)"
   ]
  },
  {
   "cell_type": "code",
   "execution_count": 17,
   "metadata": {},
   "outputs": [
    {
     "name": "stdout",
     "output_type": "stream",
     "text": [
      "Top 2 Hashtags found together: {'hashtag_shutdown hashtag_trumpshutdown': 50, 'hashtag_shutdown hashtag_trump': 34}\n"
     ]
    }
   ],
   "source": [
    "# getting 2 hashtags together mostly and second mostly \n",
    "\n",
    "top_2_names=[]\n",
    "top_2_hashtags={}\n",
    "for item in range(len(list_b)):\n",
    "    for key,value in vocab_hash.items():\n",
    "        if value==list_b[item][0]:\n",
    "            top_2_names.append(key)\n",
    "    for key,value in vocab_hash.items():\n",
    "        if value==list_b[item][1]:\n",
    "            top_2_names.append(key)\n",
    "    top_2_hashtags[\" \".join(top_2_names)]=Xfin[list_b[item][0],list_b[item][1]]\n",
    "    top_2_names=[]\n",
    "    \n",
    "#print(top_2_hashtags)  \n",
    "\n",
    "top_2_hashtags_sorted=sorted(top_2_hashtags,key=top_2_hashtags.get,reverse=True)\n",
    "top_2_hashtags_sorted\n",
    "top_hashtag_together={}\n",
    "for r in top_2_hashtags_sorted:\n",
    "    top_hashtag_together[r]=top_2_hashtags[r]\n",
    "print('Top 2 Hashtags found together:',top_hashtag_together)"
   ]
  }
 ],
 "metadata": {
  "kernelspec": {
   "display_name": "Python 3",
   "language": "python",
   "name": "python3"
  },
  "language_info": {
   "codemirror_mode": {
    "name": "ipython",
    "version": 3
   },
   "file_extension": ".py",
   "mimetype": "text/x-python",
   "name": "python",
   "nbconvert_exporter": "python",
   "pygments_lexer": "ipython3",
   "version": "3.6.3"
  }
 },
 "nbformat": 4,
 "nbformat_minor": 2
}
