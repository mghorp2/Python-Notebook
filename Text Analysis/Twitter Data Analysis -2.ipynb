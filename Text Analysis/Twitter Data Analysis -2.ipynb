{
 "cells": [
  {
   "cell_type": "code",
   "execution_count": 1,
   "metadata": {
    "collapsed": true
   },
   "outputs": [],
   "source": [
    "import pandas as pd\n",
    "from sklearn.feature_extraction.text import CountVectorizer, TfidfVectorizer,TfidfTransformer\n",
    "import numpy as np\n",
    "import re\n",
    "import matplotlib\n",
    "import matplotlib.pyplot as plt\n",
    "%matplotlib inline\n",
    "from  sklearn.decomposition import TruncatedSVD\n",
    "import warnings \n",
    "warnings.filterwarnings(\"ignore\")\n",
    "import csv"
   ]
  },
  {
   "cell_type": "code",
   "execution_count": 2,
   "metadata": {
    "collapsed": true
   },
   "outputs": [],
   "source": [
    "from sklearn.linear_model import LogisticRegression\n",
    "from sklearn.metrics import accuracy_score \n",
    "from sklearn.metrics import f1_score \n",
    "from sklearn.naive_bayes import MultinomialNB"
   ]
  },
  {
   "cell_type": "code",
   "execution_count": 3,
   "metadata": {
    "collapsed": true
   },
   "outputs": [],
   "source": [
    "data=[]\n",
    "col_names=[]\n",
    "with open('D:\\\\UIC\\\\Spring 2018\\\\text analysis\\\\Assignments\\\\2\\\\Tweets.csv',encoding=\"utf8\",newline='') as csvfile:\n",
    "    spamreader = csv.reader(csvfile, delimiter=',')\n",
    "    for itm,row in enumerate(spamreader):\n",
    "        if itm==0:\n",
    "            col_names.append(row)\n",
    "        else:\n",
    "            data.append(row)\n"
   ]
  },
  {
   "cell_type": "code",
   "execution_count": 4,
   "metadata": {},
   "outputs": [
    {
     "name": "stdout",
     "output_type": "stream",
     "text": [
      "[['tweet_id', 'airline_sentiment', 'airline_sentiment_confidence', 'negativereason', 'negativereason_confidence', 'airline', 'airline_sentiment_gold', 'name', 'negativereason_gold', 'retweet_count', 'text', 'tweet_coord', 'tweet_created', 'tweet_location', 'user_timezone']]\n",
      "['570306133677760513', 'neutral', '1.0', '', '', 'Virgin America', '', 'cairdin', '', '0', '@VirginAmerica What @dhepburn said.', '', '2015-02-24 11:35:52 -0800', '', 'Eastern Time (US & Canada)']\n"
     ]
    }
   ],
   "source": [
    "print(col_names)\n",
    "print(data[0])"
   ]
  },
  {
   "cell_type": "code",
   "execution_count": 3,
   "metadata": {},
   "outputs": [
    {
     "data": {
      "text/html": [
       "<div>\n",
       "<style>\n",
       "    .dataframe thead tr:only-child th {\n",
       "        text-align: right;\n",
       "    }\n",
       "\n",
       "    .dataframe thead th {\n",
       "        text-align: left;\n",
       "    }\n",
       "\n",
       "    .dataframe tbody tr th {\n",
       "        vertical-align: top;\n",
       "    }\n",
       "</style>\n",
       "<table border=\"1\" class=\"dataframe\">\n",
       "  <thead>\n",
       "    <tr style=\"text-align: right;\">\n",
       "      <th></th>\n",
       "      <th>tweet_id</th>\n",
       "      <th>airline_sentiment</th>\n",
       "      <th>airline_sentiment_confidence</th>\n",
       "      <th>negativereason</th>\n",
       "      <th>negativereason_confidence</th>\n",
       "      <th>airline</th>\n",
       "      <th>airline_sentiment_gold</th>\n",
       "      <th>name</th>\n",
       "      <th>negativereason_gold</th>\n",
       "      <th>retweet_count</th>\n",
       "      <th>text</th>\n",
       "      <th>tweet_coord</th>\n",
       "      <th>tweet_created</th>\n",
       "      <th>tweet_location</th>\n",
       "      <th>user_timezone</th>\n",
       "    </tr>\n",
       "  </thead>\n",
       "  <tbody>\n",
       "    <tr>\n",
       "      <th>0</th>\n",
       "      <td>570306133677760513</td>\n",
       "      <td>neutral</td>\n",
       "      <td>1.0</td>\n",
       "      <td></td>\n",
       "      <td></td>\n",
       "      <td>Virgin America</td>\n",
       "      <td></td>\n",
       "      <td>cairdin</td>\n",
       "      <td></td>\n",
       "      <td>0</td>\n",
       "      <td>@VirginAmerica What @dhepburn said.</td>\n",
       "      <td></td>\n",
       "      <td>2015-02-24 11:35:52 -0800</td>\n",
       "      <td></td>\n",
       "      <td>Eastern Time (US &amp; Canada)</td>\n",
       "    </tr>\n",
       "    <tr>\n",
       "      <th>1</th>\n",
       "      <td>570301130888122368</td>\n",
       "      <td>positive</td>\n",
       "      <td>0.3486</td>\n",
       "      <td></td>\n",
       "      <td>0.0</td>\n",
       "      <td>Virgin America</td>\n",
       "      <td></td>\n",
       "      <td>jnardino</td>\n",
       "      <td></td>\n",
       "      <td>0</td>\n",
       "      <td>@VirginAmerica plus you've added commercials t...</td>\n",
       "      <td></td>\n",
       "      <td>2015-02-24 11:15:59 -0800</td>\n",
       "      <td></td>\n",
       "      <td>Pacific Time (US &amp; Canada)</td>\n",
       "    </tr>\n",
       "    <tr>\n",
       "      <th>2</th>\n",
       "      <td>570301083672813571</td>\n",
       "      <td>neutral</td>\n",
       "      <td>0.6837</td>\n",
       "      <td></td>\n",
       "      <td></td>\n",
       "      <td>Virgin America</td>\n",
       "      <td></td>\n",
       "      <td>yvonnalynn</td>\n",
       "      <td></td>\n",
       "      <td>0</td>\n",
       "      <td>@VirginAmerica I didn't today... Must mean I n...</td>\n",
       "      <td></td>\n",
       "      <td>2015-02-24 11:15:48 -0800</td>\n",
       "      <td>Lets Play</td>\n",
       "      <td>Central Time (US &amp; Canada)</td>\n",
       "    </tr>\n",
       "    <tr>\n",
       "      <th>3</th>\n",
       "      <td>570301031407624196</td>\n",
       "      <td>negative</td>\n",
       "      <td>1.0</td>\n",
       "      <td>Bad Flight</td>\n",
       "      <td>0.7033</td>\n",
       "      <td>Virgin America</td>\n",
       "      <td></td>\n",
       "      <td>jnardino</td>\n",
       "      <td></td>\n",
       "      <td>0</td>\n",
       "      <td>@VirginAmerica it's really aggressive to blast...</td>\n",
       "      <td></td>\n",
       "      <td>2015-02-24 11:15:36 -0800</td>\n",
       "      <td></td>\n",
       "      <td>Pacific Time (US &amp; Canada)</td>\n",
       "    </tr>\n",
       "    <tr>\n",
       "      <th>4</th>\n",
       "      <td>570300817074462722</td>\n",
       "      <td>negative</td>\n",
       "      <td>1.0</td>\n",
       "      <td>Can't Tell</td>\n",
       "      <td>1.0</td>\n",
       "      <td>Virgin America</td>\n",
       "      <td></td>\n",
       "      <td>jnardino</td>\n",
       "      <td></td>\n",
       "      <td>0</td>\n",
       "      <td>@VirginAmerica and it's a really big bad thing...</td>\n",
       "      <td></td>\n",
       "      <td>2015-02-24 11:14:45 -0800</td>\n",
       "      <td></td>\n",
       "      <td>Pacific Time (US &amp; Canada)</td>\n",
       "    </tr>\n",
       "  </tbody>\n",
       "</table>\n",
       "</div>"
      ],
      "text/plain": [
       "             tweet_id airline_sentiment airline_sentiment_confidence  \\\n",
       "0  570306133677760513           neutral                          1.0   \n",
       "1  570301130888122368          positive                       0.3486   \n",
       "2  570301083672813571           neutral                       0.6837   \n",
       "3  570301031407624196          negative                          1.0   \n",
       "4  570300817074462722          negative                          1.0   \n",
       "\n",
       "  negativereason negativereason_confidence         airline  \\\n",
       "0                                           Virgin America   \n",
       "1                                      0.0  Virgin America   \n",
       "2                                           Virgin America   \n",
       "3     Bad Flight                    0.7033  Virgin America   \n",
       "4     Can't Tell                       1.0  Virgin America   \n",
       "\n",
       "  airline_sentiment_gold        name negativereason_gold retweet_count  \\\n",
       "0                            cairdin                                 0   \n",
       "1                           jnardino                                 0   \n",
       "2                         yvonnalynn                                 0   \n",
       "3                           jnardino                                 0   \n",
       "4                           jnardino                                 0   \n",
       "\n",
       "                                                text tweet_coord  \\\n",
       "0                @VirginAmerica What @dhepburn said.               \n",
       "1  @VirginAmerica plus you've added commercials t...               \n",
       "2  @VirginAmerica I didn't today... Must mean I n...               \n",
       "3  @VirginAmerica it's really aggressive to blast...               \n",
       "4  @VirginAmerica and it's a really big bad thing...               \n",
       "\n",
       "               tweet_created tweet_location               user_timezone  \n",
       "0  2015-02-24 11:35:52 -0800                 Eastern Time (US & Canada)  \n",
       "1  2015-02-24 11:15:59 -0800                 Pacific Time (US & Canada)  \n",
       "2  2015-02-24 11:15:48 -0800      Lets Play  Central Time (US & Canada)  \n",
       "3  2015-02-24 11:15:36 -0800                 Pacific Time (US & Canada)  \n",
       "4  2015-02-24 11:14:45 -0800                 Pacific Time (US & Canada)  "
      ]
     },
     "execution_count": 3,
     "metadata": {},
     "output_type": "execute_result"
    }
   ],
   "source": [
    "twitter_df = pd.DataFrame(data,columns=col_names[0])\n",
    "twitter_df.head(5)"
   ]
  },
  {
   "cell_type": "code",
   "execution_count": 4,
   "metadata": {},
   "outputs": [
    {
     "data": {
      "text/html": [
       "<div>\n",
       "<style>\n",
       "    .dataframe thead tr:only-child th {\n",
       "        text-align: right;\n",
       "    }\n",
       "\n",
       "    .dataframe thead th {\n",
       "        text-align: left;\n",
       "    }\n",
       "\n",
       "    .dataframe tbody tr th {\n",
       "        vertical-align: top;\n",
       "    }\n",
       "</style>\n",
       "<table border=\"1\" class=\"dataframe\">\n",
       "  <thead>\n",
       "    <tr style=\"text-align: right;\">\n",
       "      <th></th>\n",
       "      <th>airline</th>\n",
       "      <th>airline_sentiment</th>\n",
       "      <th>text</th>\n",
       "    </tr>\n",
       "  </thead>\n",
       "  <tbody>\n",
       "    <tr>\n",
       "      <th>0</th>\n",
       "      <td>Virgin America</td>\n",
       "      <td>neutral</td>\n",
       "      <td>@VirginAmerica What @dhepburn said.</td>\n",
       "    </tr>\n",
       "    <tr>\n",
       "      <th>1</th>\n",
       "      <td>Virgin America</td>\n",
       "      <td>positive</td>\n",
       "      <td>@VirginAmerica plus you've added commercials t...</td>\n",
       "    </tr>\n",
       "    <tr>\n",
       "      <th>2</th>\n",
       "      <td>Virgin America</td>\n",
       "      <td>neutral</td>\n",
       "      <td>@VirginAmerica I didn't today... Must mean I n...</td>\n",
       "    </tr>\n",
       "    <tr>\n",
       "      <th>3</th>\n",
       "      <td>Virgin America</td>\n",
       "      <td>negative</td>\n",
       "      <td>@VirginAmerica it's really aggressive to blast...</td>\n",
       "    </tr>\n",
       "    <tr>\n",
       "      <th>4</th>\n",
       "      <td>Virgin America</td>\n",
       "      <td>negative</td>\n",
       "      <td>@VirginAmerica and it's a really big bad thing...</td>\n",
       "    </tr>\n",
       "  </tbody>\n",
       "</table>\n",
       "</div>"
      ],
      "text/plain": [
       "          airline airline_sentiment  \\\n",
       "0  Virgin America           neutral   \n",
       "1  Virgin America          positive   \n",
       "2  Virgin America           neutral   \n",
       "3  Virgin America          negative   \n",
       "4  Virgin America          negative   \n",
       "\n",
       "                                                text  \n",
       "0                @VirginAmerica What @dhepburn said.  \n",
       "1  @VirginAmerica plus you've added commercials t...  \n",
       "2  @VirginAmerica I didn't today... Must mean I n...  \n",
       "3  @VirginAmerica it's really aggressive to blast...  \n",
       "4  @VirginAmerica and it's a really big bad thing...  "
      ]
     },
     "execution_count": 4,
     "metadata": {},
     "output_type": "execute_result"
    }
   ],
   "source": [
    "df=twitter_df[['airline','airline_sentiment','text']]\n",
    "df.head(5)"
   ]
  },
  {
   "cell_type": "code",
   "execution_count": null,
   "metadata": {
    "collapsed": true
   },
   "outputs": [],
   "source": [
    "df_ = pd.DataFrame()\n",
    "df_=df.groupby(['airline','airline_sentiment'])['airline_sentiment'].count().reset_index(name='sentiment_counts')\n",
    "df_.head(7)"
   ]
  },
  {
   "cell_type": "code",
   "execution_count": null,
   "metadata": {
    "collapsed": true
   },
   "outputs": [],
   "source": [
    "tuple(df_['airline'].unique())"
   ]
  },
  {
   "cell_type": "code",
   "execution_count": null,
   "metadata": {
    "collapsed": true
   },
   "outputs": [],
   "source": [
    "N = df['airline'].unique().shape[0]\n",
    "positive = tuple(df_[df_['airline_sentiment'] == 'positive'].sentiment_counts)\n",
    "negative= tuple(df_[df_['airline_sentiment'] == 'negative'].sentiment_counts)\n",
    "neutral= tuple(df_[df_['airline_sentiment'] == 'neutral'].sentiment_counts)\n",
    "\n",
    "ind = np.arange(N)  # the x locations for the groups\n",
    "width = 0.20       # the width of the bars\n",
    "\n",
    "fig, ax = plt.subplots(figsize=(20, 10))\n",
    "rects1 = ax.bar(ind, positive, width, color='r')\n",
    "\n",
    "rects2 = ax.bar(ind + width, negative, width, color='y')\n",
    "\n",
    "rects3 = ax.bar(ind + width+width, neutral, width, color='b')\n",
    "\n",
    "# add some text for labels, title and axes ticks\n",
    "ax.set_ylabel('Sentiment Distribuion')\n",
    "ax.set_title('Sentiment Distribuion by Airlines and Sentiments')\n",
    "ax.set_xticks(ind + width+width / 3)\n",
    "ax.set_xticklabels(tuple(df_['airline'].unique()))\n",
    "\n",
    "ax.legend((rects1[0], rects2[0],rects3[0]), ('Positive', 'Negative','Neutral'))\n",
    "\n",
    "plt.show()"
   ]
  },
  {
   "cell_type": "code",
   "execution_count": 6,
   "metadata": {},
   "outputs": [
    {
     "data": {
      "text/plain": [
       "(14640, 3)"
      ]
     },
     "execution_count": 6,
     "metadata": {},
     "output_type": "execute_result"
    }
   ],
   "source": [
    "df.shape"
   ]
  },
  {
   "cell_type": "code",
   "execution_count": 9,
   "metadata": {},
   "outputs": [
    {
     "data": {
      "text/html": [
       "<div>\n",
       "<style>\n",
       "    .dataframe thead tr:only-child th {\n",
       "        text-align: right;\n",
       "    }\n",
       "\n",
       "    .dataframe thead th {\n",
       "        text-align: left;\n",
       "    }\n",
       "\n",
       "    .dataframe tbody tr th {\n",
       "        vertical-align: top;\n",
       "    }\n",
       "</style>\n",
       "<table border=\"1\" class=\"dataframe\">\n",
       "  <thead>\n",
       "    <tr style=\"text-align: right;\">\n",
       "      <th></th>\n",
       "      <th>airline</th>\n",
       "      <th>airline_sentiment</th>\n",
       "      <th>text</th>\n",
       "    </tr>\n",
       "  </thead>\n",
       "  <tbody>\n",
       "    <tr>\n",
       "      <th>0</th>\n",
       "      <td>Virgin America</td>\n",
       "      <td>neutral</td>\n",
       "      <td>What  said.</td>\n",
       "    </tr>\n",
       "    <tr>\n",
       "      <th>1</th>\n",
       "      <td>Virgin America</td>\n",
       "      <td>positive</td>\n",
       "      <td>plus you've added commercials to the experien...</td>\n",
       "    </tr>\n",
       "    <tr>\n",
       "      <th>2</th>\n",
       "      <td>Virgin America</td>\n",
       "      <td>neutral</td>\n",
       "      <td>I didn't today... Must mean I need to take an...</td>\n",
       "    </tr>\n",
       "    <tr>\n",
       "      <th>3</th>\n",
       "      <td>Virgin America</td>\n",
       "      <td>negative</td>\n",
       "      <td>it's really aggressive to blast obnoxious \"en...</td>\n",
       "    </tr>\n",
       "    <tr>\n",
       "      <th>4</th>\n",
       "      <td>Virgin America</td>\n",
       "      <td>negative</td>\n",
       "      <td>and it's a really big bad thing about it</td>\n",
       "    </tr>\n",
       "    <tr>\n",
       "      <th>5</th>\n",
       "      <td>Virgin America</td>\n",
       "      <td>negative</td>\n",
       "      <td>seriously would pay $30 a flight for seats th...</td>\n",
       "    </tr>\n",
       "  </tbody>\n",
       "</table>\n",
       "</div>"
      ],
      "text/plain": [
       "          airline airline_sentiment  \\\n",
       "0  Virgin America           neutral   \n",
       "1  Virgin America          positive   \n",
       "2  Virgin America           neutral   \n",
       "3  Virgin America          negative   \n",
       "4  Virgin America          negative   \n",
       "5  Virgin America          negative   \n",
       "\n",
       "                                                text  \n",
       "0                                        What  said.  \n",
       "1   plus you've added commercials to the experien...  \n",
       "2   I didn't today... Must mean I need to take an...  \n",
       "3   it's really aggressive to blast obnoxious \"en...  \n",
       "4           and it's a really big bad thing about it  \n",
       "5   seriously would pay $30 a flight for seats th...  "
      ]
     },
     "execution_count": 9,
     "metadata": {},
     "output_type": "execute_result"
    }
   ],
   "source": [
    "regexp_url = 'http[s]?://(?:[a-zA-Z]|[0-9]|[$-_@.&+]|[!*\\(\\),]|(?:%[0-9a-fA-F][0-9a-fA-F]))+'\n",
    "pattern_url = re.compile(regexp_url, re.UNICODE | re.IGNORECASE)\n",
    "\n",
    "regexp_hashtag = '(?<=^|(?<=[^a-zA-Z0-9-_\\.]))#([A-Za-z]+[A-Za-z0-9]+)'\n",
    "pattern_hashtag = re.compile(regexp_hashtag, re.UNICODE | re.IGNORECASE)\n",
    "\n",
    "regexp_mention = '(?<=^|(?<=[^a-zA-Z0-9-_\\.]))@([A-Za-z]+[A-Za-z0-9]+)'\n",
    "pattern_mention = re.compile(regexp_mention, re.UNICODE | re.IGNORECASE)\n",
    "\n",
    "\n",
    "for idx,item in df.iterrows():\n",
    "    tweet=item['text']\n",
    "    #Removing urls\n",
    "    tweet = pattern_url.sub('', tweet)\n",
    "    #Removing mentions\n",
    "    tweet = pattern_mention.sub('', tweet)\n",
    "    #Chaning hashtag sign (#) to 'hashtag_'\n",
    "    tweet = pattern_hashtag.sub(r'hashtag_\\1', tweet)\n",
    "    df.loc[idx,'text']=tweet\n",
    "    \n",
    "\n",
    "df.head(6)   \n"
   ]
  },
  {
   "cell_type": "code",
   "execution_count": 18,
   "metadata": {
    "collapsed": true
   },
   "outputs": [],
   "source": [
    "def count_vectorization(tweets):\n",
    "    count = CountVectorizer(binary=False, stop_words = 'english')\n",
    "    X = count.fit_transform(tweets)       # fit means data should be fitted into the model and immediatly transform\n",
    "    return X"
   ]
  },
  {
   "cell_type": "markdown",
   "metadata": {},
   "source": [
    "# vectorizing all the tweets"
   ]
  },
  {
   "cell_type": "code",
   "execution_count": 80,
   "metadata": {},
   "outputs": [
    {
     "name": "stdout",
     "output_type": "stream",
     "text": [
      "<class 'pandas.core.frame.DataFrame'>\n",
      "(14640, 13375)\n"
     ]
    }
   ],
   "source": [
    "df_tweets=df['text']\n",
    "print(type(df))\n",
    "X=count_vectorization(df_tweets)\n",
    "X1=X.toarray()\n",
    "print(X1.shape)\n"
   ]
  },
  {
   "cell_type": "markdown",
   "metadata": {},
   "source": [
    "# Q3"
   ]
  },
  {
   "cell_type": "code",
   "execution_count": 26,
   "metadata": {
    "collapsed": true
   },
   "outputs": [],
   "source": [
    "from sklearn import cross_validation\n",
    "from sklearn.model_selection import KFold\n",
    "from sklearn.model_selection import train_test_split"
   ]
  },
  {
   "cell_type": "code",
   "execution_count": 42,
   "metadata": {},
   "outputs": [
    {
     "data": {
      "text/html": [
       "<div>\n",
       "<style>\n",
       "    .dataframe thead tr:only-child th {\n",
       "        text-align: right;\n",
       "    }\n",
       "\n",
       "    .dataframe thead th {\n",
       "        text-align: left;\n",
       "    }\n",
       "\n",
       "    .dataframe tbody tr th {\n",
       "        vertical-align: top;\n",
       "    }\n",
       "</style>\n",
       "<table border=\"1\" class=\"dataframe\">\n",
       "  <thead>\n",
       "    <tr style=\"text-align: right;\">\n",
       "      <th></th>\n",
       "      <th>0</th>\n",
       "      <th>1</th>\n",
       "      <th>2</th>\n",
       "      <th>3</th>\n",
       "      <th>4</th>\n",
       "      <th>5</th>\n",
       "      <th>6</th>\n",
       "      <th>7</th>\n",
       "      <th>8</th>\n",
       "      <th>9</th>\n",
       "      <th>...</th>\n",
       "      <th>13368</th>\n",
       "      <th>13369</th>\n",
       "      <th>13370</th>\n",
       "      <th>13371</th>\n",
       "      <th>13372</th>\n",
       "      <th>13373</th>\n",
       "      <th>13374</th>\n",
       "      <th>13375</th>\n",
       "      <th>13376</th>\n",
       "      <th>13377</th>\n",
       "    </tr>\n",
       "  </thead>\n",
       "  <tbody>\n",
       "    <tr>\n",
       "      <th>0</th>\n",
       "      <td>Virgin America</td>\n",
       "      <td>neutral</td>\n",
       "      <td>What  said.</td>\n",
       "      <td>0</td>\n",
       "      <td>0</td>\n",
       "      <td>0</td>\n",
       "      <td>0</td>\n",
       "      <td>0</td>\n",
       "      <td>0</td>\n",
       "      <td>0</td>\n",
       "      <td>...</td>\n",
       "      <td>0</td>\n",
       "      <td>0</td>\n",
       "      <td>0</td>\n",
       "      <td>0</td>\n",
       "      <td>0</td>\n",
       "      <td>0</td>\n",
       "      <td>0</td>\n",
       "      <td>0</td>\n",
       "      <td>0</td>\n",
       "      <td>0</td>\n",
       "    </tr>\n",
       "    <tr>\n",
       "      <th>1</th>\n",
       "      <td>Virgin America</td>\n",
       "      <td>positive</td>\n",
       "      <td>plus you've added commercials to the experien...</td>\n",
       "      <td>0</td>\n",
       "      <td>0</td>\n",
       "      <td>0</td>\n",
       "      <td>0</td>\n",
       "      <td>0</td>\n",
       "      <td>0</td>\n",
       "      <td>0</td>\n",
       "      <td>...</td>\n",
       "      <td>0</td>\n",
       "      <td>0</td>\n",
       "      <td>0</td>\n",
       "      <td>0</td>\n",
       "      <td>0</td>\n",
       "      <td>0</td>\n",
       "      <td>0</td>\n",
       "      <td>0</td>\n",
       "      <td>0</td>\n",
       "      <td>0</td>\n",
       "    </tr>\n",
       "  </tbody>\n",
       "</table>\n",
       "<p>2 rows × 13378 columns</p>\n",
       "</div>"
      ],
      "text/plain": [
       "            0         1      \\\n",
       "0  Virgin America   neutral   \n",
       "1  Virgin America  positive   \n",
       "\n",
       "                                               2      3      4      5      \\\n",
       "0                                        What  said.      0      0      0   \n",
       "1   plus you've added commercials to the experien...      0      0      0   \n",
       "\n",
       "   6      7      8      9      ...    13368  13369  13370  13371  13372  \\\n",
       "0      0      0      0      0  ...        0      0      0      0      0   \n",
       "1      0      0      0      0  ...        0      0      0      0      0   \n",
       "\n",
       "   13373  13374  13375  13376  13377  \n",
       "0      0      0      0      0      0  \n",
       "1      0      0      0      0      0  \n",
       "\n",
       "[2 rows x 13378 columns]"
      ]
     },
     "execution_count": 42,
     "metadata": {},
     "output_type": "execute_result"
    }
   ],
   "source": [
    "X_df=pd.DataFrame(X1)\n",
    "#X_df.head(2)\n",
    "df_vec = pd.concat([df, X_df], axis=1, ignore_index=True)\n",
    "df_vec.head(2)"
   ]
  },
  {
   "cell_type": "code",
   "execution_count": 134,
   "metadata": {
    "scrolled": true
   },
   "outputs": [
    {
     "name": "stdout",
     "output_type": "stream",
     "text": [
      "Virgin America\n",
      "Accuracy: 0.62\n",
      "F-1 Score: 0.63\n",
      "****\n",
      "United\n",
      "Accuracy: 0.75\n",
      "F-1 Score: 0.70\n",
      "****\n",
      "Southwest\n",
      "Accuracy: 0.70\n",
      "F-1 Score: 0.70\n",
      "****\n",
      "Delta\n",
      "Accuracy: 0.67\n",
      "F-1 Score: 0.67\n",
      "****\n",
      "US Airways\n",
      "Accuracy: 0.81\n",
      "F-1 Score: 0.75\n",
      "****\n",
      "American\n",
      "Accuracy: 0.77\n",
      "F-1 Score: 0.71\n",
      "****\n"
     ]
    }
   ],
   "source": [
    "from sklearn.metrics import accuracy_score \n",
    "\n",
    "airline= df['airline'].unique()\n",
    "LR_airlines=pd.DataFrame(columns=('airline','accuracy','F-1_Score'))\n",
    "\n",
    "for itx,item in enumerate(airline):\n",
    "    validation_accuracy=[]\n",
    "    f1score=[]\n",
    "    airline_subset=df_vec[df_vec[0] == item]\n",
    "    X=airline_subset.iloc[:,3:]\n",
    "    X_1=X.as_matrix()\n",
    "    y1=airline_subset.iloc[:,1]\n",
    "    y=y1.as_matrix()\n",
    "    kfold = KFold(10)\n",
    "    for k,(train,test) in enumerate(kfold.split(X_1,y)):\n",
    "        LR = LogisticRegression(C = .2)\n",
    "        LR.fit(X_1[train], y[train])\n",
    "        p_test = LR.predict(X_1[test])\n",
    "        accu=accuracy_score(y[test], p_test)\n",
    "        validation_accuracy.append(accu)\n",
    "        f1=f1_score(y[test], p_test,average='weighted')\n",
    "        f1score.append(f1)\n",
    "        \n",
    "    LR_airlines.loc[itx,'airline']=item\n",
    "    print(item)    \n",
    "    print(\"Accuracy: %0.2f\" % (np.mean(validation_accuracy)))\n",
    "    LR_airlines.loc[itx,'accuracy']=np.mean(validation_accuracy)\n",
    "    print(\"F-1 Score: %0.2f\" % (np.mean(f1score))) \n",
    "    LR_airlines.loc[itx,'F-1_Score']=np.mean(f1score)\n",
    "    print('****')\n",
    " \n"
   ]
  },
  {
   "cell_type": "code",
   "execution_count": 133,
   "metadata": {},
   "outputs": [
    {
     "name": "stdout",
     "output_type": "stream",
     "text": [
      "          airline  accuracy F-1_Score\n",
      "0  Virgin America  0.621137  0.627613\n",
      "1          United  0.749602  0.699284\n",
      "2       Southwest  0.704132  0.696879\n",
      "3           Delta  0.672405  0.666288\n",
      "4      US Airways  0.805016  0.745364\n",
      "5        American  0.769866  0.707017\n"
     ]
    }
   ],
   "source": [
    "print(LR_airlines)"
   ]
  },
  {
   "cell_type": "code",
   "execution_count": 137,
   "metadata": {},
   "outputs": [
    {
     "name": "stdout",
     "output_type": "stream",
     "text": [
      "Virgin America\n",
      "Accuracy: 0.55\n",
      "F-1 Score: 0.55\n",
      "****\n",
      "United\n",
      "Accuracy: 0.70\n",
      "F-1 Score: 0.69\n",
      "****\n",
      "Southwest\n",
      "Accuracy: 0.65\n",
      "F-1 Score: 0.65\n",
      "****\n",
      "Delta\n",
      "Accuracy: 0.63\n",
      "F-1 Score: 0.62\n",
      "****\n",
      "US Airways\n",
      "Accuracy: 0.78\n",
      "F-1 Score: 0.76\n",
      "****\n",
      "American\n",
      "Accuracy: 0.75\n",
      "F-1 Score: 0.73\n",
      "****\n"
     ]
    }
   ],
   "source": [
    "from sklearn.metrics import accuracy_score \n",
    "\n",
    "airline= df['airline'].unique()\n",
    "MNB_airlines=pd.DataFrame(columns=('airline','accuracy','F-1_Score'))\n",
    "\n",
    "for itx,item in enumerate(airline):\n",
    "    validation_accuracy=[]\n",
    "    f1score=[]\n",
    "    airline_subset=df_vec[df_vec[0] == item]\n",
    "    X=airline_subset.iloc[:,3:]\n",
    "    X_1=X.as_matrix()\n",
    "    y1=airline_subset.iloc[:,1]\n",
    "    y=y1.as_matrix()\n",
    "    kfold = KFold(10)\n",
    "    \n",
    "    for k,(train,test) in enumerate(kfold.split(X_1,y)):\n",
    "        MNB = MultinomialNB(1e-15)\n",
    "        MNB.fit(X_1[train], y[train])\n",
    "        p_test = MNB.predict(X_1[test])\n",
    "        acc=accuracy_score(y[test], p_test)\n",
    "        validation_accuracy.append(acc)\n",
    "        f1=f1_score(y[test], p_test,average='weighted')\n",
    "        f1score.append(f1)\n",
    "        \n",
    "    MNB_airlines.loc[itx,'airline']=item\n",
    "    print(item)    \n",
    "    print(\"Accuracy: %0.2f\" % (np.mean(validation_accuracy)))\n",
    "    MNB_airlines.loc[itx,'accuracy']=np.mean(validation_accuracy)\n",
    "    print(\"F-1 Score: %0.2f\" % (np.mean(f1score))) \n",
    "    MNB_airlines.loc[itx,'F-1_Score']=np.mean(f1score)\n",
    "    print('****')\n",
    "\n",
    "    "
   ]
  },
  {
   "cell_type": "code",
   "execution_count": 138,
   "metadata": {},
   "outputs": [
    {
     "data": {
      "text/html": [
       "<div>\n",
       "<style>\n",
       "    .dataframe thead tr:only-child th {\n",
       "        text-align: right;\n",
       "    }\n",
       "\n",
       "    .dataframe thead th {\n",
       "        text-align: left;\n",
       "    }\n",
       "\n",
       "    .dataframe tbody tr th {\n",
       "        vertical-align: top;\n",
       "    }\n",
       "</style>\n",
       "<table border=\"1\" class=\"dataframe\">\n",
       "  <thead>\n",
       "    <tr style=\"text-align: right;\">\n",
       "      <th></th>\n",
       "      <th>airline</th>\n",
       "      <th>accuracy</th>\n",
       "      <th>F-1_Score</th>\n",
       "    </tr>\n",
       "  </thead>\n",
       "  <tbody>\n",
       "    <tr>\n",
       "      <th>0</th>\n",
       "      <td>Virgin America</td>\n",
       "      <td>0.547765</td>\n",
       "      <td>0.547555</td>\n",
       "    </tr>\n",
       "    <tr>\n",
       "      <th>1</th>\n",
       "      <td>United</td>\n",
       "      <td>0.701984</td>\n",
       "      <td>0.689187</td>\n",
       "    </tr>\n",
       "    <tr>\n",
       "      <th>2</th>\n",
       "      <td>Southwest</td>\n",
       "      <td>0.651653</td>\n",
       "      <td>0.646086</td>\n",
       "    </tr>\n",
       "    <tr>\n",
       "      <th>3</th>\n",
       "      <td>Delta</td>\n",
       "      <td>0.625607</td>\n",
       "      <td>0.622099</td>\n",
       "    </tr>\n",
       "    <tr>\n",
       "      <th>4</th>\n",
       "      <td>US Airways</td>\n",
       "      <td>0.780302</td>\n",
       "      <td>0.75812</td>\n",
       "    </tr>\n",
       "    <tr>\n",
       "      <th>5</th>\n",
       "      <td>American</td>\n",
       "      <td>0.747021</td>\n",
       "      <td>0.729901</td>\n",
       "    </tr>\n",
       "  </tbody>\n",
       "</table>\n",
       "</div>"
      ],
      "text/plain": [
       "          airline  accuracy F-1_Score\n",
       "0  Virgin America  0.547765  0.547555\n",
       "1          United  0.701984  0.689187\n",
       "2       Southwest  0.651653  0.646086\n",
       "3           Delta  0.625607  0.622099\n",
       "4      US Airways  0.780302   0.75812\n",
       "5        American  0.747021  0.729901"
      ]
     },
     "execution_count": 138,
     "metadata": {},
     "output_type": "execute_result"
    }
   ],
   "source": [
    "MNB_airlines"
   ]
  },
  {
   "cell_type": "markdown",
   "metadata": {},
   "source": [
    "# Question 5"
   ]
  },
  {
   "cell_type": "code",
   "execution_count": 140,
   "metadata": {},
   "outputs": [
    {
     "name": "stdout",
     "output_type": "stream",
     "text": [
      "Accuracy (multinomial Naïve Bayes): 0.7065\n",
      "F-1 Score(multinomial Naïve Bayes): 0.6994\n"
     ]
    }
   ],
   "source": [
    "from sklearn.metrics import accuracy_score \n",
    "\n",
    "validation_accuracy=[]\n",
    "\n",
    "X=df_vec.iloc[:,3:]\n",
    "X_1=X.as_matrix()\n",
    "y1=df_vec.iloc[:,1]\n",
    "y=y1.as_matrix()\n",
    "\n",
    "kfold = KFold(10)\n",
    "f1score=[]\n",
    "for k,(train,test) in enumerate(kfold.split(X_1,y)):\n",
    "    MNB = MultinomialNB(1e-15)\n",
    "    MNB.fit(X_1[train], y[train])\n",
    "    p_test = MNB.predict(X_1[test])\n",
    "    validation_accuracy.append(accuracy_score(y[test], p_test))\n",
    "    f1=f1_score(y[test], p_test,average='weighted')\n",
    "    f1score.append(f1)\n",
    "        \n",
    "    \n",
    "print(\"Accuracy (multinomial Naïve Bayes): %0.4f\" % (np.mean(validation_accuracy)))\n",
    "print(\"F-1 Score(multinomial Naïve Bayes): %0.4f\" % (np.mean(f1score))) \n"
   ]
  },
  {
   "cell_type": "code",
   "execution_count": 145,
   "metadata": {},
   "outputs": [
    {
     "name": "stdout",
     "output_type": "stream",
     "text": [
      "Accuracy (Logistic Regression): 0.76\n",
      "F-1 Score(Logistic Regression): 0.75\n"
     ]
    }
   ],
   "source": [
    "from sklearn.metrics import accuracy_score \n",
    "\n",
    "validation_accuracy=[]\n",
    "\n",
    "X=df_vec.iloc[:,3:]\n",
    "X_1=X.as_matrix()\n",
    "y1=df_vec.iloc[:,1]\n",
    "y=y1.as_matrix()\n",
    "\n",
    "kfold = KFold(10)\n",
    "f1score=[]\n",
    "for k,(train,test) in enumerate(kfold.split(X_1,y)):\n",
    "    LR = LogisticRegression(C = .2)\n",
    "    LR.fit(X_1[train], y[train])\n",
    "    p_test = LR.predict(X_1[test])\n",
    "    validation_accuracy.append(accuracy_score(y[test], p_test))\n",
    "    f1=f1_score(y[test], p_test,average='weighted')\n",
    "    f1score.append(f1)\n",
    "        \n",
    "    \n",
    "print(\"Accuracy (Logistic Regression): %0.2f\" % (np.mean(validation_accuracy)))\n",
    "print(\"F-1 Score(Logistic Regression): %0.2f\" % (np.mean(f1score))) \n"
   ]
  },
  {
   "cell_type": "code",
   "execution_count": 150,
   "metadata": {
    "collapsed": true
   },
   "outputs": [],
   "source": [
    "from sklearn.metrics import accuracy_score \n",
    "\n",
    "def logestic_regression(x_train,y_train,x_test,y_test):\n",
    "    LR = LogisticRegression(C = .2)\n",
    "    LR.fit(x_train, y_train)\n",
    "    p_test = LR.predict(x_test)\n",
    "    return p_test\n",
    "    \n"
   ]
  },
  {
   "cell_type": "code",
   "execution_count": 233,
   "metadata": {
    "collapsed": true
   },
   "outputs": [],
   "source": [
    "from sklearn.metrics import accuracy_score \n",
    "\n",
    "def MN_Bayes(x_train,y_train,x_test,y_test):\n",
    "    MNB = MultinomialNB(1e-15)\n",
    "    MNB.fit(x_train, y_train)\n",
    "    p_test = MNB.predict(x_test)\n",
    "    return p_test\n",
    " "
   ]
  },
  {
   "cell_type": "code",
   "execution_count": 211,
   "metadata": {
    "collapsed": true
   },
   "outputs": [],
   "source": [
    "df_sentiments=df['airline_sentiment']\n",
    "np.random.seed(0)\n",
    "xtrain, xtest, ytrain, ytest = train_test_split(X_df, df_sentiments, test_size=0.20)"
   ]
  },
  {
   "cell_type": "code",
   "execution_count": 229,
   "metadata": {},
   "outputs": [
    {
     "data": {
      "text/plain": [
       "(11712, 13376)"
      ]
     },
     "execution_count": 229,
     "metadata": {},
     "output_type": "execute_result"
    }
   ],
   "source": [
    "ytrain=pd.DataFrame(ytrain)\n",
    "data=pd.concat([ytrain,xtrain],axis=1)\n",
    "data.shape\n"
   ]
  },
  {
   "cell_type": "code",
   "execution_count": 236,
   "metadata": {},
   "outputs": [
    {
     "name": "stdout",
     "output_type": "stream",
     "text": [
      "0.771174863388\n",
      "0.733606557377\n"
     ]
    }
   ],
   "source": [
    "from sklearn.metrics import accuracy_score \n",
    "total=X_df.shape[0]\n",
    "fractions=[0.05,0.1,0.15,0.2,0.25,0.3,0.35,0.4,0.45,0.5,0.55,0.6,0.65,0.7,0.75,0.8]\n",
    "Total_df=pd.DataFrame(columns=('Fractions','Accuracy_LG','F1_score_LG','Accuracy_MNB','F1_score_MNB'))\n",
    "\n",
    "for i,item in enumerate(fractions):\n",
    "    num=int(item*total)\n",
    "    data_sampled=data.sample(n=num)\n",
    "    x=data_sampled.drop(['airline_sentiment'], axis=1)\n",
    "    y=data_sampled['airline_sentiment']\n",
    "\n",
    "    p_test_lr = logestic_regression(x, y,xtest,ytest)\n",
    "    accuracy_lr=accuracy_score(ytest, p_test_lr)\n",
    "    Total_df.loc[i,'Accuracy_LG']=accuracy_lr\n",
    "    f1score_lr=f1_score(ytest, p_test_lr,average='weighted')\n",
    "    Total_df.loc[i,'F1_score_LG']=f1score_lr\n",
    "\n",
    "    p_test_mnb=MN_Bayes(x, y,xtest,ytest)\n",
    "    accuracy_mnb=accuracy_score(ytest, p_test_mnb)\n",
    "    Total_df.loc[i,'Accuracy_MNB']=accuracy_mnb\n",
    "    f1score_mnb=f1_score(ytest, p_test_mnb,average='weighted')\n",
    "    Total_df.loc[i,'F1_score_MNB']=f1score_mnb\n",
    "    Total_df.loc[i,'Fractions']=item\n",
    "    \n",
    "print(accuracy_lr)\n",
    "print(accuracy_mnb)\n"
   ]
  },
  {
   "cell_type": "code",
   "execution_count": 246,
   "metadata": {},
   "outputs": [
    {
     "data": {
      "text/html": [
       "<div>\n",
       "<style>\n",
       "    .dataframe thead tr:only-child th {\n",
       "        text-align: right;\n",
       "    }\n",
       "\n",
       "    .dataframe thead th {\n",
       "        text-align: left;\n",
       "    }\n",
       "\n",
       "    .dataframe tbody tr th {\n",
       "        vertical-align: top;\n",
       "    }\n",
       "</style>\n",
       "<table border=\"1\" class=\"dataframe\">\n",
       "  <thead>\n",
       "    <tr style=\"text-align: right;\">\n",
       "      <th></th>\n",
       "      <th>Fractions</th>\n",
       "      <th>Accuracy_LG</th>\n",
       "      <th>F1_score_LG</th>\n",
       "      <th>Accuracy_MNB</th>\n",
       "      <th>F1_score_MNB</th>\n",
       "    </tr>\n",
       "  </thead>\n",
       "  <tbody>\n",
       "    <tr>\n",
       "      <th>0</th>\n",
       "      <td>5</td>\n",
       "      <td>69.3989</td>\n",
       "      <td>62.2654</td>\n",
       "      <td>67.2131</td>\n",
       "      <td>64.9275</td>\n",
       "    </tr>\n",
       "    <tr>\n",
       "      <th>1</th>\n",
       "      <td>10</td>\n",
       "      <td>70.4577</td>\n",
       "      <td>64.5238</td>\n",
       "      <td>68.4768</td>\n",
       "      <td>67.0355</td>\n",
       "    </tr>\n",
       "    <tr>\n",
       "      <th>2</th>\n",
       "      <td>15</td>\n",
       "      <td>71.4822</td>\n",
       "      <td>67.0989</td>\n",
       "      <td>68.6817</td>\n",
       "      <td>67.5279</td>\n",
       "    </tr>\n",
       "    <tr>\n",
       "      <th>3</th>\n",
       "      <td>20</td>\n",
       "      <td>72.541</td>\n",
       "      <td>68.1318</td>\n",
       "      <td>69.8429</td>\n",
       "      <td>68.7625</td>\n",
       "    </tr>\n",
       "    <tr>\n",
       "      <th>4</th>\n",
       "      <td>25</td>\n",
       "      <td>73.668</td>\n",
       "      <td>70.2506</td>\n",
       "      <td>70.4918</td>\n",
       "      <td>69.3105</td>\n",
       "    </tr>\n",
       "    <tr>\n",
       "      <th>5</th>\n",
       "      <td>30</td>\n",
       "      <td>74.3852</td>\n",
       "      <td>71.5714</td>\n",
       "      <td>69.8087</td>\n",
       "      <td>69.0422</td>\n",
       "    </tr>\n",
       "    <tr>\n",
       "      <th>6</th>\n",
       "      <td>35</td>\n",
       "      <td>74.9317</td>\n",
       "      <td>72.4296</td>\n",
       "      <td>71.6872</td>\n",
       "      <td>71.0374</td>\n",
       "    </tr>\n",
       "    <tr>\n",
       "      <th>7</th>\n",
       "      <td>40</td>\n",
       "      <td>75.0683</td>\n",
       "      <td>72.6184</td>\n",
       "      <td>71.8238</td>\n",
       "      <td>70.9639</td>\n",
       "    </tr>\n",
       "    <tr>\n",
       "      <th>8</th>\n",
       "      <td>45</td>\n",
       "      <td>75.3415</td>\n",
       "      <td>73.0813</td>\n",
       "      <td>72.3702</td>\n",
       "      <td>71.7018</td>\n",
       "    </tr>\n",
       "    <tr>\n",
       "      <th>9</th>\n",
       "      <td>50</td>\n",
       "      <td>75.5464</td>\n",
       "      <td>73.4577</td>\n",
       "      <td>72.3361</td>\n",
       "      <td>71.6571</td>\n",
       "    </tr>\n",
       "    <tr>\n",
       "      <th>10</th>\n",
       "      <td>55</td>\n",
       "      <td>75.9904</td>\n",
       "      <td>74.0164</td>\n",
       "      <td>71.9262</td>\n",
       "      <td>71.2365</td>\n",
       "    </tr>\n",
       "    <tr>\n",
       "      <th>11</th>\n",
       "      <td>60</td>\n",
       "      <td>76.2637</td>\n",
       "      <td>74.4694</td>\n",
       "      <td>72.1653</td>\n",
       "      <td>71.4887</td>\n",
       "    </tr>\n",
       "    <tr>\n",
       "      <th>12</th>\n",
       "      <td>65</td>\n",
       "      <td>76.0929</td>\n",
       "      <td>74.6173</td>\n",
       "      <td>73.0533</td>\n",
       "      <td>72.5952</td>\n",
       "    </tr>\n",
       "    <tr>\n",
       "      <th>13</th>\n",
       "      <td>70</td>\n",
       "      <td>76.5027</td>\n",
       "      <td>75.1396</td>\n",
       "      <td>73.0874</td>\n",
       "      <td>72.5601</td>\n",
       "    </tr>\n",
       "    <tr>\n",
       "      <th>14</th>\n",
       "      <td>75</td>\n",
       "      <td>76.4686</td>\n",
       "      <td>75.0909</td>\n",
       "      <td>73.1216</td>\n",
       "      <td>72.6181</td>\n",
       "    </tr>\n",
       "    <tr>\n",
       "      <th>15</th>\n",
       "      <td>80</td>\n",
       "      <td>77.1175</td>\n",
       "      <td>75.8473</td>\n",
       "      <td>73.3607</td>\n",
       "      <td>72.8697</td>\n",
       "    </tr>\n",
       "  </tbody>\n",
       "</table>\n",
       "</div>"
      ],
      "text/plain": [
       "   Fractions Accuracy_LG F1_score_LG Accuracy_MNB F1_score_MNB\n",
       "0          5     69.3989     62.2654      67.2131      64.9275\n",
       "1         10     70.4577     64.5238      68.4768      67.0355\n",
       "2         15     71.4822     67.0989      68.6817      67.5279\n",
       "3         20      72.541     68.1318      69.8429      68.7625\n",
       "4         25      73.668     70.2506      70.4918      69.3105\n",
       "5         30     74.3852     71.5714      69.8087      69.0422\n",
       "6         35     74.9317     72.4296      71.6872      71.0374\n",
       "7         40     75.0683     72.6184      71.8238      70.9639\n",
       "8         45     75.3415     73.0813      72.3702      71.7018\n",
       "9         50     75.5464     73.4577      72.3361      71.6571\n",
       "10        55     75.9904     74.0164      71.9262      71.2365\n",
       "11        60     76.2637     74.4694      72.1653      71.4887\n",
       "12        65     76.0929     74.6173      73.0533      72.5952\n",
       "13        70     76.5027     75.1396      73.0874      72.5601\n",
       "14        75     76.4686     75.0909      73.1216      72.6181\n",
       "15        80     77.1175     75.8473      73.3607      72.8697"
      ]
     },
     "execution_count": 246,
     "metadata": {},
     "output_type": "execute_result"
    }
   ],
   "source": [
    "Final=Total_df*100\n",
    "Final"
   ]
  },
  {
   "cell_type": "code",
   "execution_count": 245,
   "metadata": {},
   "outputs": [
    {
     "data": {
      "image/png": "[encoded data removed]",
      "text/plain": [
       "<matplotlib.figure.Figure at 0x21d005dfc88>"
      ]
     },
     "metadata": {},
     "output_type": "display_data"
    }
   ],
   "source": [
    "Percent_Training = Final['Fractions']\n",
    "Accuracy_LG = Final['Accuracy_LG']\n",
    "Accuracy_MNB = Final['Accuracy_MNB']\n",
    "\n",
    "plt.plot(Percent_Training, Accuracy_LG, color='b',label='Logistic Regression')\n",
    "plt.plot(Percent_Training, Accuracy_MNB, color='orange',label='Multinomial Naïve Bayes')\n",
    "plt.xlabel('Percentage of Traing data used')\n",
    "plt.ylabel('Accuracy (in Percentage)')\n",
    "plt.title('Accuracy of Logistic Regression Vs Multinomial Naïve Bayes ')\n",
    "plt.legend(loc='upper left')\n",
    "plt.show()"
   ]
  },
  {
   "cell_type": "code",
   "execution_count": null,
   "metadata": {
    "collapsed": true
   },
   "outputs": [],
   "source": []
  }
 ],
 "metadata": {
  "kernelspec": {
   "display_name": "Python 3",
   "language": "python",
   "name": "python3"
  },
  "language_info": {
   "codemirror_mode": {
    "name": "ipython",
    "version": 3
   },
   "file_extension": ".py",
   "mimetype": "text/x-python",
   "name": "python",
   "nbconvert_exporter": "python",
   "pygments_lexer": "ipython3",
   "version": "3.6.3"
  }
 },
 "nbformat": 4,
 "nbformat_minor": 2
}
