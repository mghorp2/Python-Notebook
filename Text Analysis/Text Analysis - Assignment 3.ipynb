{
 "cells": [
  {
   "cell_type": "code",
   "execution_count": 55,
   "metadata": {
    "collapsed": true
   },
   "outputs": [],
   "source": [
    "import pandas as pd\n",
    "from sklearn.feature_extraction.text import CountVectorizer, TfidfVectorizer,TfidfTransformer\n",
    "import numpy as np\n",
    "import re\n",
    "import matplotlib\n",
    "import matplotlib.pyplot as plt\n",
    "%matplotlib inline\n",
    "from  sklearn.decomposition import TruncatedSVD\n",
    "import warnings \n",
    "warnings.filterwarnings(\"ignore\")\n",
    "import csv"
   ]
  },
  {
   "cell_type": "code",
   "execution_count": 56,
   "metadata": {
    "collapsed": true
   },
   "outputs": [],
   "source": [
    "data=[]\n",
    "col_names=[]\n",
    "with open('songdata.csv',encoding=\"utf8\",newline='') as csvfile:\n",
    "    spamreader = csv.reader(csvfile, delimiter=',')\n",
    "    for itm,row in enumerate(spamreader):\n",
    "        if itm==0:\n",
    "            col_names.append(row)\n",
    "        else:\n",
    "            data.append(row)"
   ]
  },
  {
   "cell_type": "code",
   "execution_count": 57,
   "metadata": {},
   "outputs": [
    {
     "data": {
      "text/plain": [
       "[\"Ahe's My Kind Of Girl\", 'Andante, Andante', 'As Good As New']"
      ]
     },
     "execution_count": 57,
     "metadata": {},
     "output_type": "execute_result"
    }
   ],
   "source": [
    "song= [item[1] for item in data]\n",
    "song[:3]"
   ]
  },
  {
   "cell_type": "code",
   "execution_count": 58,
   "metadata": {},
   "outputs": [],
   "source": [
    "text= [item[3] for item in data]\n"
   ]
  },
  {
   "cell_type": "code",
   "execution_count": 59,
   "metadata": {},
   "outputs": [
    {
     "data": {
      "text/plain": [
       "(57650, 22557)"
      ]
     },
     "execution_count": 59,
     "metadata": {},
     "output_type": "execute_result"
    }
   ],
   "source": [
    "vect = TfidfVectorizer(min_df =5, stop_words = 'english')\n",
    "X = vect.fit_transform(text)\n",
    "X.shape"
   ]
  },
  {
   "cell_type": "code",
   "execution_count": 60,
   "metadata": {
    "collapsed": true
   },
   "outputs": [],
   "source": [
    "terms = vect.get_feature_names()"
   ]
  },
  {
   "cell_type": "code",
   "execution_count": 61,
   "metadata": {
    "collapsed": true
   },
   "outputs": [],
   "source": [
    "from sklearn.cluster import KMeans"
   ]
  },
  {
   "cell_type": "code",
   "execution_count": 62,
   "metadata": {},
   "outputs": [
    {
     "data": {
      "text/plain": [
       "array([2, 0, 2, ..., 0, 2, 1])"
      ]
     },
     "execution_count": 62,
     "metadata": {},
     "output_type": "execute_result"
    }
   ],
   "source": [
    "kmeans = KMeans(3)\n",
    "clusters = kmeans.fit_predict(X)\n",
    "clusters"
   ]
  },
  {
   "cell_type": "code",
   "execution_count": 63,
   "metadata": {},
   "outputs": [
    {
     "data": {
      "text/plain": [
       "array([14967,  5215, 37468], dtype=int64)"
      ]
     },
     "execution_count": 63,
     "metadata": {},
     "output_type": "execute_result"
    }
   ],
   "source": [
    "np.bincount(clusters)"
   ]
  },
  {
   "cell_type": "code",
   "execution_count": 64,
   "metadata": {},
   "outputs": [
    {
     "name": "stdout",
     "output_type": "stream",
     "text": [
      "[[8.31976631e-06 1.06603492e-04 7.47393364e-06 ... 0.00000000e+00\n",
      "  1.67727003e-05 0.00000000e+00]\n",
      " [0.00000000e+00 1.23488648e-04 0.00000000e+00 ... 0.00000000e+00\n",
      "  2.03991517e-05 0.00000000e+00]\n",
      " [4.71628813e-05 2.11775488e-04 2.37823967e-05 ... 3.75865489e-05\n",
      "  2.23635178e-05 1.62146361e-05]]\n"
     ]
    }
   ],
   "source": [
    "print(kmeans.cluster_centers_)  \n"
   ]
  },
  {
   "cell_type": "code",
   "execution_count": 65,
   "metadata": {
    "scrolled": true
   },
   "outputs": [
    {
     "name": "stdout",
     "output_type": "stream",
     "text": [
      "Top terms per cluster:\n",
      "\n",
      "Cluster 0:\n",
      "Top 5 songs closest to cluster center are:\n",
      "['Bed Of Roses', \"Hooked On Rock'n'roll\", 'I Want To Spend The Night', 'Jillian', 'Scars']\n",
      "\n",
      "Top 5 documents closest to cluster center are:\n",
      "[\"There's something 'bout your manner  \\nThat makes it hard to see  \\nJust how you take advantage  \\nOf a workin' girl like me  \\nI've seen you set 'em up  \\nAnd I've seen you take 'em down  \\nOur love is legal tender  \\nFor your kind to pass around  \\n  \\nDon't want your bed of roses  \\nDon't want no handful of thorns  \\nDon't want to be your livin' doll  \\nDon't want to be no woman scorned  \\nI don't want to watch you turn the page  \\nWhen our chapter closes  \\nNo, I'm not gonna lay me down  \\nIn your bed of roses  \\n  \\nI've tasted good and bad love  \\nIn the honky-tonks and bars  \\nI've settled for the moon  \\nWhen I was reachin' for the stars  \\nAnd though sometimes I have stumbled  \\nI've been known to fall  \\nIt was always true love  \\nThat took me to the wall  \\n  \\nDon't want your bed of roses  \\nDon't want no handful of thorns  \\nDon't want to be your livin' doll  \\nDon't want to be no woman scorned  \\nI don't want to watch you turn the page  \\nWhen our chapter closes  \\nNo I'm not gonna lay me down  \\nIn your bed of roses  \\n  \\nGirl you better hide your love away  \\nGirl you better save it for another day\\n\\n\", 'The boy could play before he learned to grow  \\nWorked in a band who had no name at all  \\nEvery mornin\\' at the break of dawn  \\nYou could see him draggin\\' home his drums  \\nI was vaccinated with a victrolla needle  \\nAnd I\\'m hooked on rock and roll  \\n  \\nThey called the family doctor to see what he could do  \\nDoc said \"No you can\\'t cure his soul  \\nOnce he\\'s infected with the blues\"  \\nSo I travelled \\'round from town to town singin\\' out the news  \\n  \\nI was vaccinated with a little needle  \\nAnd I\\'m hooked on rock and roll  \\n  \\nWhen you find you got no mind  \\nTo work from nine to five  \\nFind the back beat, set your heart free  \\nAnd feel that music runnin\\' through your feet  \\n  \\nMama told me long ago  \\n\"Ain\\'t no future in that rock \\'n\\' roll\"  \\nAnd I said \"Hey mama, it\\'s burnin\\' hot inside my soul\"  \\n  \\nIt\\'s like a fever that won\\'t cool down  \\nI\\'ve been addicted since I heard that sound  \\n  \\nI was vaccinated with a little needle  \\nAnd I\\'m hooked on rock and roll  \\n  \\nWhen you find you got no mind (bop shoo bop, bop bop shoo bop)  \\nTo work from nine to five  \\nFind the back beat, set your heart free  \\n(Bop shoo bop, bop bop shoo bop)  \\nAnd feel the music runnin\\' through your feet  \\n  \\nMama told me long ago  \\n\"Ain\\'t no future in that rock \\'n\\' roll\"  \\nAnd I said \"Hey mama, it\\'s burnin\\' hot inside me soul\"  \\n  \\nIt\\'s like a fever that won\\'t cool down  \\nI\\'ve been addicted since I heard that sound  \\n  \\nI was vaccinated with a little needle  \\nAnd I\\'m hooked on rock and roll, yeah  \\nHooked on rock and roll  \\n(I\\'ve been addicted since I heard that sound)  \\nHooked on rock and roll  \\nHooked on rock and roll  \\n(It\\'s like a fever that won\\'t cool down)  \\nHooked on rock and roll, yeah, yeah, yeah  \\nHooked on rock and roll  \\n(It\\'s burnin, burnin, burnin in my soul)  \\nHooked on rock and roll  \\nHooked on rock and roll  \\n(I\\'ve been addicted since I heard that sound)  \\nHooked on rock and roll  \\nHooked on rock and roll  \\nHooked on rock and roll  \\nHooked on\\n\\n', \"I want to spend the night  \\nWith you  \\nForever  \\n  \\nEvery time we wind up spending the night  \\nTogether  \\nDo you ever feel it?  \\n  \\nI want to share my life  \\nWith you  \\nForever  \\n  \\nEver time we wind sharing a night  \\nTogether  \\nDo you ever feel it?  \\n  \\nAnd when I stay away from you  \\nI never get to sleep  \\nI try to hug my pillow  \\nAnd pretend that you're with me  \\nBut I can't feel it  \\n  \\nThen when we are together  \\nIt's right there for me to see  \\nI can't keep looking at loneliness  \\nAnd trying to call it freedom  \\nDo you ever feel it?  \\n  \\nI want to spend the night  \\nWith you  \\nForever  \\n  \\nEvery time we wind up spending the night  \\nTogether  \\nDo you ever feel it?  \\n  \\n[Repeat x6]  \\nDo you ever want to spend the night?\\n\\n\", 'I\\'ve Been Dreaming For So Long  \\nTo Find The Meaning  \\nTo Understand  \\nThe Secret Of Life  \\nWhy Am I Here  \\nTo Try Again  \\n  \\nWill I Always  \\nWill YouAlways  \\nSee The Truth,  \\nWhen It Stares You In The Face  \\nWill I Ever  \\nWill I Never Free Myself  \\nBreakin\\' These Chains  \\n  \\nChorus  \\nGive My Heart Give My Soul  \\nI\\'d Turn It Back It\\'s My Fault  \\nYour Destiny Is Forlorn  \\nHave to live till it\\'s undone  \\nGive My Heart Givr My Soul  \\nI\\'d Turn It Back  \\nAnd Then at last  \\nI\\'ll be on my way  \\n  \\nI\\'ve Been Living For So Long  \\nMany Seasons Passed Me By  \\nI\\'ve Seen Kingdoms Through Ages  \\nRise And Fall  \\nI\\'ve Seen It All  \\n  \\nI\\'ve Seen The Horrors  \\nI\\'ve Seen The Wonders  \\nHapp\\'ning Just In Front Of My Eyes  \\nWill I Ever,  \\nWill I Never Free Myself By Making It Right?  \\n  \\nChorus  \\n  \\nJillian  \\nOur Dream Ended Long Ago  \\nAll Our Stories  \\nAnd All Our Glories  \\nI Held So Dear  \\nWe Won\\'t Be Together For Ever and Ever  \\nNo More Tears  \\nI\\'ll Always Be Here  \\n\\'Till The End  \\n  \\n\"Voices\" Jillian  \\n  \\nChorus\\n\\n', \"Is this part, is this part of the process, of the process  \\nCannot find another way round, other way round, round the pain  \\n'Cause you left me here in the middle of it  \\nSaid I'm working out I promise  \\nI don't know how we got here in the first place  \\n  \\nI climb the walls, you hit the bars  \\nI've ever been is you run for miles  \\nYou got your brand new friend and I got a broken heart  \\nDoesn't matter who we are  \\nEveryone has their scars  \\nEveryone has their scars  \\n  \\nThere's a place, there's a place that I'm heading, that I'm heading  \\nNeed to know are you coming, are you coming there with me  \\n'Cause you're heading in the wrong direction  \\nJust as I need your protection  \\nMaybe I should let you find your own way  \\n  \\nI climb the walls, you hit the bars  \\nI've ever been is you run for miles  \\nYou got your brand new friend and I got a broken heart  \\nDoesn't matter who we are  \\nEveryone has their scars  \\nEveryone has their scars  \\n  \\nWhat could be so bad  \\nIt's taken you so far  \\nUntil you don't know who you are  \\n  \\nI climb the walls, you hit the bars  \\nI've ever been is you run for miles  \\nYou got your brand new friend and I got a broken heart  \\nDoesn't matter who we are  \\nEveryone has their scars  \\nI climb the walls, you hit the bars  \\nI've ever been is you run for miles  \\nYou got your brand new friend and I got a broken heart  \\nDoesn't matter who we are  \\nEveryone has their scars  \\nEveryone has their scars  \\nEveryone has their scars\\n\\n\"]\n",
      "\n",
      "Cluster 1:\n",
      "Top 5 songs closest to cluster center are:\n",
      "[\"Aren't You The One?\", \"Hooked On Rock'n'roll\", 'THE NIGHT', 'Superstition', 'Scars']\n",
      "\n",
      "Top 5 documents closest to cluster center are:\n",
      "[\"Aren't you the one who used to call me names  \\nAren't you the one who used to play me games  \\nWeren't you the one who said he'd never fall  \\nNow you're the one who's crying not so tall  \\n  \\nOh I know what it's like  \\nIt's happened many times to me  \\nOh do you ache inside  \\nYour eyes wanna cry  \\nYou want me back again  \\n  \\nYes you're the one  \\nShould I throw you a crumb  \\nShould I come and pass you by  \\nWould that make you wanna try  \\nShould I come and kiss your lips  \\nWould that make your game slip  \\nShall I come and dry your eyes  \\nWould that make you realize  \\n  \\nOh I know what it's like  \\nIt's happened many times to me  \\nOh do you ache inside  \\nYour eyes wanna cry  \\nYou want me back again  \\n  \\nAren't you the one who used to call me names  \\nAren't you the one who used to play me games  \\nWeren't you the one who used to run and hide  \\nNow you're the one who's crying way inside  \\n  \\nOh I know what it's like  \\nIt's happened many times to me  \\nOh do you ache inside  \\nYour eyes wanna cry  \\nYou want me back again\\n\\n\", 'The boy could play before he learned to grow  \\nWorked in a band who had no name at all  \\nEvery mornin\\' at the break of dawn  \\nYou could see him draggin\\' home his drums  \\nI was vaccinated with a victrolla needle  \\nAnd I\\'m hooked on rock and roll  \\n  \\nThey called the family doctor to see what he could do  \\nDoc said \"No you can\\'t cure his soul  \\nOnce he\\'s infected with the blues\"  \\nSo I travelled \\'round from town to town singin\\' out the news  \\n  \\nI was vaccinated with a little needle  \\nAnd I\\'m hooked on rock and roll  \\n  \\nWhen you find you got no mind  \\nTo work from nine to five  \\nFind the back beat, set your heart free  \\nAnd feel that music runnin\\' through your feet  \\n  \\nMama told me long ago  \\n\"Ain\\'t no future in that rock \\'n\\' roll\"  \\nAnd I said \"Hey mama, it\\'s burnin\\' hot inside my soul\"  \\n  \\nIt\\'s like a fever that won\\'t cool down  \\nI\\'ve been addicted since I heard that sound  \\n  \\nI was vaccinated with a little needle  \\nAnd I\\'m hooked on rock and roll  \\n  \\nWhen you find you got no mind (bop shoo bop, bop bop shoo bop)  \\nTo work from nine to five  \\nFind the back beat, set your heart free  \\n(Bop shoo bop, bop bop shoo bop)  \\nAnd feel the music runnin\\' through your feet  \\n  \\nMama told me long ago  \\n\"Ain\\'t no future in that rock \\'n\\' roll\"  \\nAnd I said \"Hey mama, it\\'s burnin\\' hot inside me soul\"  \\n  \\nIt\\'s like a fever that won\\'t cool down  \\nI\\'ve been addicted since I heard that sound  \\n  \\nI was vaccinated with a little needle  \\nAnd I\\'m hooked on rock and roll, yeah  \\nHooked on rock and roll  \\n(I\\'ve been addicted since I heard that sound)  \\nHooked on rock and roll  \\nHooked on rock and roll  \\n(It\\'s like a fever that won\\'t cool down)  \\nHooked on rock and roll, yeah, yeah, yeah  \\nHooked on rock and roll  \\n(It\\'s burnin, burnin, burnin in my soul)  \\nHooked on rock and roll  \\nHooked on rock and roll  \\n(I\\'ve been addicted since I heard that sound)  \\nHooked on rock and roll  \\nHooked on rock and roll  \\nHooked on rock and roll  \\nHooked on\\n\\n', \"It's right for the night  \\nThousands of lights  \\nShow us the way  \\nMe and my mates,  \\nWill have a good time  \\nIn the amusement arcade  \\nUnpack your bags  \\nWe're here at last  \\nFor the birds that play ball  \\nThis is it!  \\nIt's what it's all about!  \\nWe worked all week for this  \\nLet's go  \\nGo to the pub  \\nDance for a while  \\nHave a drink or so  \\nPlease ourselves  \\nDo what we want  \\nTonight's ours  \\nTo have fun  \\nThe night  \\nWill soon be gone  \\nIt goes too fast  \\nLet's not waste time  \\nNo need to worry ourselves, now  \\nThe night  \\nThe night of our week  \\nOne night  \\nWe remember it well  \\nNo one  \\nCan take it away  \\nNo one  \\nCan deny us the night  \\nThe night  \\nOne night  \\nHear the sea  \\nCome tumbling in  \\nFreezing us all  \\nFeeling the breeze  \\nBeating the pier  \\nAs we try and sleep  \\nIt feels so secure  \\nAlong with the sea I mean  \\nWhat a pity  \\nOur weekend's gone  \\nThe sea remains  \\nBut that's all  \\nWe had a good time  \\nWhile we were here  \\nGoodnight\\n\\n\", \"Very superstitious  \\nWriting's on the wall  \\nVery superstitious  \\nLadder's about to fall  \\nThirteen-month-old baby  \\nBroke the looking glass  \\nSeven years of bad luck  \\nGood things in your past  \\n  \\nIf you believe in things that you don't understand  \\nThen you suffer  \\nSuperstition ain't the way  \\n  \\nVery superstitious  \\nWash your face and hands  \\nRid me of the problems  \\nDo all that you can  \\nKeep me in a daydream  \\nKeep me going strong  \\nYou don't want to save me  \\nSad is my song  \\n  \\nIf you believe in things that you don't understand  \\nThen you suffer  \\nSuperstition ain't the way  \\n  \\nVery superstitious  \\nNothing more to say  \\nVery superstitious  \\nDevil's on his way  \\nThirteen-month-old baby  \\nBroke the looking glass  \\nSeven years of bad luck  \\nGood things in your past  \\n  \\nIf you believe in things that you don't understand  \\nThen you suffer  \\nSuperstition ain't the way  \\n  \\nSuperstition ain't the way...  \\nSuperstition ain't the way...\\n\\n\", \"Is this part, is this part of the process, of the process  \\nCannot find another way round, other way round, round the pain  \\n'Cause you left me here in the middle of it  \\nSaid I'm working out I promise  \\nI don't know how we got here in the first place  \\n  \\nI climb the walls, you hit the bars  \\nI've ever been is you run for miles  \\nYou got your brand new friend and I got a broken heart  \\nDoesn't matter who we are  \\nEveryone has their scars  \\nEveryone has their scars  \\n  \\nThere's a place, there's a place that I'm heading, that I'm heading  \\nNeed to know are you coming, are you coming there with me  \\n'Cause you're heading in the wrong direction  \\nJust as I need your protection  \\nMaybe I should let you find your own way  \\n  \\nI climb the walls, you hit the bars  \\nI've ever been is you run for miles  \\nYou got your brand new friend and I got a broken heart  \\nDoesn't matter who we are  \\nEveryone has their scars  \\nEveryone has their scars  \\n  \\nWhat could be so bad  \\nIt's taken you so far  \\nUntil you don't know who you are  \\n  \\nI climb the walls, you hit the bars  \\nI've ever been is you run for miles  \\nYou got your brand new friend and I got a broken heart  \\nDoesn't matter who we are  \\nEveryone has their scars  \\nI climb the walls, you hit the bars  \\nI've ever been is you run for miles  \\nYou got your brand new friend and I got a broken heart  \\nDoesn't matter who we are  \\nEveryone has their scars  \\nEveryone has their scars  \\nEveryone has their scars\\n\\n\"]\n",
      "\n",
      "Cluster 2:\n",
      "Top 5 songs closest to cluster center are:\n",
      "['Superstition', 'Long Night', 'Prozakc Blues', 'Hold My Hand', \"Aren't You The One?\"]\n",
      "\n",
      "Top 5 documents closest to cluster center are:\n",
      "[\"Very superstitious  \\nWriting's on the wall  \\nVery superstitious  \\nLadder's about to fall  \\nThirteen-month-old baby  \\nBroke the looking glass  \\nSeven years of bad luck  \\nGood things in your past  \\n  \\nIf you believe in things that you don't understand  \\nThen you suffer  \\nSuperstition ain't the way  \\n  \\nVery superstitious  \\nWash your face and hands  \\nRid me of the problems  \\nDo all that you can  \\nKeep me in a daydream  \\nKeep me going strong  \\nYou don't want to save me  \\nSad is my song  \\n  \\nIf you believe in things that you don't understand  \\nThen you suffer  \\nSuperstition ain't the way  \\n  \\nVery superstitious  \\nNothing more to say  \\nVery superstitious  \\nDevil's on his way  \\nThirteen-month-old baby  \\nBroke the looking glass  \\nSeven years of bad luck  \\nGood things in your past  \\n  \\nIf you believe in things that you don't understand  \\nThen you suffer  \\nSuperstition ain't the way  \\n  \\nSuperstition ain't the way...  \\nSuperstition ain't the way...\\n\\n\", \"Feel the underground breeze as the trains good bye,  \\nPushing through the crowd, to see the sky around you,  \\nI blink as the green light turns to red  \\nEverybody on the streets trying to get there heads around it  \\n  \\nAnd when I loose myself, there is raging sea,  \\nYou're a beacon of light you're the air I breathe  \\n  \\nOh a long night put your arms with my self in out to the morning lights  \\nBaby we could make a great escape  \\nRun away like thieves and alight the world away  \\nSomewhere no-one will ever find us  \\nFrom, is a long night, long night  \\n  \\nGot a long ride home to think about things,  \\nAnd the song with the man on the radio sings is so true, reminds me of you  \\nThe way that you know just who I am  \\nWhen I don't say I word you still understand against through, yeah who knew  \\n  \\nOh its days like these, I crave you the most  \\nShivers down my spine when you're holding me close  \\n  \\nOh a long night put your arms with my self in out to the morning lights  \\nBaby we could make a great escape  \\nRun away like thieves and alight the world away  \\nSomewhere no-one will ever find us  \\nFrom, is a long night, long night  \\n  \\nOh a long night put your arms with my self in out to the morning lights  \\nBaby we could make a great escape  \\nRun away like thieves and alight the world away  \\nSomewhere no-one will ever find us  \\nFrom, is a long night, long night\\n\\n\", \"Well, I woke up this morning in a cloud of despair.  \\nI ran my hand across my head,  \\nPulled out a pile of worried hair.  \\nI went to my physician who was buried in his thoughts  \\nHe said, 'Son, you've been reading  \\nToo much Elephant Talk.'  \\n  \\nHe said, 'The thing about depression is,  \\nWell you just can't let it get you down,  \\nYou have to see the world for what it is:  \\nA circus full of freaks and clowns  \\nAnd you'll never please everybody,  \\nIt's a well established fact',  \\nHe said, 'I recommend a fifth of Jack  \\nAnd a bottle of Prozac.'  \\n  \\nWhat can you give a man who has everything?  \\nCan you give him back his edge,  \\nCan you make him want to sing?  \\nNo, you can only take from him,  \\nAnd there's nothing he can do.  \\nI've got the driving me to drink and eat  \\nA bottle of Prozac blues.  \\n  \\nWell, I woke up this morning and I shaved off my head.  \\nBy the time I realized what I had done I was already dead.  \\nI went to see the gatekeeper who was standing by Heaven's door,  \\nHe said, 'I hope you brought a good supply of... you know'\\n\\n\", \"Hold my hand  \\nI need you now  \\nSlow me down  \\nI don't know how  \\n  \\nHold my hand  \\nI need you now  \\nSlow me down  \\nI don't know how  \\n  \\nAre you living the feeling?  \\nThe highs, are they worth seeking?  \\nNothing's like believing  \\nAre your drugs healing?  \\n  \\nHold my hand  \\nI need you now  \\nSlow me down  \\nI don't know how  \\n  \\nHold my hand  \\nI need you now  \\nSlow me down  \\nI don't know how  \\n  \\nAre you really living?  \\nOr do you seek loving?  \\nAre you happy being?  \\nOr do you search for meaning?  \\n  \\nAre you ever asking  \\nQuestions, they need answering  \\nYou're not really hearing  \\nYou really need releasing  \\n  \\nA million pieces broken  \\nA million secrets unspoken  \\nA million pieces broken  \\nA million secrets unspoken  \\n  \\nHold my hand  \\nI need you now  \\nSlow me down  \\nI don't know how  \\n  \\nHold my hand  \\nI need you now  \\nSlow me down  \\nI don't know how  \\n  \\nDirty games  \\nNa-na-naa  \\nDirty games  \\nNa-na-naa  \\n  \\nSecrets everywhere  \\nSecrets everywhere  \\nSecrets everywhere  \\nDirty games  \\nNa-na-naa  \\nSecrets everywhere  \\nDirty games  \\nNa-na-naa\\n\\n\", \"Aren't you the one who used to call me names  \\nAren't you the one who used to play me games  \\nWeren't you the one who said he'd never fall  \\nNow you're the one who's crying not so tall  \\n  \\nOh I know what it's like  \\nIt's happened many times to me  \\nOh do you ache inside  \\nYour eyes wanna cry  \\nYou want me back again  \\n  \\nYes you're the one  \\nShould I throw you a crumb  \\nShould I come and pass you by  \\nWould that make you wanna try  \\nShould I come and kiss your lips  \\nWould that make your game slip  \\nShall I come and dry your eyes  \\nWould that make you realize  \\n  \\nOh I know what it's like  \\nIt's happened many times to me  \\nOh do you ache inside  \\nYour eyes wanna cry  \\nYou want me back again  \\n  \\nAren't you the one who used to call me names  \\nAren't you the one who used to play me games  \\nWeren't you the one who used to run and hide  \\nNow you're the one who's crying way inside  \\n  \\nOh I know what it's like  \\nIt's happened many times to me  \\nOh do you ache inside  \\nYour eyes wanna cry  \\nYou want me back again\\n\\n\"]\n",
      "\n"
     ]
    }
   ],
   "source": [
    "from __future__ import print_function\n",
    "\n",
    "print(\"Top terms per cluster:\")\n",
    "print()\n",
    "#sort cluster centers by proximity to centroid\n",
    "order_centroids = kmeans.cluster_centers_.argsort()[:, ::-1] \n",
    "\n",
    "for i in range(3):\n",
    "    print(\"Cluster %d:\" % i, end='')\n",
    "    print()\n",
    "    index=[]\n",
    "    documents=[]\n",
    "    songs=[]\n",
    "    for ind in order_centroids[i, :5]: #replace 5 with n words per cluster\n",
    "        index.append(ind)\n",
    "    \n",
    "    for j in index:\n",
    "        documents.append(text[j])\n",
    "        songs.append(song[j])\n",
    "    print(\"Top 5 songs closest to cluster center are:\")\n",
    "    print(songs)\n",
    "    print() \n",
    "    print(\"Top 5 documents closest to cluster center are:\")\n",
    "    print(\"%s\"%documents)\n",
    "    print()\n",
    "       \n",
    "        "
   ]
  },
  {
   "cell_type": "markdown",
   "metadata": {},
   "source": [
    "# Running LSA with 50 components"
   ]
  },
  {
   "cell_type": "code",
   "execution_count": 36,
   "metadata": {},
   "outputs": [
    {
     "data": {
      "text/plain": [
       "(57650, 50)"
      ]
     },
     "execution_count": 36,
     "metadata": {},
     "output_type": "execute_result"
    }
   ],
   "source": [
    "from sklearn.decomposition import TruncatedSVD\n",
    "\n",
    "lsa = TruncatedSVD(50)\n",
    "Z = lsa.fit_transform(X)\n",
    "Z.shape"
   ]
  },
  {
   "cell_type": "code",
   "execution_count": 37,
   "metadata": {},
   "outputs": [
    {
     "name": "stdout",
     "output_type": "stream",
     "text": [
      "['love' 'don' 'know' 'll' 'just']\n",
      "['love' 'don' 'got' 'heart' 'gonna']\n",
      "['oh' 'baby' 'yeah' 'll' 'time']\n",
      "['oh' 'don' 'want' 'baby' 'know']\n",
      "['baby' 'don' 'oh' 'want' 'know']\n",
      "['ll' 'la' 'baby' 'got' 'yeah']\n",
      "['la' 'll' 'got' 'baby' 'yeah']\n",
      "['want' 'don' 'yeah' 'know' 've']\n",
      "['yeah' 'll' 'let' 'gonna' 'want']\n",
      "['let' 'll' 'want' 'don' 'yeah']\n",
      "['got' 've' 'let' 'yeah' 'don']\n",
      "['gonna' 'yeah' 've' 'know' 'oh']\n",
      "['gonna' 'll' 'christmas' 'yeah' 'like']\n",
      "['christmas' 'like' 'don' 'chorus' 'got']\n",
      "['christmas' 'time' 'don' 'come' 'just']\n",
      "['know' 'chorus' 'christmas' 'away' 'hey']\n",
      "['come' 'know' 'hey' 'home' 'don']\n",
      "['hey' 'like' 'say' 'girl' 'feel']\n",
      "['time' 'chorus' 'hey' 'heart' 'come']\n",
      "['chorus' 'know' 'wanna' 'come' 'heart']\n",
      "['time' 'say' 'girl' 'way' 'away']\n",
      "['hey' 'girl' 'like' 'feel' 'time']\n",
      "['chorus' 'need' 'hey' 'wanna' 'life']\n",
      "['night' 'come' 'heart' 'tonight' 'like']\n",
      "['wanna' 'need' 'feel' 'time' 'life']\n",
      "['away' 'say' 'girl' 'night' 'tonight']\n",
      "['need' 'home' 'wanna' 'heart' 'just']\n",
      "['ve' 'home' 'got' 'long' 'away']\n",
      "['way' 'just' 'heart' 'good' 'feel']\n",
      "['say' 'just' 'believe' 'like' 'girl']\n",
      "['na' 'way' 'away' 'good' 'just']\n",
      "['way' 'little' 'just' 'good' 'na']\n",
      "['believe' 'good' 'life' 'just' 'home']\n",
      "['life' 'feel' 'good' 'little' 'away']\n",
      "['believe' 'long' 'man' 'like' 'day']\n",
      "['man' 'home' 'little' 'day' 'life']\n",
      "['little' 'just' 'ooh' 'world' 'long']\n",
      "['man' 'blue' 'away' 'tonight' 'need']\n",
      "['home' 'long' 'tell' 'feel' 'say']\n",
      "['ooh' 'tonight' 'home' 'feel' 'night']\n",
      "['world' 'tell' 'way' 'long' 'say']\n",
      "['ooh' 'tell' 'rock' 'gone' 'ain']\n",
      "['ooh' 'better' 'rock' 'tell' 'ain']\n",
      "['ooh' 'long' 'tell' 'ain' 'think']\n",
      "['tonight' 'day' 'hold' 'night' 'blue']\n",
      "['right' 'dream' 'rock' 've' 'gone']\n",
      "['make' 'dance' 'dream' 'alright' 'feel']\n",
      "['look' 'world' 'dance' 'eyes' 'day']\n",
      "['day' 'night' 'think' 'way' 'rock']\n",
      "['hold' 'gone' 'dance' 'long' 'think']\n"
     ]
    }
   ],
   "source": [
    "vocab = np.array(vect.get_feature_names())\n",
    "\n",
    "for i in range(Z.shape[1]):\n",
    "    order = np.abs(lsa.components_[i]).argsort()[::-1]\n",
    "    print(vocab[order[:5]])"
   ]
  },
  {
   "cell_type": "markdown",
   "metadata": {},
   "source": [
    "# Finding best number of clusters with elbow method:"
   ]
  },
  {
   "cell_type": "code",
   "execution_count": 42,
   "metadata": {},
   "outputs": [
    {
     "name": "stdout",
     "output_type": "stream",
     "text": [
      "[7162.2111236617475, 6945.057580486315, 6780.277050320886, 6622.986550868557, 6444.4806821609045, 6336.436640122841, 6228.38721452123, 6158.0943530384375]\n"
     ]
    }
   ],
   "source": [
    "inertia = []\n",
    "for i in range(2, 10):\n",
    "    kmeans = KMeans(i)\n",
    "    kmeans.fit_predict(Z)\n",
    "    inertia.append(kmeans.inertia_)\n",
    "    \n",
    "print(inertia)"
   ]
  },
  {
   "cell_type": "code",
   "execution_count": 43,
   "metadata": {},
   "outputs": [
    {
     "data": {
      "text/plain": [
       "[<matplotlib.lines.Line2D at 0x23434a57748>]"
      ]
     },
     "execution_count": 43,
     "metadata": {},
     "output_type": "execute_result"
    },
    {
     "data": {
      "image/png": "[encoded data removed]",
      "text/plain": [
       "<matplotlib.figure.Figure at 0x23434f66208>"
      ]
     },
     "metadata": {},
     "output_type": "display_data"
    }
   ],
   "source": [
    "%matplotlib inline\n",
    "\n",
    "plt.plot(range(2, 10), inertia)"
   ]
  },
  {
   "cell_type": "code",
   "execution_count": 44,
   "metadata": {},
   "outputs": [
    {
     "data": {
      "text/plain": [
       "array([0, 5, 0, ..., 5, 0, 5])"
      ]
     },
     "execution_count": 44,
     "metadata": {},
     "output_type": "execute_result"
    }
   ],
   "source": [
    "kmeans = KMeans(6)\n",
    "clusters = kmeans.fit_predict(X)\n",
    "clusters"
   ]
  },
  {
   "cell_type": "code",
   "execution_count": 45,
   "metadata": {},
   "outputs": [
    {
     "data": {
      "text/plain": [
       "array([33448,  4508,  2499,  2407,   362, 14426], dtype=int64)"
      ]
     },
     "execution_count": 45,
     "metadata": {},
     "output_type": "execute_result"
    }
   ],
   "source": [
    "np.bincount(clusters)"
   ]
  },
  {
   "cell_type": "code",
   "execution_count": 47,
   "metadata": {},
   "outputs": [
    {
     "name": "stdout",
     "output_type": "stream",
     "text": [
      "Top terms per cluster:\n",
      "\n",
      "Cluster 0:\n",
      "Top 5 songs closest to cluster center are:\n",
      "['Long Night', 'Superstition', 'Prozakc Blues', \"Aren't You The One?\", 'Hold My Hand']\n",
      "\n",
      "\n",
      "Cluster 1:\n",
      "Top 5 songs closest to cluster center are:\n",
      "[\"Aren't You The One?\", 'THE NIGHT', \"Hooked On Rock'n'roll\", 'Superstition', 'Bed Of Roses']\n",
      "\n",
      "\n",
      "Cluster 2:\n",
      "Top 5 songs closest to cluster center are:\n",
      "['I Want To Spend The Night', \"Aren't You The One?\", 'Bed Of Roses', 'Jillian', 'Scars']\n",
      "\n",
      "\n",
      "Cluster 3:\n",
      "Top 5 songs closest to cluster center are:\n",
      "['Scars', 'The La La Song', \"Aren't You The One?\", \"Hooked On Rock'n'roll\", 'Bed Of Roses']\n",
      "\n",
      "\n",
      "Cluster 4:\n",
      "Top 5 songs closest to cluster center are:\n",
      "['Here It Comes Again', 'Scars', \"Aren't You The One?\", 'The Adventures Of Rain Dance Maggie', 'Bed Of Roses']\n",
      "\n",
      "\n",
      "Cluster 5:\n",
      "Top 5 songs closest to cluster center are:\n",
      "['Bed Of Roses', \"Hooked On Rock'n'roll\", 'Jillian', 'Prozakc Blues', 'Superstition']\n",
      "\n",
      "\n"
     ]
    }
   ],
   "source": [
    "from __future__ import print_function\n",
    "\n",
    "print(\"Top terms per cluster:\")\n",
    "print()\n",
    "#sort cluster centers by proximity to centroid\n",
    "order_centroids = kmeans.cluster_centers_.argsort()[:, ::-1] \n",
    "\n",
    "for i in range(6):\n",
    "    print(\"Cluster %d:\" % i, end='')\n",
    "    print()\n",
    "    index=[]\n",
    "    documents=[]\n",
    "    songs=[]\n",
    "    for ind in order_centroids[i, :5]: #replace 5 with n words per cluster\n",
    "        index.append(ind)\n",
    "    \n",
    "    for j in index:\n",
    "        documents.append(text[j])\n",
    "        songs.append(song[j])\n",
    "    print(\"Top 5 songs closest to cluster center are:\")\n",
    "    print(songs)\n",
    "    print() \n",
    "    #print(\"Top 5 documents closest to cluster center are:\")\n",
    "    #print(documents)\n",
    "    print()\n",
    "       "
   ]
  },
  {
   "cell_type": "code",
   "execution_count": 49,
   "metadata": {},
   "outputs": [
    {
     "data": {
      "text/plain": [
       "(57650, 2)"
      ]
     },
     "execution_count": 49,
     "metadata": {},
     "output_type": "execute_result"
    }
   ],
   "source": [
    "from sklearn.decomposition import PCA\n",
    "\n",
    "pca = PCA(2)\n",
    "Z1 = pca.fit_transform(X.todense())\n",
    "Z1.shape"
   ]
  },
  {
   "cell_type": "code",
   "execution_count": 50,
   "metadata": {},
   "outputs": [
    {
     "data": {
      "text/plain": [
       "array([0, 2, 0, ..., 2, 0, 1])"
      ]
     },
     "execution_count": 50,
     "metadata": {},
     "output_type": "execute_result"
    }
   ],
   "source": [
    "kmeans = KMeans(3)\n",
    "clusters = kmeans.fit_predict(Z1)\n",
    "clusters"
   ]
  },
  {
   "cell_type": "code",
   "execution_count": 51,
   "metadata": {},
   "outputs": [
    {
     "name": "stdout",
     "output_type": "stream",
     "text": [
      "[[-0.05152793  0.01304575]\n",
      " [ 0.17224828  0.13097291]\n",
      " [ 0.07261769 -0.08960331]]\n"
     ]
    }
   ],
   "source": [
    "print(kmeans.cluster_centers_)  "
   ]
  },
  {
   "cell_type": "code",
   "execution_count": 54,
   "metadata": {},
   "outputs": [
    {
     "data": {
      "image/png": "[encoded data removed]",
      "text/plain": [
       "<matplotlib.figure.Figure at 0x23434f29438>"
      ]
     },
     "metadata": {},
     "output_type": "display_data"
    }
   ],
   "source": [
    "plt.scatter(Z1[:,0],Z1[:,1], c = kmeans.labels_, cmap='rainbow')  \n",
    "plt.scatter(kmeans.cluster_centers_[:,0],kmeans.cluster_centers_[:,1], color='black')  \n",
    "plt.show()"
   ]
  },
  {
   "cell_type": "code",
   "execution_count": null,
   "metadata": {
    "collapsed": true
   },
   "outputs": [],
   "source": []
  }
 ],
 "metadata": {
  "kernelspec": {
   "display_name": "Python 3",
   "language": "python",
   "name": "python3"
  },
  "language_info": {
   "codemirror_mode": {
    "name": "ipython",
    "version": 3
   },
   "file_extension": ".py",
   "mimetype": "text/x-python",
   "name": "python",
   "nbconvert_exporter": "python",
   "pygments_lexer": "ipython3",
   "version": "3.6.3"
  }
 },
 "nbformat": 4,
 "nbformat_minor": 2
}
