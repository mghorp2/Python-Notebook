{
 "cells": [
  {
   "cell_type": "markdown",
   "metadata": {},
   "source": [
    "# Lecture-1 Notebook\n",
    "\n",
    "Welcome to the Advanced Text Analysis for Business (IDS-566). In this notobook, we breifly introduce Python and Numpy package.\n",
    "\n",
    "## Writing the first code:"
   ]
  },
  {
   "cell_type": "code",
   "execution_count": 2,
   "metadata": {},
   "outputs": [
    {
     "name": "stdout",
     "output_type": "stream",
     "text": [
      "Hello world!\n"
     ]
    }
   ],
   "source": [
    "print(\"Hello world!\")"
   ]
  },
  {
   "cell_type": "markdown",
   "metadata": {},
   "source": [
    "## First text mining code:"
   ]
  },
  {
   "cell_type": "code",
   "execution_count": 2,
   "metadata": {},
   "outputs": [
    {
     "name": "stdout",
     "output_type": "stream",
     "text": [
      "['Hello', 'world!']\n"
     ]
    }
   ],
   "source": [
    "string = \"Hello world!\"\n",
    "words = string.split(' ')\n",
    "print(words)"
   ]
  },
  {
   "cell_type": "markdown",
   "metadata": {},
   "source": [
    "## Working with list and string:"
   ]
  },
  {
   "cell_type": "code",
   "execution_count": 3,
   "metadata": {},
   "outputs": [
    {
     "data": {
      "text/plain": [
       "'world!'"
      ]
     },
     "execution_count": 3,
     "metadata": {},
     "output_type": "execute_result"
    }
   ],
   "source": [
    "words[1]"
   ]
  },
  {
   "cell_type": "code",
   "execution_count": 4,
   "metadata": {},
   "outputs": [
    {
     "data": {
      "text/plain": [
       "['hello', 'world']"
      ]
     },
     "execution_count": 4,
     "metadata": {},
     "output_type": "execute_result"
    }
   ],
   "source": [
    "words[1] = words[1][:5]\n",
    "words[0] = words[0].lower()\n",
    "words"
   ]
  },
  {
   "cell_type": "code",
   "execution_count": 25,
   "metadata": {},
   "outputs": [
    {
     "data": {
      "text/plain": [
       "['hello', 'world', '2018']"
      ]
     },
     "execution_count": 25,
     "metadata": {},
     "output_type": "execute_result"
    }
   ],
   "source": [
    "words.append('2018')\n",
    "words"
   ]
  },
  {
   "cell_type": "code",
   "execution_count": 7,
   "metadata": {},
   "outputs": [
    {
     "data": {
      "text/plain": [
       "['my', 'my', 'my', 'hello', 'world']"
      ]
     },
     "execution_count": 7,
     "metadata": {},
     "output_type": "execute_result"
    }
   ],
   "source": [
    "words.insert(1, 'my')\n",
    "words"
   ]
  },
  {
   "cell_type": "markdown",
   "metadata": {},
   "source": [
    "## Loop, iteration, range, enumerator:"
   ]
  },
  {
   "cell_type": "code",
   "execution_count": 8,
   "metadata": {},
   "outputs": [
    {
     "name": "stdout",
     "output_type": "stream",
     "text": [
      "0: my\n",
      "1: my\n",
      "2: my\n",
      "3: hello\n",
      "4: world\n"
     ]
    }
   ],
   "source": [
    "for i in range(len(words)):\n",
    "    print(\"%d: %s\" % (i, words[i]))"
   ]
  },
  {
   "cell_type": "code",
   "execution_count": 9,
   "metadata": {
    "scrolled": true
   },
   "outputs": [
    {
     "name": "stdout",
     "output_type": "stream",
     "text": [
      "my\n",
      "my\n",
      "my\n",
      "hello\n",
      "world\n"
     ]
    }
   ],
   "source": [
    "for word in words:\n",
    "    print(word)"
   ]
  },
  {
   "cell_type": "code",
   "execution_count": 12,
   "metadata": {},
   "outputs": [
    {
     "name": "stdout",
     "output_type": "stream",
     "text": [
      "0: my\n",
      "1: my\n",
      "2: my\n",
      "3: hello\n",
      "4: world\n",
      "OK\n"
     ]
    }
   ],
   "source": [
    "for i, word in enumerate(words):\n",
    "    print(\"%d: %s\" % (i, words[i]))\n",
    "print(\"OK\")"
   ]
  },
  {
   "cell_type": "markdown",
   "metadata": {},
   "source": [
    "## Conditions:"
   ]
  },
  {
   "cell_type": "code",
   "execution_count": 13,
   "metadata": {},
   "outputs": [
    {
     "name": "stdout",
     "output_type": "stream",
     "text": [
      "2\n"
     ]
    }
   ],
   "source": [
    "count = 0\n",
    "for word in words:\n",
    "    if len(word) > 2:\n",
    "        count += 1\n",
    "print(count)"
   ]
  },
  {
   "cell_type": "code",
   "execution_count": 14,
   "metadata": {
    "scrolled": true
   },
   "outputs": [
    {
     "name": "stdout",
     "output_type": "stream",
     "text": [
      "Short word: my\n",
      "Short word: my\n",
      "Short word: my\n",
      "2\n"
     ]
    }
   ],
   "source": [
    "count = 0\n",
    "for word in words:\n",
    "    if len(word) > 2:\n",
    "        count += 1\n",
    "    else:\n",
    "        print(\"Short word: %s\" % word)\n",
    "print(count)"
   ]
  },
  {
   "cell_type": "markdown",
   "metadata": {},
   "source": [
    "## Functions:"
   ]
  },
  {
   "cell_type": "code",
   "execution_count": 16,
   "metadata": {},
   "outputs": [
    {
     "name": "stdout",
     "output_type": "stream",
     "text": [
      "5\n",
      "2\n"
     ]
    }
   ],
   "source": [
    "def countWords(words, min_length):\n",
    "    count = 0\n",
    "    for word in words:\n",
    "        if len(word) >= min_length:\n",
    "            count += 1\n",
    "    return count\n",
    "\n",
    "print(countWords(words, 2))\n",
    "print(countWords(words, 4))\n",
    "        "
   ]
  },
  {
   "cell_type": "markdown",
   "metadata": {},
   "source": [
    "# Numpy arrays:\n",
    "\n",
    "Native Python arrays are actually a linked list, and supports any data types. For scientific use, we often need high performance numeric arrays with linear algebra operations. To do that, we need Numpy package. Them key differences between numpy array and python arrays are as following:\n",
    "\n",
    "1. Python array are stored as list, but Numpy arrays are C-like array.\n",
    "2. Python arrays do not have data type, but Numpy arrays have data type.\n",
    "3. Numpy arrays have easier indexing.\n",
    "4. Numpy uses linear algebra acceleration (e.g. BLAS).\n",
    "\n",
    "## Converting to numpy array:"
   ]
  },
  {
   "cell_type": "code",
   "execution_count": 17,
   "metadata": {},
   "outputs": [
    {
     "name": "stdout",
     "output_type": "stream",
     "text": [
      "[ 1  2 -1 -2]\n",
      "int32\n"
     ]
    }
   ],
   "source": [
    "import numpy as np\n",
    "\n",
    "python_array = [1, 2, -1, -2]\n",
    "numpy_array = np.array(python_array)\n",
    "\n",
    "print(numpy_array)\n",
    "print(numpy_array.dtype)"
   ]
  },
  {
   "cell_type": "code",
   "execution_count": 37,
   "metadata": {},
   "outputs": [
    {
     "name": "stdout",
     "output_type": "stream",
     "text": [
      "float64\n"
     ]
    }
   ],
   "source": [
    "Arr = np.array([1, 2.5, 3])\n",
    "print(Arr.dtype)"
   ]
  },
  {
   "cell_type": "code",
   "execution_count": 38,
   "metadata": {},
   "outputs": [
    {
     "name": "stdout",
     "output_type": "stream",
     "text": [
      "['1' '0.2' 'test']\n",
      "<U32\n"
     ]
    }
   ],
   "source": [
    "Arr = np.array([1, .2, 'test'])\n",
    "print(Arr)\n",
    "print(Arr.dtype)"
   ]
  },
  {
   "cell_type": "code",
   "execution_count": 39,
   "metadata": {},
   "outputs": [
    {
     "name": "stdout",
     "output_type": "stream",
     "text": [
      "[1 0.2 'test']\n",
      "object\n"
     ]
    }
   ],
   "source": [
    "Arr = np.array([1, .2, 'test'], dtype = 'object')\n",
    "print(Arr)\n",
    "print(Arr.dtype)"
   ]
  },
  {
   "cell_type": "markdown",
   "metadata": {},
   "source": [
    "## 2D arrays, shape, reshape:"
   ]
  },
  {
   "cell_type": "code",
   "execution_count": 18,
   "metadata": {},
   "outputs": [
    {
     "name": "stdout",
     "output_type": "stream",
     "text": [
      "[[1 2 3]\n",
      " [4 5 6]]\n",
      "(2, 3)\n"
     ]
    }
   ],
   "source": [
    "A = np.array([[1, 2, 3], [4, 5, 6]])\n",
    "print(A)\n",
    "print(A.shape)"
   ]
  },
  {
   "cell_type": "code",
   "execution_count": 43,
   "metadata": {},
   "outputs": [
    {
     "name": "stdout",
     "output_type": "stream",
     "text": [
      "[[1 2]\n",
      " [3 4]\n",
      " [5 6]]\n"
     ]
    }
   ],
   "source": [
    "print(A.reshape(3, 2))"
   ]
  },
  {
   "cell_type": "code",
   "execution_count": 19,
   "metadata": {},
   "outputs": [
    {
     "data": {
      "text/plain": [
       "array([1, 2, 3, 4, 5, 6])"
      ]
     },
     "execution_count": 19,
     "metadata": {},
     "output_type": "execute_result"
    }
   ],
   "source": [
    "A.flatten()"
   ]
  },
  {
   "cell_type": "code",
   "execution_count": 20,
   "metadata": {},
   "outputs": [
    {
     "ename": "ValueError",
     "evalue": "total size of new array must be unchanged",
     "output_type": "error",
     "traceback": [
      "\u001b[0;31m---------------------------------------------------------------------------\u001b[0m",
      "\u001b[0;31mValueError\u001b[0m                                Traceback (most recent call last)",
      "\u001b[0;32m<ipython-input-20-30d2426e0663>\u001b[0m in \u001b[0;36m<module>\u001b[0;34m()\u001b[0m\n\u001b[0;32m----> 1\u001b[0;31m \u001b[0mA\u001b[0m\u001b[1;33m.\u001b[0m\u001b[0mreshape\u001b[0m\u001b[1;33m(\u001b[0m\u001b[1;36m2\u001b[0m\u001b[1;33m,\u001b[0m \u001b[1;36m4\u001b[0m\u001b[1;33m)\u001b[0m\u001b[1;33m\u001b[0m\u001b[0m\n\u001b[0m",
      "\u001b[0;31mValueError\u001b[0m: total size of new array must be unchanged"
     ]
    }
   ],
   "source": [
    "A.reshape(2, 4)"
   ]
  },
  {
   "cell_type": "code",
   "execution_count": 21,
   "metadata": {},
   "outputs": [
    {
     "data": {
      "text/plain": [
       "array([[1, 2], [3, 4, 5]], dtype=object)"
      ]
     },
     "execution_count": 21,
     "metadata": {},
     "output_type": "execute_result"
    }
   ],
   "source": [
    "np.array([[1,2], [3, 4, 5]])"
   ]
  },
  {
   "cell_type": "markdown",
   "metadata": {},
   "source": [
    "## range, random arrays:"
   ]
  },
  {
   "cell_type": "code",
   "execution_count": 23,
   "metadata": {},
   "outputs": [
    {
     "data": {
      "text/plain": [
       "array([ 0,  1,  2,  3,  4,  5,  6,  7,  8,  9, 10, 11, 12, 13, 14, 15, 16,\n",
       "       17, 18, 19])"
      ]
     },
     "execution_count": 23,
     "metadata": {},
     "output_type": "execute_result"
    }
   ],
   "source": [
    "np.arange(20)"
   ]
  },
  {
   "cell_type": "code",
   "execution_count": 24,
   "metadata": {},
   "outputs": [
    {
     "data": {
      "text/plain": [
       "array([[0, 1, 2, 3],\n",
       "       [4, 5, 6, 7]])"
      ]
     },
     "execution_count": 24,
     "metadata": {},
     "output_type": "execute_result"
    }
   ],
   "source": [
    "np.arange(8).reshape(2, 4)"
   ]
  },
  {
   "cell_type": "code",
   "execution_count": 25,
   "metadata": {},
   "outputs": [
    {
     "data": {
      "text/plain": [
       "array([[ 0.87879543,  0.13461274,  0.20143099,  0.71565623],\n",
       "       [ 0.80320061,  0.58192248,  0.42244339,  0.94013833],\n",
       "       [ 0.37409556,  0.35205163,  0.89895095,  0.377153  ]])"
      ]
     },
     "execution_count": 25,
     "metadata": {},
     "output_type": "execute_result"
    }
   ],
   "source": [
    "np.random.rand(3, 4)"
   ]
  },
  {
   "cell_type": "code",
   "execution_count": 40,
   "metadata": {},
   "outputs": [
    {
     "data": {
      "text/plain": [
       "array([[5, 9, 6],\n",
       "       [5, 8, 5]])"
      ]
     },
     "execution_count": 40,
     "metadata": {},
     "output_type": "execute_result"
    }
   ],
   "source": [
    "np.random.randint(5, 10, size = (2,3))"
   ]
  },
  {
   "cell_type": "code",
   "execution_count": 59,
   "metadata": {},
   "outputs": [
    {
     "data": {
      "text/plain": [
       "array([[1, 0, 8],\n",
       "       [3, 3, 9]])"
      ]
     },
     "execution_count": 59,
     "metadata": {},
     "output_type": "execute_result"
    }
   ],
   "source": [
    "np.random.randint(10, size = (2, 3))"
   ]
  },
  {
   "cell_type": "markdown",
   "metadata": {},
   "source": [
    "## Vector operation and aggregate:"
   ]
  },
  {
   "cell_type": "code",
   "execution_count": 41,
   "metadata": {
    "scrolled": true
   },
   "outputs": [
    {
     "name": "stdout",
     "output_type": "stream",
     "text": [
      "[0 1 2 3 4]\n",
      "10\n",
      "2.0\n",
      "2.0\n",
      "1.41421356237\n",
      "4\n",
      "2\n",
      "1\n"
     ]
    }
   ],
   "source": [
    "A = np.arange(5)\n",
    "print(A)\n",
    "\n",
    "#Aggregation:\n",
    "print(A.sum())\n",
    "print(A.mean())\n",
    "print(np.mean(A))\n",
    "print(A.std())  #Standard deviation\n",
    "print(A.max())\n",
    "\n",
    "B = np.array([1, 3, -2, 0])\n",
    "print(B.argmin())\n",
    "print(B.argmax())\n"
   ]
  },
  {
   "cell_type": "code",
   "execution_count": 45,
   "metadata": {},
   "outputs": [
    {
     "name": "stdout",
     "output_type": "stream",
     "text": [
      "[2 3 4 5 6]\n",
      "[ 0.   0.5  1.   1.5  2. ]\n",
      "[ 0  1  4  9 16]\n"
     ]
    }
   ],
   "source": [
    "#Vector operations\n",
    "print(A + 2)\n",
    "print(A / 2)\n",
    "print(A ** 2)"
   ]
  },
  {
   "cell_type": "code",
   "execution_count": 51,
   "metadata": {},
   "outputs": [
    {
     "name": "stdout",
     "output_type": "stream",
     "text": [
      "[0 1 2 3 4]\n",
      "[ 0.27879607  0.91183822  0.84149066  0.88594659  0.23352351]\n",
      "[ 0.          0.91183822  1.68298132  2.65783978  0.93409402]\n",
      "6.18675335024\n",
      "6.18675335024\n"
     ]
    }
   ],
   "source": [
    "print(A)\n",
    "B = np.random.rand(5)\n",
    "print(B)\n",
    "#print(A - B)\n",
    "print(A * B)\n",
    "print(A.dot(B))  #dot product\n",
    "print((A * B).sum())"
   ]
  },
  {
   "cell_type": "markdown",
   "metadata": {},
   "source": [
    "## Matrix (2D arrays) operation and aggregate:"
   ]
  },
  {
   "cell_type": "code",
   "execution_count": 56,
   "metadata": {},
   "outputs": [
    {
     "name": "stdout",
     "output_type": "stream",
     "text": [
      "[[0 1 2]\n",
      " [3 4 5]]\n",
      "[[-3 -2 -1]\n",
      " [ 0  1  2]]\n",
      "[[ 0 -2 -2]\n",
      " [ 0  4 10]]\n",
      "[[-3  0]\n",
      " [-2  1]\n",
      " [-1  2]]\n"
     ]
    }
   ],
   "source": [
    "A = np.arange(6).reshape(2, 3)\n",
    "B = A - 3\n",
    "print(A)\n",
    "print(B)\n",
    "print(A * B)  #elementwise\n",
    "print(B.T) #Transpose"
   ]
  },
  {
   "cell_type": "markdown",
   "metadata": {},
   "source": [
    "## Linear Algebra"
   ]
  },
  {
   "cell_type": "code",
   "execution_count": 57,
   "metadata": {},
   "outputs": [
    {
     "ename": "ValueError",
     "evalue": "shapes (2,3) and (2,3) not aligned: 3 (dim 1) != 2 (dim 0)",
     "output_type": "error",
     "traceback": [
      "\u001b[0;31m---------------------------------------------------------------------------\u001b[0m",
      "\u001b[0;31mValueError\u001b[0m                                Traceback (most recent call last)",
      "\u001b[0;32m<ipython-input-57-95d9e36b0957>\u001b[0m in \u001b[0;36m<module>\u001b[0;34m()\u001b[0m\n\u001b[0;32m----> 1\u001b[0;31m \u001b[0mprint\u001b[0m\u001b[1;33m(\u001b[0m\u001b[0mA\u001b[0m\u001b[1;33m.\u001b[0m\u001b[0mdot\u001b[0m\u001b[1;33m(\u001b[0m\u001b[0mB\u001b[0m\u001b[1;33m)\u001b[0m\u001b[1;33m)\u001b[0m\u001b[1;33m\u001b[0m\u001b[0m\n\u001b[0m",
      "\u001b[0;31mValueError\u001b[0m: shapes (2,3) and (2,3) not aligned: 3 (dim 1) != 2 (dim 0)"
     ]
    }
   ],
   "source": [
    "print(A.dot(B))"
   ]
  },
  {
   "cell_type": "code",
   "execution_count": 59,
   "metadata": {},
   "outputs": [
    {
     "name": "stdout",
     "output_type": "stream",
     "text": [
      "[[ -4   5]\n",
      " [-22  14]]\n",
      "[[ -4 -22]\n",
      " [  5  14]]\n"
     ]
    }
   ],
   "source": [
    "print(A.dot(B.T))  # A * B.T\n",
    "print(B.dot(A.T))  # B * A.T"
   ]
  },
  {
   "cell_type": "code",
   "execution_count": 63,
   "metadata": {},
   "outputs": [
    {
     "name": "stdout",
     "output_type": "stream",
     "text": [
      "[[ 127.39455585  125.63007572  125.01040488 ...,  125.45175183\n",
      "   125.64744703  134.84916288]\n",
      " [ 124.05625284  123.26905761  123.33971451 ...,  115.87421635\n",
      "   122.64249421  127.72426276]\n",
      " [ 123.87009351  123.8312898   125.08903617 ...,  115.12056079\n",
      "   121.59532233  126.50819559]\n",
      " ..., \n",
      " [ 127.11707236  125.67283194  126.37056026 ...,  118.52541496\n",
      "   129.66722772  131.04179351]\n",
      " [ 126.66779404  123.69272508  126.90589071 ...,  114.29574977\n",
      "   123.99109853  127.0239517 ]\n",
      " [ 127.16675108  120.49753565  122.95111647 ...,  117.24785641\n",
      "   119.57861591  124.46563858]]\n"
     ]
    }
   ],
   "source": [
    "A = np.random.rand(10000, 500)\n",
    "B = np.random.rand(500, 20000)\n",
    "C = A.dot(B)\n",
    "print(C)"
   ]
  },
  {
   "cell_type": "markdown",
   "metadata": {},
   "source": []
  },
  {
   "cell_type": "code",
   "execution_count": 84,
   "metadata": {},
   "outputs": [
    {
     "name": "stdout",
     "output_type": "stream",
     "text": [
      "[[ 0.6075515   0.57036771  0.2976692 ]\n",
      " [ 0.60328874  0.11283098  0.64636268]\n",
      " [ 0.15461933  0.50512794  0.48026332]]\n",
      "[[ 1.44708118  0.65664623 -1.78065466]\n",
      " [ 1.00861094 -1.3060013   1.13254138]\n",
      " [-1.52671306  1.1622115   1.46429115]]\n",
      "[[  1.00000000e+00   3.16940887e-17   1.65261681e-18]\n",
      " [  3.80263890e-17   1.00000000e+00  -2.44101244e-16]\n",
      " [  6.87789406e-17  -5.21046153e-18   1.00000000e+00]]\n"
     ]
    }
   ],
   "source": [
    "A = np.random.rand(3, 3)\n",
    "print(A)\n",
    "B = np.linalg.inv(A)\n",
    "print(B)\n",
    "print(A.dot(B))"
   ]
  },
  {
   "cell_type": "code",
   "execution_count": 90,
   "metadata": {},
   "outputs": [
    {
     "name": "stdout",
     "output_type": "stream",
     "text": [
      "[[-0.05688694  0.05371249 -0.12788673 ..., -0.0975473  -0.03142685\n",
      "   0.0097626 ]\n",
      " [-0.05668036  0.07794958 -0.02080776 ..., -0.08944505 -0.05264068\n",
      "  -0.06491229]\n",
      " [-0.05844318 -0.04188924  0.09916708 ..., -0.02716486  0.00667871\n",
      "  -0.07119172]\n",
      " ..., \n",
      " [-0.05838081  0.05562436 -0.00716731 ..., -0.03665422  0.09955933\n",
      "   0.02862135]\n",
      " [-0.05692956  0.06062    -0.01995323 ...,  0.05754556 -0.00626702\n",
      "   0.10998221]\n",
      " [-0.05815861  0.05271489  0.06940902 ...,  0.04527809  0.01978252\n",
      "  -0.02715131]]\n"
     ]
    }
   ],
   "source": [
    "A = np.random.rand(1000, 300)\n",
    "\n",
    "U, S, Vt = np.linalg.svd(A)\n",
    "print(Vt.T)"
   ]
  },
  {
   "cell_type": "markdown",
   "metadata": {},
   "source": [
    "## Indexing arrays:"
   ]
  },
  {
   "cell_type": "code",
   "execution_count": 98,
   "metadata": {},
   "outputs": [
    {
     "name": "stdout",
     "output_type": "stream",
     "text": [
      "[[0 1]\n",
      " [2 3]\n",
      " [4 5]]\n",
      "[5 3 1]\n"
     ]
    }
   ],
   "source": [
    "A = np.arange(6).reshape(3, 2)\n",
    "print(A)\n",
    "#print(A[2, 1]) # Row 2, Col 1\n",
    "#print(A[1]) #Row 1\n",
    "#print(A[:, 1]) #Col 1\n",
    "print(A[:, 1][::-1])"
   ]
  },
  {
   "cell_type": "code",
   "execution_count": 103,
   "metadata": {},
   "outputs": [
    {
     "data": {
      "text/plain": [
       "[7, 8, 7, 3, 2, 1]"
      ]
     },
     "execution_count": 103,
     "metadata": {},
     "output_type": "execute_result"
    }
   ],
   "source": [
    "C = [1 ,2,3,7, 8,7]\n",
    "C[::-1]"
   ]
  },
  {
   "cell_type": "code",
   "execution_count": 109,
   "metadata": {},
   "outputs": [
    {
     "name": "stdout",
     "output_type": "stream",
     "text": [
      "[1 5 9]\n"
     ]
    }
   ],
   "source": [
    "# print(A[:, 0].sum())\n",
    "#print(A.sum(axis = 0))\n",
    "print(A.sum(1))"
   ]
  },
  {
   "cell_type": "code",
   "execution_count": 128,
   "metadata": {},
   "outputs": [
    {
     "name": "stdout",
     "output_type": "stream",
     "text": [
      "[[ 0.17473078  0.30381352  0.13721553  0.10502591  0.27921426]\n",
      " [ 0.11112956  0.32180278  0.09151188  0.41614682  0.05940896]\n",
      " [ 0.1481643   0.25746978  0.23788196  0.20463017  0.15185379]\n",
      " [ 0.19655799  0.33047437  0.34284808  0.08374387  0.04637569]\n",
      " [ 0.12477829  0.00329711  0.2628075   0.37099159  0.2381255 ]\n",
      " [ 0.33416014  0.00646095  0.47319436  0.15590688  0.03027767]\n",
      " [ 0.08877394  0.28651163  0.23281043  0.02658308  0.36532092]\n",
      " [ 0.31057515  0.13202265  0.14645396  0.3369764   0.07397184]\n",
      " [ 0.21825602  0.09499635  0.1946594   0.27680231  0.21528591]\n",
      " [ 0.01180068  0.2571863   0.31392201  0.07208818  0.34500283]]\n",
      "[1 3 1 2 3 2 4 3 3 4]\n"
     ]
    }
   ],
   "source": [
    "A = np.random.rand(10, 5)\n",
    "S = A.sum(1).reshape(-1, 1)\n",
    "#print(S)\n",
    "B = A / S\n",
    "print(B)\n",
    "print(B.argmax(1))"
   ]
  },
  {
   "cell_type": "markdown",
   "metadata": {},
   "source": [
    "# Adding plots with matplotlib"
   ]
  },
  {
   "cell_type": "code",
   "execution_count": 132,
   "metadata": {},
   "outputs": [
    {
     "data": {
      "image/png": "[encoded data removed]",
      "text/plain": [
       "<matplotlib.figure.Figure at 0x91aaa90>"
      ]
     },
     "metadata": {},
     "output_type": "display_data"
    }
   ],
   "source": [
    "import matplotlib\n",
    "import matplotlib.pyplot as plt\n",
    "%matplotlib inline\n",
    "\n",
    "data = [2, 3, 2, 1, 4, 6]\n",
    "plt.plot(data)\n",
    "plt.title('My first plot')\n",
    "plt.xlabel('Age')\n",
    "plt.ylabel('y')\n",
    "plt.show()"
   ]
  },
  {
   "cell_type": "code",
   "execution_count": 135,
   "metadata": {},
   "outputs": [
    {
     "data": {
      "image/png": "[encoded data removed]",
      "text/plain": [
       "<matplotlib.figure.Figure at 0x91dd0f0>"
      ]
     },
     "metadata": {},
     "output_type": "display_data"
    }
   ],
   "source": [
    "%matplotlib inline\n",
    "X = np.arange(20)\n",
    "Y = X ** 2\n",
    "plt.plot(X, Y)\n",
    "plt.title('My second plot')\n",
    "plt.xlabel('X')\n",
    "plt.ylabel('Y')\n",
    "plt.show()"
   ]
  },
  {
   "cell_type": "code",
   "execution_count": 149,
   "metadata": {},
   "outputs": [
    {
     "data": {
      "image/png": "[encoded data removed]",
      "text/plain": [
       "<matplotlib.figure.Figure at 0xadb7f60>"
      ]
     },
     "metadata": {},
     "output_type": "display_data"
    }
   ],
   "source": [
    "%matplotlib inline\n",
    "X = np.arange(30)\n",
    "Y = X ** 2\n",
    "Z = X ** 3\n",
    "plt.plot(X, Y, 'r*-', label = 'square')\n",
    "plt.plot(X, Z, 'y+-', label = 'Cubic')\n",
    "plt.title('My second plot')\n",
    "plt.legend(loc = 'upper center')\n",
    "plt.show()"
   ]
  },
  {
   "cell_type": "markdown",
   "metadata": {},
   "source": [
    "# Json"
   ]
  },
  {
   "cell_type": "code",
   "execution_count": 153,
   "metadata": {},
   "outputs": [
    {
     "name": "stdout",
     "output_type": "stream",
     "text": [
      "{'age': 20, 'tweet': {0: 'my first tweet', 1: 'my second tweet'}, 'name': 'David'}\n"
     ]
    }
   ],
   "source": [
    "my_dict = {'name': 'David', 'age': 20, 'tweet':{0: 'my first tweet', 1: 'my second tweet'}}\n",
    "\n",
    "print(my_dict)"
   ]
  },
  {
   "cell_type": "code",
   "execution_count": 155,
   "metadata": {},
   "outputs": [
    {
     "name": "stdout",
     "output_type": "stream",
     "text": [
      "{\"age\": 20, \"tweet\": {\"0\": \"my first tweet\", \"1\": \"my second tweet\"}, \"name\": \"David\"}\n"
     ]
    }
   ],
   "source": [
    "import json\n",
    "\n",
    "js = json.dumps(my_dict)\n",
    "print(js)"
   ]
  },
  {
   "cell_type": "code",
   "execution_count": 156,
   "metadata": {},
   "outputs": [
    {
     "data": {
      "text/plain": [
       "{'age': 20,\n",
       " 'name': 'David',\n",
       " 'tweet': {'0': 'my first tweet', '1': 'my second tweet'}}"
      ]
     },
     "execution_count": 156,
     "metadata": {},
     "output_type": "execute_result"
    }
   ],
   "source": [
    "json.loads(js)"
   ]
  },
  {
   "cell_type": "markdown",
   "metadata": {},
   "source": [
    "# Advanced list proccessing"
   ]
  },
  {
   "cell_type": "code",
   "execution_count": 177,
   "metadata": {},
   "outputs": [
    {
     "data": {
      "text/plain": [
       "'Sen. Bernie Sanders responds to OMB Dir. Mick Mulvaney quoting Sanders from 2013, \\nwhen the Vermont senator blamed the government shutdown on House Republicans: \"This is a little bit different\"'"
      ]
     },
     "execution_count": 177,
     "metadata": {},
     "output_type": "execute_result"
    }
   ],
   "source": [
    "text = '''Sen. Bernie Sanders responds to OMB Dir. Mick Mulvaney quoting Sanders from 2013, \n",
    "when the Vermont senator blamed the government shutdown on House Republicans: \"This is a little bit different\"'''\n",
    "\n",
    "text"
   ]
  },
  {
   "cell_type": "code",
   "execution_count": 178,
   "metadata": {},
   "outputs": [
    {
     "name": "stdout",
     "output_type": "stream",
     "text": [
      "['Sen.', 'Bernie', 'Sanders', 'responds', 'to', 'OMB', 'Dir.', 'Mick', 'Mulvaney', 'quoting', 'Sanders', 'from', '2013,', '\\nwhen', 'the', 'Vermont', 'senator', 'blamed', 'the', 'government', 'shutdown', 'on', 'House', 'Republicans:', '\"This', 'is', 'a', 'little', 'bit', 'different\"']\n",
      "30\n"
     ]
    }
   ],
   "source": [
    "words = text.split(' ')\n",
    "\n",
    "print(words)\n",
    "print(len(words))"
   ]
  },
  {
   "cell_type": "code",
   "execution_count": 172,
   "metadata": {},
   "outputs": [
    {
     "name": "stdout",
     "output_type": "stream",
     "text": [
      "['sen.', 'bernie', 'sanders', 'responds', 'to', 'omb', 'dir.', 'mick', 'mulvaney', 'quoting', 'sanders', 'from', '2013,', '\\nwhen', 'the', 'vermont', 'senator', 'blamed', 'the', 'government', 'shutdown', 'on', 'house', 'republicans:', '\"this', 'is', 'a', 'little', 'bit', 'different\"']\n"
     ]
    }
   ],
   "source": [
    "for i in range(len(words)):\n",
    "    words[i] = words[i].lower()\n",
    "    \n",
    "print(words)"
   ]
  },
  {
   "cell_type": "code",
   "execution_count": 166,
   "metadata": {},
   "outputs": [
    {
     "name": "stdout",
     "output_type": "stream",
     "text": [
      "['sen.', 'bernie', 'sanders', 'responds', 'to', 'omb', 'dir.', 'mick', 'mulvaney', 'quoting', 'sanders', 'from', '2013,', '\\nwhen', 'the', 'vermont', 'senator', 'blamed', 'the', 'government', 'shutdown', 'on', 'house', 'republicans:', '\"this', 'is', 'a', 'little', 'bit', 'different\"']\n"
     ]
    }
   ],
   "source": [
    "words = [x.lower() for x in words]\n",
    "\n",
    "print(words)"
   ]
  },
  {
   "cell_type": "code",
   "execution_count": 169,
   "metadata": {},
   "outputs": [
    {
     "name": "stdout",
     "output_type": "stream",
     "text": [
      "28\n"
     ]
    }
   ],
   "source": [
    "Unique_words = set(words)\n",
    "\n",
    "print(len(Unique_words))"
   ]
  },
  {
   "cell_type": "code",
   "execution_count": 171,
   "metadata": {},
   "outputs": [
    {
     "name": "stdout",
     "output_type": "stream",
     "text": [
      "['\\nwhen' '\"this' '2013,' 'a' 'bernie' 'bit' 'blamed' 'different\"' 'dir.'\n",
      " 'from' 'government' 'house' 'is' 'little' 'mick' 'mulvaney' 'omb' 'on'\n",
      " 'quoting' 'republicans:' 'responds' 'sanders' 'sen.' 'senator' 'shutdown'\n",
      " 'the' 'to' 'vermont']\n"
     ]
    }
   ],
   "source": [
    "A = np.unique(words)\n",
    "\n",
    "print(A)"
   ]
  },
  {
   "cell_type": "code",
   "execution_count": 174,
   "metadata": {},
   "outputs": [
    {
     "name": "stdout",
     "output_type": "stream",
     "text": [
      "{'different\"', 'is', 'mulvaney', 'the', 'republicans:', 'to', 'bit', 'sanders', 'government', 'omb', 'senator', '\"this', 'sen.', '2013,', 'vermont', 'bernie', 'house', 'quoting', 'mick', 'little', 'a', 'blamed', 'on', 'responds', 'dir.', 'shutdown', 'from', '\\nwhen'}\n"
     ]
    }
   ],
   "source": [
    "B = {x for x in words}\n",
    "\n",
    "print(B)"
   ]
  },
  {
   "cell_type": "code",
   "execution_count": 179,
   "metadata": {},
   "outputs": [
    {
     "data": {
      "text/plain": [
       "{'\\nwhen': '\\nwhen',\n",
       " '\"This': '\"this',\n",
       " '2013,': '2013,',\n",
       " 'Bernie': 'bernie',\n",
       " 'Dir.': 'dir.',\n",
       " 'House': 'house',\n",
       " 'Mick': 'mick',\n",
       " 'Mulvaney': 'mulvaney',\n",
       " 'OMB': 'omb',\n",
       " 'Republicans:': 'republicans:',\n",
       " 'Sanders': 'sanders',\n",
       " 'Sen.': 'sen.',\n",
       " 'Vermont': 'vermont',\n",
       " 'a': 'a',\n",
       " 'bit': 'bit',\n",
       " 'blamed': 'blamed',\n",
       " 'different\"': 'different\"',\n",
       " 'from': 'from',\n",
       " 'government': 'government',\n",
       " 'is': 'is',\n",
       " 'little': 'little',\n",
       " 'on': 'on',\n",
       " 'quoting': 'quoting',\n",
       " 'responds': 'responds',\n",
       " 'senator': 'senator',\n",
       " 'shutdown': 'shutdown',\n",
       " 'the': 'the',\n",
       " 'to': 'to'}"
      ]
     },
     "execution_count": 179,
     "metadata": {},
     "output_type": "execute_result"
    }
   ],
   "source": [
    "C = {x:x.lower() for x in words}\n",
    "C"
   ]
  }
 ],
 "metadata": {
  "kernelspec": {
   "display_name": "Python 3",
   "language": "python",
   "name": "python3"
  },
  "language_info": {
   "codemirror_mode": {
    "name": "ipython",
    "version": 3
   },
   "file_extension": ".py",
   "mimetype": "text/x-python",
   "name": "python",
   "nbconvert_exporter": "python",
   "pygments_lexer": "ipython3",
   "version": "3.6.3"
  }
 },
 "nbformat": 4,
 "nbformat_minor": 1
}
