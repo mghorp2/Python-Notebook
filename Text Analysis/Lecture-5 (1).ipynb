{
 "cells": [
  {
   "cell_type": "markdown",
   "metadata": {},
   "source": [
    "# Introduction to deep learning\n",
    "\n",
    "## Using keras package:\n",
    "\n",
    "Open a shell and install Keras.\n",
    "\n",
    "For anaconda: conda install keras\n",
    "\n",
    "For standard python: pip install keras"
   ]
  },
  {
   "cell_type": "code",
   "execution_count": 2,
   "metadata": {},
   "outputs": [
    {
     "name": "stderr",
     "output_type": "stream",
     "text": [
      "Using TensorFlow backend.\n"
     ]
    }
   ],
   "source": [
    "import keras"
   ]
  },
  {
   "cell_type": "markdown",
   "metadata": {},
   "source": [
    "Loading IMDB data:"
   ]
  },
  {
   "cell_type": "code",
   "execution_count": 426,
   "metadata": {
    "collapsed": true
   },
   "outputs": [],
   "source": [
    "import numpy as np\n",
    "import pandas as pd\n",
    "\n",
    "df = pd.read_csv(\"../Lecture-4/labeledTrainData.tsv\", header=0, delimiter=\"\\t\", quoting=0)\n",
    "\n",
    "#First shuffle data\n",
    "df = df.sample(frac=1, random_state= 100)"
   ]
  },
  {
   "cell_type": "markdown",
   "metadata": {},
   "source": [
    "Creating the training and the testing data:"
   ]
  },
  {
   "cell_type": "code",
   "execution_count": 427,
   "metadata": {},
   "outputs": [
    {
     "name": "stdout",
     "output_type": "stream",
     "text": [
      "(20000,) (5000,)\n"
     ]
    }
   ],
   "source": [
    "X_train_text = df['review'][:20000]\n",
    "y_train = df['sentiment'][:20000]\n",
    "#y_train = keras.utils.to_categorical(y_train)\n",
    "X_valid_text = df['review'][20000:]\n",
    "y_valid = df['sentiment'][20000:]\n",
    "\n",
    "print(y_train.shape, y_valid.shape)"
   ]
  },
  {
   "cell_type": "markdown",
   "metadata": {},
   "source": [
    "Vecotizing the data:"
   ]
  },
  {
   "cell_type": "code",
   "execution_count": 428,
   "metadata": {},
   "outputs": [
    {
     "name": "stdout",
     "output_type": "stream",
     "text": [
      "(20000, 16414)\n"
     ]
    }
   ],
   "source": [
    "from sklearn.feature_extraction.text import CountVectorizer, TfidfVectorizer\n",
    "\n",
    "#vect = CountVectorizer(binary = False, min_df = 10)\n",
    "vect = TfidfVectorizer(min_df = 10)\n",
    "\n",
    "X_train = vect.fit_transform(X_train_text)\n",
    "print(X_train.shape)\n",
    "X_valid = vect.transform(X_valid_text)"
   ]
  },
  {
   "cell_type": "markdown",
   "metadata": {},
   "source": [
    "Training logistic regression as the baseline:"
   ]
  },
  {
   "cell_type": "code",
   "execution_count": 429,
   "metadata": {},
   "outputs": [
    {
     "name": "stdout",
     "output_type": "stream",
     "text": [
      "0.8944\n"
     ]
    }
   ],
   "source": [
    "from sklearn.linear_model import LogisticRegression\n",
    "from sklearn.metrics  import accuracy_score\n",
    "\n",
    "LR = LogisticRegression(C = 4.1)\n",
    "LR.fit(X_train, y_train)\n",
    "p_valid = LR.predict(X_valid)\n",
    "print(accuracy_score(y_valid, p_valid))"
   ]
  },
  {
   "cell_type": "markdown",
   "metadata": {},
   "source": [
    "## Creating 2 layers MLP:"
   ]
  },
  {
   "cell_type": "code",
   "execution_count": 76,
   "metadata": {},
   "outputs": [
    {
     "name": "stdout",
     "output_type": "stream",
     "text": [
      "_________________________________________________________________\n",
      "Layer (type)                 Output Shape              Param #   \n",
      "=================================================================\n",
      "dense_28 (Dense)             (None, 32)                525280    \n",
      "_________________________________________________________________\n",
      "dense_29 (Dense)             (None, 1)                 33        \n",
      "=================================================================\n",
      "Total params: 525,313\n",
      "Trainable params: 525,313\n",
      "Non-trainable params: 0\n",
      "_________________________________________________________________\n"
     ]
    }
   ],
   "source": [
    "from keras.models import Sequential\n",
    "from keras.layers import Dense, Activation\n",
    "\n",
    "model = Sequential([\n",
    "    Dense(32, activation = 'relu', input_shape=(X_train.shape[1],)),\n",
    "    Dense(1, activation = 'sigmoid'),\n",
    "])\n",
    "\n",
    "model.summary()"
   ]
  },
  {
   "cell_type": "markdown",
   "metadata": {},
   "source": [
    "Compile the model using SGD with learning rate as .1:"
   ]
  },
  {
   "cell_type": "code",
   "execution_count": 78,
   "metadata": {
    "collapsed": true
   },
   "outputs": [],
   "source": [
    "# For a binary classification problem\n",
    "opt = keras.optimizers.SGD(lr=0.1)\n",
    "model.compile(optimizer=opt, loss='binary_crossentropy', metrics=['accuracy'])"
   ]
  },
  {
   "cell_type": "markdown",
   "metadata": {},
   "source": [
    "Training the model with batch_size = 1024 for 5 epochs:"
   ]
  },
  {
   "cell_type": "code",
   "execution_count": 79,
   "metadata": {},
   "outputs": [
    {
     "name": "stdout",
     "output_type": "stream",
     "text": [
      "Train on 20000 samples, validate on 5000 samples\n",
      "Epoch 1/5\n",
      "20000/20000 [==============================] - 6s 299us/step - loss: 0.0015 - acc: 0.9999 - val_loss: 0.5954 - val_acc: 0.8762\n",
      "Epoch 2/5\n",
      "20000/20000 [==============================] - 5s 262us/step - loss: 0.0015 - acc: 0.9999 - val_loss: 0.5958 - val_acc: 0.8762\n",
      "Epoch 3/5\n",
      "20000/20000 [==============================] - 6s 279us/step - loss: 0.0015 - acc: 0.9999 - val_loss: 0.5962 - val_acc: 0.8762\n",
      "Epoch 4/5\n",
      "20000/20000 [==============================] - 5s 274us/step - loss: 0.0015 - acc: 0.9999 - val_loss: 0.5966 - val_acc: 0.8762\n",
      "Epoch 5/5\n",
      "20000/20000 [==============================] - 5s 262us/step - loss: 0.0015 - acc: 0.9999 - val_loss: 0.5971 - val_acc: 0.8760\n"
     ]
    },
    {
     "data": {
      "text/plain": [
       "<keras.callbacks.History at 0x2360ae07a90>"
      ]
     },
     "execution_count": 79,
     "metadata": {},
     "output_type": "execute_result"
    }
   ],
   "source": [
    "model.fit(X_train, y_train, validation_data = (X_valid, y_valid), epochs=5, batch_size=1024)"
   ]
  },
  {
   "cell_type": "markdown",
   "metadata": {},
   "source": [
    "Training using Adam optimizer:"
   ]
  },
  {
   "cell_type": "code",
   "execution_count": 84,
   "metadata": {},
   "outputs": [
    {
     "name": "stdout",
     "output_type": "stream",
     "text": [
      "Train on 20000 samples, validate on 5000 samples\n",
      "Epoch 1/5\n",
      "20000/20000 [==============================] - 6s 305us/step - loss: 0.3914 - acc: 0.8208 - val_loss: 0.2948 - val_acc: 0.8784\n",
      "Epoch 2/5\n",
      "20000/20000 [==============================] - 5s 275us/step - loss: 0.1161 - acc: 0.9588 - val_loss: 0.3399 - val_acc: 0.8818\n",
      "Epoch 3/5\n",
      "20000/20000 [==============================] - 5s 275us/step - loss: 0.0344 - acc: 0.9907 - val_loss: 0.4391 - val_acc: 0.8728\n",
      "Epoch 4/5\n",
      "20000/20000 [==============================] - 6s 282us/step - loss: 0.0077 - acc: 0.9992 - val_loss: 0.5514 - val_acc: 0.8722\n",
      "Epoch 5/5\n",
      "20000/20000 [==============================] - 6s 283us/step - loss: 0.0026 - acc: 0.9998 - val_loss: 0.6155 - val_acc: 0.8724\n"
     ]
    },
    {
     "data": {
      "text/plain": [
       "<keras.callbacks.History at 0x23612bf6dd8>"
      ]
     },
     "execution_count": 84,
     "metadata": {},
     "output_type": "execute_result"
    }
   ],
   "source": [
    "model = Sequential([\n",
    "    Dense(32, activation = 'relu', input_shape=(X_train.shape[1],)),\n",
    "    Dense(1, activation = 'sigmoid'),\n",
    "])\n",
    "\n",
    "# For a binary classification problem\n",
    "opt = keras.optimizers.Adam(lr=0.1)\n",
    "model.compile(optimizer=opt, loss='binary_crossentropy', metrics=['accuracy'])\n",
    "model.fit(X_train, y_train, validation_data = (X_valid, y_valid), epochs=5, batch_size=1024)"
   ]
  },
  {
   "cell_type": "markdown",
   "metadata": {},
   "source": [
    "Using tanh as activation function:"
   ]
  },
  {
   "cell_type": "code",
   "execution_count": 86,
   "metadata": {},
   "outputs": [
    {
     "name": "stdout",
     "output_type": "stream",
     "text": [
      "Train on 20000 samples, validate on 5000 samples\n",
      "Epoch 1/5\n",
      "20000/20000 [==============================] - 7s 327us/step - loss: 0.4583 - acc: 0.7948 - val_loss: 0.2864 - val_acc: 0.8822\n",
      "Epoch 2/5\n",
      "20000/20000 [==============================] - 6s 285us/step - loss: 0.1457 - acc: 0.9476 - val_loss: 0.3218 - val_acc: 0.8804\n",
      "Epoch 3/5\n",
      "20000/20000 [==============================] - 5s 266us/step - loss: 0.0626 - acc: 0.9829 - val_loss: 0.4329 - val_acc: 0.8744\n",
      "Epoch 4/5\n",
      "20000/20000 [==============================] - 5s 268us/step - loss: 0.0220 - acc: 0.9957 - val_loss: 0.5581 - val_acc: 0.8676\n",
      "Epoch 5/5\n",
      "20000/20000 [==============================] - 5s 267us/step - loss: 0.0074 - acc: 0.9990 - val_loss: 0.6667 - val_acc: 0.8648\n"
     ]
    },
    {
     "data": {
      "text/plain": [
       "<keras.callbacks.History at 0x2360bc7bac8>"
      ]
     },
     "execution_count": 86,
     "metadata": {},
     "output_type": "execute_result"
    }
   ],
   "source": [
    "model = Sequential([\n",
    "    Dense(32, activation = 'tanh', input_shape=(X_train.shape[1],)),\n",
    "    Dense(1, activation = 'sigmoid'),\n",
    "])\n",
    "\n",
    "# For a binary classification problem\n",
    "opt = keras.optimizers.Adam(lr=0.1)\n",
    "model.compile(optimizer=opt, loss='binary_crossentropy', metrics=['accuracy'])\n",
    "model.fit(X_train, y_train, validation_data = (X_valid, y_valid), epochs=5, batch_size=1024)"
   ]
  },
  {
   "cell_type": "markdown",
   "metadata": {},
   "source": [
    "Adding dropout layer:"
   ]
  },
  {
   "cell_type": "code",
   "execution_count": 312,
   "metadata": {},
   "outputs": [
    {
     "name": "stdout",
     "output_type": "stream",
     "text": [
      "Train on 20000 samples, validate on 5000 samples\n",
      "Epoch 1/5\n",
      "20000/20000 [==============================] - 10s 517us/step - loss: 0.6020 - acc: 0.6192 - val_loss: 0.3689 - val_acc: 0.8748\n",
      "Epoch 2/5\n",
      "20000/20000 [==============================] - 6s 314us/step - loss: 0.4830 - acc: 0.7370 - val_loss: 0.2898 - val_acc: 0.8874\n",
      "Epoch 3/5\n",
      "20000/20000 [==============================] - 5s 274us/step - loss: 0.4202 - acc: 0.7905 - val_loss: 0.2870 - val_acc: 0.8886\n",
      "Epoch 4/5\n",
      "20000/20000 [==============================] - 5s 270us/step - loss: 0.3812 - acc: 0.8202 - val_loss: 0.2760 - val_acc: 0.8870\n",
      "Epoch 5/5\n",
      "20000/20000 [==============================] - 6s 279us/step - loss: 0.3370 - acc: 0.8412 - val_loss: 0.2626 - val_acc: 0.8882\n"
     ]
    },
    {
     "data": {
      "text/plain": [
       "<keras.callbacks.History at 0x236786bc240>"
      ]
     },
     "execution_count": 312,
     "metadata": {},
     "output_type": "execute_result"
    }
   ],
   "source": [
    "from keras.layers import Dropout\n",
    "\n",
    "model = Sequential([\n",
    "    Dense(32, activation = 'relu', input_shape=(X_train.shape[1],)),\n",
    "    Dropout(.8),\n",
    "    Dense(1, activation = 'sigmoid'),\n",
    "])\n",
    "\n",
    "# For a binary classification problem\n",
    "opt = keras.optimizers.Adam(lr=0.1)\n",
    "model.compile(optimizer=opt, loss='binary_crossentropy', metrics=['accuracy'])\n",
    "model.fit(X_train, y_train, validation_data = (X_valid, y_valid), epochs=5, batch_size=1024)"
   ]
  },
  {
   "cell_type": "markdown",
   "metadata": {},
   "source": [
    "Increasing number of cells:"
   ]
  },
  {
   "cell_type": "code",
   "execution_count": 313,
   "metadata": {},
   "outputs": [
    {
     "name": "stdout",
     "output_type": "stream",
     "text": [
      "Train on 20000 samples, validate on 5000 samples\n",
      "Epoch 1/5\n",
      "20000/20000 [==============================] - 11s 573us/step - loss: 0.6092 - acc: 0.6541 - val_loss: 0.3843 - val_acc: 0.8708\n",
      "Epoch 2/5\n",
      "20000/20000 [==============================] - 7s 342us/step - loss: 0.4973 - acc: 0.7443 - val_loss: 0.3309 - val_acc: 0.8862\n",
      "Epoch 3/5\n",
      "20000/20000 [==============================] - 7s 349us/step - loss: 0.4483 - acc: 0.7731 - val_loss: 0.2991 - val_acc: 0.8868\n",
      "Epoch 4/5\n",
      "20000/20000 [==============================] - 7s 339us/step - loss: 0.4362 - acc: 0.7808 - val_loss: 0.2756 - val_acc: 0.8912\n",
      "Epoch 5/5\n",
      "20000/20000 [==============================] - 8s 419us/step - loss: 0.4150 - acc: 0.7963 - val_loss: 0.2954 - val_acc: 0.8840\n"
     ]
    },
    {
     "data": {
      "text/plain": [
       "<keras.callbacks.History at 0x236d841ee48>"
      ]
     },
     "execution_count": 313,
     "metadata": {},
     "output_type": "execute_result"
    }
   ],
   "source": [
    "model = Sequential([\n",
    "    Dense(64, activation = 'relu', input_shape=(X_train.shape[1],)),\n",
    "    Dropout(.9),\n",
    "    Dense(1, activation = 'sigmoid'),\n",
    "])\n",
    "\n",
    "# For a binary classification problem\n",
    "opt = keras.optimizers.Adam(lr=0.1)\n",
    "model.compile(optimizer=opt, loss='binary_crossentropy', metrics=['accuracy'])\n",
    "model.fit(X_train, y_train, validation_data = (X_valid, y_valid), epochs=5, batch_size=1024)"
   ]
  },
  {
   "cell_type": "code",
   "execution_count": 381,
   "metadata": {},
   "outputs": [
    {
     "name": "stdout",
     "output_type": "stream",
     "text": [
      "Train on 20000 samples, validate on 5000 samples\n",
      "Epoch 1/5\n",
      "20000/20000 [==============================] - 12s 579us/step - loss: 0.4271 - acc: 0.7967 - val_loss: 0.2851 - val_acc: 0.8780\n",
      "Epoch 2/5\n",
      "20000/20000 [==============================] - 7s 346us/step - loss: 0.1782 - acc: 0.9361 - val_loss: 0.2553 - val_acc: 0.8942\n",
      "Epoch 3/5\n",
      "20000/20000 [==============================] - 7s 347us/step - loss: 0.1104 - acc: 0.9652 - val_loss: 0.2699 - val_acc: 0.8904\n",
      "Epoch 4/5\n",
      "20000/20000 [==============================] - 7s 362us/step - loss: 0.0720 - acc: 0.9821 - val_loss: 0.2928 - val_acc: 0.8872\n",
      "Epoch 5/5\n",
      "20000/20000 [==============================] - 7s 359us/step - loss: 0.0498 - acc: 0.9902 - val_loss: 0.3215 - val_acc: 0.8832\n"
     ]
    },
    {
     "data": {
      "text/plain": [
       "<keras.callbacks.History at 0x236dcf25e80>"
      ]
     },
     "execution_count": 381,
     "metadata": {},
     "output_type": "execute_result"
    }
   ],
   "source": [
    "from keras.layers import BatchNormalization\n",
    "\n",
    "model = Sequential([\n",
    "    Dense(64, activation = 'relu', input_shape=(X_train.shape[1],)),\n",
    "    BatchNormalization(),\n",
    "    Dropout(.5),\n",
    "    Dense(1, activation = 'sigmoid'),\n",
    "])\n",
    "\n",
    "# For a binary classification problem\n",
    "opt = keras.optimizers.Adam(lr=0.001)\n",
    "model.compile(optimizer=opt, loss='binary_crossentropy', metrics=['accuracy'])\n",
    "model.fit(X_train, y_train, validation_data = (X_valid, y_valid), epochs=5, batch_size=1024)"
   ]
  },
  {
   "cell_type": "markdown",
   "metadata": {},
   "source": [
    "Adding more layers:"
   ]
  },
  {
   "cell_type": "code",
   "execution_count": 430,
   "metadata": {},
   "outputs": [
    {
     "name": "stdout",
     "output_type": "stream",
     "text": [
      "Train on 20000 samples, validate on 5000 samples\n",
      "Epoch 1/5\n",
      "20000/20000 [==============================] - 12s 583us/step - loss: 0.5815 - acc: 0.7026 - val_loss: 0.3191 - val_acc: 0.8702\n",
      "Epoch 2/5\n",
      "20000/20000 [==============================] - 7s 340us/step - loss: 0.4054 - acc: 0.8165 - val_loss: 0.2916 - val_acc: 0.8844\n",
      "Epoch 3/5\n",
      "20000/20000 [==============================] - 7s 340us/step - loss: 0.3569 - acc: 0.8396 - val_loss: 0.2762 - val_acc: 0.8892\n",
      "Epoch 4/5\n",
      "20000/20000 [==============================] - 7s 338us/step - loss: 0.3313 - acc: 0.8517 - val_loss: 0.2713 - val_acc: 0.8910\n",
      "Epoch 5/5\n",
      "20000/20000 [==============================] - 7s 337us/step - loss: 0.3147 - acc: 0.8600 - val_loss: 0.2690 - val_acc: 0.8894\n"
     ]
    },
    {
     "data": {
      "text/plain": [
       "<keras.callbacks.History at 0x23677f7ffd0>"
      ]
     },
     "execution_count": 430,
     "metadata": {},
     "output_type": "execute_result"
    }
   ],
   "source": [
    "model = Sequential([\n",
    "    Dense(64, activation = 'relu', input_shape=(X_train.shape[1],)),\n",
    "    Dropout(.8),\n",
    "    Dense(8, activation = 'tanh'),\n",
    "    Dense(1, activation = 'sigmoid'),\n",
    "])\n",
    "\n",
    "# For a binary classification problem\n",
    "opt = keras.optimizers.Adam(lr=0.1)\n",
    "model.compile(optimizer=opt, loss='binary_crossentropy', metrics=['accuracy'])\n",
    "model.fit(X_train, y_train, validation_data = (X_valid, y_valid), epochs=5, batch_size=1024)"
   ]
  },
  {
   "cell_type": "markdown",
   "metadata": {},
   "source": [
    "## Getting word vector:"
   ]
  },
  {
   "cell_type": "code",
   "execution_count": 432,
   "metadata": {},
   "outputs": [
    {
     "data": {
      "text/plain": [
       "(16414, 64)"
      ]
     },
     "execution_count": 432,
     "metadata": {},
     "output_type": "execute_result"
    }
   ],
   "source": [
    "word2vec = model.get_weights()[0]\n",
    "word2vec.shape"
   ]
  },
  {
   "cell_type": "markdown",
   "metadata": {},
   "source": [
    "Compute the distance between words using cosine distance:"
   ]
  },
  {
   "cell_type": "code",
   "execution_count": 367,
   "metadata": {
    "collapsed": true
   },
   "outputs": [],
   "source": [
    "from scipy.spatial.distance import cdist\n",
    "dist = cdist(word2vec, word2vec, 'cosine')"
   ]
  },
  {
   "cell_type": "markdown",
   "metadata": {},
   "source": [
    "Print closest and farthest words:"
   ]
  },
  {
   "cell_type": "code",
   "execution_count": 375,
   "metadata": {},
   "outputs": [
    {
     "name": "stdout",
     "output_type": "stream",
     "text": [
      "love ['great' 'well' 'best' ..., 'worst' 'awful' 'horrible']\n",
      "amazing ['excellent' 'wonderful' 'best' ..., 'waste' 'mess' 'awful']\n",
      "bad ['worst' 'awful' 'unfunny' ..., 'wonderful' 'best' 'great']\n",
      "horrible ['waste' 'worst' 'awful' ..., 'excellent' 'wonderful' 'great']\n"
     ]
    }
   ],
   "source": [
    "vocab = np.array(vect.get_feature_names())\n",
    "\n",
    "words = ['love', 'amazing', 'bad', 'horrible']\n",
    "for word in words:\n",
    "    A = vocab[dist[vect.vocabulary_[word]].argsort()[1:]]\n",
    "    print(word, A)\n"
   ]
  },
  {
   "cell_type": "markdown",
   "metadata": {},
   "source": [
    "## Multi-class\n",
    "\n",
    "Loading 20 news groups:"
   ]
  },
  {
   "cell_type": "code",
   "execution_count": 433,
   "metadata": {
    "collapsed": true
   },
   "outputs": [],
   "source": [
    "from sklearn.datasets import fetch_20newsgroups\n",
    "\n",
    "cats = ['sci.space', 'talk.politics.mideast', 'comp.graphics']\n",
    "newsgroups_train = fetch_20newsgroups(subset='train', categories=cats, remove=('headers', 'footers', 'quotes'), shuffle = True)\n",
    "train_data = newsgroups_train.data\n",
    "\n",
    "newsgroups_valid = fetch_20newsgroups(subset='test', categories=cats, remove=('headers', 'footers', 'quotes'), shuffle = True)\n",
    "valid_data = newsgroups_valid.data"
   ]
  },
  {
   "cell_type": "markdown",
   "metadata": {},
   "source": [
    "Using count vectorizer to create features:"
   ]
  },
  {
   "cell_type": "code",
   "execution_count": 434,
   "metadata": {},
   "outputs": [
    {
     "name": "stdout",
     "output_type": "stream",
     "text": [
      "(1741, 5899) (1159, 5899)\n"
     ]
    }
   ],
   "source": [
    "from sklearn.feature_extraction.text import CountVectorizer\n",
    "\n",
    "count = CountVectorizer(binary = False, min_df = 5)\n",
    "\n",
    "X_train = count.fit_transform(train_data)\n",
    "X_valid = count.transform(valid_data)\n",
    "print(X_train.shape, X_valid.shape)\n"
   ]
  },
  {
   "cell_type": "markdown",
   "metadata": {},
   "source": [
    "For categorical classification, the target (y) must be converted to one-hot-encoder:"
   ]
  },
  {
   "cell_type": "code",
   "execution_count": 436,
   "metadata": {},
   "outputs": [
    {
     "name": "stdout",
     "output_type": "stream",
     "text": [
      "(1741, 3) (1159, 3)\n"
     ]
    }
   ],
   "source": [
    "y_train = keras.utils.to_categorical(newsgroups_train.target,)\n",
    "y_valid = keras.utils.to_categorical(newsgroups_valid.target)\n",
    "print(y_train.shape, y_valid.shape)"
   ]
  },
  {
   "cell_type": "markdown",
   "metadata": {},
   "source": [
    "Creating the MLP with 3 sofmax outputs and start training:"
   ]
  },
  {
   "cell_type": "code",
   "execution_count": 437,
   "metadata": {},
   "outputs": [
    {
     "name": "stdout",
     "output_type": "stream",
     "text": [
      "Train on 1741 samples, validate on 1159 samples\n",
      "Epoch 1/5\n",
      "1741/1741 [==============================] - 5s 3ms/step - loss: 0.9335 - acc: 0.6295 - val_loss: 0.4286 - val_acc: 0.8749\n",
      "Epoch 2/5\n",
      "1741/1741 [==============================] - 1s 302us/step - loss: 0.2895 - acc: 0.9184 - val_loss: 0.3337 - val_acc: 0.8921\n",
      "Epoch 3/5\n",
      "1741/1741 [==============================] - 1s 305us/step - loss: 0.1461 - acc: 0.9615 - val_loss: 0.3629 - val_acc: 0.8991\n",
      "Epoch 4/5\n",
      "1741/1741 [==============================] - 1s 309us/step - loss: 0.0955 - acc: 0.9696 - val_loss: 0.3545 - val_acc: 0.9025\n",
      "Epoch 5/5\n",
      "1741/1741 [==============================] - 1s 302us/step - loss: 0.0686 - acc: 0.9747 - val_loss: 0.3482 - val_acc: 0.9085\n"
     ]
    },
    {
     "data": {
      "text/plain": [
       "<keras.callbacks.History at 0x236b991eda0>"
      ]
     },
     "execution_count": 437,
     "metadata": {},
     "output_type": "execute_result"
    }
   ],
   "source": [
    "model = Sequential([\n",
    "    Dense(128, activation = 'relu', input_shape=(X_train.shape[1],)),\n",
    "    Dropout(.2),\n",
    "    Dense(3, activation = 'softmax'),\n",
    "])\n",
    "\n",
    "# For a binary classification problem\n",
    "opt = keras.optimizers.Adam(lr=0.01)\n",
    "model.compile(optimizer=opt, loss='categorical_crossentropy', metrics=['accuracy'])\n",
    "model.fit(X_train, y_train, validation_data = (X_valid, y_valid), epochs=5, batch_size=256)"
   ]
  },
  {
   "cell_type": "markdown",
   "metadata": {},
   "source": [
    "## Saving and loading model weights:"
   ]
  },
  {
   "cell_type": "code",
   "execution_count": 438,
   "metadata": {
    "collapsed": true
   },
   "outputs": [],
   "source": [
    "model.save('model.h5')"
   ]
  },
  {
   "cell_type": "markdown",
   "metadata": {},
   "source": [
    "Loading weights:"
   ]
  },
  {
   "cell_type": "code",
   "execution_count": 444,
   "metadata": {},
   "outputs": [
    {
     "name": "stdout",
     "output_type": "stream",
     "text": [
      "_________________________________________________________________\n",
      "Layer (type)                 Output Shape              Param #   \n",
      "=================================================================\n",
      "dense_164 (Dense)            (None, 128)               755200    \n",
      "_________________________________________________________________\n",
      "dropout_52 (Dropout)         (None, 128)               0         \n",
      "_________________________________________________________________\n",
      "dense_165 (Dense)            (None, 3)                 387       \n",
      "=================================================================\n",
      "Total params: 755,587\n",
      "Trainable params: 755,587\n",
      "Non-trainable params: 0\n",
      "_________________________________________________________________\n"
     ]
    }
   ],
   "source": [
    "from keras.models import load_model\n",
    "\n",
    "model = load_model('model.h5')\n",
    "model.summary()"
   ]
  },
  {
   "cell_type": "markdown",
   "metadata": {},
   "source": [
    "Auto saving the model based on best validation accuracy:"
   ]
  },
  {
   "cell_type": "code",
   "execution_count": 446,
   "metadata": {},
   "outputs": [
    {
     "name": "stdout",
     "output_type": "stream",
     "text": [
      "Train on 1741 samples, validate on 1159 samples\n",
      "Epoch 1/10\n",
      "1536/1741 [=========================>....] - ETA: 0s - loss: 0.8125 - acc: 0.6725\n",
      "Epoch 00001: val_acc improved from -inf to 0.76963, saving model to model.h5\n",
      "1741/1741 [==============================] - 8s 5ms/step - loss: 0.7825 - acc: 0.6847 - val_loss: 0.6612 - val_acc: 0.7696\n",
      "Epoch 2/10\n",
      "1536/1741 [=========================>....] - ETA: 0s - loss: 0.2918 - acc: 0.9023\n",
      "Epoch 00002: val_acc improved from 0.76963 to 0.86454, saving model to model.h5\n",
      "1741/1741 [==============================] - 1s 370us/step - loss: 0.2799 - acc: 0.9064 - val_loss: 0.4546 - val_acc: 0.8645\n",
      "Epoch 3/10\n",
      "1536/1741 [=========================>....] - ETA: 0s - loss: 0.1864 - acc: 0.9342\n",
      "Epoch 00003: val_acc improved from 0.86454 to 0.88266, saving model to model.h5\n",
      "1741/1741 [==============================] - 1s 388us/step - loss: 0.1763 - acc: 0.9380 - val_loss: 0.3728 - val_acc: 0.8827\n",
      "Epoch 4/10\n",
      "1536/1741 [=========================>....] - ETA: 0s - loss: 0.0932 - acc: 0.9681\n",
      "Epoch 00004: val_acc improved from 0.88266 to 0.89129, saving model to model.h5\n",
      "1741/1741 [==============================] - 1s 399us/step - loss: 0.0904 - acc: 0.9690 - val_loss: 0.4013 - val_acc: 0.8913\n",
      "Epoch 5/10\n",
      "1536/1741 [=========================>....] - ETA: 0s - loss: 0.0667 - acc: 0.9759\n",
      "Epoch 00005: val_acc did not improve\n",
      "1741/1741 [==============================] - 1s 390us/step - loss: 0.0655 - acc: 0.9759 - val_loss: 0.4545 - val_acc: 0.8861\n",
      "Epoch 6/10\n",
      "1536/1741 [=========================>....] - ETA: 0s - loss: 0.0500 - acc: 0.9837\n",
      "Epoch 00006: val_acc did not improve\n",
      "1741/1741 [==============================] - 1s 423us/step - loss: 0.0503 - acc: 0.9839 - val_loss: 0.4725 - val_acc: 0.8861\n",
      "Epoch 7/10\n",
      "1536/1741 [=========================>....] - ETA: 0s - loss: 0.0438 - acc: 0.9811\n",
      "Epoch 00007: val_acc did not improve\n",
      "1741/1741 [==============================] - 1s 395us/step - loss: 0.0433 - acc: 0.9810 - val_loss: 0.4641 - val_acc: 0.8861\n",
      "Epoch 8/10\n",
      "1536/1741 [=========================>....] - ETA: 0s - loss: 0.0390 - acc: 0.9811\n",
      "Epoch 00008: val_acc did not improve\n",
      "1741/1741 [==============================] - 1s 398us/step - loss: 0.0397 - acc: 0.9805 - val_loss: 0.4670 - val_acc: 0.8844\n",
      "Epoch 9/10\n",
      "1536/1741 [=========================>....] - ETA: 0s - loss: 0.0473 - acc: 0.9818\n",
      "Epoch 00009: val_acc did not improve\n",
      "1741/1741 [==============================] - 1s 398us/step - loss: 0.0464 - acc: 0.9810 - val_loss: 0.4846 - val_acc: 0.8783\n",
      "Epoch 10/10\n",
      "1536/1741 [=========================>....] - ETA: 0s - loss: 0.0367 - acc: 0.9792\n",
      "Epoch 00010: val_acc did not improve\n",
      "1741/1741 [==============================] - 1s 380us/step - loss: 0.0358 - acc: 0.9787 - val_loss: 0.5126 - val_acc: 0.8887\n"
     ]
    },
    {
     "data": {
      "text/plain": [
       "<keras.callbacks.History at 0x236c1747be0>"
      ]
     },
     "execution_count": 446,
     "metadata": {},
     "output_type": "execute_result"
    }
   ],
   "source": [
    "model = Sequential([\n",
    "    Dense(128, activation = 'relu', input_shape=(X_train.shape[1],)),\n",
    "    Dropout(.2),\n",
    "    Dense(3, activation = 'softmax'),\n",
    "])\n",
    "\n",
    "# For a binary classification problem\n",
    "opt = keras.optimizers.Adam(lr=0.01)\n",
    "model.compile(optimizer=opt, loss='categorical_crossentropy', metrics=['accuracy'])\n",
    "\n",
    "checkpoint = keras.callbacks.ModelCheckpoint('model.h5', monitor='val_acc', save_best_only=True, verbose = True)\n",
    "\n",
    "model.fit(X_train, y_train, validation_data = (X_valid, y_valid), epochs=10, batch_size=256, callbacks = [checkpoint])"
   ]
  }
 ],
 "metadata": {
  "kernelspec": {
   "display_name": "Python 3",
   "language": "python",
   "name": "python3"
  },
  "language_info": {
   "codemirror_mode": {
    "name": "ipython",
    "version": 3
   },
   "file_extension": ".py",
   "mimetype": "text/x-python",
   "name": "python",
   "nbconvert_exporter": "python",
   "pygments_lexer": "ipython3",
   "version": "3.6.3"
  }
 },
 "nbformat": 4,
 "nbformat_minor": 2
}
