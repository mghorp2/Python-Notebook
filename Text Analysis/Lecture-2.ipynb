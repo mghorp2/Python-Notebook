{
 "cells": [
  {
   "cell_type": "markdown",
   "metadata": {},
   "source": [
    "# Lecture 2 notebook\n",
    "\n",
    "In this notebook we will cover:\n",
    "- Regular Expression\n",
    "- Vectorization\n",
    "- Twitter example"
   ]
  },
  {
   "cell_type": "markdown",
   "metadata": {},
   "source": [
    "## Regular Expression:\n",
    "A sequence of characters that define a search pattern:\n",
    "- Find operation\n",
    "- Find and replace operation\n",
    "- Find and split operation\n",
    "\n",
    "Example of split operation:\n",
    "This example split the input separted by one or multiple special characters (\"  \\n()-.\"):"
   ]
  },
  {
   "cell_type": "code",
   "execution_count": 197,
   "metadata": {},
   "outputs": [
    {
     "name": "stdout",
     "output_type": "stream",
     "text": [
      "['TEAM', 'NEWS:', \"Here's\", 'how', 'Newcastle', 'United', 'will', 'line', 'up', 'at', '@ManCity', 'in', 'the', '@premierleague', 'this', 'afternoon', 'kick', 'off', '5:30pm', 'GMT', '#NUFC', 'https://www', 'nufc', 'co', 'uk/']\n"
     ]
    }
   ],
   "source": [
    "text ='''TEAM NEWS: Here's how Newcastle United will line up \n",
    "at @ManCity in the @premierleague this afternoon \n",
    "(kick-off 5:30pm GMT). #NUFC https://www.nufc.co.uk/'''\n",
    "\n",
    "import re\n",
    "print(re.split(\"[ \\n()-.]+\", text))\n"
   ]
  },
  {
   "cell_type": "markdown",
   "metadata": {},
   "source": [
    "## Tokenization example:"
   ]
  },
  {
   "cell_type": "code",
   "execution_count": 70,
   "metadata": {},
   "outputs": [
    {
     "name": "stdout",
     "output_type": "stream",
     "text": [
      "['TEAM', 'NEWS', 'Here', 's', 'how', 'Newcastle', 'United', 'will', 'line', 'up', 'at', 'ManCity', 'in', 'the', 'premierleague', 'this', 'afternoon', 'kick', 'off', '5', '30pm', 'GMT', 'NUFC', 'https', 'www', 'nufc', 'co', 'uk']\n"
     ]
    }
   ],
   "source": [
    "#select tokens of 1 or more alphanumeric \n",
    "print(re.findall(\"\\w+\", text))"
   ]
  },
  {
   "cell_type": "code",
   "execution_count": 71,
   "metadata": {},
   "outputs": [
    {
     "name": "stdout",
     "output_type": "stream",
     "text": [
      "['TEAM', 'NEWS', 'Here', 'how', 'Newcastle', 'United', 'will', 'line', 'up', 'at', 'ManCity', 'in', 'the', 'premierleague', 'this', 'afternoon', 'kick', 'off', '30pm', 'GMT', 'NUFC', 'https', 'www', 'nufc', 'co', 'uk']\n"
     ]
    }
   ],
   "source": [
    "#select tokens of 2 or more alphanumeric \n",
    "print(re.findall('\\w\\w+', text))\n"
   ]
  },
  {
   "cell_type": "markdown",
   "metadata": {},
   "source": [
    "## Recognizing URLs"
   ]
  },
  {
   "cell_type": "code",
   "execution_count": 82,
   "metadata": {},
   "outputs": [
    {
     "data": {
      "text/plain": [
       "['https://www.nufc.co.uk/']"
      ]
     },
     "execution_count": 82,
     "metadata": {},
     "output_type": "execute_result"
    }
   ],
   "source": [
    "re.findall('http[s]?://(?:[a-zA-Z]|[0-9]|[$-_@.&+]|[!*\\(\\),]|(?:%[0-9a-fA-F][0-9a-fA-F]))+', text)"
   ]
  },
  {
   "cell_type": "markdown",
   "metadata": {},
   "source": [
    "## Recognizing hashtags (or mentions)"
   ]
  },
  {
   "cell_type": "code",
   "execution_count": 170,
   "metadata": {},
   "outputs": [
    {
     "name": "stdout",
     "output_type": "stream",
     "text": [
      "[('#', 'NUFC')]\n",
      "['ManCity', 'premierleague']\n"
     ]
    }
   ],
   "source": [
    "#Hashtag:\n",
    "print(re.findall('(?<=^|(?<=[^a-zA-Z0-9-_\\.]))(#)([A-Za-z]+[A-Za-z0-9]+)', text))\n",
    "\n",
    "#Mention\n",
    "print(re.findall('(?<=^|(?<=[^a-zA-Z0-9-_\\.]))@([A-Za-z]+[A-Za-z0-9]+)', text))"
   ]
  },
  {
   "cell_type": "markdown",
   "metadata": {},
   "source": [
    "## Applying multiple regexp:\n",
    "- Changing URLs to 'url'\n",
    "- Chaning hashtag sign (#) to 'hashtag_'\n",
    "- Removing mentions\n",
    "- Tokenization"
   ]
  },
  {
   "cell_type": "code",
   "execution_count": 198,
   "metadata": {},
   "outputs": [
    {
     "name": "stdout",
     "output_type": "stream",
     "text": [
      "['team', 'news', 'here', 'how', 'newcastle', 'united', 'will', 'line', 'up', 'at', 'in', 'the', 'this', 'afternoon', 'kick', 'off', '30pm', 'gmt', 'hashtag_nufc', 'url']\n"
     ]
    }
   ],
   "source": [
    "regexp_url = 'http[s]?://(?:[a-zA-Z]|[0-9]|[$-_@.&+]|[!*\\(\\),]|(?:%[0-9a-fA-F][0-9a-fA-F]))+'\n",
    "pattern_url = re.compile(regexp_url, re.UNICODE | re.IGNORECASE)\n",
    "\n",
    "regexp_hashtag = '(?<=^|(?<=[^a-zA-Z0-9-_\\.]))#([A-Za-z]+[A-Za-z0-9]+)'\n",
    "pattern_hashtag = re.compile(regexp_hashtag, re.UNICODE | re.IGNORECASE)\n",
    "\n",
    "regexp_mention = '(?<=^|(?<=[^a-zA-Z0-9-_\\.]))@([A-Za-z]+[A-Za-z0-9]+)'\n",
    "pattern_mention = re.compile(regexp_mention, re.UNICODE | re.IGNORECASE)\n",
    "\n",
    "regexp_token = '\\w\\w+'\n",
    "pattern_token = re.compile(regexp_token, re.UNICODE | re.IGNORECASE)\n",
    "\n",
    "#Changing URLs to 'url'\n",
    "temp = pattern_url.sub('url', text.lower())\n",
    "\n",
    "#Chaning hashtag sign (#) to 'hashtag_'\n",
    "temp = pattern_hashtag.sub(r'hashtag_\\1', temp)\n",
    "\n",
    "#Removing mentions\n",
    "temp = pattern_mention.sub('', temp)\n",
    "\n",
    "tokens = pattern_token.findall(temp)\n",
    "#Tokenization\n",
    "print(tokens)\n"
   ]
  },
  {
   "cell_type": "markdown",
   "metadata": {},
   "source": [
    "---\n",
    "\n",
    "# Sparse Matrix\n",
    "\n",
    "## Lists of lists (LIL)\n",
    "Good for incremental matrix construction\n"
   ]
  },
  {
   "cell_type": "code",
   "execution_count": 12,
   "metadata": {},
   "outputs": [
    {
     "name": "stdout",
     "output_type": "stream",
     "text": [
      "[list([0, 3]) list([1, 2]) list([1])]\n",
      "[list([3, 3]) list([2, 1]) list([1])]\n",
      "  (0, 0)\t3\n",
      "  (0, 3)\t3\n",
      "  (1, 1)\t2\n",
      "  (1, 2)\t1\n",
      "  (2, 1)\t1\n"
     ]
    }
   ],
   "source": [
    "from scipy.sparse import lil_matrix, csr_matrix, csc_matrix, rand\n",
    "\n",
    "X = [[3, 0, 0, 3], [0, 2, 1, 0], [0, 1, 0, 0]]\n",
    "\n",
    "lil = lil_matrix(X)\n",
    "print(lil.rows)\n",
    "print(lil.data)\n",
    "print(lil)"
   ]
  },
  {
   "cell_type": "code",
   "execution_count": 9,
   "metadata": {},
   "outputs": [
    {
     "name": "stdout",
     "output_type": "stream",
     "text": [
      "[list([2, 3]) list([2]) list([1, 5])]\n",
      "[list([1, 3]) list([1]) list([0, 2])]\n"
     ]
    }
   ],
   "source": [
    "X = [[0, 2, 0, 3], [0, 2, 0, 0], [1, 0, 5, 0]]\n",
    "lil = lil_matrix(X)\n",
    "print(lil.data)\n",
    "print(lil.rows)\n"
   ]
  },
  {
   "cell_type": "markdown",
   "metadata": {},
   "source": [
    "## Compressed Sparse Row (CSR)\n",
    "Good for row operations"
   ]
  },
  {
   "cell_type": "code",
   "execution_count": 3,
   "metadata": {},
   "outputs": [
    {
     "name": "stdout",
     "output_type": "stream",
     "text": [
      "[0 2 4 5]\n",
      "[0 3 1 2 1]\n",
      "[3 3 2 1 1]\n"
     ]
    }
   ],
   "source": [
    "csr = csr_matrix(X)\n",
    "print(csr.indptr)\n",
    "print(csr.indices)\n",
    "print(csr.data)"
   ]
  },
  {
   "cell_type": "markdown",
   "metadata": {},
   "source": [
    "## Compressed Sparse Column (CSC)\n",
    "\n",
    "Good for column operations"
   ]
  },
  {
   "cell_type": "code",
   "execution_count": 278,
   "metadata": {},
   "outputs": [
    {
     "name": "stdout",
     "output_type": "stream",
     "text": [
      "[0 1 3 4 5]\n",
      "[0 1 2 1 0]\n",
      "[3 2 1 1 3]\n"
     ]
    }
   ],
   "source": [
    "csc = csc_matrix(X)\n",
    "print(csc.indptr)\n",
    "print(csc.indices)\n",
    "print(csc.data)"
   ]
  },
  {
   "cell_type": "code",
   "execution_count": 10,
   "metadata": {},
   "outputs": [
    {
     "name": "stdout",
     "output_type": "stream",
     "text": [
      "[0 1 3 4 5]\n",
      "[2 0 1 2 0]\n",
      "[1 2 2 5 3]\n"
     ]
    }
   ],
   "source": [
    "X = [[0, 2, 0, 3], [0, 2, 0, 0], [1, 0, 5, 0]]\n",
    "csc = csc_matrix(X)\n",
    "print(csc.indptr)\n",
    "print(csc.indices)\n",
    "print(csc.data)"
   ]
  },
  {
   "cell_type": "code",
   "execution_count": 14,
   "metadata": {},
   "outputs": [
    {
     "name": "stdout",
     "output_type": "stream",
     "text": [
      "Wall time: 32.3 ms\n"
     ]
    },
    {
     "data": {
      "text/plain": [
       "<10000x2000 sparse matrix of type '<class 'numpy.float64'>'\n",
       "\twith 1903891 stored elements in Compressed Sparse Row format>"
      ]
     },
     "execution_count": 14,
     "metadata": {},
     "output_type": "execute_result"
    }
   ],
   "source": [
    "X = rand(10000, 1000, format = 'csr')\n",
    "Y = rand(1000, 2000, format = 'csr')\n",
    "\n",
    "%time X.dot(Y)"
   ]
  },
  {
   "cell_type": "code",
   "execution_count": 335,
   "metadata": {},
   "outputs": [
    {
     "name": "stdout",
     "output_type": "stream",
     "text": [
      "Wall time: 604 ms\n"
     ]
    },
    {
     "data": {
      "text/plain": [
       "array([[ 0.        ,  0.        ,  0.        , ...,  0.        ,\n",
       "         0.        ,  0.        ],\n",
       "       [ 0.        ,  0.        ,  0.        , ...,  0.1526738 ,\n",
       "         0.        ,  0.        ],\n",
       "       [ 0.        ,  0.        ,  0.        , ...,  0.        ,\n",
       "         0.        ,  0.        ],\n",
       "       ..., \n",
       "       [ 0.02730159,  0.        ,  0.        , ...,  0.        ,\n",
       "         0.        ,  0.        ],\n",
       "       [ 0.        ,  0.        ,  0.        , ...,  0.        ,\n",
       "         0.        ,  0.        ],\n",
       "       [ 0.        ,  0.        ,  0.        , ...,  0.        ,\n",
       "         0.        ,  0.        ]])"
      ]
     },
     "execution_count": 335,
     "metadata": {},
     "output_type": "execute_result"
    }
   ],
   "source": [
    "X_dense = X.toarray()\n",
    "Y_dense = Y.toarray()\n",
    "%time X_dense.dot(Y_dense)"
   ]
  },
  {
   "cell_type": "code",
   "execution_count": 337,
   "metadata": {},
   "outputs": [
    {
     "name": "stderr",
     "output_type": "stream",
     "text": [
      "C:\\WinPython-64bit-3.4.4.4Qt5\\python-3.4.4.amd64\\lib\\site-packages\\scipy\\sparse\\compressed.py:730: SparseEfficiencyWarning: Changing the sparsity structure of a csr_matrix is expensive. lil_matrix is more efficient.\n",
      "  SparseEfficiencyWarning)\n"
     ]
    }
   ],
   "source": [
    "X[10, 3] = 100"
   ]
  },
  {
   "cell_type": "markdown",
   "metadata": {},
   "source": [
    "---\n",
    "\n",
    "## Vectorization\n",
    "\n",
    "Binary Vectorization:"
   ]
  },
  {
   "cell_type": "code",
   "execution_count": 5,
   "metadata": {},
   "outputs": [
    {
     "name": "stdout",
     "output_type": "stream",
     "text": [
      "[[0 1 0 1 1 1 1 1 0 0]\n",
      " [1 0 1 0 0 1 1 0 1 1]\n",
      " [1 0 0 0 1 1 1 1 0 1]]\n"
     ]
    }
   ],
   "source": [
    "from sklearn.feature_extraction.text import CountVectorizer, TfidfVectorizer\n",
    "import numpy as np\n",
    "\n",
    "Data = [\"Shipment of gold damaged in a fire\", \n",
    "        \"Delivery of silver arrived in a silver truck\", \n",
    "        \"Shipment of gold arrived in a truck\"]\n",
    "\n",
    "\n",
    "Binary = CountVectorizer(binary = True)   # gives the class\n",
    "X = Binary.fit_transform(Data)       # fit means data should be fitted into the model and immediatly transform\n",
    "print(X.toarray())"
   ]
  },
  {
   "cell_type": "code",
   "execution_count": 7,
   "metadata": {},
   "outputs": [
    {
     "data": {
      "text/plain": [
       "{'arrived': 0,\n",
       " 'damaged': 1,\n",
       " 'delivery': 2,\n",
       " 'fire': 3,\n",
       " 'gold': 4,\n",
       " 'in': 5,\n",
       " 'of': 6,\n",
       " 'shipment': 7,\n",
       " 'silver': 8,\n",
       " 'truck': 9}"
      ]
     },
     "execution_count": 7,
     "metadata": {},
     "output_type": "execute_result"
    }
   ],
   "source": [
    "Binary.get_feature_names()\n",
    "Binary.vocabulary_"
   ]
  },
  {
   "cell_type": "code",
   "execution_count": 3,
   "metadata": {},
   "outputs": [
    {
     "ename": "NotFittedError",
     "evalue": "CountVectorizer - Vocabulary wasn't fitted.",
     "output_type": "error",
     "traceback": [
      "\u001b[1;31m---------------------------------------------------------------------------\u001b[0m",
      "\u001b[1;31mNotFittedError\u001b[0m                            Traceback (most recent call last)",
      "\u001b[1;32m<ipython-input-3-6cc2c19fc697>\u001b[0m in \u001b[0;36m<module>\u001b[1;34m()\u001b[0m\n\u001b[0;32m      3\u001b[0m \u001b[0mBinary\u001b[0m\u001b[1;33m.\u001b[0m\u001b[0mfit\u001b[0m\u001b[1;33m(\u001b[0m\u001b[0mData\u001b[0m\u001b[1;33m)\u001b[0m\u001b[1;33m\u001b[0m\u001b[0m\n\u001b[0;32m      4\u001b[0m \u001b[0mBinary\u001b[0m \u001b[1;33m=\u001b[0m \u001b[0mCountVectorizer\u001b[0m\u001b[1;33m(\u001b[0m\u001b[0mbinary\u001b[0m \u001b[1;33m=\u001b[0m \u001b[1;32mTrue\u001b[0m\u001b[1;33m)\u001b[0m   \u001b[1;31m# gives the class\u001b[0m\u001b[1;33m\u001b[0m\u001b[0m\n\u001b[1;32m----> 5\u001b[1;33m \u001b[0mX\u001b[0m \u001b[1;33m=\u001b[0m \u001b[0mBinary\u001b[0m\u001b[1;33m.\u001b[0m\u001b[0mtransform\u001b[0m\u001b[1;33m(\u001b[0m\u001b[0mData\u001b[0m\u001b[1;33m)\u001b[0m\u001b[1;33m\u001b[0m\u001b[0m\n\u001b[0m",
      "\u001b[1;32m~\\Anaconda3\\lib\\site-packages\\sklearn\\feature_extraction\\text.py\u001b[0m in \u001b[0;36mtransform\u001b[1;34m(self, raw_documents)\u001b[0m\n\u001b[0;32m    918\u001b[0m             \u001b[0mself\u001b[0m\u001b[1;33m.\u001b[0m\u001b[0m_validate_vocabulary\u001b[0m\u001b[1;33m(\u001b[0m\u001b[1;33m)\u001b[0m\u001b[1;33m\u001b[0m\u001b[0m\n\u001b[0;32m    919\u001b[0m \u001b[1;33m\u001b[0m\u001b[0m\n\u001b[1;32m--> 920\u001b[1;33m         \u001b[0mself\u001b[0m\u001b[1;33m.\u001b[0m\u001b[0m_check_vocabulary\u001b[0m\u001b[1;33m(\u001b[0m\u001b[1;33m)\u001b[0m\u001b[1;33m\u001b[0m\u001b[0m\n\u001b[0m\u001b[0;32m    921\u001b[0m \u001b[1;33m\u001b[0m\u001b[0m\n\u001b[0;32m    922\u001b[0m         \u001b[1;31m# use the same matrix-building strategy as fit_transform\u001b[0m\u001b[1;33m\u001b[0m\u001b[1;33m\u001b[0m\u001b[0m\n",
      "\u001b[1;32m~\\Anaconda3\\lib\\site-packages\\sklearn\\feature_extraction\\text.py\u001b[0m in \u001b[0;36m_check_vocabulary\u001b[1;34m(self)\u001b[0m\n\u001b[0;32m    301\u001b[0m         \u001b[1;34m\"\"\"Check if vocabulary is empty or missing (not fit-ed)\"\"\"\u001b[0m\u001b[1;33m\u001b[0m\u001b[0m\n\u001b[0;32m    302\u001b[0m         \u001b[0mmsg\u001b[0m \u001b[1;33m=\u001b[0m \u001b[1;34m\"%(name)s - Vocabulary wasn't fitted.\"\u001b[0m\u001b[1;33m\u001b[0m\u001b[0m\n\u001b[1;32m--> 303\u001b[1;33m         \u001b[0mcheck_is_fitted\u001b[0m\u001b[1;33m(\u001b[0m\u001b[0mself\u001b[0m\u001b[1;33m,\u001b[0m \u001b[1;34m'vocabulary_'\u001b[0m\u001b[1;33m,\u001b[0m \u001b[0mmsg\u001b[0m\u001b[1;33m=\u001b[0m\u001b[0mmsg\u001b[0m\u001b[1;33m)\u001b[0m\u001b[1;33m,\u001b[0m\u001b[1;33m\u001b[0m\u001b[0m\n\u001b[0m\u001b[0;32m    304\u001b[0m \u001b[1;33m\u001b[0m\u001b[0m\n\u001b[0;32m    305\u001b[0m         \u001b[1;32mif\u001b[0m \u001b[0mlen\u001b[0m\u001b[1;33m(\u001b[0m\u001b[0mself\u001b[0m\u001b[1;33m.\u001b[0m\u001b[0mvocabulary_\u001b[0m\u001b[1;33m)\u001b[0m \u001b[1;33m==\u001b[0m \u001b[1;36m0\u001b[0m\u001b[1;33m:\u001b[0m\u001b[1;33m\u001b[0m\u001b[0m\n",
      "\u001b[1;32m~\\Anaconda3\\lib\\site-packages\\sklearn\\utils\\validation.py\u001b[0m in \u001b[0;36mcheck_is_fitted\u001b[1;34m(estimator, attributes, msg, all_or_any)\u001b[0m\n\u001b[0;32m    766\u001b[0m \u001b[1;33m\u001b[0m\u001b[0m\n\u001b[0;32m    767\u001b[0m     \u001b[1;32mif\u001b[0m \u001b[1;32mnot\u001b[0m \u001b[0mall_or_any\u001b[0m\u001b[1;33m(\u001b[0m\u001b[1;33m[\u001b[0m\u001b[0mhasattr\u001b[0m\u001b[1;33m(\u001b[0m\u001b[0mestimator\u001b[0m\u001b[1;33m,\u001b[0m \u001b[0mattr\u001b[0m\u001b[1;33m)\u001b[0m \u001b[1;32mfor\u001b[0m \u001b[0mattr\u001b[0m \u001b[1;32min\u001b[0m \u001b[0mattributes\u001b[0m\u001b[1;33m]\u001b[0m\u001b[1;33m)\u001b[0m\u001b[1;33m:\u001b[0m\u001b[1;33m\u001b[0m\u001b[0m\n\u001b[1;32m--> 768\u001b[1;33m         \u001b[1;32mraise\u001b[0m \u001b[0mNotFittedError\u001b[0m\u001b[1;33m(\u001b[0m\u001b[0mmsg\u001b[0m \u001b[1;33m%\u001b[0m \u001b[1;33m{\u001b[0m\u001b[1;34m'name'\u001b[0m\u001b[1;33m:\u001b[0m \u001b[0mtype\u001b[0m\u001b[1;33m(\u001b[0m\u001b[0mestimator\u001b[0m\u001b[1;33m)\u001b[0m\u001b[1;33m.\u001b[0m\u001b[0m__name__\u001b[0m\u001b[1;33m}\u001b[0m\u001b[1;33m)\u001b[0m\u001b[1;33m\u001b[0m\u001b[0m\n\u001b[0m\u001b[0;32m    769\u001b[0m \u001b[1;33m\u001b[0m\u001b[0m\n\u001b[0;32m    770\u001b[0m \u001b[1;33m\u001b[0m\u001b[0m\n",
      "\u001b[1;31mNotFittedError\u001b[0m: CountVectorizer - Vocabulary wasn't fitted."
     ]
    }
   ],
   "source": [
    "# optional to above\n",
    "Binary = CountVectorizer(binary = True)   # gives the class\n",
    "Binary.fit(Data) \n",
    "Binary = CountVectorizer(binary = True)   # gives the class\n",
    "X = Binary.transform(Data)  "
   ]
  },
  {
   "cell_type": "code",
   "execution_count": 6,
   "metadata": {},
   "outputs": [
    {
     "data": {
      "text/plain": [
       "{'arrived': 0,\n",
       " 'damaged': 1,\n",
       " 'delivery': 2,\n",
       " 'fire': 3,\n",
       " 'gold': 4,\n",
       " 'in': 5,\n",
       " 'of': 6,\n",
       " 'shipment': 7,\n",
       " 'silver': 8,\n",
       " 'truck': 9}"
      ]
     },
     "execution_count": 6,
     "metadata": {},
     "output_type": "execute_result"
    }
   ],
   "source": [
    "Binary.get_feature_names()\n",
    "Binary.vocabulary_"
   ]
  },
  {
   "cell_type": "markdown",
   "metadata": {},
   "source": [
    "Count Vecotirzation:"
   ]
  },
  {
   "cell_type": "code",
   "execution_count": 347,
   "metadata": {},
   "outputs": [
    {
     "name": "stdout",
     "output_type": "stream",
     "text": [
      "[[0 1 0 1 1 1 1 1 0 0]\n",
      " [1 0 1 0 0 1 1 0 2 1]\n",
      " [1 0 0 0 1 1 1 1 0 1]]\n"
     ]
    }
   ],
   "source": [
    "Count = CountVectorizer()\n",
    "X = Count.fit_transform(Data)\n",
    "print(X.toarray())"
   ]
  },
  {
   "cell_type": "markdown",
   "metadata": {},
   "source": [
    "TF-IDF Vectorization:"
   ]
  },
  {
   "cell_type": "code",
   "execution_count": 348,
   "metadata": {},
   "outputs": [
    {
     "name": "stdout",
     "output_type": "stream",
     "text": [
      "[[ 0.          1.69314718  0.          1.69314718  1.28768207  1.          1.\n",
      "   1.28768207  0.          0.        ]\n",
      " [ 1.28768207  0.          1.69314718  0.          0.          1.          1.\n",
      "   0.          3.38629436  1.28768207]\n",
      " [ 1.28768207  0.          0.          0.          1.28768207  1.          1.\n",
      "   1.28768207  0.          1.28768207]]\n"
     ]
    }
   ],
   "source": [
    "TfIdf = TfidfVectorizer(norm = None) # by default it uses L2 normalization\n",
    "X = TfIdf.fit_transform(Data)\n",
    "print(X.todense())"
   ]
  },
  {
   "cell_type": "markdown",
   "metadata": {},
   "source": [
    "---\n",
    "\n",
    "# Vectorization example\n",
    "\n",
    "Loading 20 Newsgroups database:\n",
    "\n",
    "https://archive.ics.uci.edu/ml/datasets/Twenty+Newsgroups\n"
   ]
  },
  {
   "cell_type": "code",
   "execution_count": 9,
   "metadata": {},
   "outputs": [
    {
     "name": "stderr",
     "output_type": "stream",
     "text": [
      "Downloading 20news dataset. This may take a few minutes.\n",
      "Downloading dataset from https://ndownloader.figshare.com/files/5975967 (14 MB)\n"
     ]
    },
    {
     "name": "stdout",
     "output_type": "stream",
     "text": [
      "['alt.atheism', 'comp.graphics', 'comp.os.ms-windows.misc', 'comp.sys.ibm.pc.hardware', 'comp.sys.mac.hardware', 'comp.windows.x', 'misc.forsale', 'rec.autos', 'rec.motorcycles', 'rec.sport.baseball', 'rec.sport.hockey', 'sci.crypt', 'sci.electronics', 'sci.med', 'sci.space', 'soc.religion.christian', 'talk.politics.guns', 'talk.politics.mideast', 'talk.politics.misc', 'talk.religion.misc']\n"
     ]
    }
   ],
   "source": [
    "from sklearn.datasets import fetch_20newsgroups\n",
    "\n",
    "newsgroups_train = fetch_20newsgroups(subset='train')\n",
    "print(newsgroups_train.target_names)"
   ]
  },
  {
   "cell_type": "markdown",
   "metadata": {},
   "source": [
    "Loading only some newsgroups:"
   ]
  },
  {
   "cell_type": "code",
   "execution_count": 10,
   "metadata": {},
   "outputs": [
    {
     "name": "stdout",
     "output_type": "stream",
     "text": [
      "1741\n",
      "['comp.graphics', 'sci.space', 'talk.politics.mideast']\n"
     ]
    }
   ],
   "source": [
    "cats = ['sci.space', 'talk.politics.mideast', 'comp.graphics']\n",
    "newsgroups_train = fetch_20newsgroups(subset='train', categories=cats, remove=('headers', 'footers', 'quotes'), shuffle = False)\n",
    "data = newsgroups_train.data\n",
    "print(len(data))\n",
    "\n",
    "print(newsgroups_train.target_names)"
   ]
  },
  {
   "cell_type": "markdown",
   "metadata": {},
   "source": [
    "Vectorizing with binary vectorization, ignoring terms that are appears in less than 20 documents, and ignoring stop words:"
   ]
  },
  {
   "cell_type": "code",
   "execution_count": 80,
   "metadata": {},
   "outputs": [
    {
     "name": "stdout",
     "output_type": "stream",
     "text": [
      "(1741, 1436)\n"
     ]
    }
   ],
   "source": [
    "from sklearn.feature_extraction.text import CountVectorizer, TfidfVectorizer, TfidfTransformer\n",
    "import numpy as np\n",
    "\n",
    "count = CountVectorizer(binary = True, min_df = 20, stop_words='english')\n",
    "\n",
    "X = count.fit_transform(data)\n",
    "print(X.shape)"
   ]
  },
  {
   "cell_type": "markdown",
   "metadata": {},
   "source": [
    "# or"
   ]
  },
  {
   "cell_type": "code",
   "execution_count": 18,
   "metadata": {},
   "outputs": [
    {
     "name": "stdout",
     "output_type": "stream",
     "text": [
      "(1741, 1475)\n"
     ]
    },
    {
     "data": {
      "text/plain": [
       "array([[0, 0, 0, ..., 0, 0, 0],\n",
       "       [0, 0, 0, ..., 0, 0, 0],\n",
       "       [0, 0, 0, ..., 0, 0, 0],\n",
       "       ..., \n",
       "       [0, 0, 0, ..., 0, 0, 0],\n",
       "       [0, 0, 0, ..., 0, 0, 0],\n",
       "       [0, 0, 0, ..., 0, 0, 0]], dtype=int64)"
      ]
     },
     "execution_count": 18,
     "metadata": {},
     "output_type": "execute_result"
    }
   ],
   "source": [
    "from sklearn.feature_extraction.text import CountVectorizer, TfidfVectorizer, TfidfTransformer\n",
    "import numpy as np\n",
    "\n",
    "count = CountVectorizer(binary = True, min_df = 20, stop_words='english',ngram_range=(1,3))\n",
    "\n",
    "X = count.fit_transform(data)\n",
    "print(X.shape)\n",
    "X.toarray()"
   ]
  },
  {
   "cell_type": "code",
   "execution_count": 19,
   "metadata": {},
   "outputs": [
    {
     "data": {
      "text/plain": [
       "{'don': 408,\n",
       " 'like': 753,\n",
       " 'comment': 288,\n",
       " 'typical': 1373,\n",
       " 'thinking': 1336,\n",
       " 'state': 1263,\n",
       " 'read': 1079,\n",
       " 'lot': 780,\n",
       " 'killing': 704,\n",
       " 'author': 171,\n",
       " 'religious': 1112,\n",
       " 'colors': 282,\n",
       " 'history': 627,\n",
       " 'seen': 1181,\n",
       " 'people': 970,\n",
       " 'land': 717,\n",
       " 'think': 1335,\n",
       " 'great': 582,\n",
       " 'book': 206,\n",
       " 'arabs': 135,\n",
       " 'turks': 1367,\n",
       " 'result': 1134,\n",
       " 'efforts': 439,\n",
       " 'reading': 1081,\n",
       " 'group': 589,\n",
       " 'writing': 1464,\n",
       " 'making': 797,\n",
       " 'phone': 981,\n",
       " 'calls': 229,\n",
       " 'following': 523,\n",
       " 'happened': 599,\n",
       " 'nasa': 873,\n",
       " 'funds': 549,\n",
       " 'alive': 104,\n",
       " '1991': 27,\n",
       " 'kill': 702,\n",
       " 'dc': 354,\n",
       " 'june': 696,\n",
       " 'year': 1468,\n",
       " 'kept': 700,\n",
       " 'job': 690,\n",
       " 'heavy': 614,\n",
       " 'mark': 804,\n",
       " 'shows': 1204,\n",
       " 'readers': 1080,\n",
       " 'sci': 1169,\n",
       " 'space': 1240,\n",
       " 'power': 1017,\n",
       " 'allen': 105,\n",
       " 'sci space': 1170,\n",
       " 'fairly': 489,\n",
       " 'scale': 1167,\n",
       " 'movie': 861,\n",
       " '11': 7,\n",
       " 'minutes': 843,\n",
       " '13': 9,\n",
       " 'video': 1408,\n",
       " 'little': 759,\n",
       " 'bad': 182,\n",
       " 'second': 1177,\n",
       " 'saw': 1163,\n",
       " 'bit': 198,\n",
       " 'color': 281,\n",
       " 'consider': 310,\n",
       " 'thing': 1332,\n",
       " 'formats': 533,\n",
       " 'end': 442,\n",
       " 'resolution': 1127,\n",
       " 'know': 709,\n",
       " 'kind': 705,\n",
       " 'software': 1222,\n",
       " 'hardware': 604,\n",
       " 'used': 1387,\n",
       " 'guy': 592,\n",
       " 'showed': 1202,\n",
       " 'said': 1157,\n",
       " 'took': 1347,\n",
       " '15': 11,\n",
       " 'frame': 536,\n",
       " 'generate': 556,\n",
       " '10': 4,\n",
       " 'disk': 394,\n",
       " 'don know': 409,\n",
       " 'background': 181,\n",
       " 'concept': 304,\n",
       " 'drive': 418,\n",
       " 'using': 1392,\n",
       " 'spacecraft': 1243,\n",
       " 'idea': 643,\n",
       " 'main': 792,\n",
       " 'transfer': 1356,\n",
       " 'atmosphere': 160,\n",
       " 'energy': 444,\n",
       " 'things': 1333,\n",
       " 'going': 572,\n",
       " 'hit': 628,\n",
       " 'products': 1038,\n",
       " 'bomb': 205,\n",
       " 'light': 752,\n",
       " 'work': 1452,\n",
       " 'especially': 452,\n",
       " 'given': 566,\n",
       " 'mass': 808,\n",
       " 'email': 441,\n",
       " 'thanks': 1329,\n",
       " 'maybe': 814,\n",
       " 'didn': 381,\n",
       " 'directly': 390,\n",
       " 'body': 204,\n",
       " 'gets': 563,\n",
       " 'course': 331,\n",
       " 'houses': 637,\n",
       " 'operation': 929,\n",
       " 'offer': 918,\n",
       " 'exists': 471,\n",
       " 'large': 721,\n",
       " 'based': 186,\n",
       " 'posts': 1015,\n",
       " 'exactly': 464,\n",
       " 'provides': 1053,\n",
       " 'simple': 1211,\n",
       " 'way': 1429,\n",
       " 'send': 1184,\n",
       " 'message': 829,\n",
       " 'subject': 1284,\n",
       " 'john': 691,\n",
       " 'public': 1056,\n",
       " 'edu': 434,\n",
       " 'request': 1121,\n",
       " 'll': 764,\n",
       " 'receive': 1091,\n",
       " 'form': 531,\n",
       " 'day': 352,\n",
       " 'use': 1386,\n",
       " 'address': 88,\n",
       " 'post': 1012,\n",
       " 'reasonable': 1088,\n",
       " 'line': 756,\n",
       " 'questions': 1064,\n",
       " 'comments': 289,\n",
       " 'sorry': 1231,\n",
       " 'meant': 817,\n",
       " 'just': 697,\n",
       " 'key': 701,\n",
       " 'orbital': 935,\n",
       " 'elements': 440,\n",
       " 'files': 512,\n",
       " 'au': 170,\n",
       " 'april': 133,\n",
       " 'hope': 634,\n",
       " 'helps': 620,\n",
       " 'holocaust': 630,\n",
       " 'nazi': 880,\n",
       " 'germany': 562,\n",
       " 'including': 655,\n",
       " 'names': 872,\n",
       " 'position': 1007,\n",
       " 'atrocities': 161,\n",
       " 'israeli': 681,\n",
       " 'anti': 120,\n",
       " 'calling': 228,\n",
       " 'need': 885,\n",
       " 'jews': 689,\n",
       " 'government': 577,\n",
       " 'attempt': 166,\n",
       " 'civil': 266,\n",
       " 'appreciated': 129,\n",
       " 'don think': 410,\n",
       " 'hand': 595,\n",
       " 'support': 1291,\n",
       " 'having': 609,\n",
       " 'newsgroup': 894,\n",
       " 'graphics': 580,\n",
       " 'programming': 1041,\n",
       " 'proposed': 1046,\n",
       " 'reply': 1116,\n",
       " 'original': 944,\n",
       " 'posting': 1014,\n",
       " 'suggest': 1286,\n",
       " 'structure': 1277,\n",
       " 'comp': 295,\n",
       " 'reason': 1087,\n",
       " 'groups': 590,\n",
       " 'possible': 1010,\n",
       " 'say': 1164,\n",
       " 'takes': 1302,\n",
       " 'time': 1341,\n",
       " 'interested': 669,\n",
       " 'understand': 1374,\n",
       " 'agree': 96,\n",
       " 'want': 1421,\n",
       " 'meeting': 821,\n",
       " 'news': 893,\n",
       " 'forum': 534,\n",
       " 'ideas': 644,\n",
       " 'help': 618,\n",
       " 'helped': 619,\n",
       " 'difficult': 386,\n",
       " 'different': 385,\n",
       " 'good': 574,\n",
       " 'comp graphics': 296,\n",
       " 'release': 1109,\n",
       " 'contact': 313,\n",
       " '1993': 29,\n",
       " 'los': 776,\n",
       " 'angeles': 113,\n",
       " 'ca': 225,\n",
       " 'local': 765,\n",
       " 'national': 877,\n",
       " 'society': 1221,\n",
       " 'talk': 1304,\n",
       " 'lunar': 786,\n",
       " 'source': 1235,\n",
       " 'world': 1456,\n",
       " '21': 32,\n",
       " 'president': 1021,\n",
       " 'dr': 414,\n",
       " 'robert': 1142,\n",
       " 'held': 615,\n",
       " '30': 43,\n",
       " 'science': 1171,\n",
       " 'center': 246,\n",
       " 'thousand': 1338,\n",
       " 'currently': 343,\n",
       " 'technical': 1310,\n",
       " 'materials': 812,\n",
       " 'processing': 1035,\n",
       " 'systems': 1299,\n",
       " 'division': 398,\n",
       " 'international': 672,\n",
       " 'california': 226,\n",
       " 'recognized': 1096,\n",
       " 'written': 1465,\n",
       " 'articles': 150,\n",
       " 'reports': 1119,\n",
       " 'david': 351,\n",
       " 'solar': 1223,\n",
       " 'building': 219,\n",
       " 'legal': 742,\n",
       " 'soviet': 1239,\n",
       " 'build': 218,\n",
       " 'free': 537,\n",
       " 'potential': 1016,\n",
       " 'past': 964,\n",
       " 'years': 1470,\n",
       " 'members': 823,\n",
       " 'nearly': 883,\n",
       " 'half': 594,\n",
       " 'commercial': 290,\n",
       " 'scientific': 1172,\n",
       " 'moon': 855,\n",
       " 'surface': 1296,\n",
       " 'earth': 424,\n",
       " 'meet': 820,\n",
       " 'demand': 367,\n",
       " 'basic': 187,\n",
       " 'technology': 1312,\n",
       " 'organization': 941,\n",
       " 'greater': 583,\n",
       " 'non': 899,\n",
       " 'profit': 1039,\n",
       " 'development': 379,\n",
       " 'dos': 412,\n",
       " 'los angeles': 777,\n",
       " 'working': 1454,\n",
       " 'similar': 1210,\n",
       " 'basically': 188,\n",
       " 'look': 772,\n",
       " 'room': 1146,\n",
       " 'looks': 775,\n",
       " 'vision': 1414,\n",
       " 'hard': 603,\n",
       " 'particular': 958,\n",
       " 'case': 241,\n",
       " 'wall': 1420,\n",
       " 'edge': 432,\n",
       " 'mode': 846,\n",
       " 've': 1400,\n",
       " 'run': 1150,\n",
       " 'problems': 1033,\n",
       " 'sure': 1295,\n",
       " 'tried': 1357,\n",
       " 'opinions': 932,\n",
       " 'drawing': 417,\n",
       " 'ran': 1073,\n",
       " 'image': 646,\n",
       " 'considered': 311,\n",
       " 'speed': 1248,\n",
       " 'really': 1086,\n",
       " 'necessary': 884,\n",
       " 'worth': 1460,\n",
       " 'effort': 438,\n",
       " 'draw': 416,\n",
       " 'nice': 896,\n",
       " 'problem': 1032,\n",
       " 'algorithm': 102,\n",
       " 'decide': 360,\n",
       " 'paper': 954,\n",
       " 'failed': 487,\n",
       " 'come': 284,\n",
       " 'method': 830,\n",
       " '12': 8,\n",
       " '14': 10,\n",
       " '16': 13,\n",
       " '17': 14,\n",
       " '18': 15,\n",
       " '19': 16,\n",
       " '20': 30,\n",
       " '22': 33,\n",
       " '23': 34,\n",
       " '24': 35,\n",
       " '25': 37,\n",
       " '26': 39,\n",
       " '27': 40,\n",
       " '28': 41,\n",
       " '29': 42,\n",
       " '31': 45,\n",
       " '32': 46,\n",
       " '33': 47,\n",
       " '34': 48,\n",
       " '35': 49,\n",
       " '39': 50,\n",
       " '40': 52,\n",
       " '42': 54,\n",
       " '45': 55,\n",
       " '48': 56,\n",
       " '50': 57,\n",
       " '60': 59,\n",
       " 'follows': 524,\n",
       " 'left': 741,\n",
       " 'better': 195,\n",
       " 'simply': 1212,\n",
       " 'particularly': 959,\n",
       " 'hidden': 622,\n",
       " 'plane': 990,\n",
       " 'lines': 757,\n",
       " 'inside': 665,\n",
       " 'outside': 947,\n",
       " 'points': 997,\n",
       " 'code': 279,\n",
       " 'objects': 910,\n",
       " 'change': 254,\n",
       " 'size': 1217,\n",
       " 'decided': 361,\n",
       " 'small': 1220,\n",
       " 'distance': 396,\n",
       " 'cause': 243,\n",
       " 'object': 909,\n",
       " 'real': 1083,\n",
       " 'picture': 984,\n",
       " 'advance': 90,\n",
       " 'thanks advance': 1330,\n",
       " 'personal': 977,\n",
       " 'role': 1145,\n",
       " 'murder': 865,\n",
       " 'muslims': 869,\n",
       " 'sdpa': 1174,\n",
       " 'org': 940,\n",
       " 'authorities': 172,\n",
       " 'die': 382,\n",
       " 'yes': 1472,\n",
       " 'stated': 1264,\n",
       " 'stand': 1256,\n",
       " '1982': 23,\n",
       " 'armenians': 146,\n",
       " 'march': 803,\n",
       " 'gives': 567,\n",
       " 'responsibility': 1131,\n",
       " 'claimed': 270,\n",
       " 'turkish': 1365,\n",
       " 'armenian': 144,\n",
       " 'terrorist': 1324,\n",
       " 'title': 1343,\n",
       " 'attacked': 163,\n",
       " 'murdered': 866,\n",
       " 'cold': 280,\n",
       " 'blood': 201,\n",
       " 'orders': 939,\n",
       " 'eye': 481,\n",
       " 'gave': 552,\n",
       " 'description': 370,\n",
       " 'shot': 1201,\n",
       " 'terrorism': 1323,\n",
       " 'absolutely': 68,\n",
       " 'self': 1182,\n",
       " 'involved': 675,\n",
       " 'december': 359,\n",
       " 'massacre': 809,\n",
       " 'claim': 269,\n",
       " 'knowledge': 710,\n",
       " 'asala': 151,\n",
       " 'arf': 140,\n",
       " 'began': 190,\n",
       " 'member': 822,\n",
       " 'children': 261,\n",
       " 'turkiye': 1366,\n",
       " 'fund': 547,\n",
       " 'activities': 80,\n",
       " 'terrorists': 1325,\n",
       " 'kurdish': 713,\n",
       " 'provided': 1052,\n",
       " 'billion': 197,\n",
       " '01': 2,\n",
       " '92': 65,\n",
       " 'istanbul': 685,\n",
       " 'million': 838,\n",
       " 'television': 1316,\n",
       " 'money': 852,\n",
       " 'continue': 316,\n",
       " 'slaughter': 1219,\n",
       " 'innocent': 664,\n",
       " 'recent': 1093,\n",
       " 'administration': 89,\n",
       " 'organizations': 942,\n",
       " 'responsible': 1132,\n",
       " 'united': 1379,\n",
       " 'states': 1266,\n",
       " 'won': 1447,\n",
       " 'able': 67,\n",
       " 'away': 176,\n",
       " 'justice': 698,\n",
       " 'long': 769,\n",
       " 'genocide': 558,\n",
       " 'muslim': 867,\n",
       " '1914': 17,\n",
       " '1920': 20,\n",
       " 'documents': 401,\n",
       " 'volume': 1418,\n",
       " 'document': 399,\n",
       " 'archive': 136,\n",
       " 'file': 511,\n",
       " 'section': 1178,\n",
       " 'office': 919,\n",
       " 'director': 391,\n",
       " 'major': 793,\n",
       " 'mention': 826,\n",
       " 'committed': 291,\n",
       " 'villages': 1412,\n",
       " 'west': 1436,\n",
       " 'town': 1352,\n",
       " 'young': 1474,\n",
       " 'women': 1445,\n",
       " 'apparently': 123,\n",
       " 'lying': 787,\n",
       " 'dead': 355,\n",
       " 'road': 1141,\n",
       " 'huge': 638,\n",
       " 'spot': 1252,\n",
       " 'serdar': 1188,\n",
       " 'argic': 141,\n",
       " 'united states': 1380,\n",
       " 'genocide million': 559,\n",
       " 'million muslim': 839,\n",
       " 'muslim people': 868,\n",
       " '1914 1920': 18,\n",
       " 'serdar argic': 1189,\n",
       " 'genocide million muslim': 560,\n",
       " 'million muslim people': 840,\n",
       " 'appropriate': 131,\n",
       " 'appear': 124,\n",
       " 'did': 380,\n",
       " 'sign': 1207,\n",
       " 'avoid': 174,\n",
       " 'mr': 862,\n",
       " 'island': 678,\n",
       " 'cyprus': 345,\n",
       " 'greek': 586,\n",
       " 'home': 631,\n",
       " 'greeks': 587,\n",
       " 'turkey': 1364,\n",
       " 'military': 837,\n",
       " 'act': 76,\n",
       " 'occupation': 916,\n",
       " 'today': 1344,\n",
       " 'azerbaijani': 178,\n",
       " 'policy': 1000,\n",
       " 'armenia': 143,\n",
       " 'issue': 683,\n",
       " 'political': 1002,\n",
       " 'countries': 328,\n",
       " 'choice': 262,\n",
       " 'days': 353,\n",
       " 'learn': 735,\n",
       " 'stop': 1272,\n",
       " 'israel': 680,\n",
       " 'fighting': 509,\n",
       " 'attacking': 164,\n",
       " 'attacks': 165,\n",
       " 'security': 1179,\n",
       " 'lebanese': 738,\n",
       " 'army': 148,\n",
       " 'peace': 969,\n",
       " 'lebanon': 739,\n",
       " 'tell': 1317,\n",
       " 'troops': 1358,\n",
       " 'aren': 139,\n",
       " 'leave': 736,\n",
       " 'conditions': 306,\n",
       " 'adam': 83,\n",
       " 'das': 348,\n",
       " 'harvard': 605,\n",
       " 'harvard edu': 606,\n",
       " 'trying': 1363,\n",
       " 'discussion': 393,\n",
       " 'actually': 82,\n",
       " 'process': 1034,\n",
       " 'right': 1139,\n",
       " 'note': 903,\n",
       " 'sounds': 1234,\n",
       " 'language': 720,\n",
       " 'believe': 193,\n",
       " 'comes': 285,\n",
       " 'close': 276,\n",
       " 'economic': 430,\n",
       " 'nature': 879,\n",
       " 'costs': 325,\n",
       " 'relatively': 1108,\n",
       " 'material': 811,\n",
       " 'taken': 1301,\n",
       " 'account': 74,\n",
       " 'class': 272,\n",
       " 'sun': 1288,\n",
       " 'physics': 983,\n",
       " 'approach': 130,\n",
       " 'wonder': 1448,\n",
       " 'sort': 1232,\n",
       " 'rate': 1075,\n",
       " 'cost': 324,\n",
       " 'talking': 1305,\n",
       " 'weeks': 1433,\n",
       " 'months': 854,\n",
       " 'perfect': 973,\n",
       " 'safety': 1156,\n",
       " 'live': 760,\n",
       " 'mary': 807,\n",
       " 'ames': 110,\n",
       " 'people don': 971,\n",
       " 'nasa ames': 874,\n",
       " 'hi': 621,\n",
       " 'certain': 251,\n",
       " 'correct': 323,\n",
       " 'wondering': 1449,\n",
       " 'point': 996,\n",
       " 'place': 986,\n",
       " 'ray': 1076,\n",
       " 'screen': 1173,\n",
       " 'radius': 1072,\n",
       " 'highly': 625,\n",
       " 'complex': 301,\n",
       " 'assume': 156,\n",
       " 'projects': 1044,\n",
       " 'placed': 987,\n",
       " 'deal': 356,\n",
       " 'appreciate': 128,\n",
       " 'posted': 1013,\n",
       " 'person': 976,\n",
       " 'likely': 754,\n",
       " 'environment': 449,\n",
       " 'oh': 923,\n",
       " 'base': 185,\n",
       " 'died': 383,\n",
       " 'got': 575,\n",
       " 'tank': 1307,\n",
       " 'man': 798,\n",
       " 'imagine': 648,\n",
       " 'developed': 378,\n",
       " 'btw': 216,\n",
       " 'programs': 1042,\n",
       " 'probably': 1031,\n",
       " 'far': 494,\n",
       " 'expensive': 474,\n",
       " 'high': 623,\n",
       " 've got': 1401,\n",
       " 'ordered': 938,\n",
       " 'copy': 322,\n",
       " 'report': 1117,\n",
       " 'recommend': 1097,\n",
       " 'pro': 1030,\n",
       " 'types': 1372,\n",
       " 'reasons': 1089,\n",
       " 'excellent': 466,\n",
       " 'effect': 436,\n",
       " 'view': 1409,\n",
       " 'makes': 796,\n",
       " 'knows': 712,\n",
       " 'middle': 834,\n",
       " 'east': 427,\n",
       " 'plan': 989,\n",
       " 'month': 853,\n",
       " 'getting': 564,\n",
       " 'cheap': 258,\n",
       " 'sent': 1186,\n",
       " 'middle east': 835,\n",
       " '3d': 51,\n",
       " 'program': 1040,\n",
       " 'tom': 1346,\n",
       " 'st': 1254,\n",
       " 'computers': 303,\n",
       " 'numbers': 906,\n",
       " 'make': 795,\n",
       " 'hello': 617,\n",
       " 'everybody': 461,\n",
       " 'library': 748,\n",
       " 'documentation': 400,\n",
       " 'version': 1405,\n",
       " 'available': 173,\n",
       " 'create': 335,\n",
       " 'bring': 213,\n",
       " 'life': 751,\n",
       " 'define': 364,\n",
       " 'friends': 542,\n",
       " 'student': 1279,\n",
       " 'education': 435,\n",
       " 'university': 1382,\n",
       " 'research': 1125,\n",
       " 'designed': 372,\n",
       " 'data': 349,\n",
       " 'project': 1043,\n",
       " 'study': 1281,\n",
       " 'determine': 376,\n",
       " 'techniques': 1311,\n",
       " 'experience': 475,\n",
       " 'matter': 813,\n",
       " 'feel': 503,\n",
       " 'area': 137,\n",
       " 'results': 1135,\n",
       " 'thank': 1328,\n",
       " 'mail': 791,\n",
       " 'level': 746,\n",
       " 'field': 506,\n",
       " 'special': 1245,\n",
       " 'school': 1168,\n",
       " 'require': 1122,\n",
       " 'thought': 1337,\n",
       " 'face': 483,\n",
       " 'number': 905,\n",
       " 'best': 194,\n",
       " 'attitude': 169,\n",
       " 'regular': 1105,\n",
       " 'training': 1355,\n",
       " 'variety': 1398,\n",
       " 'methods': 831,\n",
       " 'mind': 842,\n",
       " 'present': 1020,\n",
       " 'needs': 887,\n",
       " 'order': 937,\n",
       " 'normal': 900,\n",
       " '80': 62,\n",
       " 'recognize': 1095,\n",
       " 'head': 610,\n",
       " 'start': 1260,\n",
       " 'baku': 183,\n",
       " 'police': 998,\n",
       " 'general': 554,\n",
       " 'official': 921,\n",
       " 'article': 149,\n",
       " 'quote': 1067,\n",
       " 'doesn': 404,\n",
       " 'saying': 1165,\n",
       " 'supporting': 1293,\n",
       " 'words': 1451,\n",
       " 'telling': 1318,\n",
       " 'nuclear': 904,\n",
       " 'weapons': 1431,\n",
       " 'presence': 1019,\n",
       " 'specific': 1246,\n",
       " 'existence': 469,\n",
       " 'new': 891,\n",
       " 'fact': 485,\n",
       " 'evidence': 462,\n",
       " 'lost': 779,\n",
       " 'somebody': 1228,\n",
       " 'let': 744,\n",
       " 'known': 711,\n",
       " 'care': 237,\n",
       " 'list': 758,\n",
       " 'story': 1274,\n",
       " 'isn': 679,\n",
       " 'longer': 771,\n",
       " 'needed': 886,\n",
       " 'resistance': 1126,\n",
       " 'caused': 244,\n",
       " 'wrong': 1466,\n",
       " 'references': 1102,\n",
       " 'gravity': 581,\n",
       " 'described': 369,\n",
       " 'launched': 727,\n",
       " 'region': 1104,\n",
       " 'allow': 106,\n",
       " 'orbit': 934,\n",
       " 'fuel': 544,\n",
       " 'wasn': 1426,\n",
       " 'couldn': 326,\n",
       " 'hold': 629,\n",
       " 'planetary': 992,\n",
       " 'ago': 95,\n",
       " 'telescope': 1315,\n",
       " 'planet': 991,\n",
       " 'reported': 1118,\n",
       " 'star': 1259,\n",
       " 'understanding': 1375,\n",
       " 'event': 458,\n",
       " 'looked': 773,\n",
       " 'merely': 828,\n",
       " 'cases': 242,\n",
       " 'ibm': 642,\n",
       " 'ended': 443,\n",
       " 'company': 298,\n",
       " 'lots': 781,\n",
       " 'stuff': 1282,\n",
       " 'private': 1029,\n",
       " 'law': 728,\n",
       " 'heads': 611,\n",
       " 'pretty': 1024,\n",
       " 'limited': 755,\n",
       " 'goes': 571,\n",
       " 'suspect': 1297,\n",
       " 'write': 1463,\n",
       " 'big': 196,\n",
       " 'application': 125,\n",
       " 'mean': 815,\n",
       " 'industry': 660,\n",
       " 'standards': 1258,\n",
       " 'gas': 551,\n",
       " 'tanks': 1308,\n",
       " 'vehicle': 1403,\n",
       " 'flight': 519,\n",
       " 'pressure': 1023,\n",
       " 'cpr': 334,\n",
       " 'press': 1022,\n",
       " 'apr': 132,\n",
       " 'tel': 1313,\n",
       " 'date': 350,\n",
       " 'february': 501,\n",
       " 'soldiers': 1225,\n",
       " 'served': 1192,\n",
       " 'occupied': 917,\n",
       " 'territories': 1321,\n",
       " 'important': 650,\n",
       " 'called': 227,\n",
       " 'works': 1455,\n",
       " 'boy': 212,\n",
       " 'round': 1147,\n",
       " 'service': 1193,\n",
       " 'completely': 300,\n",
       " 'easy': 429,\n",
       " 'impossible': 651,\n",
       " 'short': 1200,\n",
       " 'command': 287,\n",
       " 'team': 1309,\n",
       " 'common': 293,\n",
       " 'quite': 1066,\n",
       " 'return': 1136,\n",
       " 'father': 498,\n",
       " 'car': 234,\n",
       " 'ready': 1082,\n",
       " 'running': 1151,\n",
       " 'mother': 857,\n",
       " 'told': 1345,\n",
       " 'arab': 134,\n",
       " 'went': 1435,\n",
       " 'wanted': 1422,\n",
       " 'instead': 666,\n",
       " 'set': 1195,\n",
       " 'felt': 505,\n",
       " 'open': 927,\n",
       " 'reached': 1078,\n",
       " 'usually': 1394,\n",
       " 'eyes': 482,\n",
       " 'wait': 1419,\n",
       " 'moment': 851,\n",
       " 'wounded': 1462,\n",
       " 'asked': 153,\n",
       " 'stopped': 1273,\n",
       " 'details': 375,\n",
       " 'frequently': 540,\n",
       " 'friend': 541,\n",
       " 'covered': 333,\n",
       " 'times': 1342,\n",
       " 'fall': 490,\n",
       " 'ground': 588,\n",
       " 'explain': 477,\n",
       " 'places': 988,\n",
       " 'carried': 238,\n",
       " 'rest': 1133,\n",
       " 'willing': 1441,\n",
       " 'exact': 463,\n",
       " 'advantage': 92,\n",
       " '000': 1,\n",
       " 'south': 1237,\n",
       " 'human': 639,\n",
       " 'board': 202,\n",
       " 'fight': 508,\n",
       " 'center policy': 247,\n",
       " 'policy research': 1001,\n",
       " 'don want': 411,\n",
       " 'center policy research': 248,\n",
       " 'guys': 593,\n",
       " 'starting': 1262,\n",
       " 'animation': 114,\n",
       " 'concerning': 305,\n",
       " 'parts': 961,\n",
       " 'does': 402,\n",
       " 'complete': 299,\n",
       " 'ftp': 543,\n",
       " 'site': 1214,\n",
       " 'looking': 774,\n",
       " 'images': 647,\n",
       " 'hate': 607,\n",
       " 'sense': 1185,\n",
       " 'rockets': 1144,\n",
       " 'term': 1319,\n",
       " 'user': 1389,\n",
       " 'model': 847,\n",
       " 'example': 465,\n",
       " 'letter': 745,\n",
       " 'controlled': 319,\n",
       " 'rocket': 1143,\n",
       " 'events': 459,\n",
       " 'various': 1399,\n",
       " 'sites': 1215,\n",
       " 'included': 653,\n",
       " 'users': 1390,\n",
       " 'companies': 297,\n",
       " 'sell': 1183,\n",
       " 'individuals': 659,\n",
       " 'forget': 530,\n",
       " 'nation': 876,\n",
       " 'taking': 1303,\n",
       " 'action': 77,\n",
       " 'force': 526,\n",
       " 'realize': 1085,\n",
       " 'single': 1213,\n",
       " 'price': 1027,\n",
       " 'lives': 762,\n",
       " 'men': 825,\n",
       " 'jewish': 688,\n",
       " 'brought': 215,\n",
       " 'certainly': 252,\n",
       " 'speak': 1244,\n",
       " 'turn': 1368,\n",
       " 'week': 1432,\n",
       " 'foreign': 529,\n",
       " 'destroyed': 374,\n",
       " 'attack': 162,\n",
       " 'means': 816,\n",
       " 'happens': 601,\n",
       " 'landing': 718,\n",
       " 'race': 1069,\n",
       " 'old': 925,\n",
       " 'try': 1362,\n",
       " 'late': 723,\n",
       " 'difference': 384,\n",
       " 'multi': 864,\n",
       " 'interesting': 670,\n",
       " 'specifically': 1247,\n",
       " 'giving': 568,\n",
       " 'established': 453,\n",
       " 'range': 1074,\n",
       " 'design': 371,\n",
       " 'square': 1253,\n",
       " 'type': 1371,\n",
       " 'despite': 373,\n",
       " 'control': 318,\n",
       " 'according': 73,\n",
       " 'providing': 1054,\n",
       " 'radio': 1071,\n",
       " 'payload': 967,\n",
       " 'total': 1350,\n",
       " 'mission': 844,\n",
       " 'thousands': 1339,\n",
       " 'dollars': 406,\n",
       " 'missions': 845,\n",
       " 'capable': 233,\n",
       " 'apollo': 122,\n",
       " 'pictures': 985,\n",
       " 'low': 783,\n",
       " 'areas': 138,\n",
       " 'water': 1428,\n",
       " 'information': 662,\n",
       " 'acts': 81,\n",
       " 'unit': 1378,\n",
       " '300': 44,\n",
       " 'street': 1275,\n",
       " 'love': 782,\n",
       " 'hear': 612,\n",
       " 'happy': 602,\n",
       " 'country': 329,\n",
       " 'syria': 1298,\n",
       " '70': 60,\n",
       " 'loss': 778,\n",
       " 'quality': 1062,\n",
       " 'mac': 788,\n",
       " 'recently': 1094,\n",
       " 'format': 532,\n",
       " 'unix': 1383,\n",
       " 'accounts': 75,\n",
       " 'rights': 1140,\n",
       " 'azerbaijan': 177,\n",
       " 'current': 342,\n",
       " 'nagorno': 870,\n",
       " 'karabakh': 699,\n",
       " 'carry': 239,\n",
       " 'remember': 1114,\n",
       " 'passed': 963,\n",
       " 'started': 1261,\n",
       " 'born': 210,\n",
       " 'seven': 1197,\n",
       " 'clock': 275,\n",
       " 'city': 265,\n",
       " 'party': 962,\n",
       " 'committee': 292,\n",
       " 'film': 513,\n",
       " 'near': 882,\n",
       " 'figure': 510,\n",
       " 'knew': 708,\n",
       " 'later': 724,\n",
       " 'came': 230,\n",
       " 'stage': 1255,\n",
       " 'russian': 1154,\n",
       " 'closed': 277,\n",
       " 'returned': 1137,\n",
       " 'russians': 1155,\n",
       " 'sound': 1233,\n",
       " 'says': 1166,\n",
       " 'ok': 924,\n",
       " 'dark': 347,\n",
       " 'leaving': 737,\n",
       " 'super': 1289,\n",
       " 'bus': 222,\n",
       " 'happen': 598,\n",
       " 'driver': 419,\n",
       " 'station': 1267,\n",
       " 'managed': 799,\n",
       " 'happening': 600,\n",
       " 'family': 492,\n",
       " 'house': 636,\n",
       " 'living': 763,\n",
       " 'guess': 591,\n",
       " 'supposed': 1294,\n",
       " 'lived': 761,\n",
       " 'sat': 1158,\n",
       " 'morning': 856,\n",
       " 'worked': 1453,\n",
       " 'watch': 1427,\n",
       " 'war': 1424,\n",
       " 'situation': 1216,\n",
       " 'stay': 1269,\n",
       " 'table': 1300,\n",
       " 'turned': 1369,\n",
       " 'coming': 286,\n",
       " 'noise': 898,\n",
       " 'direction': 389,\n",
       " 'runs': 1152,\n",
       " 'terms': 1320,\n",
       " 'killed': 703,\n",
       " 'closer': 278,\n",
       " 'neighbors': 888,\n",
       " 'immediately': 649,\n",
       " 'windows': 1443,\n",
       " 'quickly': 1065,\n",
       " 'ask': 152,\n",
       " 'fell': 504,\n",
       " 'ones': 926,\n",
       " 'window': 1442,\n",
       " 'strong': 1276,\n",
       " 'arms': 147,\n",
       " 'carrying': 240,\n",
       " 'god': 570,\n",
       " 'death': 357,\n",
       " 'entirely': 448,\n",
       " 'border': 208,\n",
       " 'hands': 597,\n",
       " 'night': 897,\n",
       " 'wouldn': 1461,\n",
       " 'telephone': 1314,\n",
       " 'trouble': 1359,\n",
       " 'save': 1162,\n",
       " 'cut': 344,\n",
       " 'forward': 535,\n",
       " 'wants': 1423,\n",
       " 'haven': 608,\n",
       " 'doing': 405,\n",
       " 'seriously': 1191,\n",
       " 'worry': 1458,\n",
       " 'department': 368,\n",
       " 'respond': 1129,\n",
       " 'worse': 1459,\n",
       " 'possibly': 1011,\n",
       " 'block': 200,\n",
       " 'asking': 154,\n",
       " 'heard': 613,\n",
       " 'medical': 819,\n",
       " 'personnel': 979,\n",
       " 'fine': 516,\n",
       " 'lie': 749,\n",
       " 'air': 99,\n",
       " 'soon': 1230,\n",
       " 'response': 1130,\n",
       " 'pay': 966,\n",
       " ...}"
      ]
     },
     "execution_count": 19,
     "metadata": {},
     "output_type": "execute_result"
    }
   ],
   "source": [
    "count.get_feature_names()\n",
    "count.vocabulary_"
   ]
  },
  {
   "cell_type": "markdown",
   "metadata": {},
   "source": [
    "Reporting top frequent words per newsgroup:"
   ]
  },
  {
   "cell_type": "code",
   "execution_count": 12,
   "metadata": {},
   "outputs": [
    {
     "name": "stdout",
     "output_type": "stream",
     "text": [
      "comp.graphics: thanks, graphics, know, like, use, does, need, program, don, just\n",
      "sci.space: space, like, just, don, think, know, nasa, time, use, earth\n",
      "talk.politics.mideast: people, like, just, israel, israeli, don, time, know, think, jews\n"
     ]
    }
   ],
   "source": [
    "#Loading vocabulary:\n",
    "vocab = np.array(count.get_feature_names())\n",
    "\n",
    "for i in range(len(newsgroups_train.target_names)):\n",
    "    #Select only target newsgroup:\n",
    "    target = newsgroups_train.target == i\n",
    "    freq = X[target].sum(0).A1 # A1 changes matrix to numpy array\n",
    "    order = freq.argsort()[::-1]\n",
    "    print(\"%s: %s\" % (newsgroups_train.target_names[i], ', '.join(vocab[order[:10]])))\n"
   ]
  },
  {
   "cell_type": "code",
   "execution_count": 13,
   "metadata": {},
   "outputs": [
    {
     "name": "stdout",
     "output_type": "stream",
     "text": [
      "['comp.graphics', 'sci.space', 'talk.politics.mideast']\n",
      "[2 1 0 ..., 0 2 0]\n",
      "[False False  True ...,  True False  True]\n"
     ]
    }
   ],
   "source": [
    "print(newsgroups_train.target_names)\n",
    "print(newsgroups_train.target)\n",
    "subset=newsgroups_train.target==0\n",
    "A=X[subset]\n",
    "print(subset)"
   ]
  },
  {
   "cell_type": "markdown",
   "metadata": {},
   "source": [
    "Verifying Zipf's law:\n",
    "\n",
    "$f_i \\propto i^{-b}$\n",
    "\n",
    "$\\log f_i = K - b\\log i$\n",
    "\n",
    "$f_i = \\exp (K - b\\log i)$"
   ]
  },
  {
   "cell_type": "code",
   "execution_count": 82,
   "metadata": {},
   "outputs": [
    {
     "name": "stdout",
     "output_type": "stream",
     "text": [
      "K = 4.536241\n",
      "b = 0.001238\n"
     ]
    },
    {
     "data": {
      "image/png": "[encoded data removed]",
      "text/plain": [
       "<matplotlib.figure.Figure at 0xa532908>"
      ]
     },
     "metadata": {},
     "output_type": "display_data"
    }
   ],
   "source": [
    "import matplotlib\n",
    "import matplotlib.pyplot as plt\n",
    "from sklearn.linear_model import LinearRegression\n",
    "%matplotlib inline\n",
    "\n",
    "#Compute frequency\n",
    "freq = np.sort(X.sum(0).A1)[::-1]\n",
    "\n",
    "#Fit a linear regression to estimate K and b\n",
    "reg = LinearRegression()\n",
    "term_numbers = np.arange(1, len(freq) + 1).reshape(-1, 1)\n",
    "reg.fit(term_numbers, np.log(freq))\n",
    "pred = np.exp(reg.predict(term_numbers))\n",
    "\n",
    "print(\"K = %f\" % reg.intercept_)\n",
    "print(\"b = %f\" % -reg.coef_[0])\n",
    "\n",
    "#Create the plot\n",
    "plt.title(\"Zipf's law\")\n",
    "plt.plot(freq, label = 'TF')\n",
    "plt.plot(pred, label = 'Zipf')\n",
    "plt.xlabel('Term')\n",
    "plt.ylabel('Frequency')\n",
    "plt.xlim(0, len(freq))\n",
    "plt.ylim(0, 200)\n",
    "plt.legend(loc = 'upper right')\n",
    "plt.show()"
   ]
  },
  {
   "cell_type": "markdown",
   "metadata": {},
   "source": [
    "## Create a scatter plot for different newsgroups\n",
    "\n",
    "Since documents have a higher dimensionality, to make a scatter plot, we need to reduce the dimension to 2D. Therefore, we use LSA (SVD) to reduce the dimension:"
   ]
  },
  {
   "cell_type": "code",
   "execution_count": 14,
   "metadata": {},
   "outputs": [
    {
     "name": "stdout",
     "output_type": "stream",
     "text": [
      "Dimension (1741, 3055) -> (1741, 2)\n"
     ]
    },
    {
     "data": {
      "image/png": "[encoded data removed]",
      "text/plain": [
       "<matplotlib.figure.Figure at 0x1d3ab47f470>"
      ]
     },
     "metadata": {},
     "output_type": "display_data"
    }
   ],
   "source": [
    "import matplotlib\n",
    "import matplotlib.pyplot as plt\n",
    "%matplotlib inline\n",
    "\n",
    "from  sklearn.decomposition import TruncatedSVD\n",
    "\n",
    "#Using TF-IDF vectorization:\n",
    "vect = TfidfVectorizer(binary = True, min_df = 10, stop_words='english')\n",
    "X = vect.fit_transform(data)\n",
    "\n",
    "#Reduce dimension\n",
    "lsa = TruncatedSVD(2)\n",
    "X_2d = lsa.fit_transform(X)\n",
    "\n",
    "print(\"Dimension %s -> %s\" % (X.shape, X_2d.shape))\n",
    "\n",
    "colors = 'bgry'\n",
    "\n",
    "for i in range(len(newsgroups_train.target_names)):\n",
    "    target = newsgroups_train.target == i\n",
    "    plt.scatter(X_2d[target, 1], X_2d[target, 0], 20, c = colors[i], label = newsgroups_train.target_names[i])\n",
    "\n",
    "plt.title('20 Newsgroups')\n",
    "plt.xlim(-.3, .3)\n",
    "plt.ylim(-.25, .5)\n",
    "plt.legend(loc = 'lower right')\n",
    "plt.show()"
   ]
  },
  {
   "cell_type": "code",
   "execution_count": 16,
   "metadata": {},
   "outputs": [
    {
     "data": {
      "text/plain": [
       "-0.035663260696820742"
      ]
     },
     "execution_count": 16,
     "metadata": {},
     "output_type": "execute_result"
    }
   ],
   "source": [
    "plt.scatter(X_2d[1,1], X_2d[target, 0],20"
   ]
  },
  {
   "cell_type": "markdown",
   "metadata": {},
   "source": [
    "---\n",
    "\n",
    "# Sentiment Analysis using lexicons (word lists)\n",
    "\n",
    "List of terms with positive/negative/neutral sentiment:\n",
    "- AFINN: http://neuro.imm.dtu.dk/wiki/AFINN"
   ]
  },
  {
   "cell_type": "code",
   "execution_count": 86,
   "metadata": {
    "collapsed": true
   },
   "outputs": [],
   "source": [
    "import numpy as np\n",
    "from collections import defaultdict\n",
    "\n",
    "#Load from the text data\n",
    "Afinn_data = np.loadtxt('AFINN-111.txt', dtype = bytes, delimiter = '\\t')\n",
    "\n",
    "#Setting default sentiment to zero (neutral):\n",
    "Afinn_sent = defaultdict(lambda: 0)\n",
    "\n",
    "#Creating the dictionary:\n",
    "Afinn_sent.update(dict(zip(Afinn_data[:, 0].astype('str'), Afinn_data[:, 1].astype('i4'))))"
   ]
  },
  {
   "cell_type": "code",
   "execution_count": 87,
   "metadata": {},
   "outputs": [
    {
     "name": "stdout",
     "output_type": "stream",
     "text": [
      "3\n",
      "-2\n"
     ]
    }
   ],
   "source": [
    "print(Afinn_sent['joy'])\n",
    "print(Afinn_sent['anxious'])\n"
   ]
  },
  {
   "cell_type": "markdown",
   "metadata": {},
   "source": [
    "## Distribution of scores"
   ]
  },
  {
   "cell_type": "code",
   "execution_count": 88,
   "metadata": {},
   "outputs": [
    {
     "data": {
      "image/png": "[encoded data removed]",
      "text/plain": [
       "<matplotlib.figure.Figure at 0xfb691d0>"
      ]
     },
     "metadata": {},
     "output_type": "display_data"
    }
   ],
   "source": [
    "import matplotlib\n",
    "import matplotlib.pyplot as plt\n",
    "from collections import Counter\n",
    "%matplotlib inline\n",
    "\n",
    "dist = Afinn_data[:, 1].astype('i4')\n",
    "counter = Counter()\n",
    "counter.update(dist)\n",
    "scores = list(counter.keys())\n",
    "freq = counter.values()\n",
    "\n",
    "plt.bar(scores, freq, align = 'center')\n",
    "\n",
    "plt.title('Afinn Lexicon')\n",
    "plt.xlabel('Score')\n",
    "plt.ylabel(\"Frequency\")\n",
    "plt.show()"
   ]
  },
  {
   "cell_type": "code",
   "execution_count": 94,
   "metadata": {
    "collapsed": true
   },
   "outputs": [],
   "source": [
    "import re\n",
    "\n",
    "def sentiment(text, verbose = False):\n",
    "    terms = re.findall('\\w\\w+', text.lower())\n",
    "    scores = []\n",
    "    for x in terms:\n",
    "        if Afinn_sent[x] != 0:\n",
    "            scores.append(Afinn_sent[x])\n",
    "            if verbose:\n",
    "                print(\"%s: %d\" % (x, Afinn_sent[x]))\n",
    "\n",
    "    if len(scores) == 0:\n",
    "        return 0\n",
    "    return sum(scores) / len(scores)\n"
   ]
  },
  {
   "cell_type": "markdown",
   "metadata": {},
   "source": [
    "<img src=\"Capture1.PNG\">"
   ]
  },
  {
   "cell_type": "code",
   "execution_count": 90,
   "metadata": {},
   "outputs": [
    {
     "name": "stdout",
     "output_type": "stream",
     "text": [
      "congrats: 2\n",
      "exclusive: 2\n"
     ]
    },
    {
     "data": {
      "text/plain": [
       "2.0"
      ]
     },
     "execution_count": 90,
     "metadata": {},
     "output_type": "execute_result"
    }
   ],
   "source": [
    "sentiment(\"Congrats to @KingJames of the @cavs on joining the exclusive 30,000 Career Points Club!\", True)"
   ]
  },
  {
   "cell_type": "markdown",
   "metadata": {},
   "source": [
    "<img src=\"Capture2.PNG\">"
   ]
  },
  {
   "cell_type": "code",
   "execution_count": 91,
   "metadata": {},
   "outputs": [
    {
     "name": "stdout",
     "output_type": "stream",
     "text": [
      "fired: -2\n"
     ]
    },
    {
     "data": {
      "text/plain": [
       "-2.0"
      ]
     },
     "execution_count": 91,
     "metadata": {},
     "output_type": "execute_result"
    }
   ],
   "source": [
    "sentiment(\"A train conductor in Canada was fired over 'racy' railroad photos!\", True)"
   ]
  },
  {
   "cell_type": "markdown",
   "metadata": {},
   "source": [
    "## Sentiment Analysis of 20 Newgroup"
   ]
  },
  {
   "cell_type": "code",
   "execution_count": 114,
   "metadata": {
    "collapsed": true
   },
   "outputs": [],
   "source": [
    "from sklearn.datasets import fetch_20newsgroups\n",
    "\n",
    "newsgroups_train = fetch_20newsgroups(subset='train', remove=('headers', 'footers', 'quotes'))\n",
    "scores = [sentiment(x) for x in newsgroups_train.data]\n",
    "order = np.argsort(scores)"
   ]
  },
  {
   "cell_type": "code",
   "execution_count": 121,
   "metadata": {},
   "outputs": [
    {
     "name": "stdout",
     "output_type": "stream",
     "text": [
      "Watch your language ASSHOLE!!!!\n",
      "asshole: -4\n",
      "-4.0\n",
      "--------------------------------------------------------------------------------\n",
      "OK, I'm sure that this has been asked 100's of times before, but I\n",
      "have wondered since I heard it...  Where the hell did the nickname\n",
      "of the \"Habs\" come from for the Montreal Canadiens?\n",
      "hell: -4\n",
      "-4.0\n",
      "--------------------------------------------------------------------------------\n",
      "\n",
      "  Bobby:\n",
      "\n",
      "  Get this the hell out of your .sig until you 1) learn what it\n",
      "  stands for and 2) really mean it.\n",
      "\n",
      "/\\/\\/\\/\\/\\/\\/\\/\\/\\/\\/\\/\\/\\/\\/\\/\\/\\/\\/\\/\\/\\/\\/\\/\\/\\/\\/\\/\\/\\/\\/\\/\\/\\/\\ \n",
      "\n",
      "Bob Beauchaine bobbe@vice.ICO.TEK.COM \n",
      "\n",
      "They said that Queens could stay, they blew the Bronx away,\n",
      "and sank Manhattan out at sea.\n",
      "hell: -4\n",
      "-4.0\n",
      "--------------------------------------------------------------------------------\n"
     ]
    }
   ],
   "source": [
    "for i in order[:3]:\n",
    "    print(newsgroups_train.data[i])\n",
    "    print(sentiment(newsgroups_train.data[i], True))\n",
    "    print(\"-\" * 80)"
   ]
  },
  {
   "cell_type": "code",
   "execution_count": 122,
   "metadata": {},
   "outputs": [
    {
     "name": "stdout",
     "output_type": "stream",
     "text": [
      "OK -- so we've got a hotly contested BMWOA election and some inept \n",
      "leadership.\n",
      "\n",
      "My question is the history of the BMW organization that lead to the\n",
      "formation of the BMWRA. Was there something going on in the OA years\n",
      "ago that precipitated the formation of two competing owner's groups?\n",
      "\n",
      "Just to stave off flames: I'm a (relatively new) member of both groups\n",
      "and besides a difference in the slickness of the magazines, it seems\n",
      "the major difference is that the RA guys seem to have more fun. . .\n",
      "\n",
      "Art\n",
      "fun: 4\n",
      "4.0\n",
      "--------------------------------------------------------------------------------\n",
      "\n",
      "\n",
      "[much deleted]\n",
      "\n",
      "amazing.  I could not find _one_ reference to waffle in all of this.\n",
      "\n",
      "followups redirected out.\n",
      "amazing: 4\n",
      "4.0\n",
      "--------------------------------------------------------------------------------\n",
      "\n",
      "I thought it was 1) wins 2) goals for.\n",
      "wins: 4\n",
      "4.0\n",
      "--------------------------------------------------------------------------------\n"
     ]
    }
   ],
   "source": [
    "for i in order[-3:]:\n",
    "    print(newsgroups_train.data[i])\n",
    "    print(sentiment(newsgroups_train.data[i], True))\n",
    "    print(\"-\" * 80)"
   ]
  }
 ],
 "metadata": {
  "kernelspec": {
   "display_name": "Python 3",
   "language": "python",
   "name": "python3"
  },
  "language_info": {
   "codemirror_mode": {
    "name": "ipython",
    "version": 3
   },
   "file_extension": ".py",
   "mimetype": "text/x-python",
   "name": "python",
   "nbconvert_exporter": "python",
   "pygments_lexer": "ipython3",
   "version": "3.6.3"
  }
 },
 "nbformat": 4,
 "nbformat_minor": 1
}
