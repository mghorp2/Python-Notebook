{
 "cells": [
  {
   "cell_type": "markdown",
   "metadata": {},
   "source": [
    " 1. Import the necessary Libraries\n",
    " 2. Checked the Distribution of severity level to determine the data trends\n",
    " 3. Checked if any of the column contains null value as it is the important step in data preparation step\n",
    " 4. Described the data to find out the trends\n",
    " 5. Dtaa Prepartion\n",
    " 6. Model Building\n",
    " "
   ]
  },
  {
   "cell_type": "code",
   "execution_count": 1,
   "metadata": {
    "collapsed": true
   },
   "outputs": [],
   "source": [
    "#Import the required libraries\n",
    "import pandas as pd\n",
    "import numpy as np\n",
    "import matplotlib.pyplot as plt\n",
    "import seaborn as sns\n",
    "from sklearn.model_selection import train_test_split\n",
    "from sklearn.linear_model import SGDClassifier\n",
    "from sklearn.metrics import accuracy_score \n",
    "from sklearn.ensemble import RandomForestClassifier"
   ]
  },
  {
   "cell_type": "code",
   "execution_count": 75,
   "metadata": {},
   "outputs": [
    {
     "data": {
      "text/html": [
       "<div>\n",
       "<style>\n",
       "    .dataframe thead tr:only-child th {\n",
       "        text-align: right;\n",
       "    }\n",
       "\n",
       "    .dataframe thead th {\n",
       "        text-align: left;\n",
       "    }\n",
       "\n",
       "    .dataframe tbody tr th {\n",
       "        vertical-align: top;\n",
       "    }\n",
       "</style>\n",
       "<table border=\"1\" class=\"dataframe\">\n",
       "  <thead>\n",
       "    <tr style=\"text-align: right;\">\n",
       "      <th></th>\n",
       "      <th>PatientID</th>\n",
       "      <th>Age</th>\n",
       "      <th>Sex</th>\n",
       "      <th>Systolic_Blood_Pressure</th>\n",
       "      <th>Diastolic_Blood_Pressure</th>\n",
       "      <th>Weight</th>\n",
       "      <th>Unknown_Metric_1</th>\n",
       "      <th>Unknown_Metric_2</th>\n",
       "      <th>Unknown_Metric_3</th>\n",
       "      <th>Unknown_Metric_4</th>\n",
       "      <th>Unknown_Metric_5</th>\n",
       "      <th>Severity_Level</th>\n",
       "    </tr>\n",
       "  </thead>\n",
       "  <tbody>\n",
       "    <tr>\n",
       "      <th>0</th>\n",
       "      <td>49706</td>\n",
       "      <td>39</td>\n",
       "      <td>Female</td>\n",
       "      <td>101.617996</td>\n",
       "      <td>73.906511</td>\n",
       "      <td>159.570921</td>\n",
       "      <td>37.586451</td>\n",
       "      <td>53.486912</td>\n",
       "      <td>1.142117</td>\n",
       "      <td>88.226718</td>\n",
       "      <td>0.781133</td>\n",
       "      <td>0</td>\n",
       "    </tr>\n",
       "    <tr>\n",
       "      <th>1</th>\n",
       "      <td>83488</td>\n",
       "      <td>18</td>\n",
       "      <td>Female</td>\n",
       "      <td>83.551292</td>\n",
       "      <td>27.639837</td>\n",
       "      <td>124.538409</td>\n",
       "      <td>1021.198140</td>\n",
       "      <td>-48.697310</td>\n",
       "      <td>10.968325</td>\n",
       "      <td>98.780793</td>\n",
       "      <td>0.127519</td>\n",
       "      <td>7</td>\n",
       "    </tr>\n",
       "    <tr>\n",
       "      <th>2</th>\n",
       "      <td>50220</td>\n",
       "      <td>68</td>\n",
       "      <td>Male</td>\n",
       "      <td>111.458120</td>\n",
       "      <td>57.612856</td>\n",
       "      <td>140.490142</td>\n",
       "      <td>-658.163446</td>\n",
       "      <td>64.879688</td>\n",
       "      <td>-7.924638</td>\n",
       "      <td>78.488352</td>\n",
       "      <td>3.259557</td>\n",
       "      <td>0</td>\n",
       "    </tr>\n",
       "    <tr>\n",
       "      <th>3</th>\n",
       "      <td>55952</td>\n",
       "      <td>59</td>\n",
       "      <td>Male</td>\n",
       "      <td>86.805826</td>\n",
       "      <td>58.821097</td>\n",
       "      <td>193.578685</td>\n",
       "      <td>-1768.631189</td>\n",
       "      <td>173.566996</td>\n",
       "      <td>-52.709014</td>\n",
       "      <td>30.386614</td>\n",
       "      <td>1.301406</td>\n",
       "      <td>2</td>\n",
       "    </tr>\n",
       "    <tr>\n",
       "      <th>4</th>\n",
       "      <td>89964</td>\n",
       "      <td>11</td>\n",
       "      <td>Female</td>\n",
       "      <td>115.882419</td>\n",
       "      <td>52.269411</td>\n",
       "      <td>166.770215</td>\n",
       "      <td>3473.834750</td>\n",
       "      <td>-81.505030</td>\n",
       "      <td>131.076962</td>\n",
       "      <td>227.786366</td>\n",
       "      <td>1.649680</td>\n",
       "      <td>8</td>\n",
       "    </tr>\n",
       "  </tbody>\n",
       "</table>\n",
       "</div>"
      ],
      "text/plain": [
       "   PatientID  Age     Sex  Systolic_Blood_Pressure  Diastolic_Blood_Pressure  \\\n",
       "0      49706   39  Female               101.617996                 73.906511   \n",
       "1      83488   18  Female                83.551292                 27.639837   \n",
       "2      50220   68    Male               111.458120                 57.612856   \n",
       "3      55952   59    Male                86.805826                 58.821097   \n",
       "4      89964   11  Female               115.882419                 52.269411   \n",
       "\n",
       "       Weight  Unknown_Metric_1  Unknown_Metric_2  Unknown_Metric_3  \\\n",
       "0  159.570921         37.586451         53.486912          1.142117   \n",
       "1  124.538409       1021.198140        -48.697310         10.968325   \n",
       "2  140.490142       -658.163446         64.879688         -7.924638   \n",
       "3  193.578685      -1768.631189        173.566996        -52.709014   \n",
       "4  166.770215       3473.834750        -81.505030        131.076962   \n",
       "\n",
       "   Unknown_Metric_4  Unknown_Metric_5  Severity_Level  \n",
       "0         88.226718          0.781133               0  \n",
       "1         98.780793          0.127519               7  \n",
       "2         78.488352          3.259557               0  \n",
       "3         30.386614          1.301406               2  \n",
       "4        227.786366          1.649680               8  "
      ]
     },
     "execution_count": 75,
     "metadata": {},
     "output_type": "execute_result"
    }
   ],
   "source": [
    "#Read the file and rename the columns for easier usibility\n",
    "source_folder  = \"C:\\\\Users\\\\Mrunal-PC\\\\Desktop\\\\\"\n",
    "df = pd.read_csv(source_folder+\"disease_data.csv\")\n",
    "df.columns = ['PatientID', 'Age', 'Sex', 'Systolic_Blood_Pressure','Diastolic_Blood_Pressure', 'Weight', 'Unknown_Metric_1','Unknown_Metric_2', 'Unknown_Metric_3', 'Unknown_Metric_4','Unknown_Metric_5', 'Severity_Level']\n",
    "df.head(5)"
   ]
  },
  {
   "cell_type": "code",
   "execution_count": 76,
   "metadata": {},
   "outputs": [
    {
     "data": {
      "image/png": "[encoded data removed]",
      "text/plain": [
       "<matplotlib.figure.Figure at 0x1c787600dd8>"
      ]
     },
     "metadata": {},
     "output_type": "display_data"
    }
   ],
   "source": [
    "#Check the distribution of the Severity Level\n",
    "df_count_check = df.Severity_Level.value_counts()\n",
    "df_count_check = df_count_check.sort_index(axis = 0)\n",
    "x = np.arange(len(df_count_check.index))\n",
    "fig, ax = plt.subplots()\n",
    "plt.bar(x, df_count_check.values)\n",
    "plt.xticks(x, (df_count_check.index))\n",
    "plt.title(\"Severity Level Distribution\")\n",
    "plt.xlabel(\"Severity Level\")\n",
    "plt.ylabel(\"Count\")\n",
    "plt.show()"
   ]
  },
  {
   "cell_type": "code",
   "execution_count": 77,
   "metadata": {},
   "outputs": [
    {
     "name": "stdout",
     "output_type": "stream",
     "text": [
      "False\n"
     ]
    },
    {
     "data": {
      "text/html": [
       "<div>\n",
       "<style>\n",
       "    .dataframe thead tr:only-child th {\n",
       "        text-align: right;\n",
       "    }\n",
       "\n",
       "    .dataframe thead th {\n",
       "        text-align: left;\n",
       "    }\n",
       "\n",
       "    .dataframe tbody tr th {\n",
       "        vertical-align: top;\n",
       "    }\n",
       "</style>\n",
       "<table border=\"1\" class=\"dataframe\">\n",
       "  <thead>\n",
       "    <tr style=\"text-align: right;\">\n",
       "      <th></th>\n",
       "      <th>PatientID</th>\n",
       "      <th>Age</th>\n",
       "      <th>Systolic_Blood_Pressure</th>\n",
       "      <th>Diastolic_Blood_Pressure</th>\n",
       "      <th>Weight</th>\n",
       "      <th>Unknown_Metric_1</th>\n",
       "      <th>Unknown_Metric_2</th>\n",
       "      <th>Unknown_Metric_3</th>\n",
       "      <th>Unknown_Metric_4</th>\n",
       "      <th>Unknown_Metric_5</th>\n",
       "      <th>Severity_Level</th>\n",
       "    </tr>\n",
       "  </thead>\n",
       "  <tbody>\n",
       "    <tr>\n",
       "      <th>count</th>\n",
       "      <td>88959.000000</td>\n",
       "      <td>88959.000000</td>\n",
       "      <td>88959.000000</td>\n",
       "      <td>88959.000000</td>\n",
       "      <td>88959.000000</td>\n",
       "      <td>88959.000000</td>\n",
       "      <td>88959.000000</td>\n",
       "      <td>88959.000000</td>\n",
       "      <td>88959.000000</td>\n",
       "      <td>88959.000000</td>\n",
       "      <td>88959.000000</td>\n",
       "    </tr>\n",
       "    <tr>\n",
       "      <th>mean</th>\n",
       "      <td>46801.563484</td>\n",
       "      <td>32.497375</td>\n",
       "      <td>115.423501</td>\n",
       "      <td>70.541473</td>\n",
       "      <td>162.395922</td>\n",
       "      <td>-64.908233</td>\n",
       "      <td>56.960370</td>\n",
       "      <td>-8.531475</td>\n",
       "      <td>77.836563</td>\n",
       "      <td>-0.006722</td>\n",
       "      <td>4.445925</td>\n",
       "    </tr>\n",
       "    <tr>\n",
       "      <th>std</th>\n",
       "      <td>27034.926058</td>\n",
       "      <td>24.969818</td>\n",
       "      <td>20.663254</td>\n",
       "      <td>25.096961</td>\n",
       "      <td>21.649844</td>\n",
       "      <td>1158.767227</td>\n",
       "      <td>61.786880</td>\n",
       "      <td>44.132805</td>\n",
       "      <td>47.401901</td>\n",
       "      <td>2.002360</td>\n",
       "      <td>2.875266</td>\n",
       "    </tr>\n",
       "    <tr>\n",
       "      <th>min</th>\n",
       "      <td>0.000000</td>\n",
       "      <td>-70.000000</td>\n",
       "      <td>23.402478</td>\n",
       "      <td>-36.668486</td>\n",
       "      <td>75.698370</td>\n",
       "      <td>-5577.565571</td>\n",
       "      <td>-267.330496</td>\n",
       "      <td>-189.549892</td>\n",
       "      <td>-116.590625</td>\n",
       "      <td>-8.116244</td>\n",
       "      <td>0.000000</td>\n",
       "    </tr>\n",
       "    <tr>\n",
       "      <th>25%</th>\n",
       "      <td>23386.500000</td>\n",
       "      <td>15.000000</td>\n",
       "      <td>100.879256</td>\n",
       "      <td>53.537310</td>\n",
       "      <td>146.931203</td>\n",
       "      <td>-806.820414</td>\n",
       "      <td>18.216144</td>\n",
       "      <td>-38.718575</td>\n",
       "      <td>45.413382</td>\n",
       "      <td>-1.360208</td>\n",
       "      <td>2.000000</td>\n",
       "    </tr>\n",
       "    <tr>\n",
       "      <th>50%</th>\n",
       "      <td>46763.000000</td>\n",
       "      <td>33.000000</td>\n",
       "      <td>113.659461</td>\n",
       "      <td>71.677094</td>\n",
       "      <td>162.069232</td>\n",
       "      <td>-82.373845</td>\n",
       "      <td>54.861295</td>\n",
       "      <td>-10.661890</td>\n",
       "      <td>75.548340</td>\n",
       "      <td>-0.010604</td>\n",
       "      <td>4.000000</td>\n",
       "    </tr>\n",
       "    <tr>\n",
       "      <th>75%</th>\n",
       "      <td>70243.500000</td>\n",
       "      <td>50.000000</td>\n",
       "      <td>129.723556</td>\n",
       "      <td>87.966487</td>\n",
       "      <td>177.532595</td>\n",
       "      <td>666.668893</td>\n",
       "      <td>93.662973</td>\n",
       "      <td>21.665915</td>\n",
       "      <td>110.270797</td>\n",
       "      <td>1.346553</td>\n",
       "      <td>7.000000</td>\n",
       "    </tr>\n",
       "    <tr>\n",
       "      <th>max</th>\n",
       "      <td>93641.000000</td>\n",
       "      <td>145.000000</td>\n",
       "      <td>200.103087</td>\n",
       "      <td>177.117208</td>\n",
       "      <td>254.727712</td>\n",
       "      <td>4967.090579</td>\n",
       "      <td>376.109811</td>\n",
       "      <td>179.393942</td>\n",
       "      <td>279.682382</td>\n",
       "      <td>8.591893</td>\n",
       "      <td>9.000000</td>\n",
       "    </tr>\n",
       "  </tbody>\n",
       "</table>\n",
       "</div>"
      ],
      "text/plain": [
       "          PatientID           Age  Systolic_Blood_Pressure  \\\n",
       "count  88959.000000  88959.000000             88959.000000   \n",
       "mean   46801.563484     32.497375               115.423501   \n",
       "std    27034.926058     24.969818                20.663254   \n",
       "min        0.000000    -70.000000                23.402478   \n",
       "25%    23386.500000     15.000000               100.879256   \n",
       "50%    46763.000000     33.000000               113.659461   \n",
       "75%    70243.500000     50.000000               129.723556   \n",
       "max    93641.000000    145.000000               200.103087   \n",
       "\n",
       "       Diastolic_Blood_Pressure        Weight  Unknown_Metric_1  \\\n",
       "count              88959.000000  88959.000000      88959.000000   \n",
       "mean                  70.541473    162.395922        -64.908233   \n",
       "std                   25.096961     21.649844       1158.767227   \n",
       "min                  -36.668486     75.698370      -5577.565571   \n",
       "25%                   53.537310    146.931203       -806.820414   \n",
       "50%                   71.677094    162.069232        -82.373845   \n",
       "75%                   87.966487    177.532595        666.668893   \n",
       "max                  177.117208    254.727712       4967.090579   \n",
       "\n",
       "       Unknown_Metric_2  Unknown_Metric_3  Unknown_Metric_4  Unknown_Metric_5  \\\n",
       "count      88959.000000      88959.000000      88959.000000      88959.000000   \n",
       "mean          56.960370         -8.531475         77.836563         -0.006722   \n",
       "std           61.786880         44.132805         47.401901          2.002360   \n",
       "min         -267.330496       -189.549892       -116.590625         -8.116244   \n",
       "25%           18.216144        -38.718575         45.413382         -1.360208   \n",
       "50%           54.861295        -10.661890         75.548340         -0.010604   \n",
       "75%           93.662973         21.665915        110.270797          1.346553   \n",
       "max          376.109811        179.393942        279.682382          8.591893   \n",
       "\n",
       "       Severity_Level  \n",
       "count    88959.000000  \n",
       "mean         4.445925  \n",
       "std          2.875266  \n",
       "min          0.000000  \n",
       "25%          2.000000  \n",
       "50%          4.000000  \n",
       "75%          7.000000  \n",
       "max          9.000000  "
      ]
     },
     "execution_count": 77,
     "metadata": {},
     "output_type": "execute_result"
    }
   ],
   "source": [
    "#Check if NA values are present in the dataset\n",
    "print(df.isnull().values.any())\n",
    "df.describe()"
   ]
  },
  {
   "cell_type": "markdown",
   "metadata": {},
   "source": [
    "From the data distribution, we can see that the Age column contains negative values. So, let check the number of records where Age column has negative values."
   ]
  },
  {
   "cell_type": "code",
   "execution_count": 78,
   "metadata": {},
   "outputs": [
    {
     "name": "stdout",
     "output_type": "stream",
     "text": [
      "Number of records with Negative Age:8371\n",
      "Percentage of records with Negative Age value:9.41% \n"
     ]
    }
   ],
   "source": [
    "age_negative_value = df[df['Age'] < 0 ].shape[0]\n",
    "print(\"Number of records with Negative Age:%s\"%age_negative_value)\n",
    "print(\"Percentage of records with Negative Age value:{0:.2f}% \".format(age_negative_value*100/df.shape[0]))"
   ]
  },
  {
   "cell_type": "markdown",
   "metadata": {},
   "source": [
    "As 9.41% of the records contains negative value in the Age column, we can not eliminate those records and as Age can not be negative, we will conver the Age values by using the abs function and then we can convert it into different categories to make it more accessible for model building"
   ]
  },
  {
   "cell_type": "code",
   "execution_count": 79,
   "metadata": {},
   "outputs": [
    {
     "name": "stdout",
     "output_type": "stream",
     "text": [
      "0\n"
     ]
    }
   ],
   "source": [
    "df['Age'] = df['Age'].map(lambda x: np.abs(x))\n",
    "#Check if the Age column contains any negative values\n",
    "print(df[df['Age'] < 0 ].shape[0])\n",
    "#Convert Age into different Categories\n",
    "age_bins = [0,12, 25, 45, 65, 150]\n",
    "age_labels = [\"Child\",\"Young\", \"Middle-aged\", \"Senior\", \"Old\"]\n",
    "df['Age_category'] = pd.cut(df['Age'], age_bins, labels=age_labels, right=True, include_lowest=True)\n",
    "df = df.drop('Age',axis= 1)"
   ]
  },
  {
   "cell_type": "code",
   "execution_count": 80,
   "metadata": {},
   "outputs": [
    {
     "data": {
      "image/png": "[encoded data removed]",
      "text/plain": [
       "<matplotlib.figure.Figure at 0x1c7875fd908>"
      ]
     },
     "metadata": {},
     "output_type": "display_data"
    }
   ],
   "source": [
    "df_age_category_count = df.Age_category.value_counts()\n",
    "df_age_category_count\n",
    "x = np.arange(len(df_age_category_count.index))\n",
    "fig, ax = plt.subplots()\n",
    "plt.bar(x, df_age_category_count.values)\n",
    "plt.xticks(x, (df_age_category_count.index))\n",
    "plt.title(\"Age Distribution\")\n",
    "plt.xlabel(\"Age Category Level\")\n",
    "plt.ylabel(\"Count\")\n",
    "plt.show()"
   ]
  },
  {
   "cell_type": "code",
   "execution_count": 81,
   "metadata": {},
   "outputs": [
    {
     "data": {
      "image/png": "[encoded data removed]",
      "text/plain": [
       "<matplotlib.figure.Figure at 0x1c8a5377208>"
      ]
     },
     "metadata": {},
     "output_type": "display_data"
    }
   ],
   "source": [
    "df_sex_count = df.Sex.value_counts()\n",
    "labels  = list(df_sex_count.index)\n",
    "fig1, ax1 = plt.subplots()\n",
    "ax1.pie(df_sex_count.values,  labels=labels, autopct='%1.1f%%',shadow=True, startangle=90)\n",
    "plt.title(\"Gender Distribution\")\n",
    "plt.show()"
   ]
  },
  {
   "cell_type": "code",
   "execution_count": 82,
   "metadata": {},
   "outputs": [
    {
     "data": {
      "image/png": "[encoded data removed]",
      "text/plain": [
       "<matplotlib.figure.Figure at 0x1c7fa95f6a0>"
      ]
     },
     "metadata": {},
     "output_type": "display_data"
    }
   ],
   "source": [
    "#Plot Correlation matrix \n",
    "corr = df.corr()\n",
    "plt.figure(figsize=(10,6))\n",
    "sns.heatmap(corr, xticklabels=corr.columns.values,yticklabels=corr.columns.values)\n",
    "plt.show()"
   ]
  },
  {
   "cell_type": "markdown",
   "metadata": {},
   "source": [
    "As our data contains two Categorical variables i.e, Sex and Age Category, we will convert them into numerical variables using dummies function available in pandas. Also, PatientId is unique identifier for the patient and hence we can drop it from our calculations"
   ]
  },
  {
   "cell_type": "code",
   "execution_count": 83,
   "metadata": {},
   "outputs": [
    {
     "data": {
      "text/html": [
       "<div>\n",
       "<style>\n",
       "    .dataframe thead tr:only-child th {\n",
       "        text-align: right;\n",
       "    }\n",
       "\n",
       "    .dataframe thead th {\n",
       "        text-align: left;\n",
       "    }\n",
       "\n",
       "    .dataframe tbody tr th {\n",
       "        vertical-align: top;\n",
       "    }\n",
       "</style>\n",
       "<table border=\"1\" class=\"dataframe\">\n",
       "  <thead>\n",
       "    <tr style=\"text-align: right;\">\n",
       "      <th></th>\n",
       "      <th>PatientID</th>\n",
       "      <th>Sex</th>\n",
       "      <th>Systolic_Blood_Pressure</th>\n",
       "      <th>Diastolic_Blood_Pressure</th>\n",
       "      <th>Weight</th>\n",
       "      <th>Unknown_Metric_1</th>\n",
       "      <th>Unknown_Metric_2</th>\n",
       "      <th>Unknown_Metric_3</th>\n",
       "      <th>Unknown_Metric_4</th>\n",
       "      <th>Unknown_Metric_5</th>\n",
       "      <th>Severity_Level</th>\n",
       "      <th>Age_category</th>\n",
       "    </tr>\n",
       "  </thead>\n",
       "  <tbody>\n",
       "    <tr>\n",
       "      <th>0</th>\n",
       "      <td>49706</td>\n",
       "      <td>Female</td>\n",
       "      <td>101.617996</td>\n",
       "      <td>73.906511</td>\n",
       "      <td>159.570921</td>\n",
       "      <td>37.586451</td>\n",
       "      <td>53.486912</td>\n",
       "      <td>1.142117</td>\n",
       "      <td>88.226718</td>\n",
       "      <td>0.781133</td>\n",
       "      <td>0</td>\n",
       "      <td>Middle-aged</td>\n",
       "    </tr>\n",
       "    <tr>\n",
       "      <th>1</th>\n",
       "      <td>83488</td>\n",
       "      <td>Female</td>\n",
       "      <td>83.551292</td>\n",
       "      <td>27.639837</td>\n",
       "      <td>124.538409</td>\n",
       "      <td>1021.198140</td>\n",
       "      <td>-48.697310</td>\n",
       "      <td>10.968325</td>\n",
       "      <td>98.780793</td>\n",
       "      <td>0.127519</td>\n",
       "      <td>7</td>\n",
       "      <td>Young</td>\n",
       "    </tr>\n",
       "    <tr>\n",
       "      <th>2</th>\n",
       "      <td>50220</td>\n",
       "      <td>Male</td>\n",
       "      <td>111.458120</td>\n",
       "      <td>57.612856</td>\n",
       "      <td>140.490142</td>\n",
       "      <td>-658.163446</td>\n",
       "      <td>64.879688</td>\n",
       "      <td>-7.924638</td>\n",
       "      <td>78.488352</td>\n",
       "      <td>3.259557</td>\n",
       "      <td>0</td>\n",
       "      <td>Old</td>\n",
       "    </tr>\n",
       "    <tr>\n",
       "      <th>3</th>\n",
       "      <td>55952</td>\n",
       "      <td>Male</td>\n",
       "      <td>86.805826</td>\n",
       "      <td>58.821097</td>\n",
       "      <td>193.578685</td>\n",
       "      <td>-1768.631189</td>\n",
       "      <td>173.566996</td>\n",
       "      <td>-52.709014</td>\n",
       "      <td>30.386614</td>\n",
       "      <td>1.301406</td>\n",
       "      <td>2</td>\n",
       "      <td>Senior</td>\n",
       "    </tr>\n",
       "    <tr>\n",
       "      <th>4</th>\n",
       "      <td>89964</td>\n",
       "      <td>Female</td>\n",
       "      <td>115.882419</td>\n",
       "      <td>52.269411</td>\n",
       "      <td>166.770215</td>\n",
       "      <td>3473.834750</td>\n",
       "      <td>-81.505030</td>\n",
       "      <td>131.076962</td>\n",
       "      <td>227.786366</td>\n",
       "      <td>1.649680</td>\n",
       "      <td>8</td>\n",
       "      <td>Child</td>\n",
       "    </tr>\n",
       "  </tbody>\n",
       "</table>\n",
       "</div>"
      ],
      "text/plain": [
       "   PatientID     Sex  Systolic_Blood_Pressure  Diastolic_Blood_Pressure  \\\n",
       "0      49706  Female               101.617996                 73.906511   \n",
       "1      83488  Female                83.551292                 27.639837   \n",
       "2      50220    Male               111.458120                 57.612856   \n",
       "3      55952    Male                86.805826                 58.821097   \n",
       "4      89964  Female               115.882419                 52.269411   \n",
       "\n",
       "       Weight  Unknown_Metric_1  Unknown_Metric_2  Unknown_Metric_3  \\\n",
       "0  159.570921         37.586451         53.486912          1.142117   \n",
       "1  124.538409       1021.198140        -48.697310         10.968325   \n",
       "2  140.490142       -658.163446         64.879688         -7.924638   \n",
       "3  193.578685      -1768.631189        173.566996        -52.709014   \n",
       "4  166.770215       3473.834750        -81.505030        131.076962   \n",
       "\n",
       "   Unknown_Metric_4  Unknown_Metric_5  Severity_Level Age_category  \n",
       "0         88.226718          0.781133               0  Middle-aged  \n",
       "1         98.780793          0.127519               7        Young  \n",
       "2         78.488352          3.259557               0          Old  \n",
       "3         30.386614          1.301406               2       Senior  \n",
       "4        227.786366          1.649680               8        Child  "
      ]
     },
     "execution_count": 83,
     "metadata": {},
     "output_type": "execute_result"
    }
   ],
   "source": [
    "df.head(5)"
   ]
  },
  {
   "cell_type": "code",
   "execution_count": 84,
   "metadata": {},
   "outputs": [],
   "source": [
    "#Split the data into training and testing test\n",
    "df = df.drop('PatientID',axis = 1)\n",
    "y = df['Severity_Level']\n",
    "y = y.apply(str)\n",
    "X = df.drop('Severity_Level', axis=1)"
   ]
  },
  {
   "cell_type": "code",
   "execution_count": 85,
   "metadata": {
    "collapsed": true
   },
   "outputs": [],
   "source": [
    "def convert_categorical_dummy(df):\n",
    "    age_dummies=pd.get_dummies(df['Age_category'])\n",
    "    sex_dummies=pd.get_dummies(df['Sex'])\n",
    "    df = df.drop('Age_category',axis=1)\n",
    "    df = df.join(age_dummies)\n",
    "    df = df.drop('Sex',axis=1)\n",
    "    df = df.join(sex_dummies)\n",
    "    \n",
    "    return df\n"
   ]
  },
  {
   "cell_type": "code",
   "execution_count": 86,
   "metadata": {
    "collapsed": true
   },
   "outputs": [],
   "source": [
    "def randomforest(X_train,y_train,X_test,y_test):\n",
    "    clf_rf= RandomForestClassifier(n_estimators= 1000,n_jobs=2,random_state=42).fit(X_train,y_train)\n",
    "    pred_test=clf_rf.predict(X_test)\n",
    "    return pred_test\n"
   ]
  },
  {
   "cell_type": "code",
   "execution_count": 87,
   "metadata": {
    "collapsed": true
   },
   "outputs": [],
   "source": [
    "def predict(X,y):\n",
    "    X_train, X_test, y_train, y_test = train_test_split(X, y, test_size=0.30,random_state = 42)\n",
    "    X_train = convert_categorical_dummy(X_train)\n",
    "    X_test = convert_categorical_dummy(X_test)\n",
    "    predictions = randomforest(X_train,y_train,X_test,y_test)\n",
    "    return predictions\n",
    "    "
   ]
  },
  {
   "cell_type": "code",
   "execution_count": 88,
   "metadata": {},
   "outputs": [
    {
     "name": "stdout",
     "output_type": "stream",
     "text": [
      "['5' '5' '8' ..., '4' '6' '3']\n"
     ]
    }
   ],
   "source": [
    "predictions = predict(X,y)\n",
    "print(predictions)"
   ]
  },
  {
   "cell_type": "code",
   "execution_count": null,
   "metadata": {
    "collapsed": true
   },
   "outputs": [],
   "source": []
  }
 ],
 "metadata": {
  "kernelspec": {
   "display_name": "Python 3",
   "language": "python",
   "name": "python3"
  },
  "language_info": {
   "codemirror_mode": {
    "name": "ipython",
    "version": 3
   },
   "file_extension": ".py",
   "mimetype": "text/x-python",
   "name": "python",
   "nbconvert_exporter": "python",
   "pygments_lexer": "ipython3",
   "version": "3.6.3"
  }
 },
 "nbformat": 4,
 "nbformat_minor": 2
}
