{
 "cells": [
  {
   "cell_type": "code",
   "execution_count": null,
   "metadata": {
    "collapsed": true
   },
   "outputs": [],
   "source": [
    "import string\n",
    "list_operators = ['+','-','*','/','^']\n",
    "variable_list = list(string.ascii_lowercase)\n",
    "def  postfix_to_infix( expression):\n",
    "    exp = expression\n",
    "    final_string = \"\"\n",
    "    infix_list = []\n",
    "    s= []\n",
    "    print(exp)\n",
    "    for idx,item in enumerate(exp):\n",
    "        if item == ' ':\n",
    "            pass\n",
    "        else:\n",
    "            item = item.lower()\n",
    "            if item not in list_operators and item not in variable_list:\n",
    "                final_string = 'invalid'\n",
    "                break\n",
    "            elif item not in list_operators:\n",
    "                if idx == len(exp) -1:\n",
    "                    final_string = 'invalid'\n",
    "                    break\n",
    "                else:\n",
    "                    s.append(item)\n",
    "            else:\n",
    "                if len(s) == 1:\n",
    "                    final_string = \"invalid\"\n",
    "                    break\n",
    "                else:\n",
    "                    right_operand= s.pop()\n",
    "                    left_operand = s.pop()\n",
    "                    if len(right_operand)>=5 or len(left_operand)>=5:\n",
    "                        \n",
    "                        string_new = left_operand+item+right_operand\n",
    "                        \n",
    "                    else:\n",
    "                        string_new = \"(\"+left_operand+item+right_operand+\")\"\n",
    "                    s.append(string_new)\n",
    "                    #print(string_new)\n",
    "                    print(s[0])\n",
    "\n",
    "    if final_string == \"invalid\":\n",
    "        pass\n",
    "    else:\n",
    "        while len(s)!= 0:    \n",
    "            infix_list.append(s.pop())\n",
    "        final= \"\".join(infix_list)\n",
    "        if len(final)<=5:\n",
    "            final = \"\".join(infix_list)\n",
    "            a=len(final)\n",
    "            final_string=final[1:a-1]\n",
    "        else:\n",
    "            for idx1 in 1:len(infix_list):\n",
    "                if idx%%2 != 0:\n",
    "                    if infix_list\n",
    "            final_string = \"\".join(infix_list)\n",
    "            \n",
    "    print(final_string)"
   ]
  },
  {
   "cell_type": "code",
   "execution_count": null,
   "metadata": {
    "collapsed": true
   },
   "outputs": [],
   "source": [
    "_expression = str(input())\n",
    "\n",
    "res = postfix_to_infix(_expression)\n"
   ]
  },
  {
   "cell_type": "code",
   "execution_count": null,
   "metadata": {
    "collapsed": true
   },
   "outputs": [],
   "source": [
    "if __name__ == '__main__':\n",
    "    n = int(input())\n",
    "    integer_list = map(int, input().split())"
   ]
  },
  {
   "cell_type": "code",
   "execution_count": null,
   "metadata": {
    "collapsed": true
   },
   "outputs": [],
   "source": [
    "tup=()\n",
    "l=list(integer_list)\n",
    "for i in range(0,n):\n",
    "    tup=tup+(l[i],)\n",
    "print(hash(tup))\n",
    "    \n",
    "    "
   ]
  },
  {
   "cell_type": "code",
   "execution_count": null,
   "metadata": {
    "collapsed": true
   },
   "outputs": [],
   "source": [
    "l=set(integer_list)\n",
    "print(l)\n",
    "print(type(l))"
   ]
  },
  {
   "cell_type": "code",
   "execution_count": null,
   "metadata": {
    "collapsed": true
   },
   "outputs": [],
   "source": [
    "if __name__ == '__main__':\n",
    "    x = int(input())\n",
    "    y = int(input())\n",
    "    z = int(input())\n",
    "    n = int(input())"
   ]
  },
  {
   "cell_type": "code",
   "execution_count": null,
   "metadata": {
    "collapsed": true
   },
   "outputs": [],
   "source": [
    "S=[[i,j,k] for i in range(x+1) for j in range(y+1) for k in range (z+1) if (i+j+k)!=n]\n",
    "print(S)"
   ]
  },
  {
   "cell_type": "code",
   "execution_count": null,
   "metadata": {
    "collapsed": true
   },
   "outputs": [],
   "source": [
    "exp1='(a+b)'\n",
    "exp2='(c+d)'\n",
    "item=\"/\"\n",
    "if len(exp1)>=5 or len(exp2)>=5:\n",
    "    string_new = exp1+item+exp2\n",
    "else:\n",
    "    string_new = \"(\"+exp1+item+exp2+\")\"\n",
    "    \n",
    "print(string_new)"
   ]
  },
  {
   "cell_type": "code",
   "execution_count": 51,
   "metadata": {},
   "outputs": [
    {
     "name": "stdout",
     "output_type": "stream",
     "text": [
      "5\n",
      "1 3 4 4 5\n"
     ]
    }
   ],
   "source": [
    " if __name__ == '__main__':\n",
    "    n = int(input())\n",
    "    arr = map(int, input().split())\n",
    "    "
   ]
  },
  {
   "cell_type": "code",
   "execution_count": 52,
   "metadata": {},
   "outputs": [
    {
     "name": "stdout",
     "output_type": "stream",
     "text": [
      "4\n"
     ]
    }
   ],
   "source": [
    "arr1=list(arr)\n",
    "arr2=sorted(arr1,reverse=True)\n",
    "for i in range(0,n-1):\n",
    "    if arr2[i]>arr2[i+1]:\n",
    "        break\n",
    "print(arr2[i+1])\n",
    "    \n"
   ]
  },
  {
   "cell_type": "code",
   "execution_count": 80,
   "metadata": {},
   "outputs": [
    {
     "name": "stdout",
     "output_type": "stream",
     "text": [
      "4\n",
      "a\n",
      "56\n",
      "d\n",
      "50\n",
      "c\n",
      "50\n",
      "b\n",
      "30\n",
      "[['a', 56.0], ['d', 50.0], ['c', 50.0], ['b', 30.0]]\n"
     ]
    }
   ],
   "source": [
    "if __name__ == '__main__':\n",
    "    list1=[]\n",
    "    n = int(input())\n",
    "    for i in range(n):\n",
    "        name = input()\n",
    "        score = float(input())\n",
    "        list1.append([name,score])\n",
    "print(list1)        "
   ]
  },
  {
   "cell_type": "code",
   "execution_count": 82,
   "metadata": {},
   "outputs": [
    {
     "name": "stdout",
     "output_type": "stream",
     "text": [
      "c\n",
      "d\n"
     ]
    }
   ],
   "source": [
    "\n",
    "list1.sort(key=lambda x: x[1])\n",
    "for i in range(0,n-1):\n",
    "    if list1[i][1]<list1[i+1][1]:\n",
    "        break\n",
    "l=list1[i+1][1]\n",
    "list1.sort(key=lambda x: x[0])\n",
    "for i in range(0,n):\n",
    "    if list1[i][1]==l:\n",
    "        print(list1[i][0])\n"
   ]
  },
  {
   "cell_type": "code",
   "execution_count": 72,
   "metadata": {},
   "outputs": [
    {
     "name": "stdout",
     "output_type": "stream",
     "text": [
      "34.0\n",
      "34.0\n",
      "34.0\n",
      "33.0\n",
      "[['s', 34.0]]\n"
     ]
    }
   ],
   "source": [
    "list2=[]\n",
    "for i in range(0,n-1):\n",
    "    for j in range(0,n):\n",
    "        print(list1[i][1])\n",
    "        print(list1[j][1])\n",
    "        if list1[i][1]>list1[j][1]:\n",
    "            list2.append([list1[i][0],list1[i][1]])\n",
    "print(list2)            "
   ]
  },
  {
   "cell_type": "code",
   "execution_count": 83,
   "metadata": {},
   "outputs": [
    {
     "name": "stdout",
     "output_type": "stream",
     "text": [
      "2\n",
      "Krishna 67 68 69\n",
      "Malika 52 56 60\n",
      "Malika\n"
     ]
    }
   ],
   "source": [
    "if __name__ == '__main__':\n",
    "    n = int(input())\n",
    "    student_marks = {}\n",
    "    for _ in range(n):\n",
    "        name, *line = input().split()\n",
    "        scores = list(map(float, line))\n",
    "        student_marks[name] = scores\n",
    "    query_name = input()"
   ]
  },
  {
   "cell_type": "code",
   "execution_count": 106,
   "metadata": {},
   "outputs": [
    {
     "name": "stdout",
     "output_type": "stream",
     "text": [
      "Malika\n",
      "56.00\n"
     ]
    }
   ],
   "source": [
    "marks=[]\n",
    "query=str(query_name)\n",
    "print(query)\n",
    "marks=student_marks[query]\n",
    "length=len(marks)\n",
    "summ=0\n",
    "for i in range(0,length):\n",
    "    summ=float(marks[i])+summ\n",
    "avg=summ/length\n",
    "print(\"%.2f\" %avg) \n"
   ]
  },
  {
   "cell_type": "code",
   "execution_count": 93,
   "metadata": {},
   "outputs": [
    {
     "name": "stdout",
     "output_type": "stream",
     "text": [
      "Krishna\n",
      "[67.0, 68.0, 69.0]\n",
      "Malika\n",
      "[52.0, 56.0, 60.0]\n"
     ]
    }
   ],
   "source": [
    "for key in student_marks.keys():\n",
    "    print(key)\n",
    "    print(student_marks[key])"
   ]
  },
  {
   "cell_type": "code",
   "execution_count": 116,
   "metadata": {},
   "outputs": [
    {
     "name": "stdout",
     "output_type": "stream",
     "text": [
      "asd\n",
      "xcv\n",
      "Hello asdxcv! You just delved into python.\n"
     ]
    }
   ],
   "source": [
    "if __name__ == '__main__':\n",
    "    first_name = input()\n",
    "    last_name = input()\n",
    "    print_full_name(first_name, last_name)\n"
   ]
  },
  {
   "cell_type": "code",
   "execution_count": 115,
   "metadata": {
    "collapsed": true
   },
   "outputs": [],
   "source": [
    "def print_full_name(a, b):\n",
    "   \n",
    "    print(\"Hello \"+str(a)+str(b)+\"! You just delved into python.\")"
   ]
  },
  {
   "cell_type": "code",
   "execution_count": 117,
   "metadata": {
    "collapsed": true
   },
   "outputs": [],
   "source": [
    "def mutate_string(string, position, character):\n",
    "    l=list(string)\n",
    "    l[position]=character\n",
    "    s=''.join(l)\n",
    "    return s"
   ]
  },
  {
   "cell_type": "code",
   "execution_count": 118,
   "metadata": {},
   "outputs": [
    {
     "name": "stdout",
     "output_type": "stream",
     "text": [
      "abracadabra\n",
      "5 k\n",
      "abrackdabra\n"
     ]
    }
   ],
   "source": [
    "if __name__ == '__main__':\n",
    "    s = input()\n",
    "    i, c = input().split()\n",
    "    s_new = mutate_string(s, int(i), c)\n",
    "    print(s_new)"
   ]
  },
  {
   "cell_type": "code",
   "execution_count": 144,
   "metadata": {},
   "outputs": [],
   "source": [
    "def count_substring(string, sub_string):\n",
    "  \n",
    "    count=0\n",
    "    length=len(string)\n",
    "    length1=len(sub_string)\n",
    "    for i in range(0,length):\n",
    "        if string[i]==sub_string[0]:\n",
    "            try:\n",
    "                store=string[i:i+length1]\n",
    "                print(store)\n",
    "            except ValueError:\n",
    "                print(ValueError)\n",
    "            if store==sub_string:\n",
    "                count=count+1\n",
    "        \n",
    "    return count"
   ]
  },
  {
   "cell_type": "code",
   "execution_count": 145,
   "metadata": {},
   "outputs": [
    {
     "name": "stdout",
     "output_type": "stream",
     "text": [
      "ABCDCDC\n",
      "CDC\n",
      "CDC\n",
      "CDC\n",
      "C\n",
      "2\n"
     ]
    }
   ],
   "source": [
    "if __name__ == '__main__':\n",
    "    string = input().strip()\n",
    "    sub_string = input().strip()\n",
    "    count = count_substring(string, sub_string)\n",
    "    print(count)"
   ]
  },
  {
   "cell_type": "code",
   "execution_count": 153,
   "metadata": {},
   "outputs": [
    {
     "name": "stdout",
     "output_type": "stream",
     "text": [
      "5\n",
      "    H    \n",
      "   HHH   \n",
      "  HHHHH  \n",
      " HHHHHHH \n",
      "HHHHHHHHH\n",
      "  HHHHH               HHHHH             \n",
      "  HHHHH               HHHHH             \n",
      "  HHHHH               HHHHH             \n",
      "  HHHHH               HHHHH             \n",
      "  HHHHH               HHHHH             \n",
      "  HHHHH               HHHHH             \n",
      "  HHHHHHHHHHHHHHHHHHHHHHHHH   \n",
      "  HHHHHHHHHHHHHHHHHHHHHHHHH   \n",
      "  HHHHHHHHHHHHHHHHHHHHHHHHH   \n",
      "  HHHHH               HHHHH             \n",
      "  HHHHH               HHHHH             \n",
      "  HHHHH               HHHHH             \n",
      "  HHHHH               HHHHH             \n",
      "  HHHHH               HHHHH             \n",
      "  HHHHH               HHHHH             \n",
      "                    HHHHHHHHH \n",
      "                     HHHHHHH  \n",
      "                      HHHHH   \n",
      "                       HHH    \n",
      "                        H     \n"
     ]
    }
   ],
   "source": [
    "thickness = int(input()) #This must be an odd number\n",
    "c = 'H'\n",
    "\n",
    "#Top Cone\n",
    "for i in range(thickness):\n",
    "    print((c*i).rjust(thickness-1)+c+(c*i).ljust(thickness-1))\n",
    "\n",
    "#Top Pillars\n",
    "for i in range(thickness+1):\n",
    "    print((c*thickness).center(thickness*2)+(c*thickness).center(thickness*6))\n",
    "\n",
    "#Middle Belt\n",
    "for i in range((thickness+1)//2):\n",
    "    print((c*thickness*5).center(thickness*6))    \n",
    "\n",
    "#Bottom Pillars\n",
    "for i in range(thickness+1):\n",
    "    print((c*thickness).center(thickness*2)+(c*thickness).center(thickness*6))    \n",
    "\n",
    "#Bottom Cone\n",
    "for i in range(thickness):\n",
    "    print(((c*(thickness-i-1)).rjust(thickness)+c+(c*(thickness-i-1)).ljust(thickness)).rjust(thickness*6))  "
   ]
  },
  {
   "cell_type": "code",
   "execution_count": 172,
   "metadata": {},
   "outputs": [
    {
     "name": "stdout",
     "output_type": "stream",
     "text": [
      "08 05 2015\n",
      "WEDNESDAY\n"
     ]
    }
   ],
   "source": [
    "import calendar as cal\n",
    "month,day,year=input().split()\n",
    "ans=cal.day_name[cal.weekday(int(year),int(month),int(day))]\n",
    "print(ans.upper())"
   ]
  },
  {
   "cell_type": "code",
   "execution_count": null,
   "metadata": {
    "collapsed": true
   },
   "outputs": [],
   "source": [
    "import sys\n",
    "\n",
    "def time_delta(t1, t2):\n",
    "    # Complete this function\n",
    "\n",
    "if __name__ == \"__main__\":\n",
    "    t = int(input().strip())\n",
    "    for a0 in range(t):\n",
    "        t1 = input().strip()\n",
    "        t2 = input().strip()\n",
    "        delta = time_delta(t1, t2)\n",
    "        print(delta)\n"
   ]
  }
 ],
 "metadata": {
  "kernelspec": {
   "display_name": "Python 3",
   "language": "python",
   "name": "python3"
  },
  "language_info": {
   "codemirror_mode": {
    "name": "ipython",
    "version": 3
   },
   "file_extension": ".py",
   "mimetype": "text/x-python",
   "name": "python",
   "nbconvert_exporter": "python",
   "pygments_lexer": "ipython3",
   "version": "3.6.3"
  }
 },
 "nbformat": 4,
 "nbformat_minor": 2
}
