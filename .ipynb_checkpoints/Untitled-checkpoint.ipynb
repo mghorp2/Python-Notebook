{
 "cells": [
  {
   "cell_type": "code",
   "execution_count": null,
   "metadata": {
    "collapsed": true
   },
   "outputs": [],
   "source": [
    "#!/bin/python3\n",
    "\n",
    "import sys\n",
    "import os"
   ]
  },
  {
   "cell_type": "code",
   "execution_count": null,
   "metadata": {
    "collapsed": true
   },
   "outputs": [],
   "source": [
    "str_check = input\n",
    "unique_characters = sorted(set(str_check),key=str_check.index)\n",
    "    print(unique_characters)\n",
    "    count_number = [None] *len(unique_characters)\n",
    "    final_list = [None] *len(unique_characters)\n",
    "    for idx,item in enumerate(unique_characters):\n",
    "        count_number = str_check.count(item)\n",
    "        final_list[idx] = str(count_number)\n",
    "       \n",
    "    check = final_list.index('1')\n",
    "    return unique_characters[check]\n",
    "    \n",
    "_arr_cnt = 0\n",
    "_arr_cnt = int(input())\n",
    "_arr_i=0\n",
    "_arr = []\n",
    "while _arr_i < _arr_cnt:\n",
    "    _arr_item = int(input());\n",
    "    _arr.append(_arr_item)\n",
    "    _arr_i+=1\n",
    "    \n",
    "\n",
    "\n",
    "_k = int(input());\n",
    "\n",
    "res = findNumber(_arr, _k)\n"
   ]
  },
  {
   "cell_type": "code",
   "execution_count": null,
   "metadata": {
    "collapsed": true
   },
   "outputs": [],
   "source": [
    "def oddNumbers(l, r):\n",
    "    print(l)\n",
    "    print(r)\n",
    "    a=[]\n",
    "    for i in range (l,r+1):\n",
    "        if i%2 != 0:\n",
    "            a.append(i)\n",
    "    return a        \n",
    "\n",
    "_l = int(input());\n",
    "\n",
    "\n",
    "_r = int(input());\n",
    "\n",
    "res = oddNumbers(_l, _r)\n",
    "for res_cur in res:\n",
    "    print(res_cur)\n",
    "   "
   ]
  },
  {
   "cell_type": "code",
   "execution_count": null,
   "metadata": {
    "collapsed": true
   },
   "outputs": [],
   "source": [
    "def  firstUniqueChar(input):\n",
    "    str_check = input\n",
    "    unique_characters = sorted(set(str_check),key=str_check.index)\n",
    "    print(unique_characters)\n",
    "    count_number = [None] *len(unique_characters)\n",
    "    final_list = [None] *len(unique_characters)\n",
    "    for idx,item in enumerate(unique_characters):\n",
    "        count_number = str_check.count(item)\n",
    "        final_list[idx] = str(count_number)\n",
    "       \n",
    "    check = final_list.index('1')\n",
    "    return unique_characters[check]\n",
    "\n",
    "try:\n",
    "    _input = str(input())\n",
    "except:\n",
    "    _input = None\n",
    "\n",
    "res = firstUniqueChar(_input)\n",
    "print(res)"
   ]
  },
  {
   "cell_type": "code",
   "execution_count": null,
   "metadata": {
    "collapsed": true
   },
   "outputs": [],
   "source": []
  },
  {
   "cell_type": "code",
   "execution_count": null,
   "metadata": {
    "collapsed": true
   },
   "outputs": [],
   "source": [
    "import math\n",
    "\n",
    "def  bestAverageGrade(scores):\n",
    "    total_records = (len(scores))\n",
    "    list_names = [None] *total_records\n",
    "    list_marks = [0] * total_records\n",
    "    list_count = [0] * total_records\n",
    "    list_average = [0] * total_records\n",
    "    for idx,item in enumerate(scores):\n",
    "        name = item[0]\n",
    "        marks = item[1]\n",
    "        if name in list_names:\n",
    "            idx_present = list_names.index(name)\n",
    "            list_marks[idx_present] = float(list_marks[idx_present]) + float(marks)\n",
    "            list_count[idx_present] = list_count[idx_present] + 1\n",
    "        else:\n",
    "            list_names[idx] = name\n",
    "            list_marks[idx] = marks\n",
    "            list_count[idx] = list_count[idx] + 1\n",
    "    for idx,item in enumerate(list_marks):\n",
    "        mark = int(item)\n",
    "        count = list_count[idx]\n",
    "        try:\n",
    "            list_average[idx] = math.floor(mark/count)\n",
    "        except:\n",
    "            list_average[idx] = 0\n",
    "    try:\n",
    "        max_average = max(list_average)\n",
    "        \n",
    "    return max_average\n",
    "        \n",
    "        \n",
    "\n",
    "_scores_rows = 0\n",
    "_scores_cols = 0\n",
    "_scores_rows = int(input())\n",
    "_scores_cols = int(input())\n",
    "\n",
    "_scores = []\n",
    "for _scores_i in range(_scores_rows):\n",
    "    _scores_temp = [str(_scores_t) for _scores_t in input().strip().split(' ')]\n",
    "    _scores.append(_scores_temp)\n",
    "\n",
    "res = bestAverageGrade(_scores)\n",
    "print(res)"
   ]
  },
  {
   "cell_type": "code",
   "execution_count": null,
   "metadata": {
    "collapsed": true
   },
   "outputs": [],
   "source": [
    "\"Niranjan\".lower()"
   ]
  },
  {
   "cell_type": "code",
   "execution_count": null,
   "metadata": {
    "collapsed": true
   },
   "outputs": [],
   "source": [
    "a = [10,10,5]\n",
    "print(max(a))"
   ]
  },
  {
   "cell_type": "code",
   "execution_count": 1,
   "metadata": {
    "collapsed": true
   },
   "outputs": [],
   "source": [
    "import pandas as pd\n",
    "import numpy as np"
   ]
  },
  {
   "cell_type": "code",
   "execution_count": 2,
   "metadata": {},
   "outputs": [
    {
     "ename": "ValueError",
     "evalue": "Trailing data",
     "output_type": "error",
     "traceback": [
      "\u001b[1;31m---------------------------------------------------------------------------\u001b[0m",
      "\u001b[1;31mValueError\u001b[0m                                Traceback (most recent call last)",
      "\u001b[1;32m<ipython-input-2-5294d4187254>\u001b[0m in \u001b[0;36m<module>\u001b[1;34m()\u001b[0m\n\u001b[1;32m----> 1\u001b[1;33m \u001b[0mpd\u001b[0m\u001b[1;33m.\u001b[0m\u001b[0mread_json\u001b[0m\u001b[1;33m(\u001b[0m\u001b[1;34m\"D:/UIC/Fall 2017/Advance stats/Project/yelp_dataset/user.json\"\u001b[0m\u001b[1;33m)\u001b[0m\u001b[1;33m\u001b[0m\u001b[0m\n\u001b[0m",
      "\u001b[1;32m~\\Anaconda3\\lib\\site-packages\\pandas\\io\\json\\json.py\u001b[0m in \u001b[0;36mread_json\u001b[1;34m(path_or_buf, orient, typ, dtype, convert_axes, convert_dates, keep_default_dates, numpy, precise_float, date_unit, encoding, lines)\u001b[0m\n\u001b[0;32m    352\u001b[0m         obj = FrameParser(json, orient, dtype, convert_axes, convert_dates,\n\u001b[0;32m    353\u001b[0m                           \u001b[0mkeep_default_dates\u001b[0m\u001b[1;33m,\u001b[0m \u001b[0mnumpy\u001b[0m\u001b[1;33m,\u001b[0m \u001b[0mprecise_float\u001b[0m\u001b[1;33m,\u001b[0m\u001b[1;33m\u001b[0m\u001b[0m\n\u001b[1;32m--> 354\u001b[1;33m                           date_unit).parse()\n\u001b[0m\u001b[0;32m    355\u001b[0m \u001b[1;33m\u001b[0m\u001b[0m\n\u001b[0;32m    356\u001b[0m     \u001b[1;32mif\u001b[0m \u001b[0mtyp\u001b[0m \u001b[1;33m==\u001b[0m \u001b[1;34m'series'\u001b[0m \u001b[1;32mor\u001b[0m \u001b[0mobj\u001b[0m \u001b[1;32mis\u001b[0m \u001b[1;32mNone\u001b[0m\u001b[1;33m:\u001b[0m\u001b[1;33m\u001b[0m\u001b[0m\n",
      "\u001b[1;32m~\\Anaconda3\\lib\\site-packages\\pandas\\io\\json\\json.py\u001b[0m in \u001b[0;36mparse\u001b[1;34m(self)\u001b[0m\n\u001b[0;32m    420\u001b[0m \u001b[1;33m\u001b[0m\u001b[0m\n\u001b[0;32m    421\u001b[0m         \u001b[1;32melse\u001b[0m\u001b[1;33m:\u001b[0m\u001b[1;33m\u001b[0m\u001b[0m\n\u001b[1;32m--> 422\u001b[1;33m             \u001b[0mself\u001b[0m\u001b[1;33m.\u001b[0m\u001b[0m_parse_no_numpy\u001b[0m\u001b[1;33m(\u001b[0m\u001b[1;33m)\u001b[0m\u001b[1;33m\u001b[0m\u001b[0m\n\u001b[0m\u001b[0;32m    423\u001b[0m \u001b[1;33m\u001b[0m\u001b[0m\n\u001b[0;32m    424\u001b[0m         \u001b[1;32mif\u001b[0m \u001b[0mself\u001b[0m\u001b[1;33m.\u001b[0m\u001b[0mobj\u001b[0m \u001b[1;32mis\u001b[0m \u001b[1;32mNone\u001b[0m\u001b[1;33m:\u001b[0m\u001b[1;33m\u001b[0m\u001b[0m\n",
      "\u001b[1;32m~\\Anaconda3\\lib\\site-packages\\pandas\\io\\json\\json.py\u001b[0m in \u001b[0;36m_parse_no_numpy\u001b[1;34m(self)\u001b[0m\n\u001b[0;32m    637\u001b[0m         \u001b[1;32mif\u001b[0m \u001b[0morient\u001b[0m \u001b[1;33m==\u001b[0m \u001b[1;34m\"columns\"\u001b[0m\u001b[1;33m:\u001b[0m\u001b[1;33m\u001b[0m\u001b[0m\n\u001b[0;32m    638\u001b[0m             self.obj = DataFrame(\n\u001b[1;32m--> 639\u001b[1;33m                 loads(json, precise_float=self.precise_float), dtype=None)\n\u001b[0m\u001b[0;32m    640\u001b[0m         \u001b[1;32melif\u001b[0m \u001b[0morient\u001b[0m \u001b[1;33m==\u001b[0m \u001b[1;34m\"split\"\u001b[0m\u001b[1;33m:\u001b[0m\u001b[1;33m\u001b[0m\u001b[0m\n\u001b[0;32m    641\u001b[0m             decoded = dict((str(k), v)\n",
      "\u001b[1;31mValueError\u001b[0m: Trailing data"
     ]
    }
   ],
   "source": [
    "pd.read_json(\"D:/UIC/Fall 2017/Advance stats/Project/yelp_dataset/user.json\",lines = True)"
   ]
  }
 ],
 "metadata": {
  "kernelspec": {
   "display_name": "Python 3",
   "language": "python",
   "name": "python3"
  },
  "language_info": {
   "codemirror_mode": {
    "name": "ipython",
    "version": 3
   },
   "file_extension": ".py",
   "mimetype": "text/x-python",
   "name": "python",
   "nbconvert_exporter": "python",
   "pygments_lexer": "ipython3",
   "version": "3.6.3"
  }
 },
 "nbformat": 4,
 "nbformat_minor": 2
}
