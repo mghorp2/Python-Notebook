{
 "cells": [
  {
   "cell_type": "code",
   "execution_count": 2,
   "metadata": {
    "collapsed": true
   },
   "outputs": [],
   "source": [
    "import tweepy\n",
    "\n",
    "consumer_key = '0YbUaHaGstGboXX3eUAufYHRe'\n",
    "consumer_secret = 'XzsG0cFEXLy4CUnlKetjt5wDnv50AfrKFGMoIgd4FGnBMHzSph'\n",
    "access_token = '973740811300098049-uJWYj71hPcm7xLM7MXrIYOsmXGDeiLK'\n",
    "access_token_secret = 'DFqWjwEYZdArwosorhjToYfyDxDymtsXijC0cSX2c8XBH'"
   ]
  },
  {
   "cell_type": "code",
   "execution_count": null,
   "metadata": {
    "collapsed": true
   },
   "outputs": [],
   "source": []
  }
 ],
 "metadata": {
  "kernelspec": {
   "display_name": "Python 3",
   "language": "python",
   "name": "python3"
  },
  "language_info": {
   "codemirror_mode": {
    "name": "ipython",
    "version": 3
   },
   "file_extension": ".py",
   "mimetype": "text/x-python",
   "name": "python",
   "nbconvert_exporter": "python",
   "pygments_lexer": "ipython3",
   "version": "3.6.3"
  }
 },
 "nbformat": 4,
 "nbformat_minor": 2
}
