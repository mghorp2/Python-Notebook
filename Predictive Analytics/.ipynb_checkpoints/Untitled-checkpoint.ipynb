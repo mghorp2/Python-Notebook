{
 "cells": [
  {
   "cell_type": "code",
   "execution_count": 12,
   "metadata": {},
   "outputs": [],
   "source": [
    "import keras\n",
    "import tensorflow\n",
    "import numpy as np\n",
    "from IPython.display import display\n",
    "#from PIL import Image \n",
    "import PIL\n",
    "from IPython.core.display import HTML \n",
    "from keras.preprocessing import image\n",
    "from keras.applications.vgg16 import VGG16, preprocess_input, decode_predictions"
   ]
  },
  {
   "cell_type": "code",
   "execution_count": 14,
   "metadata": {},
   "outputs": [
    {
     "name": "stdout",
     "output_type": "stream",
     "text": [
      "cat_1.jpg\n",
      "Predicted: [('n02123159', 'tiger_cat', 0.13103655), ('n02123045', 'tabby', 0.1292817), ('n02124075', 'Egyptian_cat', 0.12084236), ('n02112137', 'chow', 0.032578763), ('n02109961', 'Eskimo_dog', 0.03158794)]\n",
      "cat_2.jpg\n",
      "Predicted: [('n02124075', 'Egyptian_cat', 0.362471), ('n02123045', 'tabby', 0.3303337), ('n02123159', 'tiger_cat', 0.1483232), ('n02127052', 'lynx', 0.10093236), ('n03958227', 'plastic_bag', 0.01740845)]\n",
      "dog_1.jpg\n",
      "Predicted: [('n02086910', 'papillon', 0.9749247), ('n02085620', 'Chihuahua', 0.013083773), ('n02105855', 'Shetland_sheepdog', 0.0026601888), ('n02113023', 'Pembroke', 0.0023982297), ('n02112018', 'Pomeranian', 0.001976287)]\n",
      "dog_2.jpg\n",
      "Predicted: [('n02097474', 'Tibetan_terrier', 0.4007529), ('n02094433', 'Yorkshire_terrier', 0.21595445), ('n02098413', 'Lhasa', 0.17653126), ('n02085936', 'Maltese_dog', 0.08410185), ('n02094114', 'Norfolk_terrier', 0.024823973)]\n"
     ]
    }
   ],
   "source": [
    "model = keras.applications.vgg16.VGG16(include_top=True, weights='imagenet', input_tensor=None, input_shape=None, classes=1000)\n",
    "preds_vgg = []\n",
    "img_paths = ['cat_1.jpg','cat_2.jpg','dog_1.jpg','dog_2.jpg']\n",
    "for img_path in img_paths:\n",
    "    print(img_path)\n",
    "    #display(Image(filename= img_path))\n",
    "    img = PIL.Image.open(img_path,'r')\n",
    "    img.show()\n",
    "    img = image.load_img(img_path, target_size=(224, 224))\n",
    "    x = image.img_to_array(img)\n",
    "    x = np.expand_dims(x, axis=0)\n",
    "    x = preprocess_input(x)\n",
    "    preds = model.predict(x)\n",
    "    print('Predicted:', decode_predictions(preds, top=5)[0])\n",
    "    preds_vgg.append(preds)"
   ]
  },
  {
   "cell_type": "code",
   "execution_count": null,
   "metadata": {
    "collapsed": true
   },
   "outputs": [],
   "source": []
  }
 ],
 "metadata": {
  "kernelspec": {
   "display_name": "Python 3",
   "language": "python",
   "name": "python3"
  },
  "language_info": {
   "codemirror_mode": {
    "name": "ipython",
    "version": 3
   },
   "file_extension": ".py",
   "mimetype": "text/x-python",
   "name": "python",
   "nbconvert_exporter": "python",
   "pygments_lexer": "ipython3",
   "version": "3.6.3"
  }
 },
 "nbformat": 4,
 "nbformat_minor": 2
}
