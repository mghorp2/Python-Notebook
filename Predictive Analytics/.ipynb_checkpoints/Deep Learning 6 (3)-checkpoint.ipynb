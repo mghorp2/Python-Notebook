{
 "cells": [
  {
   "cell_type": "code",
   "execution_count": 77,
   "metadata": {},
   "outputs": [
    {
     "name": "stdout",
     "output_type": "stream",
     "text": [
      "60000 train samples\n",
      "10000 test samples\n"
     ]
    }
   ],
   "source": [
    "from __future__ import print_function\n",
    "\n",
    "import keras\n",
    "from keras.datasets import mnist\n",
    "from keras.models import Sequential\n",
    "from keras.layers import Dense, Dropout, LeakyReLU, merge, concatenate, Maximum\n",
    "from keras.optimizers import SGD\n",
    "from keras import regularizers\n",
    "\n",
    "batch_size = 128\n",
    "num_classes = 10\n",
    "epochs = 10\n",
    "\n",
    "# the data, shuffled and split between train and test sets\n",
    "(x_train, y_train), (x_test, y_test) = mnist.load_data()\n",
    "\n",
    "x_train = x_train.reshape(60000, 784)\n",
    "x_test = x_test.reshape(10000, 784)\n",
    "x_train = x_train.astype('float32')\n",
    "x_test = x_test.astype('float32')\n",
    "x_train /= 255\n",
    "x_test /= 255\n",
    "print(x_train.shape[0], 'train samples')\n",
    "print(x_test.shape[0], 'test samples')\n",
    "\n",
    "\n",
    "# convert class vectors to binary class matrices\n",
    "y_train = keras.utils.to_categorical(y_train, num_classes)\n",
    "y_test = keras.utils.to_categorical(y_test, num_classes)\n"
   ]
  },
  {
   "cell_type": "code",
   "execution_count": 78,
   "metadata": {},
   "outputs": [
    {
     "name": "stdout",
     "output_type": "stream",
     "text": [
      "_________________________________________________________________\n",
      "Layer (type)                 Output Shape              Param #   \n",
      "=================================================================\n",
      "dense_86 (Dense)             (None, 512)               401920    \n",
      "_________________________________________________________________\n",
      "dropout_39 (Dropout)         (None, 512)               0         \n",
      "_________________________________________________________________\n",
      "dense_87 (Dense)             (None, 10)                5130      \n",
      "=================================================================\n",
      "Total params: 407,050\n",
      "Trainable params: 407,050\n",
      "Non-trainable params: 0\n",
      "_________________________________________________________________\n",
      "Train on 60000 samples, validate on 10000 samples\n",
      "Epoch 1/10\n",
      "60000/60000 [==============================] - 11s 190us/step - loss: 3.4051 - acc: 0.8693 - val_loss: 1.3789 - val_acc: 0.9117\n",
      "Epoch 2/10\n",
      "60000/60000 [==============================] - 10s 167us/step - loss: 0.8628 - acc: 0.9062 - val_loss: 0.5515 - val_acc: 0.9134\n",
      "Epoch 3/10\n",
      "60000/60000 [==============================] - 10s 168us/step - loss: 0.4844 - acc: 0.9072 - val_loss: 0.4144 - val_acc: 0.9133\n",
      "Epoch 4/10\n",
      "60000/60000 [==============================] - 10s 168us/step - loss: 0.4188 - acc: 0.9080 - val_loss: 0.3903 - val_acc: 0.9142\n",
      "Epoch 5/10\n",
      "60000/60000 [==============================] - 10s 168us/step - loss: 0.4037 - acc: 0.9083 - val_loss: 0.3792 - val_acc: 0.9173\n",
      "Epoch 6/10\n",
      "60000/60000 [==============================] - 10s 164us/step - loss: 0.3980 - acc: 0.9079 - val_loss: 0.3802 - val_acc: 0.9135\n",
      "Epoch 7/10\n",
      "60000/60000 [==============================] - 10s 164us/step - loss: 0.3935 - acc: 0.9092 - val_loss: 0.3693 - val_acc: 0.9140\n",
      "Epoch 8/10\n",
      "60000/60000 [==============================] - 9s 148us/step - loss: 0.3906 - acc: 0.9085 - val_loss: 0.3723 - val_acc: 0.9168\n",
      "Epoch 9/10\n",
      "60000/60000 [==============================] - 10s 159us/step - loss: 0.3881 - acc: 0.9095 - val_loss: 0.3647 - val_acc: 0.9159\n",
      "Epoch 10/10\n",
      "60000/60000 [==============================] - 10s 162us/step - loss: 0.3845 - acc: 0.9094 - val_loss: 0.3675 - val_acc: 0.9162\n",
      "Test loss: 0.36750024452209473\n",
      "Test accuracy: 0.9162\n"
     ]
    }
   ],
   "source": [
    "\n",
    "model = Sequential()\n",
    "model.add(Dense(512, activation='linear',kernel_regularizer=regularizers.l2(1e-2), input_shape=(784,)))\n",
    "model.add(Dropout(0.2))\n",
    "model.add(Dense(num_classes,activation='softmax'))\n",
    "\n",
    "sgd = SGD(lr=1e-2,decay=1e-6, momentum=0.9, nesterov=True)\n",
    "\n",
    "model.summary()\n",
    "\n",
    "model.compile(loss='categorical_crossentropy',\n",
    "              optimizer=sgd,\n",
    "              metrics=['accuracy'])\n",
    "\n",
    "history = model.fit(x_train, y_train,\n",
    "                    batch_size=batch_size,\n",
    "                    epochs=epochs,\n",
    "                    verbose=1,\n",
    "                    validation_data=(x_test, y_test))\n",
    "score = model.evaluate(x_test, y_test, verbose=0)\n",
    "print('Test loss:', score[0])\n",
    "print('Test accuracy:', score[1])"
   ]
  },
  {
   "cell_type": "markdown",
   "metadata": {},
   "source": [
    "# Q5 (1)"
   ]
  },
  {
   "cell_type": "code",
   "execution_count": 26,
   "metadata": {},
   "outputs": [
    {
     "name": "stdout",
     "output_type": "stream",
     "text": [
      "_________________________________________________________________\n",
      "Layer (type)                 Output Shape              Param #   \n",
      "=================================================================\n",
      "dense_24 (Dense)             (None, 512)               401920    \n",
      "_________________________________________________________________\n",
      "dropout_16 (Dropout)         (None, 512)               0         \n",
      "_________________________________________________________________\n",
      "dense_25 (Dense)             (None, 512)               262656    \n",
      "_________________________________________________________________\n",
      "dropout_17 (Dropout)         (None, 512)               0         \n",
      "_________________________________________________________________\n",
      "dense_26 (Dense)             (None, 10)                5130      \n",
      "=================================================================\n",
      "Total params: 669,706\n",
      "Trainable params: 669,706\n",
      "Non-trainable params: 0\n",
      "_________________________________________________________________\n",
      "Train on 60000 samples, validate on 10000 samples\n",
      "Epoch 1/10\n",
      "60000/60000 [==============================] - 17s 288us/step - loss: 0.3327 - acc: 0.9200 - val_loss: 0.1988 - val_acc: 0.9585\n",
      "Epoch 2/10\n",
      "60000/60000 [==============================] - 17s 277us/step - loss: 0.2216 - acc: 0.9537 - val_loss: 0.1922 - val_acc: 0.9616\n",
      "Epoch 3/10\n",
      "60000/60000 [==============================] - 16s 274us/step - loss: 0.2023 - acc: 0.9595 - val_loss: 0.1948 - val_acc: 0.9631\n",
      "Epoch 4/10\n",
      "60000/60000 [==============================] - 17s 278us/step - loss: 0.1955 - acc: 0.9617 - val_loss: 0.1745 - val_acc: 0.9686\n",
      "Epoch 5/10\n",
      "60000/60000 [==============================] - 16s 272us/step - loss: 0.1886 - acc: 0.9630 - val_loss: 0.1811 - val_acc: 0.9665\n",
      "Epoch 6/10\n",
      "60000/60000 [==============================] - 17s 277us/step - loss: 0.1809 - acc: 0.9661 - val_loss: 0.1762 - val_acc: 0.9660\n",
      "Epoch 7/10\n",
      "60000/60000 [==============================] - 17s 276us/step - loss: 0.1816 - acc: 0.9660 - val_loss: 0.1870 - val_acc: 0.9712\n",
      "Epoch 8/10\n",
      "60000/60000 [==============================] - 17s 280us/step - loss: 0.1826 - acc: 0.9658 - val_loss: 0.2007 - val_acc: 0.9644\n",
      "Epoch 9/10\n",
      "60000/60000 [==============================] - 17s 276us/step - loss: 0.1841 - acc: 0.9660 - val_loss: 0.1804 - val_acc: 0.9673\n",
      "Epoch 10/10\n",
      "60000/60000 [==============================] - 17s 277us/step - loss: 0.1857 - acc: 0.9656 - val_loss: 0.1917 - val_acc: 0.9720\n",
      "Test loss: 0.19173650835752487\n",
      "Test accuracy: 0.972\n"
     ]
    }
   ],
   "source": [
    "\n",
    "model = Sequential()\n",
    "model.add(Dense(512, activation='linear',kernel_regularizer=regularizers.l2(1e-4), input_shape=(784,)))\n",
    "model.add(Dropout(0.2))\n",
    "model.add(Dense(512, activation='relu'))\n",
    "model.add(Dropout(0.2))\n",
    "model.add(Dense(num_classes, activation='softmax',kernel_regularizer=regularizers.l2(1e-4)))\n",
    "\n",
    "sgd = SGD(lr=0.1, decay=1e-6, momentum=0.9, nesterov=True)\n",
    "\n",
    "model.summary()\n",
    "\n",
    "model.compile(loss='categorical_crossentropy',\n",
    "              optimizer=sgd,\n",
    "              metrics=['accuracy'])\n",
    "\n",
    "history = model.fit(x_train, y_train,\n",
    "                    batch_size=batch_size,\n",
    "                    epochs=epochs,\n",
    "                    verbose=1,\n",
    "                    validation_data=(x_test, y_test))\n",
    "score = model.evaluate(x_test, y_test, verbose=0)\n",
    "print('Test loss:', score[0])\n",
    "print('Test accuracy:', score[1])"
   ]
  },
  {
   "cell_type": "markdown",
   "metadata": {},
   "source": [
    "# Q5 (2)"
   ]
  },
  {
   "cell_type": "code",
   "execution_count": 30,
   "metadata": {},
   "outputs": [
    {
     "name": "stdout",
     "output_type": "stream",
     "text": [
      "_________________________________________________________________\n",
      "Layer (type)                 Output Shape              Param #   \n",
      "=================================================================\n",
      "dense_27 (Dense)             (None, 512)               401920    \n",
      "_________________________________________________________________\n",
      "dropout_18 (Dropout)         (None, 512)               0         \n",
      "_________________________________________________________________\n",
      "leaky_re_lu_1 (LeakyReLU)    (None, 512)               0         \n",
      "_________________________________________________________________\n",
      "dropout_19 (Dropout)         (None, 512)               0         \n",
      "_________________________________________________________________\n",
      "dense_28 (Dense)             (None, 10)                5130      \n",
      "=================================================================\n",
      "Total params: 407,050\n",
      "Trainable params: 407,050\n",
      "Non-trainable params: 0\n",
      "_________________________________________________________________\n",
      "Train on 60000 samples, validate on 10000 samples\n",
      "Epoch 1/10\n",
      "60000/60000 [==============================] - 8s 127us/step - loss: 0.3369 - acc: 0.9208 - val_loss: 0.1997 - val_acc: 0.9621\n",
      "Epoch 2/10\n",
      "60000/60000 [==============================] - 8s 141us/step - loss: 0.2045 - acc: 0.9617 - val_loss: 0.1674 - val_acc: 0.9738\n",
      "Epoch 3/10\n",
      "60000/60000 [==============================] - 8s 125us/step - loss: 0.1777 - acc: 0.9693 - val_loss: 0.1626 - val_acc: 0.9723\n",
      "Epoch 4/10\n",
      "60000/60000 [==============================] - 8s 127us/step - loss: 0.1597 - acc: 0.9742 - val_loss: 0.1534 - val_acc: 0.9771\n",
      "Epoch 5/10\n",
      "60000/60000 [==============================] - 8s 132us/step - loss: 0.1478 - acc: 0.9774 - val_loss: 0.1481 - val_acc: 0.9785\n",
      "Epoch 6/10\n",
      "60000/60000 [==============================] - 7s 124us/step - loss: 0.1415 - acc: 0.9787 - val_loss: 0.1413 - val_acc: 0.9784\n",
      "Epoch 7/10\n",
      "60000/60000 [==============================] - 8s 127us/step - loss: 0.1334 - acc: 0.9810 - val_loss: 0.1346 - val_acc: 0.9799\n",
      "Epoch 8/10\n",
      "60000/60000 [==============================] - 8s 130us/step - loss: 0.1260 - acc: 0.9826 - val_loss: 0.1285 - val_acc: 0.9810\n",
      "Epoch 9/10\n",
      "60000/60000 [==============================] - 8s 138us/step - loss: 0.1221 - acc: 0.9828 - val_loss: 0.1324 - val_acc: 0.9795\n",
      "Epoch 10/10\n",
      "60000/60000 [==============================] - 8s 129us/step - loss: 0.1185 - acc: 0.9840 - val_loss: 0.1281 - val_acc: 0.9800\n",
      "Test loss: 0.1281188654780388\n",
      "Test accuracy: 0.98\n"
     ]
    }
   ],
   "source": [
    "\n",
    "model = Sequential()\n",
    "model.add(Dense(512, activation='linear',kernel_regularizer=regularizers.l2(1e-4), input_shape=(784,)))\n",
    "model.add(Dropout(0.2))\n",
    "model.add(LeakyReLU(alpha=.01))\n",
    "model.add(Dropout(0.2))\n",
    "model.add(Dense(num_classes, activation='softmax',kernel_regularizer=regularizers.l2(1e-4)))\n",
    "\n",
    "sgd = SGD(lr=0.1, decay=1e-6, momentum=0.9, nesterov=True)\n",
    "\n",
    "model.summary()\n",
    "\n",
    "model.compile(loss='categorical_crossentropy',\n",
    "              optimizer=sgd,\n",
    "              metrics=['accuracy'])\n",
    "\n",
    "history = model.fit(x_train, y_train,\n",
    "                    batch_size=batch_size,\n",
    "                    epochs=epochs,\n",
    "                    verbose=1,\n",
    "                    validation_data=(x_test, y_test))\n",
    "score = model.evaluate(x_test, y_test, verbose=0)\n",
    "print('Test loss:', score[0])\n",
    "print('Test accuracy:', score[1])"
   ]
  },
  {
   "cell_type": "markdown",
   "metadata": {},
   "source": [
    "# Q5 (3)"
   ]
  },
  {
   "cell_type": "code",
   "execution_count": 59,
   "metadata": {},
   "outputs": [
    {
     "name": "stderr",
     "output_type": "stream",
     "text": [
      "C:\\Users\\Mrunal\\Anaconda3\\lib\\site-packages\\ipykernel_launcher.py:7: UserWarning: The `Merge` layer is deprecated and will be removed after 08/2017. Use instead layers from `keras.layers.merge`, e.g. `add`, `concatenate`, etc.\n",
      "  import sys\n"
     ]
    },
    {
     "name": "stdout",
     "output_type": "stream",
     "text": [
      "_________________________________________________________________\n",
      "Layer (type)                 Output Shape              Param #   \n",
      "=================================================================\n",
      "merge_10 (Merge)             (None, 512)               0         \n",
      "_________________________________________________________________\n",
      "dropout_28 (Dropout)         (None, 512)               0         \n",
      "_________________________________________________________________\n",
      "dense_69 (Dense)             (None, 10)                5130      \n",
      "=================================================================\n",
      "Total params: 808,970\n",
      "Trainable params: 808,970\n",
      "Non-trainable params: 0\n",
      "_________________________________________________________________\n",
      "Train on 60000 samples, validate on 10000 samples\n",
      "Epoch 1/10\n",
      "60000/60000 [==============================] - 13s 214us/step - loss: 0.3516 - acc: 0.9331 - val_loss: 0.2330 - val_acc: 0.9661\n",
      "Epoch 2/10\n",
      "60000/60000 [==============================] - 12s 200us/step - loss: 0.2229 - acc: 0.9684 - val_loss: 0.2031 - val_acc: 0.9721\n",
      "Epoch 3/10\n",
      "60000/60000 [==============================] - 12s 205us/step - loss: 0.1892 - acc: 0.9756 - val_loss: 0.2006 - val_acc: 0.9710\n",
      "Epoch 4/10\n",
      "60000/60000 [==============================] - 13s 214us/step - loss: 0.1668 - acc: 0.9794 - val_loss: 0.1781 - val_acc: 0.9759\n",
      "Epoch 5/10\n",
      "60000/60000 [==============================] - 13s 216us/step - loss: 0.1517 - acc: 0.9819 - val_loss: 0.1612 - val_acc: 0.9786\n",
      "Epoch 6/10\n",
      "60000/60000 [==============================] - 12s 198us/step - loss: 0.1390 - acc: 0.9834 - val_loss: 0.1555 - val_acc: 0.9777\n",
      "Epoch 7/10\n",
      "60000/60000 [==============================] - 13s 215us/step - loss: 0.1266 - acc: 0.9858 - val_loss: 0.1400 - val_acc: 0.9813\n",
      "Epoch 8/10\n",
      "60000/60000 [==============================] - 11s 185us/step - loss: 0.1187 - acc: 0.9864 - val_loss: 0.1483 - val_acc: 0.9787\n",
      "Epoch 9/10\n",
      "60000/60000 [==============================] - 11s 183us/step - loss: 0.1121 - acc: 0.9867 - val_loss: 0.1436 - val_acc: 0.9772\n",
      "Epoch 10/10\n",
      "60000/60000 [==============================] - 12s 207us/step - loss: 0.1092 - acc: 0.9870 - val_loss: 0.1450 - val_acc: 0.9762\n",
      "Test loss: 0.14503091428279877\n",
      "Test accuracy: 0.9762\n"
     ]
    }
   ],
   "source": [
    "model1 = Sequential()\n",
    "model1.add(Dense(512, activation='linear',kernel_regularizer=regularizers.l2(1e-4), input_shape=(784,)))\n",
    "model2 = Sequential()\n",
    "model2.add(Dense(512, activation='linear',kernel_regularizer=regularizers.l2(1e-4), input_shape=(784,)))\n",
    "\n",
    "merged_model = Sequential()\n",
    "merged_model.add(Merge([model1, model2], mode='max', concat_axis=1))\n",
    "merged_model.add(Dropout(0.2))\n",
    "merged_model.add(Dense(num_classes, activation='softmax',kernel_regularizer=regularizers.l2(1e-4)))\n",
    "\n",
    "sgd = SGD(lr=0.1, decay=1e-6, momentum=0.9, nesterov=True)\n",
    "\n",
    "merged_model.summary()\n",
    "\n",
    "merged_model.compile(loss='categorical_crossentropy',\n",
    "              optimizer=sgd,\n",
    "              metrics=['accuracy'])\n",
    "\n",
    "history = merged_model.fit(x=[x_train,x_train], y=y_train,\n",
    "                    batch_size=batch_size,\n",
    "                    epochs=epochs,\n",
    "                    verbose=1,\n",
    "                    validation_data=([x_test,x_test], [y_test]))\n",
    "score = merged_model.evaluate([x_test,x_test], y_test, verbose=0)\n",
    "print('Test loss:', score[0])\n",
    "print('Test accuracy:', score[1])"
   ]
  },
  {
   "cell_type": "code",
   "execution_count": null,
   "metadata": {
    "collapsed": true
   },
   "outputs": [],
   "source": []
  }
 ],
 "metadata": {
  "kernelspec": {
   "display_name": "Python 3",
   "language": "python",
   "name": "python3"
  },
  "language_info": {
   "codemirror_mode": {
    "name": "ipython",
    "version": 3
   },
   "file_extension": ".py",
   "mimetype": "text/x-python",
   "name": "python",
   "nbconvert_exporter": "python",
   "pygments_lexer": "ipython3",
   "version": "3.6.3"
  }
 },
 "nbformat": 4,
 "nbformat_minor": 2
}
