{
 "cells": [
  {
   "cell_type": "code",
   "execution_count": 3,
   "metadata": {
    "collapsed": true
   },
   "outputs": [],
   "source": [
    "import pandas as pd\n",
    "import numpy as np\n",
    "import matplotlib.pyplot as plt\n",
    "%matplotlib inline\n",
    "import random"
   ]
  },
  {
   "cell_type": "markdown",
   "metadata": {},
   "source": [
    "# Question 2 (2)"
   ]
  },
  {
   "cell_type": "code",
   "execution_count": 4,
   "metadata": {
    "collapsed": true
   },
   "outputs": [],
   "source": [
    "x= [0,1]\n",
    "m=np.ones(1).reshape(1,1)\n",
    "c=0"
   ]
  },
  {
   "cell_type": "code",
   "execution_count": 5,
   "metadata": {},
   "outputs": [
    {
     "data": {
      "text/plain": [
       "(1, 1)"
      ]
     },
     "execution_count": 5,
     "metadata": {},
     "output_type": "execute_result"
    }
   ],
   "source": [
    "m.shape"
   ]
  },
  {
   "cell_type": "code",
   "execution_count": 5,
   "metadata": {},
   "outputs": [
    {
     "data": {
      "text/plain": [
       "array([0, 1])"
      ]
     },
     "execution_count": 5,
     "metadata": {},
     "output_type": "execute_result"
    }
   ],
   "source": [
    "y = np.dot(x,m) + c\n",
    "y"
   ]
  },
  {
   "cell_type": "code",
   "execution_count": 6,
   "metadata": {},
   "outputs": [
    {
     "data": {
      "text/plain": [
       "[<matplotlib.lines.Line2D at 0x1ecd403f2b0>]"
      ]
     },
     "execution_count": 6,
     "metadata": {},
     "output_type": "execute_result"
    },
    {
     "data": {
      "image/png": "[encoded data removed]",
      "text/plain": [
       "<matplotlib.figure.Figure at 0x1ecd3da3c18>"
      ]
     },
     "metadata": {},
     "output_type": "display_data"
    }
   ],
   "source": [
    " plt.plot(x, y, '--')"
   ]
  },
  {
   "cell_type": "markdown",
   "metadata": {},
   "source": [
    "# Question2 (3)"
   ]
  },
  {
   "cell_type": "code",
   "execution_count": 6,
   "metadata": {},
   "outputs": [
    {
     "data": {
      "text/plain": [
       "[<matplotlib.lines.Line2D at 0x2241be29ac8>]"
      ]
     },
     "execution_count": 6,
     "metadata": {},
     "output_type": "execute_result"
    },
    {
     "data": {
      "image/png": "[encoded data removed]",
      "text/plain": [
       "<matplotlib.figure.Figure at 0x2241bbb7550>"
      ]
     },
     "metadata": {},
     "output_type": "display_data"
    }
   ],
   "source": [
    "a = np.random.randn(100,1)\n",
    "y = np.dot(a,m) + c\n",
    "plt.plot(a, y)\n"
   ]
  },
  {
   "cell_type": "markdown",
   "metadata": {},
   "source": [
    "# Question 2 (4) "
   ]
  },
  {
   "cell_type": "code",
   "execution_count": 10,
   "metadata": {},
   "outputs": [
    {
     "name": "stdout",
     "output_type": "stream",
     "text": [
      "[-1.0856306]\n",
      "[ 2.34922265]\n",
      "[ 2.34922265]\n"
     ]
    }
   ],
   "source": [
    "num_examples = a.shape[0]\n",
    "\n",
    "np.random.seed(123)\n",
    "W=np.random.randn(1)\n",
    "b=np.random.randn(1)\n",
    "#Initial value for the Gradient Descent Parameter\n",
    "step_size = 1e-3 #Also called learning rate\n",
    "reg = 1e-3\n",
    "\n",
    "print(W)\n",
    "print(a[1])\n",
    "print(y[1])"
   ]
  },
  {
   "cell_type": "code",
   "execution_count": 11,
   "metadata": {},
   "outputs": [
    {
     "name": "stdout",
     "output_type": "stream",
     "text": [
      "iteration 0: loss 6.976202\n",
      "iteration 10: loss 6.617516\n",
      "iteration 20: loss 6.277409\n",
      "iteration 30: loss 5.954911\n",
      "iteration 40: loss 5.649107\n",
      "iteration 50: loss 5.359126\n",
      "iteration 60: loss 5.084145\n",
      "iteration 70: loss 4.823385\n",
      "iteration 80: loss 4.576104\n",
      "iteration 90: loss 4.341602\n",
      "iteration 100: loss 4.119215\n",
      "iteration 110: loss 3.908312\n",
      "iteration 120: loss 3.708298\n",
      "iteration 130: loss 3.518605\n",
      "iteration 140: loss 3.338699\n",
      "iteration 150: loss 3.168070\n",
      "iteration 160: loss 3.006238\n",
      "iteration 170: loss 2.852746\n",
      "iteration 180: loss 2.707160\n",
      "iteration 190: loss 2.569072\n",
      "iteration 200: loss 2.438092\n",
      "iteration 210: loss 2.313851\n",
      "iteration 220: loss 2.196001\n",
      "iteration 230: loss 2.084210\n",
      "iteration 240: loss 1.978165\n",
      "iteration 250: loss 1.877568\n",
      "iteration 260: loss 1.782137\n",
      "iteration 270: loss 1.691605\n",
      "iteration 280: loss 1.605719\n",
      "iteration 290: loss 1.524237\n",
      "iteration 300: loss 1.446933\n",
      "iteration 310: loss 1.373591\n",
      "iteration 320: loss 1.304005\n",
      "iteration 330: loss 1.237983\n",
      "iteration 340: loss 1.175339\n",
      "iteration 350: loss 1.115900\n",
      "iteration 360: loss 1.059501\n",
      "iteration 370: loss 1.005984\n",
      "iteration 380: loss 0.955201\n",
      "iteration 390: loss 0.907011\n",
      "iteration 400: loss 0.861281\n",
      "iteration 410: loss 0.817883\n",
      "iteration 420: loss 0.776699\n",
      "iteration 430: loss 0.737613\n",
      "iteration 440: loss 0.700518\n",
      "iteration 450: loss 0.665312\n",
      "iteration 460: loss 0.631898\n",
      "iteration 470: loss 0.600183\n",
      "iteration 480: loss 0.570080\n",
      "iteration 490: loss 0.541507\n",
      "iteration 500: loss 0.514385\n",
      "iteration 510: loss 0.488640\n",
      "iteration 520: loss 0.464200\n",
      "iteration 530: loss 0.441000\n",
      "iteration 540: loss 0.418975\n",
      "iteration 550: loss 0.398066\n",
      "iteration 560: loss 0.378215\n",
      "iteration 570: loss 0.359369\n",
      "iteration 580: loss 0.341475\n",
      "iteration 590: loss 0.324486\n",
      "iteration 600: loss 0.308354\n",
      "iteration 610: loss 0.293037\n",
      "iteration 620: loss 0.278492\n",
      "iteration 630: loss 0.264680\n",
      "iteration 640: loss 0.251565\n",
      "iteration 650: loss 0.239110\n",
      "iteration 660: loss 0.227281\n",
      "iteration 670: loss 0.216047\n",
      "iteration 680: loss 0.205378\n",
      "iteration 690: loss 0.195245\n",
      "iteration 700: loss 0.185620\n",
      "iteration 710: loss 0.176478\n",
      "iteration 720: loss 0.167795\n",
      "iteration 730: loss 0.159546\n",
      "iteration 740: loss 0.151710\n",
      "iteration 750: loss 0.144267\n",
      "iteration 760: loss 0.137195\n",
      "iteration 770: loss 0.130477\n",
      "iteration 780: loss 0.124094\n",
      "iteration 790: loss 0.118030\n",
      "iteration 800: loss 0.112268\n",
      "iteration 810: loss 0.106793\n",
      "iteration 820: loss 0.101590\n",
      "iteration 830: loss 0.096647\n",
      "iteration 840: loss 0.091949\n",
      "iteration 850: loss 0.087484\n",
      "iteration 860: loss 0.083241\n",
      "iteration 870: loss 0.079209\n",
      "iteration 880: loss 0.075377\n",
      "iteration 890: loss 0.071734\n",
      "iteration 900: loss 0.068272\n",
      "iteration 910: loss 0.064980\n",
      "iteration 920: loss 0.061852\n",
      "iteration 930: loss 0.058878\n",
      "iteration 940: loss 0.056050\n",
      "iteration 950: loss 0.053363\n",
      "iteration 960: loss 0.050807\n",
      "iteration 970: loss 0.048377\n",
      "iteration 980: loss 0.046067\n",
      "iteration 990: loss 0.043870\n"
     ]
    }
   ],
   "source": [
    "# gradient descent loop\n",
    "total_loss=[]\n",
    "total_item=[]\n",
    "for item in range(1000):\n",
    "    total_error=0.0\n",
    "    #compute MSE (loss function)\n",
    "    for i in range(num_examples):\n",
    "        total_error += (y[i] - (W*a[i] + b))**2\n",
    "    data_loss=total_error / num_examples\n",
    "   \n",
    "    reg_loss = 0.5*reg*(W*W)\n",
    "    loss = data_loss+reg_loss \n",
    "    total_item.append(item)\n",
    "    total_loss.append(loss)\n",
    "    \n",
    "    if item % 10 == 0:\n",
    "        print(\"iteration %d: loss %f\" % (item, loss))\n",
    "      \n",
    "     \n",
    "    dw=0.0\n",
    "    db=0.0\n",
    "    for i in range(num_examples):\n",
    "        dw += -2*a[i] * (y[i] - (W*a[i] + b))\n",
    "        db += -2*(y[i] - (W*a[i] + b))\n",
    "    \n",
    "    dw/=num_examples\n",
    "    db/=num_examples\n",
    "    dw += reg*W    # regularization gradient\n",
    "          \n",
    "    \n",
    "    # perform a parameter update\n",
    "    W += -step_size * dw\n",
    "    b += -step_size * db\n"
   ]
  },
  {
   "cell_type": "code",
   "execution_count": 12,
   "metadata": {},
   "outputs": [
    {
     "data": {
      "text/plain": [
       "[<matplotlib.lines.Line2D at 0x2241c277908>]"
      ]
     },
     "execution_count": 12,
     "metadata": {},
     "output_type": "execute_result"
    },
    {
     "data": {
      "image/png": "[encoded data removed]",
      "text/plain": [
       "<matplotlib.figure.Figure at 0x2241c24a860>"
      ]
     },
     "metadata": {},
     "output_type": "display_data"
    }
   ],
   "source": [
    "plt.plot(total_item,total_loss)"
   ]
  },
  {
   "cell_type": "code",
   "execution_count": null,
   "metadata": {
    "collapsed": true
   },
   "outputs": [],
   "source": [
    "# Question 2 (6)"
   ]
  },
  {
   "cell_type": "code",
   "execution_count": 2,
   "metadata": {
    "collapsed": true
   },
   "outputs": [],
   "source": [
    "def Mean_Squared_Error (ground_truth,prediction):\n",
    "    error = np.subtract(ground_truth,prediction)\n",
    "    sq_error = np.square(error)\n",
    "    Mean_Squared_Error = np.mean(sq_error)\n",
    "    return np.matrix(Mean_Squared_Error)"
   ]
  },
  {
   "cell_type": "code",
   "execution_count": 167,
   "metadata": {},
   "outputs": [
    {
     "data": {
      "image/png": "[encoded data removed]",
      "text/plain": [
       "<matplotlib.figure.Figure at 0x2241dc17ac8>"
      ]
     },
     "metadata": {},
     "output_type": "display_data"
    }
   ],
   "source": [
    "# output for the given parameters\n",
    "\n",
    "m1=0.5\n",
    "m2=1\n",
    "c=1\n",
    "np.random.seed(123)\n",
    "x = np.random.randn(100).reshape(100,1)\n",
    "y=m1*x+(m2*x)**2+c\n",
    "y.reshape(100,1)\n",
    "plt.scatter(x,y)\n",
    "plt.title('Ground truth function plot')\n",
    "plt.show()"
   ]
  },
  {
   "cell_type": "code",
   "execution_count": 69,
   "metadata": {
    "collapsed": true
   },
   "outputs": [],
   "source": [
    "def non_liner_gradient_descent (x,W,W1,c,step_size,num_examples,y):\n",
    "    total_loss=[]\n",
    "    total_item=[]\n",
    "    for item in range(250):\n",
    "\n",
    "        # evaluate class scores, [N x K]\n",
    "        x1 = np.dot(x, W)  \n",
    "        x2= np.square(x)\n",
    "        scores=x1+np.dot(x2,W1)+c\n",
    "\n",
    "\n",
    "        # computing MSE\n",
    "        loss= Mean_Squared_Error(y,scores)\n",
    "        if i % 10 == 0:\n",
    "            print (\"iteration %d: loss %f\" % (i,loss))\n",
    "            \n",
    "        total_item.append(item)\n",
    "        total_loss.append(loss.item(0))\n",
    "\n",
    "        #compute the gradient on scores\n",
    "        dscores = -2*np.subtract(y,scores)\n",
    "        dscores /= num_examples\n",
    "        #print(dscores.shape)\n",
    "\n",
    "        # backpropate the gradient to the parameters (W,b)\n",
    "        dW = np.dot(x.T, dscores)\n",
    "        dW1= np.dot(x2.T,dscores)\n",
    "        dc = np.sum(dscores, axis=0, keepdims=True)\n",
    "\n",
    "        # perform a parameter update\n",
    "        W += -step_size * dW\n",
    "        W1 += -step_size * dW1\n",
    "        c += -step_size * dc\n",
    "    return total_item,total_loss,W,W1,c"
   ]
  },
  {
   "cell_type": "code",
   "execution_count": 75,
   "metadata": {},
   "outputs": [
    {
     "name": "stdout",
     "output_type": "stream",
     "text": [
      "[[ 0.28088922]]\n",
      "[[ 1.01487961]]\n",
      "[[ 0.74671803]]\n"
     ]
    }
   ],
   "source": [
    "np.random.seed(123)\n",
    "W= 0.01*np.random.randn(1).reshape(1,1)\n",
    "W1=0.03*np.random.randn(1).reshape(1,1)\n",
    "c=np.random.randn(1).reshape(1,1)\n",
    "#Initial value for the Gradient Descent Parameter\n",
    "num_examples=x.shape[0]\n",
    "\n",
    "\n",
    "#step_size = 1e-3 #Also called learning rate\n",
    "total_item,total_loss,W,W1,c=non_liner_gradient_descent(x,W,W1,c,1e-3 , num_examples,y)\n",
    "print(W)\n",
    "print(W1)\n",
    "print(c)\n"
   ]
  },
  {
   "cell_type": "code",
   "execution_count": 78,
   "metadata": {},
   "outputs": [
    {
     "name": "stdout",
     "output_type": "stream",
     "text": [
      "[[ 0.49921229]]\n",
      "[[ 1.00562136]]\n",
      "[[ 0.9854376]]\n"
     ]
    },
    {
     "data": {
      "image/png": "[encoded data removed]",
      "text/plain": [
       "<matplotlib.figure.Figure at 0x2241d8a35c0>"
      ]
     },
     "metadata": {},
     "output_type": "display_data"
    }
   ],
   "source": [
    "np.random.seed(123)\n",
    "W= 0.01*np.random.randn(1).reshape(1,1)\n",
    "W1=0.03*np.random.randn(1).reshape(1,1)\n",
    "c=np.random.randn(1).reshape(1,1)\n",
    "#Initial value for the Gradient Descent Parameter\n",
    "num_examples=x.shape[0]\n",
    "#step_size = 1e-4 #Also called learning rate\n",
    "total_item1,total_loss1,W,W1,c=non_liner_gradient_descent(x,W,W1,c,1e-2 , num_examples,y)\n",
    "print(W)\n",
    "print(W1)\n",
    "print(c)\n",
    "\n",
    "plt.plot(total_item,total_loss,color='green',label='step size= 1e-3')\n",
    "plt.plot(total_item1,total_loss1,color='orange',label='step size= 1e-2')\n",
    "#plt.axis([0, 100, 0, .25])\n",
    "plt.legend()\n",
    "plt.show()"
   ]
  },
  {
   "cell_type": "markdown",
   "metadata": {},
   "source": [
    "# Question 2 (7)"
   ]
  },
  {
   "cell_type": "code",
   "execution_count": 165,
   "metadata": {},
   "outputs": [
    {
     "data": {
      "image/png": "[encoded data removed]",
      "text/plain": [
       "<matplotlib.figure.Figure at 0x2241dd02550>"
      ]
     },
     "metadata": {},
     "output_type": "display_data"
    }
   ],
   "source": [
    "# output for the given parameters\n",
    "\n",
    "m=1\n",
    "c=2\n",
    "np.random.seed(123)\n",
    "X = np.random.uniform(0,2,100).reshape(100,1)\n",
    "y=np.tanh(m*X+c)\n",
    "y.reshape(100,1)\n",
    "plt.scatter(X,y)\n",
    "plt.title('Ground truth tanh function')\n",
    "plt.show()\n"
   ]
  },
  {
   "cell_type": "code",
   "execution_count": 140,
   "metadata": {
    "collapsed": true
   },
   "outputs": [],
   "source": [
    "def tanh_gradient_descent (X,W,c,step_size,num_examples,y):\n",
    "    total_loss=[]\n",
    "    total_item=[]\n",
    "    for item in range(280):\n",
    "\n",
    "        # evaluate class scores, [N x K]\n",
    "\n",
    "        scores= np.tanh(np.dot(X, W)+c)  \n",
    "        #print(scores.shape)\n",
    "\n",
    "\n",
    "        # computing MSE\n",
    "        loss= Mean_Squared_Error(y,scores)\n",
    "#         if item % 10 == 0:\n",
    "#             print(\"iteration %d: loss %f\" % (item, loss))\n",
    "\n",
    "        total_loss.append(loss.item(0))\n",
    "        total_item.append(item)\n",
    "\n",
    "        #compute the gradient on scores\n",
    "        ds = -2*np.subtract(y,scores)\n",
    "        dscores = ds*(1-(scores**2))\n",
    "        dscores /= num_examples\n",
    "\n",
    "        # backpropate the gradient to the parameters (W,b)\n",
    "        dW = np.dot(X.T, dscores)\n",
    "        dc = np.sum(dscores, axis=0, keepdims=True)\n",
    "\n",
    "        # perform a parameter update\n",
    "        W += -step_size * dW\n",
    "        c += -step_size * dc\n",
    "    return total_item,total_loss,W,c"
   ]
  },
  {
   "cell_type": "code",
   "execution_count": 144,
   "metadata": {},
   "outputs": [
    {
     "name": "stdout",
     "output_type": "stream",
     "text": [
      "[[ 0.40394493]]\n",
      "[[ 0.98212407]]\n",
      "[[ 0.12492545]]\n",
      "[[ 0.63575812]]\n"
     ]
    },
    {
     "data": {
      "image/png": "[encoded data removed]",
      "text/plain": [
       "<matplotlib.figure.Figure at 0x2241d95b748>"
      ]
     },
     "metadata": {},
     "output_type": "display_data"
    }
   ],
   "source": [
    "np.random.seed(123)\n",
    "W= 0.05*np.random.randn(1).reshape(1,1)\n",
    "c=np.random.uniform(0,2,1).reshape(1,1)\n",
    "num_examples=X.shape[0]\n",
    "#print(c)\n",
    "#Initial value for the Gradient Descent Parameter\n",
    "#step_size = 1e-2 #Also called learning rate\n",
    "\n",
    "total_item,total_loss,W,c=tanh_gradient_descent(x,W,c,1e-2 , num_examples,y)\n",
    "print(W)\n",
    "print(c)\n",
    "\n",
    "np.random.seed(123)\n",
    "W= 0.05*np.random.randn(1).reshape(1,1)\n",
    "c=np.random.uniform(0,2,1).reshape(1,1)\n",
    "num_examples=X.shape[0]\n",
    "\n",
    "#step_size = 1e-3 #Also called learning rate\n",
    "total_item1,total_loss1,W,c=tanh_gradient_descent(x,W,c,1e-3 , num_examples,y)\n",
    "print(W)\n",
    "print(c)\n",
    "\n",
    "plt.plot(total_item,total_loss,color='green',label='step size= 1e-2')\n",
    "plt.plot(total_item1,total_loss1,color='orange',label='step size= 1e-3')\n",
    "#plt.axis([0, 100, 0, .25])\n",
    "plt.legend()\n",
    "plt.show()"
   ]
  },
  {
   "cell_type": "markdown",
   "metadata": {},
   "source": [
    "# Question 3 (1)"
   ]
  },
  {
   "cell_type": "code",
   "execution_count": 147,
   "metadata": {
    "collapsed": true
   },
   "outputs": [],
   "source": [
    "def logistic_loss(X,y,W,b):\n",
    "    for i in range(200):\n",
    "\n",
    "        # evaluate class scores, [N x K]\n",
    "        scores = np.dot(X, W) + b \n",
    "\n",
    "        # compute the class probabilities\n",
    "        exp_scores = np.exp(scores)\n",
    "        probs = exp_scores / np.sum(exp_scores, axis=1, keepdims=True) # [N x K]\n",
    "\n",
    "        # compute the loss: average cross-entropy loss and regularization\n",
    "        corect_logprobs = -np.log(probs[range(num_examples),y])\n",
    "        loss = np.sum(corect_logprobs)/num_examples\n",
    "        if i % 10 == 0:\n",
    "            print(\"iteration %d: loss %f\" % (i, loss))\n",
    "            \n",
    "    return loss\n",
    "        "
   ]
  },
  {
   "cell_type": "markdown",
   "metadata": {},
   "source": [
    "# Question 3 (2)"
   ]
  },
  {
   "cell_type": "code",
   "execution_count": 148,
   "metadata": {
    "collapsed": true
   },
   "outputs": [],
   "source": [
    "# function for loss function with l2 regularization (regularization strength: reg)\n",
    "\n",
    "def logistic_loss(X,y,W,b,reg):\n",
    "    for i in range(200):\n",
    "\n",
    "        # evaluate class scores, [N x K]\n",
    "        scores = np.dot(X, W) + b \n",
    "\n",
    "        # compute the class probabilities\n",
    "        exp_scores = np.exp(scores)\n",
    "        probs = exp_scores / np.sum(exp_scores, axis=1, keepdims=True) # [N x K]\n",
    "\n",
    "        # compute the loss: average cross-entropy loss and regularization\n",
    "        corect_logprobs = -np.log(probs[range(num_examples),y])\n",
    "        data_loss = np.sum(corect_logprobs)/num_examples\n",
    "        reg_loss = 0.5*reg*np.sum(W*W)\n",
    "        loss = data_loss + reg_loss\n",
    "        if i % 10 == 0:\n",
    "            print(\"iteration %d: loss %f\" % (i, loss))\n",
    "            \n",
    "    return loss\n",
    "        "
   ]
  },
  {
   "cell_type": "code",
   "execution_count": 168,
   "metadata": {
    "collapsed": true
   },
   "outputs": [],
   "source": [
    "# function for loss function with l1 regularization (regularization strength: reg)\n",
    "\n",
    "def logistic_loss(X,y,W,b,reg):\n",
    "    for i in range(200):\n",
    "\n",
    "        # evaluate class scores, [N x K]\n",
    "        scores = np.dot(X, W) + b \n",
    "\n",
    "        # compute the class probabilities\n",
    "        exp_scores = np.exp(scores)\n",
    "        probs = exp_scores / np.sum(exp_scores, axis=1, keepdims=True) # [N x K]\n",
    "\n",
    "        # compute the loss: average cross-entropy loss and regularization\n",
    "        corect_logprobs = -np.log(probs[range(num_examples),y])\n",
    "        data_loss = np.sum(corect_logprobs)/num_examples\n",
    "        reg_loss = 0.5*reg*np.sum(W)\n",
    "        loss = data_loss + reg_loss\n",
    "        if i % 10 == 0:\n",
    "            print(\"iteration %d: loss %f\" % (i, loss))\n",
    "            \n",
    "    return loss\n",
    "        "
   ]
  }
 ],
 "metadata": {
  "kernelspec": {
   "display_name": "Python 3",
   "language": "python",
   "name": "python3"
  },
  "language_info": {
   "codemirror_mode": {
    "name": "ipython",
    "version": 3
   },
   "file_extension": ".py",
   "mimetype": "text/x-python",
   "name": "python",
   "nbconvert_exporter": "python",
   "pygments_lexer": "ipython3",
   "version": "3.6.3"
  }
 },
 "nbformat": 4,
 "nbformat_minor": 2
}
