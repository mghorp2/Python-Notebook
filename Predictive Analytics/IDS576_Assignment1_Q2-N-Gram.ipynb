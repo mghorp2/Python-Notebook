{
 "cells": [
  {
   "cell_type": "markdown",
   "metadata": {},
   "source": [
    "# Q2 - N-gram based charachter level language model \n",
    "## Part 7\n",
    "### Twitterbot: alshahbazguerr\n",
    "\n",
    "The following code was adopted from the following reference:\n",
    "- http://nbviewer.jupyter.org/gist/yoavg/d76121dfde2618422139"
   ]
  },
  {
   "cell_type": "code",
   "execution_count": 1,
   "metadata": {
    "collapsed": true
   },
   "outputs": [],
   "source": [
    "from collections import *\n",
    "\n",
    "\n",
    "def train_char_lm(fname, order=4):\n",
    "    data = file(fname).read()\n",
    "    lm = defaultdict(Counter)\n",
    "    pad = \"~\" * order\n",
    "    data = pad + data\n",
    "    for i in xrange(len(data)-order):\n",
    "        history, char = data[i:i+order], data[i+order]\n",
    "        lm[history][char]+=1\n",
    "    def normalize(counter):\n",
    "        s = float(sum(counter.values()))\n",
    "        return [(c,cnt/s) for c,cnt in counter.iteritems()]\n",
    "    outlm = {hist:normalize(chars) for hist, chars in lm.iteritems()}\n",
    "    return outlm"
   ]
  },
  {
   "cell_type": "code",
   "execution_count": 2,
   "metadata": {
    "collapsed": true
   },
   "outputs": [],
   "source": [
    "from random import random\n",
    "\n",
    "def generate_letter(lm, history, order):\n",
    "        history = history[-order:]\n",
    "        dist = lm[history]\n",
    "        x = random()\n",
    "        for c,v in dist:\n",
    "            x = x - v\n",
    "            if x <= 0: return c"
   ]
  },
  {
   "cell_type": "code",
   "execution_count": 3,
   "metadata": {
    "collapsed": true
   },
   "outputs": [],
   "source": [
    "def generate_text(lm, order, nletters=1000):\n",
    "    history = \"~\" * order\n",
    "    out = []\n",
    "    for i in xrange(nletters):\n",
    "        c = generate_letter(lm, history, order)\n",
    "        history = history[-order:] + c\n",
    "        out.append(c)\n",
    "    return \"\".join(out)"
   ]
  },
  {
   "cell_type": "code",
   "execution_count": 4,
   "metadata": {},
   "outputs": [
    {
     "ename": "NameError",
     "evalue": "name 'file' is not defined",
     "output_type": "error",
     "traceback": [
      "\u001b[1;31m---------------------------------------------------------------------------\u001b[0m",
      "\u001b[1;31mNameError\u001b[0m                                 Traceback (most recent call last)",
      "\u001b[1;32m<ipython-input-4-7d13f0864a96>\u001b[0m in \u001b[0;36m<module>\u001b[1;34m()\u001b[0m\n\u001b[0;32m      1\u001b[0m \u001b[1;31m#train a 5-gram model\u001b[0m\u001b[1;33m\u001b[0m\u001b[1;33m\u001b[0m\u001b[0m\n\u001b[1;32m----> 2\u001b[1;33m \u001b[0mlm_5\u001b[0m \u001b[1;33m=\u001b[0m \u001b[0mtrain_char_lm\u001b[0m\u001b[1;33m(\u001b[0m\u001b[1;34m\"obama.txt\"\u001b[0m\u001b[1;33m,\u001b[0m \u001b[0morder\u001b[0m\u001b[1;33m=\u001b[0m\u001b[1;36m5\u001b[0m\u001b[1;33m)\u001b[0m\u001b[1;33m\u001b[0m\u001b[0m\n\u001b[0m",
      "\u001b[1;32m<ipython-input-1-3b5b4d8ab005>\u001b[0m in \u001b[0;36mtrain_char_lm\u001b[1;34m(fname, order)\u001b[0m\n\u001b[0;32m      3\u001b[0m \u001b[1;33m\u001b[0m\u001b[0m\n\u001b[0;32m      4\u001b[0m \u001b[1;32mdef\u001b[0m \u001b[0mtrain_char_lm\u001b[0m\u001b[1;33m(\u001b[0m\u001b[0mfname\u001b[0m\u001b[1;33m,\u001b[0m \u001b[0morder\u001b[0m\u001b[1;33m=\u001b[0m\u001b[1;36m4\u001b[0m\u001b[1;33m)\u001b[0m\u001b[1;33m:\u001b[0m\u001b[1;33m\u001b[0m\u001b[0m\n\u001b[1;32m----> 5\u001b[1;33m     \u001b[0mdata\u001b[0m \u001b[1;33m=\u001b[0m \u001b[0mfile\u001b[0m\u001b[1;33m(\u001b[0m\u001b[0mfname\u001b[0m\u001b[1;33m)\u001b[0m\u001b[1;33m.\u001b[0m\u001b[0mread\u001b[0m\u001b[1;33m(\u001b[0m\u001b[1;33m)\u001b[0m\u001b[1;33m\u001b[0m\u001b[0m\n\u001b[0m\u001b[0;32m      6\u001b[0m     \u001b[0mlm\u001b[0m \u001b[1;33m=\u001b[0m \u001b[0mdefaultdict\u001b[0m\u001b[1;33m(\u001b[0m\u001b[0mCounter\u001b[0m\u001b[1;33m)\u001b[0m\u001b[1;33m\u001b[0m\u001b[0m\n\u001b[0;32m      7\u001b[0m     \u001b[0mpad\u001b[0m \u001b[1;33m=\u001b[0m \u001b[1;34m\"~\"\u001b[0m \u001b[1;33m*\u001b[0m \u001b[0morder\u001b[0m\u001b[1;33m\u001b[0m\u001b[0m\n",
      "\u001b[1;31mNameError\u001b[0m: name 'file' is not defined"
     ]
    }
   ],
   "source": [
    "#train a 5-gram model\n",
    "lm_5 = train_char_lm(\"text_corpus.txt\", order=5)"
   ]
  },
  {
   "cell_type": "code",
   "execution_count": 46,
   "metadata": {},
   "outputs": [
    {
     "name": "stdout",
     "output_type": "stream",
     "text": [
      "Please have not a big round they campaign -- poor, but the job, or their peace of bring as it possib\n"
     ]
    }
   ],
   "source": [
    "#test generation based on 5-gram model\n",
    "print generate_text(lm_5, 5, nletters=100)"
   ]
  },
  {
   "cell_type": "code",
   "execution_count": 4,
   "metadata": {
    "collapsed": true
   },
   "outputs": [],
   "source": [
    "#train a 10-gram model\n",
    "lm_10 = train_char_lm(\"text_corpus.txt\", order=10)"
   ]
  },
  {
   "cell_type": "code",
   "execution_count": 6,
   "metadata": {},
   "outputs": [
    {
     "name": "stdout",
     "output_type": "stream",
     "text": [
      "Please see below for a corporate tax rates we've had since World War II. Some people here to tell yo\n"
     ]
    }
   ],
   "source": [
    "#test generation based on 10-gram model\n",
    "print generate_text(lm_10, 10, nletters=100)"
   ]
  },
  {
   "cell_type": "markdown",
   "metadata": {},
   "source": [
    "### Set up OAuth for twitter API\n",
    "#### Twitterbot: alshahbazguerr"
   ]
  },
  {
   "cell_type": "code",
   "execution_count": 10,
   "metadata": {
    "collapsed": true
   },
   "outputs": [],
   "source": [
    "import tweepy\n",
    "from time import sleep\n",
    "\n",
    "# Create variables for each key, secret, token\n",
    "consumer_key = ''\n",
    "consumer_secret = ''\n",
    "access_token = ''\n",
    "access_token_secret = ''\n",
    "\n",
    "# Set up OAuth and integrate with API\n",
    "auth = tweepy.OAuthHandler(consumer_key, consumer_secret)\n",
    "auth.set_access_token(access_token, access_token_secret)\n",
    "api = tweepy.API(auth)"
   ]
  },
  {
   "cell_type": "code",
   "execution_count": 11,
   "metadata": {
    "collapsed": true
   },
   "outputs": [],
   "source": [
    "def send_tweet_ngram(num_tweets, delay, lm, order, nletters=100):\n",
    "    \n",
    "    for i in range(num_tweets):\n",
    "        txt = generate_text(lm, order, nletters=nletters)\n",
    "        tweet = '%d-Gram tweet (%d): \\n%s' % (order, i+1, txt)\n",
    "        print tweet\n",
    "        \n",
    "        try:\n",
    "            api.update_status(status=tweet)\n",
    "        except tweepy.TweepError as e:\n",
    "            print(e.reason)\n",
    "        \n",
    "        sleep(delay)   "
   ]
  },
  {
   "cell_type": "code",
   "execution_count": null,
   "metadata": {},
   "outputs": [
    {
     "name": "stdout",
     "output_type": "stream",
     "text": [
      "5-Gram tweet (1): \n",
      "Please of Virginia -- a famously to be irresponsibility to they tellingness is incomes to do, and we\n",
      "5-Gram tweet (2): \n",
      "Please half years of dollars -- \"repeat -- and that's why we make sure the right. The economy. And t\n",
      "5-Gram tweet (3): \n",
      "Please given before afford B. Mumbai is actually embrace with job of president, we have a second ple\n",
      "5-Gram tweet (4): \n",
      "Pleased a success citizens from his ruling behind turn, is making back in Croce. We believe young pe\n",
      "5-Gram tweet (5): \n",
      "Pleased on how that you were guy name.  I don't know with is, capital bet on the issue. Apollo -- no\n",
      "5-Gram tweet (6): \n",
      "Please happen. What at the United States, including post-traumatized fighting a home you, everybody \n",
      "5-Gram tweet (7): \n",
      "Please giving it take sure through the could be substance that the job at a little can, you about a \n",
      "5-Gram tweet (8): \n",
      "Please  July 1st.     Now, this country was the QB. Vice President.  But the private Force --  -- wh\n",
      "5-Gram tweet (9): \n",
      "Please. It's about intense.  So instituencies aren't see a nation of us. There's July, they've got t\n",
      "5-Gram tweet (10): \n",
      "Pleased us to improvements had fairly for America's still succeed at the Purple vote. And every clea\n",
      "5-Gram tweet (11): \n",
      "Please  June. It's football rocket open those so question overcoming home.  But I am my home added m\n",
      "5-Gram tweet (12): \n",
      "Please domestic efforts. And I want to get by. And it just Sonia -- and there. Do you prayer. Tory ,\n",
      "5-Gram tweet (13): \n",
      "Please it costs, we had don't in air if our economic that we because if Patty -- many of all of you.\n",
      "5-Gram tweet (14): \n",
      "Please, he's good to get news is not a Democrats and Palestiness believed in ever dreams and geosync\n",
      "5-Gram tweet (15): \n",
      "Please. The face of they raise.  We have been their head of the White House of your business, a lot \n",
      "5-Gram tweet (16): \n",
      "Please giving of what I'm doubt away from getting up at 7-7, then thank you understanding people are\n",
      "5-Gram tweet (17): \n",
      "Pleases, if you an era of Alabama fair shop forward Bouazizi was government to the long with that we\n",
      "5-Gram tweet (18): \n",
      "Please have to get that. They underscore. And beauty was see, than NASA and deflated a properly; you\n",
      "5-Gram tweet (19): \n",
      "Please term. As you for young pelted.  All right for President, you can't have said does. It's our k\n",
      "5-Gram tweet (20): \n",
      "Pleased on that the United States culminational government outsource on from our capable to Mexico, \n"
     ]
    }
   ],
   "source": [
    "#send 20 tweets using the 5-gram model \n",
    "send_tweet_ngram(num_tweets=20, delay=360, lm=lm_5, order=5)"
   ]
  },
  {
   "cell_type": "code",
   "execution_count": 12,
   "metadata": {},
   "outputs": [
    {
     "name": "stdout",
     "output_type": "stream",
     "text": [
      "10-Gram tweet (1): \n",
      "Please see if we continue to pursue their own. We've got to also mention that government except for \n",
      "10-Gram tweet (2): \n",
      "Please see below for a murder rate with local communities left behind. And this is where you can pay\n",
      "10-Gram tweet (3): \n",
      "Please see below for a rescue. And in that strength to the middle class in this room was -- she said\n",
      "10-Gram tweet (4): \n",
      "Please see below for a correctional office in the Senate refused to help rescue his fellow airmen sa\n",
      "10-Gram tweet (5): \n",
      "Please see below for a corrections of middle-class families will be lower than it was buying into yo\n",
      "10-Gram tweet (6): \n",
      "Please see below for a correction  to the train.  And this is good for our future. And as I apprecia\n",
      "10-Gram tweet (7): \n",
      "Please see below for a correction, we'll give you another element of public service jobs depend on o\n",
      "10-Gram tweet (8): \n",
      "Please see if we can't, they need to create more trust, making bets with investing in education, pro\n",
      "10-Gram tweet (9): \n",
      "Please see below for a corporate welfare. Ending the war in Afghanistan -- and sort of slept in.  Th\n",
      "10-Gram tweet (10): \n",
      "Please see below for a correction  to the transition to make sure that the economy, I believe that i\n",
      "10-Gram tweet (11): \n",
      "Please see below for a corrections that imperfect build-on as to whether their kids get sick don't h\n",
      "10-Gram tweet (12): \n",
      "Please see if we can bring sustenance from India with 9 bucks in history, and it starts this year. I\n",
      "10-Gram tweet (13): \n",
      "Please see below for a corrections, and for the great work then, it won't happen as well as the one \n",
      "10-Gram tweet (14): \n",
      "Please see below for a repeat. And I would urge all of us to pull it off, but when you talk about ju\n",
      "10-Gram tweet (15): \n",
      "Please see below for a couple of years, we've talked about manufacturing advanced the budget line by\n",
      "10-Gram tweet (16): \n",
      "Please see below for a corrections of low-income Native American people. But folks like you're shaki\n",
      "10-Gram tweet (17): \n",
      "Please see below for a corrections of things that we've got somebody who's going to be damaging a pr\n",
      "10-Gram tweet (18): \n",
      "Please see below for a corporate interested in seeing what happened over the next generation. For ex\n",
      "10-Gram tweet (19): \n",
      "Please see below for a corporate agribusiness in Washington, and I will significant organization. Th\n",
      "10-Gram tweet (20): \n",
      "Please see below for a couple questions, and for numerous awards. And now it is really should. And t\n"
     ]
    }
   ],
   "source": [
    "#send 20 tweets using the 10-gram model \n",
    "send_tweet_ngram(num_tweets=20, delay=360, lm=lm_10, order=10)"
   ]
  }
 ],
 "metadata": {
  "kernelspec": {
   "display_name": "Python 3",
   "language": "python",
   "name": "python3"
  },
  "language_info": {
   "codemirror_mode": {
    "name": "ipython",
    "version": 3
   },
   "file_extension": ".py",
   "mimetype": "text/x-python",
   "name": "python",
   "nbconvert_exporter": "python",
   "pygments_lexer": "ipython3",
   "version": "3.6.3"
  }
 },
 "nbformat": 4,
 "nbformat_minor": 1
}
