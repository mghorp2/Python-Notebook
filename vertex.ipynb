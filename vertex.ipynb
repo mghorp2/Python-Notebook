{
 "cells": [
  {
   "cell_type": "code",
   "execution_count": 1,
   "metadata": {
    "collapsed": true
   },
   "outputs": [],
   "source": [
    "import csv\n",
    "import numpy as np\n",
    "import pandas as pd"
   ]
  },
  {
   "cell_type": "code",
   "execution_count": 2,
   "metadata": {
    "collapsed": true
   },
   "outputs": [],
   "source": [
    "source_folder = \"C:\\\\Users\\\\Mrunal\\\\Downloads\\\\\""
   ]
  },
  {
   "cell_type": "code",
   "execution_count": 3,
   "metadata": {
    "collapsed": true
   },
   "outputs": [],
   "source": [
    "df= pd.read_csv(source_folder+'disease_data.csv',sep=\",\")"
   ]
  },
  {
   "cell_type": "code",
   "execution_count": 18,
   "metadata": {},
   "outputs": [
    {
     "data": {
      "text/html": [
       "<div>\n",
       "<style>\n",
       "    .dataframe thead tr:only-child th {\n",
       "        text-align: right;\n",
       "    }\n",
       "\n",
       "    .dataframe thead th {\n",
       "        text-align: left;\n",
       "    }\n",
       "\n",
       "    .dataframe tbody tr th {\n",
       "        vertical-align: top;\n",
       "    }\n",
       "</style>\n",
       "<table border=\"1\" class=\"dataframe\">\n",
       "  <thead>\n",
       "    <tr style=\"text-align: right;\">\n",
       "      <th></th>\n",
       "      <th>Patient ID</th>\n",
       "      <th>Age</th>\n",
       "      <th>Sex</th>\n",
       "      <th>Systolic Blood Pressure</th>\n",
       "      <th>Diastolic Blood Pressure</th>\n",
       "      <th>Weight</th>\n",
       "      <th>Unknown Metric 1</th>\n",
       "      <th>Unknown Metric 2</th>\n",
       "      <th>Unknown Metric 3</th>\n",
       "      <th>Unknown Metric 4</th>\n",
       "      <th>Unknown Metric 5</th>\n",
       "      <th>Severity Level</th>\n",
       "      <th>Age_category</th>\n",
       "    </tr>\n",
       "  </thead>\n",
       "  <tbody>\n",
       "    <tr>\n",
       "      <th>0</th>\n",
       "      <td>49706</td>\n",
       "      <td>39</td>\n",
       "      <td>Female</td>\n",
       "      <td>101.617996</td>\n",
       "      <td>73.906511</td>\n",
       "      <td>159.570921</td>\n",
       "      <td>37.586451</td>\n",
       "      <td>53.486912</td>\n",
       "      <td>1.142117</td>\n",
       "      <td>88.226718</td>\n",
       "      <td>0.781133</td>\n",
       "      <td>0</td>\n",
       "      <td>Middle-aged</td>\n",
       "    </tr>\n",
       "    <tr>\n",
       "      <th>1</th>\n",
       "      <td>83488</td>\n",
       "      <td>18</td>\n",
       "      <td>Female</td>\n",
       "      <td>83.551292</td>\n",
       "      <td>27.639837</td>\n",
       "      <td>124.538409</td>\n",
       "      <td>1021.198140</td>\n",
       "      <td>-48.697310</td>\n",
       "      <td>10.968325</td>\n",
       "      <td>98.780793</td>\n",
       "      <td>0.127519</td>\n",
       "      <td>7</td>\n",
       "      <td>Young</td>\n",
       "    </tr>\n",
       "    <tr>\n",
       "      <th>2</th>\n",
       "      <td>50220</td>\n",
       "      <td>68</td>\n",
       "      <td>Male</td>\n",
       "      <td>111.458120</td>\n",
       "      <td>57.612856</td>\n",
       "      <td>140.490142</td>\n",
       "      <td>-658.163446</td>\n",
       "      <td>64.879688</td>\n",
       "      <td>-7.924638</td>\n",
       "      <td>78.488352</td>\n",
       "      <td>3.259557</td>\n",
       "      <td>0</td>\n",
       "      <td>Old</td>\n",
       "    </tr>\n",
       "    <tr>\n",
       "      <th>3</th>\n",
       "      <td>55952</td>\n",
       "      <td>59</td>\n",
       "      <td>Male</td>\n",
       "      <td>86.805826</td>\n",
       "      <td>58.821097</td>\n",
       "      <td>193.578685</td>\n",
       "      <td>-1768.631189</td>\n",
       "      <td>173.566996</td>\n",
       "      <td>-52.709014</td>\n",
       "      <td>30.386614</td>\n",
       "      <td>1.301406</td>\n",
       "      <td>2</td>\n",
       "      <td>Senior</td>\n",
       "    </tr>\n",
       "    <tr>\n",
       "      <th>4</th>\n",
       "      <td>89964</td>\n",
       "      <td>11</td>\n",
       "      <td>Female</td>\n",
       "      <td>115.882419</td>\n",
       "      <td>52.269411</td>\n",
       "      <td>166.770215</td>\n",
       "      <td>3473.834750</td>\n",
       "      <td>-81.505030</td>\n",
       "      <td>131.076962</td>\n",
       "      <td>227.786366</td>\n",
       "      <td>1.649680</td>\n",
       "      <td>8</td>\n",
       "      <td>Child</td>\n",
       "    </tr>\n",
       "  </tbody>\n",
       "</table>\n",
       "</div>"
      ],
      "text/plain": [
       "   Patient ID  Age     Sex  Systolic Blood Pressure  Diastolic Blood Pressure  \\\n",
       "0       49706   39  Female               101.617996                 73.906511   \n",
       "1       83488   18  Female                83.551292                 27.639837   \n",
       "2       50220   68    Male               111.458120                 57.612856   \n",
       "3       55952   59    Male                86.805826                 58.821097   \n",
       "4       89964   11  Female               115.882419                 52.269411   \n",
       "\n",
       "       Weight  Unknown Metric 1  Unknown Metric 2  Unknown Metric 3  \\\n",
       "0  159.570921         37.586451         53.486912          1.142117   \n",
       "1  124.538409       1021.198140        -48.697310         10.968325   \n",
       "2  140.490142       -658.163446         64.879688         -7.924638   \n",
       "3  193.578685      -1768.631189        173.566996        -52.709014   \n",
       "4  166.770215       3473.834750        -81.505030        131.076962   \n",
       "\n",
       "   Unknown Metric 4  Unknown Metric 5  Severity Level Age_category  \n",
       "0         88.226718          0.781133               0  Middle-aged  \n",
       "1         98.780793          0.127519               7        Young  \n",
       "2         78.488352          3.259557               0          Old  \n",
       "3         30.386614          1.301406               2       Senior  \n",
       "4        227.786366          1.649680               8        Child  "
      ]
     },
     "execution_count": 18,
     "metadata": {},
     "output_type": "execute_result"
    }
   ],
   "source": [
    "df.head(5)"
   ]
  },
  {
   "cell_type": "code",
   "execution_count": null,
   "metadata": {},
   "outputs": [],
   "source": [
    "data['Severity Level'].unique()"
   ]
  },
  {
   "cell_type": "code",
   "execution_count": null,
   "metadata": {},
   "outputs": [],
   "source": [
    "df.describe()"
   ]
  },
  {
   "cell_type": "code",
   "execution_count": 4,
   "metadata": {},
   "outputs": [],
   "source": [
    "df['Age']=df['Age'].map(lambda x: np.abs(x))"
   ]
  },
  {
   "cell_type": "code",
   "execution_count": 5,
   "metadata": {},
   "outputs": [],
   "source": [
    "# put ages in categories and add as columns to DataFrame\n",
    "age_bins = [0,12, 25, 45, 65, 150]\n",
    "age_labels = [\"Child\",\"Young\", \"Middle-aged\", \"Senior\", \"Old\"]\n",
    "df['Age_category'] = pd.cut(df['Age'], age_bins, labels=age_labels, \n",
    "    right=True, include_lowest=True)"
   ]
  },
  {
   "cell_type": "code",
   "execution_count": null,
   "metadata": {},
   "outputs": [],
   "source": [
    "df.head(5)"
   ]
  },
  {
   "cell_type": "code",
   "execution_count": 6,
   "metadata": {},
   "outputs": [
    {
     "data": {
      "text/html": [
       "<div>\n",
       "<style>\n",
       "    .dataframe thead tr:only-child th {\n",
       "        text-align: right;\n",
       "    }\n",
       "\n",
       "    .dataframe thead th {\n",
       "        text-align: left;\n",
       "    }\n",
       "\n",
       "    .dataframe tbody tr th {\n",
       "        vertical-align: top;\n",
       "    }\n",
       "</style>\n",
       "<table border=\"1\" class=\"dataframe\">\n",
       "  <thead>\n",
       "    <tr style=\"text-align: right;\">\n",
       "      <th></th>\n",
       "      <th>Female</th>\n",
       "      <th>Male</th>\n",
       "    </tr>\n",
       "  </thead>\n",
       "  <tbody>\n",
       "    <tr>\n",
       "      <th>0</th>\n",
       "      <td>1</td>\n",
       "      <td>0</td>\n",
       "    </tr>\n",
       "    <tr>\n",
       "      <th>1</th>\n",
       "      <td>1</td>\n",
       "      <td>0</td>\n",
       "    </tr>\n",
       "    <tr>\n",
       "      <th>2</th>\n",
       "      <td>0</td>\n",
       "      <td>1</td>\n",
       "    </tr>\n",
       "    <tr>\n",
       "      <th>3</th>\n",
       "      <td>0</td>\n",
       "      <td>1</td>\n",
       "    </tr>\n",
       "  </tbody>\n",
       "</table>\n",
       "</div>"
      ],
      "text/plain": [
       "   Female  Male\n",
       "0       1     0\n",
       "1       1     0\n",
       "2       0     1\n",
       "3       0     1"
      ]
     },
     "execution_count": 6,
     "metadata": {},
     "output_type": "execute_result"
    }
   ],
   "source": [
    "age_dummies=pd.get_dummies(df['Age_category'])\n",
    "sex_dummies=pd.get_dummies(df['Sex'])\n",
    "#age_dummies.head(7)\n",
    "sex_dummies.head(4)"
   ]
  },
  {
   "cell_type": "code",
   "execution_count": 7,
   "metadata": {},
   "outputs": [
    {
     "data": {
      "text/html": [
       "<div>\n",
       "<style>\n",
       "    .dataframe thead tr:only-child th {\n",
       "        text-align: right;\n",
       "    }\n",
       "\n",
       "    .dataframe thead th {\n",
       "        text-align: left;\n",
       "    }\n",
       "\n",
       "    .dataframe tbody tr th {\n",
       "        vertical-align: top;\n",
       "    }\n",
       "</style>\n",
       "<table border=\"1\" class=\"dataframe\">\n",
       "  <thead>\n",
       "    <tr style=\"text-align: right;\">\n",
       "      <th></th>\n",
       "      <th>Patient ID</th>\n",
       "      <th>Age</th>\n",
       "      <th>Systolic Blood Pressure</th>\n",
       "      <th>Diastolic Blood Pressure</th>\n",
       "      <th>Weight</th>\n",
       "      <th>Unknown Metric 1</th>\n",
       "      <th>Unknown Metric 2</th>\n",
       "      <th>Unknown Metric 3</th>\n",
       "      <th>Unknown Metric 4</th>\n",
       "      <th>Unknown Metric 5</th>\n",
       "      <th>Severity Level</th>\n",
       "      <th>Child</th>\n",
       "      <th>Young</th>\n",
       "      <th>Middle-aged</th>\n",
       "      <th>Senior</th>\n",
       "      <th>Old</th>\n",
       "      <th>Female</th>\n",
       "      <th>Male</th>\n",
       "    </tr>\n",
       "  </thead>\n",
       "  <tbody>\n",
       "    <tr>\n",
       "      <th>0</th>\n",
       "      <td>49706</td>\n",
       "      <td>39</td>\n",
       "      <td>101.617996</td>\n",
       "      <td>73.906511</td>\n",
       "      <td>159.570921</td>\n",
       "      <td>37.586451</td>\n",
       "      <td>53.486912</td>\n",
       "      <td>1.142117</td>\n",
       "      <td>88.226718</td>\n",
       "      <td>0.781133</td>\n",
       "      <td>0</td>\n",
       "      <td>0</td>\n",
       "      <td>0</td>\n",
       "      <td>1</td>\n",
       "      <td>0</td>\n",
       "      <td>0</td>\n",
       "      <td>1</td>\n",
       "      <td>0</td>\n",
       "    </tr>\n",
       "    <tr>\n",
       "      <th>1</th>\n",
       "      <td>83488</td>\n",
       "      <td>18</td>\n",
       "      <td>83.551292</td>\n",
       "      <td>27.639837</td>\n",
       "      <td>124.538409</td>\n",
       "      <td>1021.198140</td>\n",
       "      <td>-48.697310</td>\n",
       "      <td>10.968325</td>\n",
       "      <td>98.780793</td>\n",
       "      <td>0.127519</td>\n",
       "      <td>7</td>\n",
       "      <td>0</td>\n",
       "      <td>1</td>\n",
       "      <td>0</td>\n",
       "      <td>0</td>\n",
       "      <td>0</td>\n",
       "      <td>1</td>\n",
       "      <td>0</td>\n",
       "    </tr>\n",
       "    <tr>\n",
       "      <th>2</th>\n",
       "      <td>50220</td>\n",
       "      <td>68</td>\n",
       "      <td>111.458120</td>\n",
       "      <td>57.612856</td>\n",
       "      <td>140.490142</td>\n",
       "      <td>-658.163446</td>\n",
       "      <td>64.879688</td>\n",
       "      <td>-7.924638</td>\n",
       "      <td>78.488352</td>\n",
       "      <td>3.259557</td>\n",
       "      <td>0</td>\n",
       "      <td>0</td>\n",
       "      <td>0</td>\n",
       "      <td>0</td>\n",
       "      <td>0</td>\n",
       "      <td>1</td>\n",
       "      <td>0</td>\n",
       "      <td>1</td>\n",
       "    </tr>\n",
       "    <tr>\n",
       "      <th>3</th>\n",
       "      <td>55952</td>\n",
       "      <td>59</td>\n",
       "      <td>86.805826</td>\n",
       "      <td>58.821097</td>\n",
       "      <td>193.578685</td>\n",
       "      <td>-1768.631189</td>\n",
       "      <td>173.566996</td>\n",
       "      <td>-52.709014</td>\n",
       "      <td>30.386614</td>\n",
       "      <td>1.301406</td>\n",
       "      <td>2</td>\n",
       "      <td>0</td>\n",
       "      <td>0</td>\n",
       "      <td>0</td>\n",
       "      <td>1</td>\n",
       "      <td>0</td>\n",
       "      <td>0</td>\n",
       "      <td>1</td>\n",
       "    </tr>\n",
       "    <tr>\n",
       "      <th>4</th>\n",
       "      <td>89964</td>\n",
       "      <td>11</td>\n",
       "      <td>115.882419</td>\n",
       "      <td>52.269411</td>\n",
       "      <td>166.770215</td>\n",
       "      <td>3473.834750</td>\n",
       "      <td>-81.505030</td>\n",
       "      <td>131.076962</td>\n",
       "      <td>227.786366</td>\n",
       "      <td>1.649680</td>\n",
       "      <td>8</td>\n",
       "      <td>1</td>\n",
       "      <td>0</td>\n",
       "      <td>0</td>\n",
       "      <td>0</td>\n",
       "      <td>0</td>\n",
       "      <td>1</td>\n",
       "      <td>0</td>\n",
       "    </tr>\n",
       "  </tbody>\n",
       "</table>\n",
       "</div>"
      ],
      "text/plain": [
       "   Patient ID  Age  Systolic Blood Pressure  Diastolic Blood Pressure  \\\n",
       "0       49706   39               101.617996                 73.906511   \n",
       "1       83488   18                83.551292                 27.639837   \n",
       "2       50220   68               111.458120                 57.612856   \n",
       "3       55952   59                86.805826                 58.821097   \n",
       "4       89964   11               115.882419                 52.269411   \n",
       "\n",
       "       Weight  Unknown Metric 1  Unknown Metric 2  Unknown Metric 3  \\\n",
       "0  159.570921         37.586451         53.486912          1.142117   \n",
       "1  124.538409       1021.198140        -48.697310         10.968325   \n",
       "2  140.490142       -658.163446         64.879688         -7.924638   \n",
       "3  193.578685      -1768.631189        173.566996        -52.709014   \n",
       "4  166.770215       3473.834750        -81.505030        131.076962   \n",
       "\n",
       "   Unknown Metric 4  Unknown Metric 5  Severity Level  Child  Young  \\\n",
       "0         88.226718          0.781133               0      0      0   \n",
       "1         98.780793          0.127519               7      0      1   \n",
       "2         78.488352          3.259557               0      0      0   \n",
       "3         30.386614          1.301406               2      0      0   \n",
       "4        227.786366          1.649680               8      1      0   \n",
       "\n",
       "   Middle-aged  Senior  Old  Female  Male  \n",
       "0            1       0    0       1     0  \n",
       "1            0       0    0       1     0  \n",
       "2            0       0    1       0     1  \n",
       "3            0       1    0       0     1  \n",
       "4            0       0    0       1     0  "
      ]
     },
     "execution_count": 7,
     "metadata": {},
     "output_type": "execute_result"
    }
   ],
   "source": [
    "data_df=df.drop('Age_category',axis=1)\n",
    "data_df=data_df.join(age_dummies)\n",
    "data_df=data_df.drop('Sex',axis=1)\n",
    "data_df=data_df.join(sex_dummies)\n",
    "data_df.head(5)"
   ]
  },
  {
   "cell_type": "code",
   "execution_count": 8,
   "metadata": {},
   "outputs": [],
   "source": [
    "data_df=data_df.drop('Age',axis=1)"
   ]
  },
  {
   "cell_type": "code",
   "execution_count": 9,
   "metadata": {},
   "outputs": [
    {
     "data": {
      "text/html": [
       "<div>\n",
       "<style>\n",
       "    .dataframe thead tr:only-child th {\n",
       "        text-align: right;\n",
       "    }\n",
       "\n",
       "    .dataframe thead th {\n",
       "        text-align: left;\n",
       "    }\n",
       "\n",
       "    .dataframe tbody tr th {\n",
       "        vertical-align: top;\n",
       "    }\n",
       "</style>\n",
       "<table border=\"1\" class=\"dataframe\">\n",
       "  <thead>\n",
       "    <tr style=\"text-align: right;\">\n",
       "      <th></th>\n",
       "      <th>Patient ID</th>\n",
       "      <th>Systolic Blood Pressure</th>\n",
       "      <th>Diastolic Blood Pressure</th>\n",
       "      <th>Weight</th>\n",
       "      <th>Unknown Metric 1</th>\n",
       "      <th>Unknown Metric 2</th>\n",
       "      <th>Unknown Metric 3</th>\n",
       "      <th>Unknown Metric 4</th>\n",
       "      <th>Unknown Metric 5</th>\n",
       "      <th>Severity Level</th>\n",
       "      <th>Child</th>\n",
       "      <th>Young</th>\n",
       "      <th>Middle-aged</th>\n",
       "      <th>Senior</th>\n",
       "      <th>Old</th>\n",
       "      <th>Female</th>\n",
       "      <th>Male</th>\n",
       "    </tr>\n",
       "  </thead>\n",
       "  <tbody>\n",
       "    <tr>\n",
       "      <th>0</th>\n",
       "      <td>49706</td>\n",
       "      <td>101.617996</td>\n",
       "      <td>73.906511</td>\n",
       "      <td>159.570921</td>\n",
       "      <td>37.586451</td>\n",
       "      <td>53.486912</td>\n",
       "      <td>1.142117</td>\n",
       "      <td>88.226718</td>\n",
       "      <td>0.781133</td>\n",
       "      <td>0</td>\n",
       "      <td>0</td>\n",
       "      <td>0</td>\n",
       "      <td>1</td>\n",
       "      <td>0</td>\n",
       "      <td>0</td>\n",
       "      <td>1</td>\n",
       "      <td>0</td>\n",
       "    </tr>\n",
       "    <tr>\n",
       "      <th>1</th>\n",
       "      <td>83488</td>\n",
       "      <td>83.551292</td>\n",
       "      <td>27.639837</td>\n",
       "      <td>124.538409</td>\n",
       "      <td>1021.198140</td>\n",
       "      <td>-48.697310</td>\n",
       "      <td>10.968325</td>\n",
       "      <td>98.780793</td>\n",
       "      <td>0.127519</td>\n",
       "      <td>7</td>\n",
       "      <td>0</td>\n",
       "      <td>1</td>\n",
       "      <td>0</td>\n",
       "      <td>0</td>\n",
       "      <td>0</td>\n",
       "      <td>1</td>\n",
       "      <td>0</td>\n",
       "    </tr>\n",
       "    <tr>\n",
       "      <th>2</th>\n",
       "      <td>50220</td>\n",
       "      <td>111.458120</td>\n",
       "      <td>57.612856</td>\n",
       "      <td>140.490142</td>\n",
       "      <td>-658.163446</td>\n",
       "      <td>64.879688</td>\n",
       "      <td>-7.924638</td>\n",
       "      <td>78.488352</td>\n",
       "      <td>3.259557</td>\n",
       "      <td>0</td>\n",
       "      <td>0</td>\n",
       "      <td>0</td>\n",
       "      <td>0</td>\n",
       "      <td>0</td>\n",
       "      <td>1</td>\n",
       "      <td>0</td>\n",
       "      <td>1</td>\n",
       "    </tr>\n",
       "    <tr>\n",
       "      <th>3</th>\n",
       "      <td>55952</td>\n",
       "      <td>86.805826</td>\n",
       "      <td>58.821097</td>\n",
       "      <td>193.578685</td>\n",
       "      <td>-1768.631189</td>\n",
       "      <td>173.566996</td>\n",
       "      <td>-52.709014</td>\n",
       "      <td>30.386614</td>\n",
       "      <td>1.301406</td>\n",
       "      <td>2</td>\n",
       "      <td>0</td>\n",
       "      <td>0</td>\n",
       "      <td>0</td>\n",
       "      <td>1</td>\n",
       "      <td>0</td>\n",
       "      <td>0</td>\n",
       "      <td>1</td>\n",
       "    </tr>\n",
       "    <tr>\n",
       "      <th>4</th>\n",
       "      <td>89964</td>\n",
       "      <td>115.882419</td>\n",
       "      <td>52.269411</td>\n",
       "      <td>166.770215</td>\n",
       "      <td>3473.834750</td>\n",
       "      <td>-81.505030</td>\n",
       "      <td>131.076962</td>\n",
       "      <td>227.786366</td>\n",
       "      <td>1.649680</td>\n",
       "      <td>8</td>\n",
       "      <td>1</td>\n",
       "      <td>0</td>\n",
       "      <td>0</td>\n",
       "      <td>0</td>\n",
       "      <td>0</td>\n",
       "      <td>1</td>\n",
       "      <td>0</td>\n",
       "    </tr>\n",
       "  </tbody>\n",
       "</table>\n",
       "</div>"
      ],
      "text/plain": [
       "   Patient ID  Systolic Blood Pressure  Diastolic Blood Pressure      Weight  \\\n",
       "0       49706               101.617996                 73.906511  159.570921   \n",
       "1       83488                83.551292                 27.639837  124.538409   \n",
       "2       50220               111.458120                 57.612856  140.490142   \n",
       "3       55952                86.805826                 58.821097  193.578685   \n",
       "4       89964               115.882419                 52.269411  166.770215   \n",
       "\n",
       "   Unknown Metric 1  Unknown Metric 2  Unknown Metric 3  Unknown Metric 4  \\\n",
       "0         37.586451         53.486912          1.142117         88.226718   \n",
       "1       1021.198140        -48.697310         10.968325         98.780793   \n",
       "2       -658.163446         64.879688         -7.924638         78.488352   \n",
       "3      -1768.631189        173.566996        -52.709014         30.386614   \n",
       "4       3473.834750        -81.505030        131.076962        227.786366   \n",
       "\n",
       "   Unknown Metric 5  Severity Level  Child  Young  Middle-aged  Senior  Old  \\\n",
       "0          0.781133               0      0      0            1       0    0   \n",
       "1          0.127519               7      0      1            0       0    0   \n",
       "2          3.259557               0      0      0            0       0    1   \n",
       "3          1.301406               2      0      0            0       1    0   \n",
       "4          1.649680               8      1      0            0       0    0   \n",
       "\n",
       "   Female  Male  \n",
       "0       1     0  \n",
       "1       1     0  \n",
       "2       0     1  \n",
       "3       0     1  \n",
       "4       1     0  "
      ]
     },
     "execution_count": 9,
     "metadata": {},
     "output_type": "execute_result"
    }
   ],
   "source": [
    "data_df.head(5)"
   ]
  },
  {
   "cell_type": "code",
   "execution_count": 10,
   "metadata": {
    "collapsed": true
   },
   "outputs": [],
   "source": [
    "from sklearn.model_selection import train_test_split\n",
    "#np.random.seed(0)\n",
    "y = data_df['Severity Level']\n",
    "y = y.apply(str)\n",
    "X = data_df.drop(['Severity Level','Patient ID'], axis=1)\n",
    "X_train, X_test, y_train, y_test = train_test_split(X, y, test_size=0.30,random_state=42)"
   ]
  },
  {
   "cell_type": "code",
   "execution_count": null,
   "metadata": {
    "collapsed": true
   },
   "outputs": [],
   "source": [
    "from sklearn.ensemble import RandomForestClassifier\n",
    "clf = RandomForestClassifier(n_estimators=500,n_jobs=3,random_state=0)\n"
   ]
  },
  {
   "cell_type": "code",
   "execution_count": null,
   "metadata": {},
   "outputs": [],
   "source": [
    "clf.fit(X_train, y_train)"
   ]
  },
  {
   "cell_type": "code",
   "execution_count": null,
   "metadata": {},
   "outputs": [],
   "source": [
    "from sklearn.metrics import accuracy_score \n",
    "preds=clf.predict(X_train)\n",
    "print(pd.crosstab(y_train, preds, rownames=['Actual'], colnames=['Predicted']))\n",
    "accu=accuracy_score(y_train, preds)\n",
    "print(accu)"
   ]
  },
  {
   "cell_type": "code",
   "execution_count": null,
   "metadata": {},
   "outputs": [],
   "source": [
    "pred_test=clf.predict(X_test)\n",
    "print(pd.crosstab(y_test, pred_test, rownames=['Actual'], colnames=['Predicted']))\n",
    "accu=accuracy_score(y_test, pred_test)\n",
    "print(accu)"
   ]
  },
  {
   "cell_type": "code",
   "execution_count": null,
   "metadata": {
    "collapsed": true
   },
   "outputs": [],
   "source": [
    "from sklearn.svm import SVC\n",
    "clf_svm = SVC()\n",
    "clf_svm.fit(X_train, y_train)"
   ]
  },
  {
   "cell_type": "code",
   "execution_count": null,
   "metadata": {
    "collapsed": true
   },
   "outputs": [],
   "source": [
    "pred_svm=clf_svm.predict(X_train)\n",
    "print(pd.crosstab(y_train, pred_svm, rownames=['Actual'], colnames=['Predicted']))\n",
    "accu_svm=accuracy_score(y_train, pred_svm)\n",
    "print(accu_svm)"
   ]
  },
  {
   "cell_type": "code",
   "execution_count": null,
   "metadata": {},
   "outputs": [],
   "source": [
    "from sklearn.linear_model import LogisticRegression\n",
    "LR = LogisticRegression(C = 0.02,multi_class='multinomial',solver='lbfgs')\n",
    "LR.fit(X_train, y_train)\n"
   ]
  },
  {
   "cell_type": "code",
   "execution_count": null,
   "metadata": {},
   "outputs": [],
   "source": [
    "from sklearn.metrics import accuracy_score \n",
    "p_test = LR.predict(X_test)\n",
    "acc=accuracy_score(y_test, p_test)\n",
    "acc"
   ]
  },
  {
   "cell_type": "code",
   "execution_count": null,
   "metadata": {},
   "outputs": [],
   "source": [
    "print(pd.crosstab(y_train, p_test, rownames=['Actual'], colnames=['Predicted']))"
   ]
  },
  {
   "cell_type": "code",
   "execution_count": 14,
   "metadata": {},
   "outputs": [
    {
     "data": {
      "text/plain": [
       "AdaBoostClassifier(algorithm='SAMME.R', base_estimator=None,\n",
       "          learning_rate=0.01, n_estimators=200, random_state=None)"
      ]
     },
     "execution_count": 14,
     "metadata": {},
     "output_type": "execute_result"
    }
   ],
   "source": [
    "from sklearn.ensemble import AdaBoostClassifier\n",
    "bdt = AdaBoostClassifier(algorithm=\"SAMME.R\",n_estimators=200,learning_rate=1)\n",
    "bdt.fit(X_train, y_train)"
   ]
  },
  {
   "cell_type": "code",
   "execution_count": 15,
   "metadata": {},
   "outputs": [
    {
     "name": "stdout",
     "output_type": "stream",
     "text": [
      "Predicted   0     2    4    7     8\n",
      "Actual                             \n",
      "0           6  2236   26   35   666\n",
      "1          10  1105   91  247   624\n",
      "2           2  2591   25  288  1403\n",
      "3           4  1031   58   82   162\n",
      "4          14   566  236  903  1167\n",
      "5          21  1583   32  236   368\n",
      "6           2   981   12  223   609\n",
      "7           2  1785    8  465  1328\n",
      "8           2  1437    3  304  2276\n",
      "9           1   618   65  392   357\n",
      "0.20885791366906475\n"
     ]
    }
   ],
   "source": [
    "from sklearn.metrics import accuracy_score \n",
    "pred_svm=bdt.predict(X_test)\n",
    "print(pd.crosstab(y_test, pred_svm, rownames=['Actual'], colnames=['Predicted']))\n",
    "accu_svm=accuracy_score(y_test, pred_svm)\n",
    "print(accu_svm)"
   ]
  },
  {
   "cell_type": "code",
   "execution_count": 16,
   "metadata": {},
   "outputs": [
    {
     "data": {
      "text/plain": [
       "BaggingClassifier(base_estimator=None, bootstrap=True,\n",
       "         bootstrap_features=False, max_features=1.0, max_samples=1.0,\n",
       "         n_estimators=200, n_jobs=1, oob_score=False, random_state=None,\n",
       "         verbose=0, warm_start=False)"
      ]
     },
     "execution_count": 16,
     "metadata": {},
     "output_type": "execute_result"
    }
   ],
   "source": [
    "from sklearn.ensemble import BaggingClassifier\n",
    "bdt = BaggingClassifier(n_estimators=200)\n",
    "bdt.fit(X_train, y_train)"
   ]
  },
  {
   "cell_type": "code",
   "execution_count": 17,
   "metadata": {},
   "outputs": [
    {
     "name": "stdout",
     "output_type": "stream",
     "text": [
      "Predicted     0     1     2    3     4     5     6     7     8    9\n",
      "Actual                                                             \n",
      "0          2147    55   176   81    95    88    91    73   142   21\n",
      "1            81  1472    95   36    93   140    36    40    71   13\n",
      "2           136    59  3426   59   130    61    64   163   177   34\n",
      "3           123    49   147  674    47    47    39    91    76   44\n",
      "4            64    37   181   25  2223   106    30    57   121   42\n",
      "5           110    58   124   56   146  1426    65   131    93   31\n",
      "6           111    60   113   46    71    59  1160    77    98   32\n",
      "7            53    34   227   52    84    72    85  2614   316   51\n",
      "8           146    20   193   35    94    46    96   298  3053   41\n",
      "9            75    24    45   26    72    33    29    93    78  958\n",
      "0.7176633693045563\n"
     ]
    }
   ],
   "source": [
    "from sklearn.metrics import accuracy_score \n",
    "pred_svm=bdt.predict(X_test)\n",
    "print(pd.crosstab(y_test, pred_svm, rownames=['Actual'], colnames=['Predicted']))\n",
    "accu_svm=accuracy_score(y_test, pred_svm)\n",
    "print(accu_svm)"
   ]
  },
  {
   "cell_type": "code",
   "execution_count": null,
   "metadata": {
    "collapsed": true
   },
   "outputs": [],
   "source": []
  }
 ],
 "metadata": {
  "kernelspec": {
   "display_name": "Python 3",
   "language": "python",
   "name": "python3"
  },
  "language_info": {
   "codemirror_mode": {
    "name": "ipython",
    "version": 3
   },
   "file_extension": ".py",
   "mimetype": "text/x-python",
   "name": "python",
   "nbconvert_exporter": "python",
   "pygments_lexer": "ipython3",
   "version": "3.6.3"
  }
 },
 "nbformat": 4,
 "nbformat_minor": 2
}
